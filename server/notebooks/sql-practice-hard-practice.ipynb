{
 "cells": [
  {
   "cell_type": "code",
   "execution_count": 1,
   "id": "079dd83c",
   "metadata": {},
   "outputs": [],
   "source": [
    "import os\n",
    "\n",
    "os.environ[\"DJANGO_ALLOW_ASYNC_UNSAFE\"] = \"true\"\n",
    "from utils import *"
   ]
  },
  {
   "cell_type": "code",
   "execution_count": 2,
   "id": "adb90216",
   "metadata": {},
   "outputs": [],
   "source": [
    "from django.db.models import (\n",
    "    Q,\n",
    "    F,\n",
    "    Case,\n",
    "    When,\n",
    "    Count,\n",
    "    Func,\n",
    "    Min,\n",
    "    Max,\n",
    "    Sum,\n",
    "    Avg,\n",
    "    Value,\n",
    "    OuterRef,\n",
    "    Subquery,\n",
    "    Window,\n",
    "    CharField,\n",
    "    FloatField,\n",
    ")\n",
    "from django.db.models.lookups import Exact, GreaterThanOrEqual\n",
    "from django.db.models.functions import Concat, Cast, Round, Length, Lag\n",
    "from django.db import connection\n",
    "from customer_db.models import Provinces, Patients, Doctors, Admissions"
   ]
  },
  {
   "cell_type": "code",
   "execution_count": 3,
   "id": "34f901a2",
   "metadata": {},
   "outputs": [],
   "source": [
    "patient_fields = [\n",
    "    \"first_name\",\n",
    "    \"last_name\",\n",
    "    \"gender\",\n",
    "    \"birth_date\",\n",
    "    \"city\",\n",
    "    \"province_id\",\n",
    "    \"allergies\",\n",
    "    \"height\",\n",
    "    \"weight\",\n",
    "]"
   ]
  },
  {
   "cell_type": "markdown",
   "id": "a18a2cf4",
   "metadata": {},
   "source": [
    "## Hard 1\n",
    "\n",
    "Show all of the patients grouped into weight groups.\n",
    "Show the total amount of patients in each weight group.\n",
    "Order the list by the weight group decending.\n",
    "\n",
    "For example, if they weight 100 to 109 they are placed in the 100 weight group, 110-119 = 110 weight group, etc."
   ]
  },
  {
   "cell_type": "code",
   "execution_count": 4,
   "id": "e8abf1ae",
   "metadata": {},
   "outputs": [],
   "source": [
    "qstr = \"\"\"\n",
    "SELECT\n",
    "  ROUND(weight / 10, 0) * 10 AS weight_class,\n",
    "  COUNT(patient_id) AS patient_count\n",
    "FROM patients\n",
    "GROUP BY weight_class\n",
    "ORDER BY weight_class DESC\n",
    "\"\"\"\n",
    "sqlq = sql_raw(qstr)"
   ]
  },
  {
   "cell_type": "code",
   "execution_count": 5,
   "id": "d696b631",
   "metadata": {},
   "outputs": [
    {
     "name": "stdout",
     "output_type": "stream",
     "text": [
      "Unequal ❌\n",
      "SELECT \"patients\".\"patient_id\"\n",
      "FROM \"patients\"\n"
     ]
    }
   ],
   "source": [
    "ormq =  Patients.objects.values(\"id\")\n",
    "equal(sqlq, ormq)\n",
    "print_sql(ormq)"
   ]
  },
  {
   "cell_type": "code",
   "execution_count": 6,
   "id": "fb8aa872",
   "metadata": {},
   "outputs": [
    {
     "data": {
      "text/html": [
       "<div>\n",
       "<style scoped>\n",
       "    .dataframe tbody tr th:only-of-type {\n",
       "        vertical-align: middle;\n",
       "    }\n",
       "\n",
       "    .dataframe tbody tr th {\n",
       "        vertical-align: top;\n",
       "    }\n",
       "\n",
       "    .dataframe thead th {\n",
       "        text-align: right;\n",
       "    }\n",
       "</style>\n",
       "<table border=\"1\" class=\"dataframe\">\n",
       "  <thead>\n",
       "    <tr style=\"text-align: right;\">\n",
       "      <th></th>\n",
       "      <th>id</th>\n",
       "    </tr>\n",
       "  </thead>\n",
       "  <tbody>\n",
       "    <tr>\n",
       "      <th>0</th>\n",
       "      <td>1</td>\n",
       "    </tr>\n",
       "    <tr>\n",
       "      <th>1</th>\n",
       "      <td>2</td>\n",
       "    </tr>\n",
       "    <tr>\n",
       "      <th>2</th>\n",
       "      <td>3</td>\n",
       "    </tr>\n",
       "  </tbody>\n",
       "</table>\n",
       "</div>"
      ],
      "text/plain": [
       "   id\n",
       "0   1\n",
       "1   2\n",
       "2   3"
      ]
     },
     "execution_count": 6,
     "metadata": {},
     "output_type": "execute_result"
    }
   ],
   "source": [
    "orm_to_df(ormq[:3])"
   ]
  },
  {
   "cell_type": "markdown",
   "id": "2f4f6395",
   "metadata": {},
   "source": [
    "## Hard 2\n",
    "Show patient_id, weight, height, isObese from the patients table.\n",
    "\n",
    "Display isObese as a boolean 0 or 1.\n",
    "Obese is defined as weight(kg)/(height(m)2) >= 30.\n",
    "weight is in units kg.\n",
    "height is in units cm.\n",
    "\n",
    "We will do 24"
   ]
  },
  {
   "cell_type": "code",
   "execution_count": 7,
   "id": "94a8c817",
   "metadata": {},
   "outputs": [],
   "source": [
    "qstr = \"\"\"\n",
    "SELECT\n",
    "  patient_id AS id,\n",
    "  weight,\n",
    "  height,\n",
    "  CASE\n",
    "    WHEN weight * 10000/ (height * height) >= 24 THEN 1\n",
    "    ELSE 0\n",
    "  END AS isObese\n",
    "FROM patients\n",
    "\"\"\"\n",
    "sqlq = sql_raw(qstr)"
   ]
  },
  {
   "cell_type": "code",
   "execution_count": 8,
   "id": "27a97da6",
   "metadata": {},
   "outputs": [
    {
     "name": "stdout",
     "output_type": "stream",
     "text": [
      "Unequal ❌\n",
      "SELECT \"patients\".\"patient_id\"\n",
      "FROM \"patients\"\n"
     ]
    }
   ],
   "source": [
    "ormq =  Patients.objects.values(\"id\")\n",
    "equal(sqlq, ormq)\n",
    "print_sql(ormq)"
   ]
  },
  {
   "cell_type": "code",
   "execution_count": 9,
   "id": "bd69522b",
   "metadata": {},
   "outputs": [
    {
     "data": {
      "text/html": [
       "<div>\n",
       "<style scoped>\n",
       "    .dataframe tbody tr th:only-of-type {\n",
       "        vertical-align: middle;\n",
       "    }\n",
       "\n",
       "    .dataframe tbody tr th {\n",
       "        vertical-align: top;\n",
       "    }\n",
       "\n",
       "    .dataframe thead th {\n",
       "        text-align: right;\n",
       "    }\n",
       "</style>\n",
       "<table border=\"1\" class=\"dataframe\">\n",
       "  <thead>\n",
       "    <tr style=\"text-align: right;\">\n",
       "      <th></th>\n",
       "      <th>id</th>\n",
       "    </tr>\n",
       "  </thead>\n",
       "  <tbody>\n",
       "    <tr>\n",
       "      <th>0</th>\n",
       "      <td>1</td>\n",
       "    </tr>\n",
       "    <tr>\n",
       "      <th>1</th>\n",
       "      <td>2</td>\n",
       "    </tr>\n",
       "    <tr>\n",
       "      <th>2</th>\n",
       "      <td>3</td>\n",
       "    </tr>\n",
       "  </tbody>\n",
       "</table>\n",
       "</div>"
      ],
      "text/plain": [
       "   id\n",
       "0   1\n",
       "1   2\n",
       "2   3"
      ]
     },
     "execution_count": 9,
     "metadata": {},
     "output_type": "execute_result"
    }
   ],
   "source": [
    "orm_to_df(ormq[:3])"
   ]
  },
  {
   "cell_type": "markdown",
   "id": "0870d033",
   "metadata": {},
   "source": [
    "## Hard 3\n",
    "Show patient_id, first_name, last_name, and attending doctor's specialty.\n",
    "Show only the patients who has a diagnosis as 'Epilepsy' and the doctor's first name is 'Lisa'\n",
    "\n",
    "Check patients, admissions, and doctors tables for required information.\n",
    "We will do 'Anemia'"
   ]
  },
  {
   "cell_type": "code",
   "execution_count": 10,
   "id": "e9af9039",
   "metadata": {},
   "outputs": [],
   "source": [
    "qstr = \"\"\"\n",
    "SELECT\n",
    "  p.patient_id,\n",
    "  p.first_name,\n",
    "  p.last_name,\n",
    "  speciality\n",
    "FROM admissions AS a\n",
    "  JOIN patients p ON p.patient_id = a.patient_id\n",
    "  JOIN doctors d ON a.attending_doctor_id = d.doctor_id\n",
    "WHERE\n",
    "  diagnosis = 'Anemia'\n",
    "  and d.first_name = 'Lisa'\n",
    "\"\"\"\n",
    "sqlq = sql_raw(qstr)"
   ]
  },
  {
   "cell_type": "code",
   "execution_count": 11,
   "id": "3b3f0e12",
   "metadata": {},
   "outputs": [
    {
     "name": "stdout",
     "output_type": "stream",
     "text": [
      "Unequal ❌\n",
      "SELECT \"patients\".\"patient_id\"\n",
      "FROM \"patients\"\n"
     ]
    }
   ],
   "source": [
    "ormq =  Patients.objects.values(\"id\")\n",
    "equal(sqlq, ormq)\n",
    "print_sql(ormq)"
   ]
  },
  {
   "cell_type": "code",
   "execution_count": 12,
   "id": "74e881c9",
   "metadata": {},
   "outputs": [
    {
     "data": {
      "text/html": [
       "<div>\n",
       "<style scoped>\n",
       "    .dataframe tbody tr th:only-of-type {\n",
       "        vertical-align: middle;\n",
       "    }\n",
       "\n",
       "    .dataframe tbody tr th {\n",
       "        vertical-align: top;\n",
       "    }\n",
       "\n",
       "    .dataframe thead th {\n",
       "        text-align: right;\n",
       "    }\n",
       "</style>\n",
       "<table border=\"1\" class=\"dataframe\">\n",
       "  <thead>\n",
       "    <tr style=\"text-align: right;\">\n",
       "      <th></th>\n",
       "      <th>id</th>\n",
       "    </tr>\n",
       "  </thead>\n",
       "  <tbody>\n",
       "    <tr>\n",
       "      <th>0</th>\n",
       "      <td>1</td>\n",
       "    </tr>\n",
       "    <tr>\n",
       "      <th>1</th>\n",
       "      <td>2</td>\n",
       "    </tr>\n",
       "    <tr>\n",
       "      <th>2</th>\n",
       "      <td>3</td>\n",
       "    </tr>\n",
       "  </tbody>\n",
       "</table>\n",
       "</div>"
      ],
      "text/plain": [
       "   id\n",
       "0   1\n",
       "1   2\n",
       "2   3"
      ]
     },
     "execution_count": 12,
     "metadata": {},
     "output_type": "execute_result"
    }
   ],
   "source": [
    "orm_to_df(ormq[:3])"
   ]
  },
  {
   "cell_type": "markdown",
   "id": "948f5ff7",
   "metadata": {},
   "source": [
    "## Hard 4\n",
    "All patients who have gone through admissions, can see their medical documents on our site. Those patients are given a temporary password after their first admission. Show the patient_id and temp_password.\n",
    "\n",
    "The password must be the following, in order:\n",
    "1. patient_id\n",
    "2. the numerical length of patient's last_name\n",
    "3. year of patient's birth_date"
   ]
  },
  {
   "cell_type": "code",
   "execution_count": 13,
   "id": "dece97c2",
   "metadata": {},
   "outputs": [],
   "source": [
    "# use YEAR(birth_date) in other databases\n",
    "qstr = \"\"\"\n",
    "SELECT\n",
    "  p.patient_id,\n",
    "  p.patient_id || LENGTH(last_name) || strftime('%Y', birth_date) AS temp_password\n",
    "FROM patients p\n",
    "WHERE patient_id IN (\n",
    "    SELECT DISTINCT(patient_id)\n",
    "    FROM admissions\n",
    "  )\n",
    "\"\"\"\n",
    "sqlq = sql_raw(qstr)"
   ]
  },
  {
   "cell_type": "code",
   "execution_count": 14,
   "id": "980544fd",
   "metadata": {},
   "outputs": [
    {
     "name": "stdout",
     "output_type": "stream",
     "text": [
      "Unequal ❌\n",
      "SELECT \"patients\".\"patient_id\"\n",
      "FROM \"patients\"\n"
     ]
    }
   ],
   "source": [
    "ormq =  Patients.objects.values(\"id\")\n",
    "equal(sqlq, ormq)\n",
    "print_sql(ormq)"
   ]
  },
  {
   "cell_type": "code",
   "execution_count": 15,
   "id": "f4d32ed1",
   "metadata": {},
   "outputs": [
    {
     "data": {
      "text/html": [
       "<div>\n",
       "<style scoped>\n",
       "    .dataframe tbody tr th:only-of-type {\n",
       "        vertical-align: middle;\n",
       "    }\n",
       "\n",
       "    .dataframe tbody tr th {\n",
       "        vertical-align: top;\n",
       "    }\n",
       "\n",
       "    .dataframe thead th {\n",
       "        text-align: right;\n",
       "    }\n",
       "</style>\n",
       "<table border=\"1\" class=\"dataframe\">\n",
       "  <thead>\n",
       "    <tr style=\"text-align: right;\">\n",
       "      <th></th>\n",
       "      <th>id</th>\n",
       "    </tr>\n",
       "  </thead>\n",
       "  <tbody>\n",
       "    <tr>\n",
       "      <th>0</th>\n",
       "      <td>1</td>\n",
       "    </tr>\n",
       "    <tr>\n",
       "      <th>1</th>\n",
       "      <td>2</td>\n",
       "    </tr>\n",
       "    <tr>\n",
       "      <th>2</th>\n",
       "      <td>3</td>\n",
       "    </tr>\n",
       "  </tbody>\n",
       "</table>\n",
       "</div>"
      ],
      "text/plain": [
       "   id\n",
       "0   1\n",
       "1   2\n",
       "2   3"
      ]
     },
     "execution_count": 15,
     "metadata": {},
     "output_type": "execute_result"
    }
   ],
   "source": [
    "orm_to_df(ormq[:3])"
   ]
  },
  {
   "cell_type": "markdown",
   "id": "ec2e4c0e",
   "metadata": {},
   "source": [
    "## Hard 5\n",
    "Each admission costs \\\\$50 for patients without insurance, and \\\\$10 for patients with insurance. All patients with an even patient_id have insurance.\n",
    "\n",
    "Give each patient a 'Yes' if they have insurance, and a 'No' if they don't have insurance. Add up the admission_total cost for each has_insurance group."
   ]
  },
  {
   "cell_type": "code",
   "execution_count": 16,
   "id": "2ec4f5c4",
   "metadata": {},
   "outputs": [],
   "source": [
    "qstr = \"\"\"\n",
    "SELECT has_insurance, SUM(insurance_cost) AS total_insurance_cost\n",
    "FROM(\n",
    "    SELECT\n",
    "      CASE\n",
    "        WHEN patient_id % 2 = 0 THEN \"Yes\"\n",
    "        ELSE \"No\"\n",
    "      END AS has_insurance,\n",
    "      CASE\n",
    "        WHEN patient_id % 2 = 0 THEN 10\n",
    "        ELSE 50\n",
    "      END AS insurance_cost\n",
    "    FROM admissions\n",
    "  )\n",
    "GROUP BY has_insurance;\n",
    "\"\"\"\n",
    "sqlq = sql_raw(qstr)"
   ]
  },
  {
   "cell_type": "code",
   "execution_count": 17,
   "id": "2a727caf",
   "metadata": {},
   "outputs": [
    {
     "name": "stdout",
     "output_type": "stream",
     "text": [
      "Unequal ❌\n",
      "SELECT \"patients\".\"patient_id\"\n",
      "FROM \"patients\"\n"
     ]
    }
   ],
   "source": [
    "ormq =  Patients.objects.values(\"id\")\n",
    "equal(sqlq, ormq)\n",
    "print_sql(ormq)"
   ]
  },
  {
   "cell_type": "code",
   "execution_count": 18,
   "id": "dbe24ff3",
   "metadata": {},
   "outputs": [
    {
     "data": {
      "text/html": [
       "<div>\n",
       "<style scoped>\n",
       "    .dataframe tbody tr th:only-of-type {\n",
       "        vertical-align: middle;\n",
       "    }\n",
       "\n",
       "    .dataframe tbody tr th {\n",
       "        vertical-align: top;\n",
       "    }\n",
       "\n",
       "    .dataframe thead th {\n",
       "        text-align: right;\n",
       "    }\n",
       "</style>\n",
       "<table border=\"1\" class=\"dataframe\">\n",
       "  <thead>\n",
       "    <tr style=\"text-align: right;\">\n",
       "      <th></th>\n",
       "      <th>id</th>\n",
       "    </tr>\n",
       "  </thead>\n",
       "  <tbody>\n",
       "    <tr>\n",
       "      <th>0</th>\n",
       "      <td>1</td>\n",
       "    </tr>\n",
       "    <tr>\n",
       "      <th>1</th>\n",
       "      <td>2</td>\n",
       "    </tr>\n",
       "    <tr>\n",
       "      <th>2</th>\n",
       "      <td>3</td>\n",
       "    </tr>\n",
       "  </tbody>\n",
       "</table>\n",
       "</div>"
      ],
      "text/plain": [
       "   id\n",
       "0   1\n",
       "1   2\n",
       "2   3"
      ]
     },
     "execution_count": 18,
     "metadata": {},
     "output_type": "execute_result"
    }
   ],
   "source": [
    "orm_to_df(ormq[:3])"
   ]
  },
  {
   "cell_type": "markdown",
   "id": "37434886",
   "metadata": {},
   "source": [
    "## Hard 6\n",
    "Show the provinces that has more patients identified as 'M' than 'F'. Must only show full province_name"
   ]
  },
  {
   "cell_type": "code",
   "execution_count": 19,
   "id": "34d72292",
   "metadata": {},
   "outputs": [],
   "source": [
    "qstr = \"\"\"\n",
    "SELECT pr.province_name\n",
    "FROM patients AS pa\n",
    "  JOIN province_names AS pr ON pa.province_id = pr.province_id\n",
    "GROUP BY pr.province_name\n",
    "HAVING SUM(gender = 'M') > SUM(gender = 'F')\n",
    "\"\"\"\n",
    "sqlq = sql_raw(qstr)"
   ]
  },
  {
   "cell_type": "code",
   "execution_count": 20,
   "id": "3dadf93c",
   "metadata": {},
   "outputs": [
    {
     "name": "stdout",
     "output_type": "stream",
     "text": [
      "Unequal ❌\n",
      "SELECT \"patients\".\"patient_id\"\n",
      "FROM \"patients\"\n"
     ]
    }
   ],
   "source": [
    "ormq =  Patients.objects.values(\"id\")\n",
    "equal(sqlq, ormq)\n",
    "print_sql(ormq)"
   ]
  },
  {
   "cell_type": "code",
   "execution_count": 21,
   "id": "1301239b",
   "metadata": {},
   "outputs": [
    {
     "data": {
      "text/html": [
       "<div>\n",
       "<style scoped>\n",
       "    .dataframe tbody tr th:only-of-type {\n",
       "        vertical-align: middle;\n",
       "    }\n",
       "\n",
       "    .dataframe tbody tr th {\n",
       "        vertical-align: top;\n",
       "    }\n",
       "\n",
       "    .dataframe thead th {\n",
       "        text-align: right;\n",
       "    }\n",
       "</style>\n",
       "<table border=\"1\" class=\"dataframe\">\n",
       "  <thead>\n",
       "    <tr style=\"text-align: right;\">\n",
       "      <th></th>\n",
       "      <th>id</th>\n",
       "    </tr>\n",
       "  </thead>\n",
       "  <tbody>\n",
       "    <tr>\n",
       "      <th>0</th>\n",
       "      <td>1</td>\n",
       "    </tr>\n",
       "    <tr>\n",
       "      <th>1</th>\n",
       "      <td>2</td>\n",
       "    </tr>\n",
       "    <tr>\n",
       "      <th>2</th>\n",
       "      <td>3</td>\n",
       "    </tr>\n",
       "  </tbody>\n",
       "</table>\n",
       "</div>"
      ],
      "text/plain": [
       "   id\n",
       "0   1\n",
       "1   2\n",
       "2   3"
      ]
     },
     "execution_count": 21,
     "metadata": {},
     "output_type": "execute_result"
    }
   ],
   "source": [
    "orm_to_df(ormq[:3])"
   ]
  },
  {
   "cell_type": "markdown",
   "id": "1caad3ce",
   "metadata": {},
   "source": [
    "## Hard 7\n",
    "\n",
    "We are looking for a specific patient. Pull all columns for the patient who matches the following criteria:\n",
    "- First_name contains an 'r' after the first two letters.\n",
    "- Identifies their gender as 'F' (We will do 'M')\n",
    "- Born in February, May, or December\n",
    "- Their weight would be between 60kg and 80kg\n",
    "- Their patient_id is an odd number  (We will do even)\n",
    "- They are from the city 'Kingston'  (We will do 'Vancouver')"
   ]
  },
  {
   "cell_type": "code",
   "execution_count": 22,
   "id": "a2bae34d",
   "metadata": {},
   "outputs": [],
   "source": [
    "qstr = \"\"\"\n",
    "SELECT *\n",
    "FROM patients\n",
    "WHERE\n",
    "  first_name LIKE \"__r%\"\n",
    "  AND gender = 'M'\n",
    "  AND (\n",
    "    CAST(strftime('%m', birth_date) AS INT) IN (2, 5, 12)\n",
    "  )\n",
    "  AND weight between 60 AND 80\n",
    "  AND patient_id % 2 = 0\n",
    "  AND city = 'Vancouver'\n",
    "\"\"\"\n",
    "sqlq = sql_raw(qstr)"
   ]
  },
  {
   "cell_type": "code",
   "execution_count": 23,
   "id": "bb0fcfc9",
   "metadata": {},
   "outputs": [
    {
     "name": "stdout",
     "output_type": "stream",
     "text": [
      "Unequal ❌\n",
      "SELECT \"patients\".\"patient_id\"\n",
      "FROM \"patients\"\n"
     ]
    }
   ],
   "source": [
    "ormq =  Patients.objects.values(\"id\")\n",
    "equal(sqlq, ormq)\n",
    "print_sql(ormq)"
   ]
  },
  {
   "cell_type": "code",
   "execution_count": 24,
   "id": "b4cbc398",
   "metadata": {},
   "outputs": [
    {
     "data": {
      "text/html": [
       "<div>\n",
       "<style scoped>\n",
       "    .dataframe tbody tr th:only-of-type {\n",
       "        vertical-align: middle;\n",
       "    }\n",
       "\n",
       "    .dataframe tbody tr th {\n",
       "        vertical-align: top;\n",
       "    }\n",
       "\n",
       "    .dataframe thead th {\n",
       "        text-align: right;\n",
       "    }\n",
       "</style>\n",
       "<table border=\"1\" class=\"dataframe\">\n",
       "  <thead>\n",
       "    <tr style=\"text-align: right;\">\n",
       "      <th></th>\n",
       "      <th>id</th>\n",
       "    </tr>\n",
       "  </thead>\n",
       "  <tbody>\n",
       "    <tr>\n",
       "      <th>0</th>\n",
       "      <td>1</td>\n",
       "    </tr>\n",
       "    <tr>\n",
       "      <th>1</th>\n",
       "      <td>2</td>\n",
       "    </tr>\n",
       "    <tr>\n",
       "      <th>2</th>\n",
       "      <td>3</td>\n",
       "    </tr>\n",
       "  </tbody>\n",
       "</table>\n",
       "</div>"
      ],
      "text/plain": [
       "   id\n",
       "0   1\n",
       "1   2\n",
       "2   3"
      ]
     },
     "execution_count": 24,
     "metadata": {},
     "output_type": "execute_result"
    }
   ],
   "source": [
    "orm_to_df(ormq[:3])"
   ]
  },
  {
   "cell_type": "markdown",
   "id": "9441be88",
   "metadata": {},
   "source": [
    "## Hard 8\n",
    "Show the percent of patients that have 'M' as their gender. Round the answer to the nearest hundreth number and in percent form."
   ]
  },
  {
   "cell_type": "code",
   "execution_count": 25,
   "id": "76d3e904",
   "metadata": {},
   "outputs": [],
   "source": [
    "qstr = \"\"\"\n",
    "SELECT\n",
    "  ROUND(\n",
    "    CAST(AVG(gender = 'M') as FLOAT)  * 100,\n",
    "    2\n",
    "  ) || '%' AS pct\n",
    "FROM patients\n",
    "\"\"\"\n",
    "sqlq = sql_raw(qstr)"
   ]
  },
  {
   "cell_type": "code",
   "execution_count": 26,
   "id": "c153ec1d",
   "metadata": {},
   "outputs": [
    {
     "name": "stdout",
     "output_type": "stream",
     "text": [
      "Unequal ❌\n",
      "SELECT \"patients\".\"patient_id\"\n",
      "FROM \"patients\"\n"
     ]
    }
   ],
   "source": [
    "# Subclassing Max and setting contains_aggregate = False also works\n",
    "class NonAggrAvg(Avg):\n",
    "    contains_aggregate = False\n",
    "\n",
    "ormq =  Patients.objects.values(\"id\")\n",
    "equal(sqlq, ormq)\n",
    "print_sql(ormq)"
   ]
  },
  {
   "cell_type": "code",
   "execution_count": 27,
   "id": "1f475700",
   "metadata": {},
   "outputs": [
    {
     "data": {
      "text/html": [
       "<div>\n",
       "<style scoped>\n",
       "    .dataframe tbody tr th:only-of-type {\n",
       "        vertical-align: middle;\n",
       "    }\n",
       "\n",
       "    .dataframe tbody tr th {\n",
       "        vertical-align: top;\n",
       "    }\n",
       "\n",
       "    .dataframe thead th {\n",
       "        text-align: right;\n",
       "    }\n",
       "</style>\n",
       "<table border=\"1\" class=\"dataframe\">\n",
       "  <thead>\n",
       "    <tr style=\"text-align: right;\">\n",
       "      <th></th>\n",
       "      <th>id</th>\n",
       "    </tr>\n",
       "  </thead>\n",
       "  <tbody>\n",
       "    <tr>\n",
       "      <th>0</th>\n",
       "      <td>1</td>\n",
       "    </tr>\n",
       "    <tr>\n",
       "      <th>1</th>\n",
       "      <td>2</td>\n",
       "    </tr>\n",
       "    <tr>\n",
       "      <th>2</th>\n",
       "      <td>3</td>\n",
       "    </tr>\n",
       "  </tbody>\n",
       "</table>\n",
       "</div>"
      ],
      "text/plain": [
       "   id\n",
       "0   1\n",
       "1   2\n",
       "2   3"
      ]
     },
     "execution_count": 27,
     "metadata": {},
     "output_type": "execute_result"
    }
   ],
   "source": [
    "orm_to_df(ormq[:3])"
   ]
  },
  {
   "cell_type": "markdown",
   "id": "42a05dae",
   "metadata": {},
   "source": [
    "## Hard 9\n",
    "For each day display the total amount of admissions on that day. Display the amount changed from the previous date."
   ]
  },
  {
   "cell_type": "code",
   "execution_count": 28,
   "id": "5e30ce0c",
   "metadata": {},
   "outputs": [],
   "source": [
    "qstr = \"\"\"\n",
    "SELECT\n",
    "  admission_date,\n",
    "  daily_admissions,\n",
    "  daily_admissions - prev_admissions AS admission_diff\n",
    "FROM (\n",
    "    SELECT\n",
    "      admission_date,\n",
    "      COUNT(*) daily_admissions,\n",
    "      LAG(count(*), 1) OVER (\n",
    "        ORDER BY\n",
    "          admission_date\n",
    "      ) AS prev_admissions\n",
    "    FROM admissions\n",
    "    GROUP BY admission_date\n",
    "  )\n",
    "\"\"\"\n",
    "sqlq = sql_raw(qstr)"
   ]
  },
  {
   "cell_type": "code",
   "execution_count": 29,
   "id": "0a4f132c",
   "metadata": {},
   "outputs": [
    {
     "name": "stdout",
     "output_type": "stream",
     "text": [
      "Unequal ❌\n",
      "SELECT \"patients\".\"patient_id\"\n",
      "FROM \"patients\"\n"
     ]
    }
   ],
   "source": [
    "ormq =  Patients.objects.values(\"id\")\n",
    "equal(sqlq, ormq)\n",
    "print_sql(ormq)"
   ]
  },
  {
   "cell_type": "code",
   "execution_count": 30,
   "id": "e10cb060",
   "metadata": {},
   "outputs": [
    {
     "data": {
      "text/html": [
       "<div>\n",
       "<style scoped>\n",
       "    .dataframe tbody tr th:only-of-type {\n",
       "        vertical-align: middle;\n",
       "    }\n",
       "\n",
       "    .dataframe tbody tr th {\n",
       "        vertical-align: top;\n",
       "    }\n",
       "\n",
       "    .dataframe thead th {\n",
       "        text-align: right;\n",
       "    }\n",
       "</style>\n",
       "<table border=\"1\" class=\"dataframe\">\n",
       "  <thead>\n",
       "    <tr style=\"text-align: right;\">\n",
       "      <th></th>\n",
       "      <th>id</th>\n",
       "    </tr>\n",
       "  </thead>\n",
       "  <tbody>\n",
       "    <tr>\n",
       "      <th>0</th>\n",
       "      <td>1</td>\n",
       "    </tr>\n",
       "    <tr>\n",
       "      <th>1</th>\n",
       "      <td>2</td>\n",
       "    </tr>\n",
       "    <tr>\n",
       "      <th>2</th>\n",
       "      <td>3</td>\n",
       "    </tr>\n",
       "  </tbody>\n",
       "</table>\n",
       "</div>"
      ],
      "text/plain": [
       "   id\n",
       "0   1\n",
       "1   2\n",
       "2   3"
      ]
     },
     "execution_count": 30,
     "metadata": {},
     "output_type": "execute_result"
    }
   ],
   "source": [
    "orm_to_df(ormq[:3])"
   ]
  },
  {
   "cell_type": "markdown",
   "id": "636cf0d2",
   "metadata": {},
   "source": [
    "## Hard 10\n",
    "Show the total number of admissions"
   ]
  },
  {
   "cell_type": "code",
   "execution_count": 31,
   "id": "81715bd2",
   "metadata": {},
   "outputs": [],
   "source": [
    "qstr = \"\"\"\n",
    "select province_name\n",
    "from province_names\n",
    "order by\n",
    "  province_name = 'Ontario' desc,\n",
    "  province_name\n",
    "\"\"\"\n",
    "sqlq = sql_raw(qstr)"
   ]
  },
  {
   "cell_type": "code",
   "execution_count": 32,
   "id": "c2956d6f",
   "metadata": {
    "scrolled": true
   },
   "outputs": [
    {
     "name": "stdout",
     "output_type": "stream",
     "text": [
      "Unequal ❌\n",
      "SELECT \"patients\".\"patient_id\"\n",
      "FROM \"patients\"\n"
     ]
    }
   ],
   "source": [
    "ormq =  Patients.objects.values(\"id\")\n",
    "equal(sqlq, ormq)\n",
    "print_sql(ormq)"
   ]
  },
  {
   "cell_type": "code",
   "execution_count": 33,
   "id": "a0b46bd1",
   "metadata": {},
   "outputs": [
    {
     "data": {
      "text/html": [
       "<div>\n",
       "<style scoped>\n",
       "    .dataframe tbody tr th:only-of-type {\n",
       "        vertical-align: middle;\n",
       "    }\n",
       "\n",
       "    .dataframe tbody tr th {\n",
       "        vertical-align: top;\n",
       "    }\n",
       "\n",
       "    .dataframe thead th {\n",
       "        text-align: right;\n",
       "    }\n",
       "</style>\n",
       "<table border=\"1\" class=\"dataframe\">\n",
       "  <thead>\n",
       "    <tr style=\"text-align: right;\">\n",
       "      <th></th>\n",
       "      <th>id</th>\n",
       "    </tr>\n",
       "  </thead>\n",
       "  <tbody>\n",
       "    <tr>\n",
       "      <th>0</th>\n",
       "      <td>1</td>\n",
       "    </tr>\n",
       "    <tr>\n",
       "      <th>1</th>\n",
       "      <td>2</td>\n",
       "    </tr>\n",
       "    <tr>\n",
       "      <th>2</th>\n",
       "      <td>3</td>\n",
       "    </tr>\n",
       "  </tbody>\n",
       "</table>\n",
       "</div>"
      ],
      "text/plain": [
       "   id\n",
       "0   1\n",
       "1   2\n",
       "2   3"
      ]
     },
     "execution_count": 33,
     "metadata": {},
     "output_type": "execute_result"
    }
   ],
   "source": [
    "orm_to_df(ormq[:3])"
   ]
  },
  {
   "cell_type": "markdown",
   "id": "a79d1553",
   "metadata": {},
   "source": [
    "## Hard 11\n",
    "We need a breakdown for the total amount of admissions each doctor has started each year. Show the doctor_id, doctor_full_name, specialty, year, total_admissions for that year."
   ]
  },
  {
   "cell_type": "code",
   "execution_count": 34,
   "id": "9b0cfec5",
   "metadata": {},
   "outputs": [],
   "source": [
    "qstr = \"\"\"\n",
    "SELECT\n",
    "  doctor_id,\n",
    "  first_name || ' ' || last_name AS full_name,\n",
    "  speciality,\n",
    "  CAST(strftime('%Y', admission_date) AS INT) AS current_year,\n",
    "  Count(strftime('%Y', admission_date)) AS patients_attended\n",
    "FROM admissions a\n",
    "  JOIN doctors d ON a.attending_doctor_id = d.doctor_id\n",
    "GROUP BY current_year, doctor_id\n",
    "\"\"\"\n",
    "sqlq = sql_raw(qstr)"
   ]
  },
  {
   "cell_type": "code",
   "execution_count": 35,
   "id": "6d5fd3f8",
   "metadata": {},
   "outputs": [
    {
     "name": "stdout",
     "output_type": "stream",
     "text": [
      "Unequal ❌\n",
      "SELECT \"patients\".\"patient_id\"\n",
      "FROM \"patients\"\n"
     ]
    }
   ],
   "source": [
    "ormq =  Patients.objects.values(\"id\")\n",
    "equal(sqlq, ormq)\n",
    "print_sql(ormq)"
   ]
  },
  {
   "cell_type": "code",
   "execution_count": 36,
   "id": "a3a838b2",
   "metadata": {},
   "outputs": [
    {
     "data": {
      "text/html": [
       "<div>\n",
       "<style scoped>\n",
       "    .dataframe tbody tr th:only-of-type {\n",
       "        vertical-align: middle;\n",
       "    }\n",
       "\n",
       "    .dataframe tbody tr th {\n",
       "        vertical-align: top;\n",
       "    }\n",
       "\n",
       "    .dataframe thead th {\n",
       "        text-align: right;\n",
       "    }\n",
       "</style>\n",
       "<table border=\"1\" class=\"dataframe\">\n",
       "  <thead>\n",
       "    <tr style=\"text-align: right;\">\n",
       "      <th></th>\n",
       "      <th>id</th>\n",
       "    </tr>\n",
       "  </thead>\n",
       "  <tbody>\n",
       "    <tr>\n",
       "      <th>0</th>\n",
       "      <td>1</td>\n",
       "    </tr>\n",
       "    <tr>\n",
       "      <th>1</th>\n",
       "      <td>2</td>\n",
       "    </tr>\n",
       "    <tr>\n",
       "      <th>2</th>\n",
       "      <td>3</td>\n",
       "    </tr>\n",
       "  </tbody>\n",
       "</table>\n",
       "</div>"
      ],
      "text/plain": [
       "   id\n",
       "0   1\n",
       "1   2\n",
       "2   3"
      ]
     },
     "execution_count": 36,
     "metadata": {},
     "output_type": "execute_result"
    }
   ],
   "source": [
    "orm_to_df(ormq[:3])"
   ]
  }
 ],
 "metadata": {
  "kernelspec": {
   "display_name": "Django Shell-Plus",
   "language": "python",
   "name": "django_extensions"
  },
  "language_info": {
   "codemirror_mode": {
    "name": "ipython",
    "version": 3
   },
   "file_extension": ".py",
   "mimetype": "text/x-python",
   "name": "python",
   "nbconvert_exporter": "python",
   "pygments_lexer": "ipython3",
   "version": "3.9.0"
  }
 },
 "nbformat": 4,
 "nbformat_minor": 5
}
