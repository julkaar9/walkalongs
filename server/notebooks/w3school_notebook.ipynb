{
 "cells": [
  {
   "cell_type": "code",
   "execution_count": null,
   "id": "5c533413",
   "metadata": {},
   "outputs": [],
   "source": [
    "# If you intend to use this notebook, keep it in the same directory as manage.py"
   ]
  },
  {
   "cell_type": "code",
   "execution_count": null,
   "id": "0b986285",
   "metadata": {},
   "outputs": [],
   "source": [
    "import timeit\n",
    "import re\n",
    "import os\n",
    "import django\n",
    "\n",
    "os.environ.setdefault(\"DJANGO_SETTINGS_MODULE\", \"rest.settings\")\n",
    "os.environ[\"DJANGO_ALLOW_ASYNC_UNSAFE\"] = \"true\"\n",
    "django.setup()"
   ]
  },
  {
   "cell_type": "code",
   "execution_count": null,
   "id": "cb633ba3",
   "metadata": {},
   "outputs": [],
   "source": [
    "import pandas as pd\n",
    "from IPython.display import display"
   ]
  },
  {
   "cell_type": "code",
   "execution_count": 3,
   "id": "08660e82",
   "metadata": {},
   "outputs": [],
   "source": [
    "from django.db.models import Q, F, Count, Min, Max, Sum, Avg\n",
    "from django.db.models.functions import Round\n",
    "from django.db import connection\n",
    "from customer_db.models import Customers, Orders, Products"
   ]
  },
  {
   "cell_type": "code",
   "execution_count": 4,
   "id": "92449829",
   "metadata": {},
   "outputs": [],
   "source": [
    "def orm_to_df(record):\n",
    "    try:\n",
    "        iter(record)\n",
    "    except:\n",
    "        record = [record]\n",
    "    if isinstance(record, dict):\n",
    "        record = [record]\n",
    "    df = pd.DataFrame.from_records(record)\n",
    "    return df"
   ]
  },
  {
   "cell_type": "code",
   "execution_count": 5,
   "id": "b18c4f5a",
   "metadata": {},
   "outputs": [],
   "source": [
    "def sql_to_df(raw_qs):\n",
    "    if not isinstance(raw_qs, list):\n",
    "        raw_qs = [raw_qs]\n",
    "    df = pd.DataFrame(raw_qs)\n",
    "    return df"
   ]
  },
  {
   "cell_type": "code",
   "execution_count": 6,
   "id": "3efc08e8",
   "metadata": {},
   "outputs": [],
   "source": [
    "from decimal import Decimal\n",
    "\n",
    "\n",
    "def dec_to_float(record, precision=2):\n",
    "    if isinstance(record, Decimal):\n",
    "        return round(float(record), precision)\n",
    "    return record"
   ]
  },
  {
   "cell_type": "code",
   "execution_count": 7,
   "id": "37cdbc7b",
   "metadata": {},
   "outputs": [],
   "source": [
    "def round_(record, precision=2):\n",
    "    if isinstance(record, float):\n",
    "        return round(float(record), precision)\n",
    "    return record"
   ]
  },
  {
   "cell_type": "code",
   "execution_count": 8,
   "id": "ecf4d71a",
   "metadata": {},
   "outputs": [],
   "source": [
    "def equal(sqlq, ormq):\n",
    "    try:\n",
    "        iter(ormq)\n",
    "    except:\n",
    "        ormq = [ormq]\n",
    "\n",
    "    if isinstance(ormq, dict):\n",
    "        ormq = [ormq]\n",
    "\n",
    "    ormq = list(ormq)\n",
    "\n",
    "    if not isinstance(sqlq, list):\n",
    "        sqlq = [sqlq]\n",
    "\n",
    "    pattern = re.compile(r\"(?<!^)(?=[A-Z])\")\n",
    "    sqlq = [\n",
    "        {pattern.sub(\"_\", k).lower(): round_(v) for k, v in dict_.items()}\n",
    "        for dict_ in sqlq\n",
    "    ]\n",
    "    ormq = [{k: dec_to_float(v) for k, v in dict_.items()} for dict_ in ormq]\n",
    "    if sqlq == ormq:\n",
    "        print(\"Equal ✔️\")\n",
    "    else:\n",
    "        print(\"Unequal ❌\")"
   ]
  },
  {
   "cell_type": "code",
   "execution_count": 9,
   "id": "3da13fcd",
   "metadata": {},
   "outputs": [],
   "source": [
    "def dictfetchall(cursor):\n",
    "    \"\"\"\n",
    "    Return all rows from a cursor as a dict.\n",
    "    Assume the column names are unique.\n",
    "    \"\"\"\n",
    "    columns = [col[0] for col in cursor.description]\n",
    "    return [dict(zip(columns, row)) for row in cursor.fetchall()]"
   ]
  },
  {
   "cell_type": "code",
   "execution_count": 10,
   "id": "86f24b04",
   "metadata": {},
   "outputs": [],
   "source": [
    "def sql_raw(raw_query):\n",
    "    with connection.cursor() as c:\n",
    "        sqlq = dictfetchall(c.execute(raw_query))\n",
    "    return sqlq"
   ]
  },
  {
   "cell_type": "code",
   "execution_count": 11,
   "id": "055100b0",
   "metadata": {},
   "outputs": [
    {
     "data": {
      "text/html": [
       "<div>\n",
       "<style scoped>\n",
       "    .dataframe tbody tr th:only-of-type {\n",
       "        vertical-align: middle;\n",
       "    }\n",
       "\n",
       "    .dataframe tbody tr th {\n",
       "        vertical-align: top;\n",
       "    }\n",
       "\n",
       "    .dataframe thead th {\n",
       "        text-align: right;\n",
       "    }\n",
       "</style>\n",
       "<table border=\"1\" class=\"dataframe\">\n",
       "  <thead>\n",
       "    <tr style=\"text-align: right;\">\n",
       "      <th></th>\n",
       "      <th>customerNumber</th>\n",
       "      <th>customerName</th>\n",
       "      <th>contactLastName</th>\n",
       "      <th>contactFirstName</th>\n",
       "      <th>phone</th>\n",
       "      <th>addressLine1</th>\n",
       "      <th>city</th>\n",
       "      <th>state</th>\n",
       "      <th>postalCode</th>\n",
       "      <th>country</th>\n",
       "    </tr>\n",
       "  </thead>\n",
       "  <tbody>\n",
       "    <tr>\n",
       "      <th>0</th>\n",
       "      <td>103</td>\n",
       "      <td>Atelier graphique</td>\n",
       "      <td>Schmitt</td>\n",
       "      <td>Carine</td>\n",
       "      <td>40.32.2555</td>\n",
       "      <td>54, rue Royale</td>\n",
       "      <td>Nantes</td>\n",
       "      <td>None</td>\n",
       "      <td>44000</td>\n",
       "      <td>France</td>\n",
       "    </tr>\n",
       "    <tr>\n",
       "      <th>1</th>\n",
       "      <td>112</td>\n",
       "      <td>Signal Gift Stores</td>\n",
       "      <td>King</td>\n",
       "      <td>Jean</td>\n",
       "      <td>7025551838</td>\n",
       "      <td>8489 Strong St.</td>\n",
       "      <td>Las Vegas</td>\n",
       "      <td>NV</td>\n",
       "      <td>83030</td>\n",
       "      <td>USA</td>\n",
       "    </tr>\n",
       "    <tr>\n",
       "      <th>2</th>\n",
       "      <td>114</td>\n",
       "      <td>Australian Collectors, Co.</td>\n",
       "      <td>Ferguson</td>\n",
       "      <td>Peter</td>\n",
       "      <td>03 9520 4555</td>\n",
       "      <td>636 St Kilda Road</td>\n",
       "      <td>Melbourne</td>\n",
       "      <td>Victoria</td>\n",
       "      <td>3004</td>\n",
       "      <td>Australia</td>\n",
       "    </tr>\n",
       "  </tbody>\n",
       "</table>\n",
       "</div>"
      ],
      "text/plain": [
       "   customerNumber                customerName contactLastName  \\\n",
       "0             103           Atelier graphique         Schmitt   \n",
       "1             112          Signal Gift Stores            King   \n",
       "2             114  Australian Collectors, Co.        Ferguson   \n",
       "\n",
       "  contactFirstName         phone       addressLine1       city     state  \\\n",
       "0          Carine     40.32.2555     54, rue Royale     Nantes      None   \n",
       "1             Jean    7025551838    8489 Strong St.  Las Vegas        NV   \n",
       "2            Peter  03 9520 4555  636 St Kilda Road  Melbourne  Victoria   \n",
       "\n",
       "  postalCode    country  \n",
       "0      44000     France  \n",
       "1      83030        USA  \n",
       "2       3004  Australia  "
      ]
     },
     "execution_count": 11,
     "metadata": {},
     "output_type": "execute_result"
    }
   ],
   "source": [
    "sqlq = sql_raw(\"select * from Customers limit 3\")\n",
    "sql_to_df(sqlq)"
   ]
  },
  {
   "cell_type": "code",
   "execution_count": 12,
   "id": "b1deee0c",
   "metadata": {},
   "outputs": [
    {
     "data": {
      "text/html": [
       "<div>\n",
       "<style scoped>\n",
       "    .dataframe tbody tr th:only-of-type {\n",
       "        vertical-align: middle;\n",
       "    }\n",
       "\n",
       "    .dataframe tbody tr th {\n",
       "        vertical-align: top;\n",
       "    }\n",
       "\n",
       "    .dataframe thead th {\n",
       "        text-align: right;\n",
       "    }\n",
       "</style>\n",
       "<table border=\"1\" class=\"dataframe\">\n",
       "  <thead>\n",
       "    <tr style=\"text-align: right;\">\n",
       "      <th></th>\n",
       "      <th>customer_number</th>\n",
       "      <th>customer_name</th>\n",
       "      <th>contact_last_name</th>\n",
       "      <th>contact_first_name</th>\n",
       "      <th>phone</th>\n",
       "      <th>address_line1</th>\n",
       "      <th>city</th>\n",
       "      <th>state</th>\n",
       "      <th>postal_code</th>\n",
       "      <th>country</th>\n",
       "    </tr>\n",
       "  </thead>\n",
       "  <tbody>\n",
       "    <tr>\n",
       "      <th>0</th>\n",
       "      <td>103</td>\n",
       "      <td>Atelier graphique</td>\n",
       "      <td>Schmitt</td>\n",
       "      <td>Carine</td>\n",
       "      <td>40.32.2555</td>\n",
       "      <td>54, rue Royale</td>\n",
       "      <td>Nantes</td>\n",
       "      <td>None</td>\n",
       "      <td>44000</td>\n",
       "      <td>France</td>\n",
       "    </tr>\n",
       "    <tr>\n",
       "      <th>1</th>\n",
       "      <td>112</td>\n",
       "      <td>Signal Gift Stores</td>\n",
       "      <td>King</td>\n",
       "      <td>Jean</td>\n",
       "      <td>7025551838</td>\n",
       "      <td>8489 Strong St.</td>\n",
       "      <td>Las Vegas</td>\n",
       "      <td>NV</td>\n",
       "      <td>83030</td>\n",
       "      <td>USA</td>\n",
       "    </tr>\n",
       "    <tr>\n",
       "      <th>2</th>\n",
       "      <td>114</td>\n",
       "      <td>Australian Collectors, Co.</td>\n",
       "      <td>Ferguson</td>\n",
       "      <td>Peter</td>\n",
       "      <td>03 9520 4555</td>\n",
       "      <td>636 St Kilda Road</td>\n",
       "      <td>Melbourne</td>\n",
       "      <td>Victoria</td>\n",
       "      <td>3004</td>\n",
       "      <td>Australia</td>\n",
       "    </tr>\n",
       "  </tbody>\n",
       "</table>\n",
       "</div>"
      ],
      "text/plain": [
       "   customer_number               customer_name contact_last_name  \\\n",
       "0              103           Atelier graphique           Schmitt   \n",
       "1              112          Signal Gift Stores              King   \n",
       "2              114  Australian Collectors, Co.          Ferguson   \n",
       "\n",
       "  contact_first_name         phone      address_line1       city     state  \\\n",
       "0            Carine     40.32.2555     54, rue Royale     Nantes      None   \n",
       "1               Jean    7025551838    8489 Strong St.  Las Vegas        NV   \n",
       "2              Peter  03 9520 4555  636 St Kilda Road  Melbourne  Victoria   \n",
       "\n",
       "  postal_code    country  \n",
       "0       44000     France  \n",
       "1       83030        USA  \n",
       "2        3004  Australia  "
      ]
     },
     "execution_count": 12,
     "metadata": {},
     "output_type": "execute_result"
    }
   ],
   "source": [
    "ormq = Customers.objects.all().values()[:3]\n",
    "orm_to_df(ormq)"
   ]
  },
  {
   "cell_type": "code",
   "execution_count": 13,
   "id": "209810d0",
   "metadata": {},
   "outputs": [
    {
     "name": "stdout",
     "output_type": "stream",
     "text": [
      "Equal ✔️\n"
     ]
    }
   ],
   "source": [
    "equal(sqlq, ormq)"
   ]
  },
  {
   "cell_type": "markdown",
   "id": "e7ff09a6",
   "metadata": {},
   "source": [
    "# W3SCHOOL SQL EXERCISES \n",
    "https://www.w3schools.com/sql/exercise.asp\n",
    "\n",
    "Note: The equal function is guarateed to work, if you find an issue please open an new issue."
   ]
  },
  {
   "cell_type": "markdown",
   "id": "002feee3",
   "metadata": {},
   "source": [
    "## SELECT\n",
    "### Exercise 1\n",
    "Insert the missing statement to get all the columns from the Customers table."
   ]
  },
  {
   "cell_type": "code",
   "execution_count": 14,
   "id": "59443d78",
   "metadata": {},
   "outputs": [
    {
     "name": "stdout",
     "output_type": "stream",
     "text": [
      "Equal ✔️\n"
     ]
    }
   ],
   "source": [
    "sqlq = sql_raw(\"select * from Customers\")\n",
    "ormq = Customers.objects.all().values()\n",
    "equal(sqlq, ormq)"
   ]
  },
  {
   "cell_type": "code",
   "execution_count": 15,
   "id": "25b61efd",
   "metadata": {},
   "outputs": [
    {
     "data": {
      "text/html": [
       "<div>\n",
       "<style scoped>\n",
       "    .dataframe tbody tr th:only-of-type {\n",
       "        vertical-align: middle;\n",
       "    }\n",
       "\n",
       "    .dataframe tbody tr th {\n",
       "        vertical-align: top;\n",
       "    }\n",
       "\n",
       "    .dataframe thead th {\n",
       "        text-align: right;\n",
       "    }\n",
       "</style>\n",
       "<table border=\"1\" class=\"dataframe\">\n",
       "  <thead>\n",
       "    <tr style=\"text-align: right;\">\n",
       "      <th></th>\n",
       "      <th>customer_number</th>\n",
       "      <th>customer_name</th>\n",
       "      <th>contact_last_name</th>\n",
       "      <th>contact_first_name</th>\n",
       "      <th>phone</th>\n",
       "      <th>address_line1</th>\n",
       "      <th>city</th>\n",
       "      <th>state</th>\n",
       "      <th>postal_code</th>\n",
       "      <th>country</th>\n",
       "    </tr>\n",
       "  </thead>\n",
       "  <tbody>\n",
       "    <tr>\n",
       "      <th>0</th>\n",
       "      <td>103</td>\n",
       "      <td>Atelier graphique</td>\n",
       "      <td>Schmitt</td>\n",
       "      <td>Carine</td>\n",
       "      <td>40.32.2555</td>\n",
       "      <td>54, rue Royale</td>\n",
       "      <td>Nantes</td>\n",
       "      <td>None</td>\n",
       "      <td>44000</td>\n",
       "      <td>France</td>\n",
       "    </tr>\n",
       "    <tr>\n",
       "      <th>1</th>\n",
       "      <td>112</td>\n",
       "      <td>Signal Gift Stores</td>\n",
       "      <td>King</td>\n",
       "      <td>Jean</td>\n",
       "      <td>7025551838</td>\n",
       "      <td>8489 Strong St.</td>\n",
       "      <td>Las Vegas</td>\n",
       "      <td>NV</td>\n",
       "      <td>83030</td>\n",
       "      <td>USA</td>\n",
       "    </tr>\n",
       "    <tr>\n",
       "      <th>2</th>\n",
       "      <td>114</td>\n",
       "      <td>Australian Collectors, Co.</td>\n",
       "      <td>Ferguson</td>\n",
       "      <td>Peter</td>\n",
       "      <td>03 9520 4555</td>\n",
       "      <td>636 St Kilda Road</td>\n",
       "      <td>Melbourne</td>\n",
       "      <td>Victoria</td>\n",
       "      <td>3004</td>\n",
       "      <td>Australia</td>\n",
       "    </tr>\n",
       "  </tbody>\n",
       "</table>\n",
       "</div>"
      ],
      "text/plain": [
       "   customer_number               customer_name contact_last_name  \\\n",
       "0              103           Atelier graphique           Schmitt   \n",
       "1              112          Signal Gift Stores              King   \n",
       "2              114  Australian Collectors, Co.          Ferguson   \n",
       "\n",
       "  contact_first_name         phone      address_line1       city     state  \\\n",
       "0            Carine     40.32.2555     54, rue Royale     Nantes      None   \n",
       "1               Jean    7025551838    8489 Strong St.  Las Vegas        NV   \n",
       "2              Peter  03 9520 4555  636 St Kilda Road  Melbourne  Victoria   \n",
       "\n",
       "  postal_code    country  \n",
       "0       44000     France  \n",
       "1       83030        USA  \n",
       "2        3004  Australia  "
      ]
     },
     "execution_count": 15,
     "metadata": {},
     "output_type": "execute_result"
    }
   ],
   "source": [
    "orm_to_df(ormq[:3])"
   ]
  },
  {
   "cell_type": "markdown",
   "id": "84a8ee51",
   "metadata": {},
   "source": [
    "## Exercise 2\n",
    "Write a statement that will select the City column from the Customers table."
   ]
  },
  {
   "cell_type": "code",
   "execution_count": 16,
   "id": "cf467c4a",
   "metadata": {},
   "outputs": [
    {
     "name": "stdout",
     "output_type": "stream",
     "text": [
      "Equal ✔️\n"
     ]
    }
   ],
   "source": [
    "sqlq = sql_raw(\"SELECT city FROM Customers;\")\n",
    "ormq = Customers.objects.all().values(\"city\")\n",
    "equal(sqlq, ormq)"
   ]
  },
  {
   "cell_type": "code",
   "execution_count": 17,
   "id": "7e45afdd",
   "metadata": {},
   "outputs": [
    {
     "data": {
      "text/html": [
       "<div>\n",
       "<style scoped>\n",
       "    .dataframe tbody tr th:only-of-type {\n",
       "        vertical-align: middle;\n",
       "    }\n",
       "\n",
       "    .dataframe tbody tr th {\n",
       "        vertical-align: top;\n",
       "    }\n",
       "\n",
       "    .dataframe thead th {\n",
       "        text-align: right;\n",
       "    }\n",
       "</style>\n",
       "<table border=\"1\" class=\"dataframe\">\n",
       "  <thead>\n",
       "    <tr style=\"text-align: right;\">\n",
       "      <th></th>\n",
       "      <th>city</th>\n",
       "    </tr>\n",
       "  </thead>\n",
       "  <tbody>\n",
       "    <tr>\n",
       "      <th>0</th>\n",
       "      <td>Nantes</td>\n",
       "    </tr>\n",
       "    <tr>\n",
       "      <th>1</th>\n",
       "      <td>Las Vegas</td>\n",
       "    </tr>\n",
       "    <tr>\n",
       "      <th>2</th>\n",
       "      <td>Melbourne</td>\n",
       "    </tr>\n",
       "  </tbody>\n",
       "</table>\n",
       "</div>"
      ],
      "text/plain": [
       "        city\n",
       "0     Nantes\n",
       "1  Las Vegas\n",
       "2  Melbourne"
      ]
     },
     "execution_count": 17,
     "metadata": {},
     "output_type": "execute_result"
    }
   ],
   "source": [
    "orm_to_df(ormq[:3])"
   ]
  },
  {
   "cell_type": "markdown",
   "id": "cfc29cf9",
   "metadata": {},
   "source": [
    "### Exercise 3"
   ]
  },
  {
   "cell_type": "code",
   "execution_count": 18,
   "id": "3d778d25",
   "metadata": {},
   "outputs": [
    {
     "name": "stdout",
     "output_type": "stream",
     "text": [
      "Equal ✔️\n"
     ]
    }
   ],
   "source": [
    "sqlq = sql_raw(\"select distinct country from Customers;\")\n",
    "ormq = Customers.objects.all().values(\"country\").distinct()\n",
    "equal(sqlq, ormq)"
   ]
  },
  {
   "cell_type": "code",
   "execution_count": 19,
   "id": "8eb21f8f",
   "metadata": {},
   "outputs": [
    {
     "data": {
      "text/html": [
       "<div>\n",
       "<style scoped>\n",
       "    .dataframe tbody tr th:only-of-type {\n",
       "        vertical-align: middle;\n",
       "    }\n",
       "\n",
       "    .dataframe tbody tr th {\n",
       "        vertical-align: top;\n",
       "    }\n",
       "\n",
       "    .dataframe thead th {\n",
       "        text-align: right;\n",
       "    }\n",
       "</style>\n",
       "<table border=\"1\" class=\"dataframe\">\n",
       "  <thead>\n",
       "    <tr style=\"text-align: right;\">\n",
       "      <th></th>\n",
       "      <th>country</th>\n",
       "    </tr>\n",
       "  </thead>\n",
       "  <tbody>\n",
       "    <tr>\n",
       "      <th>0</th>\n",
       "      <td>France</td>\n",
       "    </tr>\n",
       "    <tr>\n",
       "      <th>1</th>\n",
       "      <td>USA</td>\n",
       "    </tr>\n",
       "    <tr>\n",
       "      <th>2</th>\n",
       "      <td>Australia</td>\n",
       "    </tr>\n",
       "  </tbody>\n",
       "</table>\n",
       "</div>"
      ],
      "text/plain": [
       "     country\n",
       "0     France\n",
       "1        USA\n",
       "2  Australia"
      ]
     },
     "execution_count": 19,
     "metadata": {},
     "output_type": "execute_result"
    }
   ],
   "source": [
    "orm_to_df(ormq[:3])"
   ]
  },
  {
   "cell_type": "markdown",
   "id": "19934f46",
   "metadata": {},
   "source": [
    "## WHERE\n",
    "### Exercise 1\n",
    "Select all records where the City column has the value \"Berlin\"."
   ]
  },
  {
   "cell_type": "code",
   "execution_count": 20,
   "id": "525a126e",
   "metadata": {},
   "outputs": [
    {
     "name": "stdout",
     "output_type": "stream",
     "text": [
      "Equal ✔️\n"
     ]
    }
   ],
   "source": [
    "sqlq = sql_raw(\"select * from Customers where city='Berlin';\")\n",
    "ormq = Customers.objects.filter(city=\"Berlin\").values()\n",
    "equal(sqlq, ormq)"
   ]
  },
  {
   "cell_type": "code",
   "execution_count": 21,
   "id": "41d1e35e",
   "metadata": {},
   "outputs": [
    {
     "data": {
      "text/html": [
       "<div>\n",
       "<style scoped>\n",
       "    .dataframe tbody tr th:only-of-type {\n",
       "        vertical-align: middle;\n",
       "    }\n",
       "\n",
       "    .dataframe tbody tr th {\n",
       "        vertical-align: top;\n",
       "    }\n",
       "\n",
       "    .dataframe thead th {\n",
       "        text-align: right;\n",
       "    }\n",
       "</style>\n",
       "<table border=\"1\" class=\"dataframe\">\n",
       "  <thead>\n",
       "    <tr style=\"text-align: right;\">\n",
       "      <th></th>\n",
       "      <th>customer_number</th>\n",
       "      <th>customer_name</th>\n",
       "      <th>contact_last_name</th>\n",
       "      <th>contact_first_name</th>\n",
       "      <th>phone</th>\n",
       "      <th>address_line1</th>\n",
       "      <th>city</th>\n",
       "      <th>state</th>\n",
       "      <th>postal_code</th>\n",
       "      <th>country</th>\n",
       "    </tr>\n",
       "  </thead>\n",
       "  <tbody>\n",
       "    <tr>\n",
       "      <th>0</th>\n",
       "      <td>307</td>\n",
       "      <td>Der Hund Imports</td>\n",
       "      <td>Andersen</td>\n",
       "      <td>Mel</td>\n",
       "      <td>030-0074555</td>\n",
       "      <td>Obere Str. 57</td>\n",
       "      <td>Berlin</td>\n",
       "      <td>None</td>\n",
       "      <td>12209</td>\n",
       "      <td>Germany</td>\n",
       "    </tr>\n",
       "  </tbody>\n",
       "</table>\n",
       "</div>"
      ],
      "text/plain": [
       "   customer_number     customer_name contact_last_name contact_first_name  \\\n",
       "0              307  Der Hund Imports          Andersen                Mel   \n",
       "\n",
       "         phone  address_line1    city state postal_code  country  \n",
       "0  030-0074555  Obere Str. 57  Berlin  None       12209  Germany  "
      ]
     },
     "execution_count": 21,
     "metadata": {},
     "output_type": "execute_result"
    }
   ],
   "source": [
    "orm_to_df(ormq[:3])"
   ]
  },
  {
   "cell_type": "markdown",
   "id": "cb216b77",
   "metadata": {},
   "source": [
    "### Exercise 2"
   ]
  },
  {
   "cell_type": "code",
   "execution_count": 22,
   "id": "b71b25f9",
   "metadata": {},
   "outputs": [
    {
     "name": "stdout",
     "output_type": "stream",
     "text": [
      "Equal ✔️\n"
     ]
    }
   ],
   "source": [
    "sqlq = sql_raw(\"select * from Customers where not city='Berlin';\")\n",
    "ormq = Customers.objects.exclude(city=\"Berlin\").values()\n",
    "equal(sqlq, ormq)"
   ]
  },
  {
   "cell_type": "code",
   "execution_count": 23,
   "id": "7a3ad4cc",
   "metadata": {},
   "outputs": [
    {
     "name": "stdout",
     "output_type": "stream",
     "text": [
      "Equal ✔️\n"
     ]
    }
   ],
   "source": [
    "ormq1 = Customers.objects.filter(~Q(city=\"Berlin\")).values()\n",
    "equal(sqlq, ormq1)"
   ]
  },
  {
   "cell_type": "code",
   "execution_count": 24,
   "id": "dedd08b4",
   "metadata": {},
   "outputs": [
    {
     "data": {
      "text/html": [
       "<div>\n",
       "<style scoped>\n",
       "    .dataframe tbody tr th:only-of-type {\n",
       "        vertical-align: middle;\n",
       "    }\n",
       "\n",
       "    .dataframe tbody tr th {\n",
       "        vertical-align: top;\n",
       "    }\n",
       "\n",
       "    .dataframe thead th {\n",
       "        text-align: right;\n",
       "    }\n",
       "</style>\n",
       "<table border=\"1\" class=\"dataframe\">\n",
       "  <thead>\n",
       "    <tr style=\"text-align: right;\">\n",
       "      <th></th>\n",
       "      <th>customer_number</th>\n",
       "      <th>customer_name</th>\n",
       "      <th>contact_last_name</th>\n",
       "      <th>contact_first_name</th>\n",
       "      <th>phone</th>\n",
       "      <th>address_line1</th>\n",
       "      <th>city</th>\n",
       "      <th>state</th>\n",
       "      <th>postal_code</th>\n",
       "      <th>country</th>\n",
       "    </tr>\n",
       "  </thead>\n",
       "  <tbody>\n",
       "    <tr>\n",
       "      <th>0</th>\n",
       "      <td>103</td>\n",
       "      <td>Atelier graphique</td>\n",
       "      <td>Schmitt</td>\n",
       "      <td>Carine</td>\n",
       "      <td>40.32.2555</td>\n",
       "      <td>54, rue Royale</td>\n",
       "      <td>Nantes</td>\n",
       "      <td>None</td>\n",
       "      <td>44000</td>\n",
       "      <td>France</td>\n",
       "    </tr>\n",
       "    <tr>\n",
       "      <th>1</th>\n",
       "      <td>112</td>\n",
       "      <td>Signal Gift Stores</td>\n",
       "      <td>King</td>\n",
       "      <td>Jean</td>\n",
       "      <td>7025551838</td>\n",
       "      <td>8489 Strong St.</td>\n",
       "      <td>Las Vegas</td>\n",
       "      <td>NV</td>\n",
       "      <td>83030</td>\n",
       "      <td>USA</td>\n",
       "    </tr>\n",
       "    <tr>\n",
       "      <th>2</th>\n",
       "      <td>114</td>\n",
       "      <td>Australian Collectors, Co.</td>\n",
       "      <td>Ferguson</td>\n",
       "      <td>Peter</td>\n",
       "      <td>03 9520 4555</td>\n",
       "      <td>636 St Kilda Road</td>\n",
       "      <td>Melbourne</td>\n",
       "      <td>Victoria</td>\n",
       "      <td>3004</td>\n",
       "      <td>Australia</td>\n",
       "    </tr>\n",
       "  </tbody>\n",
       "</table>\n",
       "</div>"
      ],
      "text/plain": [
       "   customer_number               customer_name contact_last_name  \\\n",
       "0              103           Atelier graphique           Schmitt   \n",
       "1              112          Signal Gift Stores              King   \n",
       "2              114  Australian Collectors, Co.          Ferguson   \n",
       "\n",
       "  contact_first_name         phone      address_line1       city     state  \\\n",
       "0            Carine     40.32.2555     54, rue Royale     Nantes      None   \n",
       "1               Jean    7025551838    8489 Strong St.  Las Vegas        NV   \n",
       "2              Peter  03 9520 4555  636 St Kilda Road  Melbourne  Victoria   \n",
       "\n",
       "  postal_code    country  \n",
       "0       44000     France  \n",
       "1       83030        USA  \n",
       "2        3004  Australia  "
      ]
     },
     "execution_count": 24,
     "metadata": {},
     "output_type": "execute_result"
    }
   ],
   "source": [
    "orm_to_df(ormq[:3])"
   ]
  },
  {
   "cell_type": "markdown",
   "id": "438e2530",
   "metadata": {},
   "source": [
    "### Exercise 3\n",
    "Select all records where the Customer_number column has the value 320."
   ]
  },
  {
   "cell_type": "code",
   "execution_count": 25,
   "id": "52d427f8",
   "metadata": {},
   "outputs": [
    {
     "name": "stdout",
     "output_type": "stream",
     "text": [
      "Equal ✔️\n"
     ]
    }
   ],
   "source": [
    "sqlq = sql_raw(\"select * from Customers where customerNumber='320';\")\n",
    "ormq = Customers.objects.filter(customer_number=320).values()\n",
    "equal(sqlq, ormq)"
   ]
  },
  {
   "cell_type": "code",
   "execution_count": 26,
   "id": "f8898197",
   "metadata": {},
   "outputs": [
    {
     "data": {
      "text/html": [
       "<div>\n",
       "<style scoped>\n",
       "    .dataframe tbody tr th:only-of-type {\n",
       "        vertical-align: middle;\n",
       "    }\n",
       "\n",
       "    .dataframe tbody tr th {\n",
       "        vertical-align: top;\n",
       "    }\n",
       "\n",
       "    .dataframe thead th {\n",
       "        text-align: right;\n",
       "    }\n",
       "</style>\n",
       "<table border=\"1\" class=\"dataframe\">\n",
       "  <thead>\n",
       "    <tr style=\"text-align: right;\">\n",
       "      <th></th>\n",
       "      <th>customer_number</th>\n",
       "      <th>customer_name</th>\n",
       "      <th>contact_last_name</th>\n",
       "      <th>contact_first_name</th>\n",
       "      <th>phone</th>\n",
       "      <th>address_line1</th>\n",
       "      <th>city</th>\n",
       "      <th>state</th>\n",
       "      <th>postal_code</th>\n",
       "      <th>country</th>\n",
       "    </tr>\n",
       "  </thead>\n",
       "  <tbody>\n",
       "    <tr>\n",
       "      <th>0</th>\n",
       "      <td>320</td>\n",
       "      <td>Mini Creations Ltd.</td>\n",
       "      <td>Huang</td>\n",
       "      <td>Wing</td>\n",
       "      <td>5085559555</td>\n",
       "      <td>4575 Hillside Dr.</td>\n",
       "      <td>New Bedford</td>\n",
       "      <td>MA</td>\n",
       "      <td>50553</td>\n",
       "      <td>USA</td>\n",
       "    </tr>\n",
       "  </tbody>\n",
       "</table>\n",
       "</div>"
      ],
      "text/plain": [
       "   customer_number        customer_name contact_last_name contact_first_name  \\\n",
       "0              320  Mini Creations Ltd.             Huang               Wing   \n",
       "\n",
       "        phone      address_line1         city state postal_code country  \n",
       "0  5085559555  4575 Hillside Dr.  New Bedford    MA       50553     USA  "
      ]
     },
     "execution_count": 26,
     "metadata": {},
     "output_type": "execute_result"
    }
   ],
   "source": [
    "orm_to_df(ormq[:3])"
   ]
  },
  {
   "cell_type": "markdown",
   "id": "8a2c9afa",
   "metadata": {},
   "source": [
    "### Exercise 4\n",
    "Select all records where the City column has the value 'Berlin' and the PostalCode column has the value 12209."
   ]
  },
  {
   "cell_type": "code",
   "execution_count": 27,
   "id": "ae7b5fac",
   "metadata": {},
   "outputs": [
    {
     "name": "stdout",
     "output_type": "stream",
     "text": [
      "Equal ✔️\n"
     ]
    }
   ],
   "source": [
    "sqlq = sql_raw(\"SELECT * FROM customers WHERE city='Berlin' and postalCode=12209;\")\n",
    "ormq = Customers.objects.filter(city=\"Berlin\", postal_code=12209).values()\n",
    "equal(sqlq, ormq)"
   ]
  },
  {
   "cell_type": "code",
   "execution_count": 28,
   "id": "e1361bd7",
   "metadata": {},
   "outputs": [
    {
     "data": {
      "text/html": [
       "<div>\n",
       "<style scoped>\n",
       "    .dataframe tbody tr th:only-of-type {\n",
       "        vertical-align: middle;\n",
       "    }\n",
       "\n",
       "    .dataframe tbody tr th {\n",
       "        vertical-align: top;\n",
       "    }\n",
       "\n",
       "    .dataframe thead th {\n",
       "        text-align: right;\n",
       "    }\n",
       "</style>\n",
       "<table border=\"1\" class=\"dataframe\">\n",
       "  <thead>\n",
       "    <tr style=\"text-align: right;\">\n",
       "      <th></th>\n",
       "      <th>customer_number</th>\n",
       "      <th>customer_name</th>\n",
       "      <th>contact_last_name</th>\n",
       "      <th>contact_first_name</th>\n",
       "      <th>phone</th>\n",
       "      <th>address_line1</th>\n",
       "      <th>city</th>\n",
       "      <th>state</th>\n",
       "      <th>postal_code</th>\n",
       "      <th>country</th>\n",
       "    </tr>\n",
       "  </thead>\n",
       "  <tbody>\n",
       "    <tr>\n",
       "      <th>0</th>\n",
       "      <td>307</td>\n",
       "      <td>Der Hund Imports</td>\n",
       "      <td>Andersen</td>\n",
       "      <td>Mel</td>\n",
       "      <td>030-0074555</td>\n",
       "      <td>Obere Str. 57</td>\n",
       "      <td>Berlin</td>\n",
       "      <td>None</td>\n",
       "      <td>12209</td>\n",
       "      <td>Germany</td>\n",
       "    </tr>\n",
       "  </tbody>\n",
       "</table>\n",
       "</div>"
      ],
      "text/plain": [
       "   customer_number     customer_name contact_last_name contact_first_name  \\\n",
       "0              307  Der Hund Imports          Andersen                Mel   \n",
       "\n",
       "         phone  address_line1    city state postal_code  country  \n",
       "0  030-0074555  Obere Str. 57  Berlin  None       12209  Germany  "
      ]
     },
     "execution_count": 28,
     "metadata": {},
     "output_type": "execute_result"
    }
   ],
   "source": [
    "orm_to_df(ormq)"
   ]
  },
  {
   "cell_type": "markdown",
   "id": "8986dab3",
   "metadata": {},
   "source": [
    "### Exercise 5\n",
    "Select all records where the City column has the value 'Berlin' or 'London'. "
   ]
  },
  {
   "cell_type": "code",
   "execution_count": 29,
   "id": "39d07ab1",
   "metadata": {},
   "outputs": [
    {
     "name": "stdout",
     "output_type": "stream",
     "text": [
      "Equal ✔️\n"
     ]
    }
   ],
   "source": [
    "sqlq = sql_raw(\"select * from Customers where city='Berlin' or city='London'\")\n",
    "ormq = Customers.objects.filter(Q(city=\"Berlin\") | Q(city=\"London\")).values()\n",
    "equal(sqlq, ormq)"
   ]
  },
  {
   "cell_type": "code",
   "execution_count": 30,
   "id": "522f65bc",
   "metadata": {
    "scrolled": true
   },
   "outputs": [
    {
     "data": {
      "text/html": [
       "<div>\n",
       "<style scoped>\n",
       "    .dataframe tbody tr th:only-of-type {\n",
       "        vertical-align: middle;\n",
       "    }\n",
       "\n",
       "    .dataframe tbody tr th {\n",
       "        vertical-align: top;\n",
       "    }\n",
       "\n",
       "    .dataframe thead th {\n",
       "        text-align: right;\n",
       "    }\n",
       "</style>\n",
       "<table border=\"1\" class=\"dataframe\">\n",
       "  <thead>\n",
       "    <tr style=\"text-align: right;\">\n",
       "      <th></th>\n",
       "      <th>customer_number</th>\n",
       "      <th>customer_name</th>\n",
       "      <th>contact_last_name</th>\n",
       "      <th>contact_first_name</th>\n",
       "      <th>phone</th>\n",
       "      <th>address_line1</th>\n",
       "      <th>city</th>\n",
       "      <th>state</th>\n",
       "      <th>postal_code</th>\n",
       "      <th>country</th>\n",
       "    </tr>\n",
       "  </thead>\n",
       "  <tbody>\n",
       "    <tr>\n",
       "      <th>0</th>\n",
       "      <td>307</td>\n",
       "      <td>Der Hund Imports</td>\n",
       "      <td>Andersen</td>\n",
       "      <td>Mel</td>\n",
       "      <td>030-0074555</td>\n",
       "      <td>Obere Str. 57</td>\n",
       "      <td>Berlin</td>\n",
       "      <td>None</td>\n",
       "      <td>12209</td>\n",
       "      <td>Germany</td>\n",
       "    </tr>\n",
       "    <tr>\n",
       "      <th>1</th>\n",
       "      <td>324</td>\n",
       "      <td>Stylish Desk Decors, Co.</td>\n",
       "      <td>Brown</td>\n",
       "      <td>Ann</td>\n",
       "      <td>(171) 555-0297</td>\n",
       "      <td>35 King George</td>\n",
       "      <td>London</td>\n",
       "      <td>None</td>\n",
       "      <td>WX3 6FW</td>\n",
       "      <td>UK</td>\n",
       "    </tr>\n",
       "    <tr>\n",
       "      <th>2</th>\n",
       "      <td>489</td>\n",
       "      <td>Double Decker Gift Stores, Ltd</td>\n",
       "      <td>Smith</td>\n",
       "      <td>Thomas</td>\n",
       "      <td>(171) 555-7555</td>\n",
       "      <td>120 Hanover Sq.</td>\n",
       "      <td>London</td>\n",
       "      <td>None</td>\n",
       "      <td>WA1 1DP</td>\n",
       "      <td>UK</td>\n",
       "    </tr>\n",
       "  </tbody>\n",
       "</table>\n",
       "</div>"
      ],
      "text/plain": [
       "   customer_number                   customer_name contact_last_name  \\\n",
       "0              307                Der Hund Imports          Andersen   \n",
       "1              324        Stylish Desk Decors, Co.             Brown   \n",
       "2              489  Double Decker Gift Stores, Ltd             Smith   \n",
       "\n",
       "  contact_first_name           phone    address_line1    city state  \\\n",
       "0                Mel     030-0074555    Obere Str. 57  Berlin  None   \n",
       "1               Ann   (171) 555-0297   35 King George  London  None   \n",
       "2            Thomas   (171) 555-7555  120 Hanover Sq.  London  None   \n",
       "\n",
       "  postal_code  country  \n",
       "0       12209  Germany  \n",
       "1     WX3 6FW       UK  \n",
       "2     WA1 1DP       UK  "
      ]
     },
     "execution_count": 30,
     "metadata": {},
     "output_type": "execute_result"
    }
   ],
   "source": [
    "orm_to_df(ormq)"
   ]
  },
  {
   "cell_type": "markdown",
   "id": "2801e13e",
   "metadata": {},
   "source": [
    "## ORDER BY\n",
    "### Exercise 1\n",
    "Select all records from the Customers table, sort the result alphabetically by the column City."
   ]
  },
  {
   "cell_type": "code",
   "execution_count": 31,
   "id": "160449d1",
   "metadata": {},
   "outputs": [
    {
     "name": "stdout",
     "output_type": "stream",
     "text": [
      "Equal ✔️\n"
     ]
    }
   ],
   "source": [
    "sqlq = sql_raw(\"SELECT * FROM Customers ORDER BY city\")\n",
    "ormq = Customers.objects.all().order_by(\"city\").values()\n",
    "equal(sqlq, ormq)"
   ]
  },
  {
   "cell_type": "code",
   "execution_count": 32,
   "id": "5671208e",
   "metadata": {},
   "outputs": [
    {
     "data": {
      "text/html": [
       "<div>\n",
       "<style scoped>\n",
       "    .dataframe tbody tr th:only-of-type {\n",
       "        vertical-align: middle;\n",
       "    }\n",
       "\n",
       "    .dataframe tbody tr th {\n",
       "        vertical-align: top;\n",
       "    }\n",
       "\n",
       "    .dataframe thead th {\n",
       "        text-align: right;\n",
       "    }\n",
       "</style>\n",
       "<table border=\"1\" class=\"dataframe\">\n",
       "  <thead>\n",
       "    <tr style=\"text-align: right;\">\n",
       "      <th></th>\n",
       "      <th>customer_number</th>\n",
       "      <th>customer_name</th>\n",
       "      <th>contact_last_name</th>\n",
       "      <th>contact_first_name</th>\n",
       "      <th>phone</th>\n",
       "      <th>address_line1</th>\n",
       "      <th>city</th>\n",
       "      <th>state</th>\n",
       "      <th>postal_code</th>\n",
       "      <th>country</th>\n",
       "    </tr>\n",
       "  </thead>\n",
       "  <tbody>\n",
       "    <tr>\n",
       "      <th>0</th>\n",
       "      <td>459</td>\n",
       "      <td>Warburg Exchange</td>\n",
       "      <td>Ottlieb</td>\n",
       "      <td>Sven</td>\n",
       "      <td>0241-039123</td>\n",
       "      <td>Walserweg 21</td>\n",
       "      <td>Aachen</td>\n",
       "      <td>None</td>\n",
       "      <td>52066</td>\n",
       "      <td>Germany</td>\n",
       "    </tr>\n",
       "    <tr>\n",
       "      <th>1</th>\n",
       "      <td>157</td>\n",
       "      <td>Diecast Classics Inc.</td>\n",
       "      <td>Leong</td>\n",
       "      <td>Kelvin</td>\n",
       "      <td>2155551555</td>\n",
       "      <td>7586 Pompton St.</td>\n",
       "      <td>Allentown</td>\n",
       "      <td>PA</td>\n",
       "      <td>70267</td>\n",
       "      <td>USA</td>\n",
       "    </tr>\n",
       "    <tr>\n",
       "      <th>2</th>\n",
       "      <td>303</td>\n",
       "      <td>Schuyler Imports</td>\n",
       "      <td>Schuyler</td>\n",
       "      <td>Bradley</td>\n",
       "      <td>+31 20 491 9555</td>\n",
       "      <td>Kingsfordweg 151</td>\n",
       "      <td>Amsterdam</td>\n",
       "      <td>None</td>\n",
       "      <td>1043 GR</td>\n",
       "      <td>Netherlands</td>\n",
       "    </tr>\n",
       "  </tbody>\n",
       "</table>\n",
       "</div>"
      ],
      "text/plain": [
       "   customer_number          customer_name contact_last_name  \\\n",
       "0              459       Warburg Exchange           Ottlieb   \n",
       "1              157  Diecast Classics Inc.             Leong   \n",
       "2              303       Schuyler Imports          Schuyler   \n",
       "\n",
       "  contact_first_name            phone     address_line1       city state  \\\n",
       "0              Sven       0241-039123      Walserweg 21     Aachen  None   \n",
       "1             Kelvin       2155551555  7586 Pompton St.  Allentown    PA   \n",
       "2            Bradley  +31 20 491 9555  Kingsfordweg 151  Amsterdam  None   \n",
       "\n",
       "  postal_code      country  \n",
       "0       52066      Germany  \n",
       "1       70267          USA  \n",
       "2     1043 GR  Netherlands  "
      ]
     },
     "execution_count": 32,
     "metadata": {},
     "output_type": "execute_result"
    }
   ],
   "source": [
    "orm_to_df(ormq[:3])"
   ]
  },
  {
   "cell_type": "markdown",
   "id": "c05232ba",
   "metadata": {},
   "source": [
    "### Exercise 2\n",
    "Select all records from the Customers table, sort the result reversed alphabetically by the column City."
   ]
  },
  {
   "cell_type": "code",
   "execution_count": 33,
   "id": "2bc85752",
   "metadata": {},
   "outputs": [
    {
     "name": "stdout",
     "output_type": "stream",
     "text": [
      "Equal ✔️\n"
     ]
    }
   ],
   "source": [
    "sqlq = sql_raw(\"SELECT * FROM Customers ORDER BY city desc\")\n",
    "ormq = Customers.objects.all().order_by(\"-city\").values()\n",
    "equal(sqlq, ormq)"
   ]
  },
  {
   "cell_type": "code",
   "execution_count": 34,
   "id": "fe9776a2",
   "metadata": {},
   "outputs": [
    {
     "data": {
      "text/html": [
       "<div>\n",
       "<style scoped>\n",
       "    .dataframe tbody tr th:only-of-type {\n",
       "        vertical-align: middle;\n",
       "    }\n",
       "\n",
       "    .dataframe tbody tr th {\n",
       "        vertical-align: top;\n",
       "    }\n",
       "\n",
       "    .dataframe thead th {\n",
       "        text-align: right;\n",
       "    }\n",
       "</style>\n",
       "<table border=\"1\" class=\"dataframe\">\n",
       "  <thead>\n",
       "    <tr style=\"text-align: right;\">\n",
       "      <th></th>\n",
       "      <th>customer_number</th>\n",
       "      <th>customer_name</th>\n",
       "      <th>contact_last_name</th>\n",
       "      <th>contact_first_name</th>\n",
       "      <th>phone</th>\n",
       "      <th>address_line1</th>\n",
       "      <th>city</th>\n",
       "      <th>state</th>\n",
       "      <th>postal_code</th>\n",
       "      <th>country</th>\n",
       "    </tr>\n",
       "  </thead>\n",
       "  <tbody>\n",
       "    <tr>\n",
       "      <th>0</th>\n",
       "      <td>227</td>\n",
       "      <td>Heintze Collectables</td>\n",
       "      <td>Ibsen</td>\n",
       "      <td>Palle</td>\n",
       "      <td>86 21 3555</td>\n",
       "      <td>Smagsloget 45</td>\n",
       "      <td>┼rhus</td>\n",
       "      <td>None</td>\n",
       "      <td>8200</td>\n",
       "      <td>Denmark</td>\n",
       "    </tr>\n",
       "    <tr>\n",
       "      <th>1</th>\n",
       "      <td>319</td>\n",
       "      <td>Mini Classics</td>\n",
       "      <td>Frick</td>\n",
       "      <td>Steve</td>\n",
       "      <td>9145554562</td>\n",
       "      <td>3758 North Pendale Street</td>\n",
       "      <td>White Plains</td>\n",
       "      <td>NY</td>\n",
       "      <td>24067</td>\n",
       "      <td>USA</td>\n",
       "    </tr>\n",
       "    <tr>\n",
       "      <th>2</th>\n",
       "      <td>412</td>\n",
       "      <td>Extreme Desk Decorations, Ltd</td>\n",
       "      <td>McRoy</td>\n",
       "      <td>Sarah</td>\n",
       "      <td>04 499 9555</td>\n",
       "      <td>101 Lambton Quay</td>\n",
       "      <td>Wellington</td>\n",
       "      <td>None</td>\n",
       "      <td>None</td>\n",
       "      <td>New Zealand</td>\n",
       "    </tr>\n",
       "  </tbody>\n",
       "</table>\n",
       "</div>"
      ],
      "text/plain": [
       "   customer_number                  customer_name contact_last_name  \\\n",
       "0              227           Heintze Collectables             Ibsen   \n",
       "1              319                  Mini Classics             Frick   \n",
       "2              412  Extreme Desk Decorations, Ltd             McRoy   \n",
       "\n",
       "  contact_first_name        phone              address_line1          city  \\\n",
       "0              Palle   86 21 3555              Smagsloget 45         ┼rhus   \n",
       "1              Steve   9145554562  3758 North Pendale Street  White Plains   \n",
       "2              Sarah  04 499 9555           101 Lambton Quay    Wellington   \n",
       "\n",
       "  state postal_code      country  \n",
       "0  None        8200      Denmark  \n",
       "1    NY       24067          USA  \n",
       "2  None        None  New Zealand  "
      ]
     },
     "execution_count": 34,
     "metadata": {},
     "output_type": "execute_result"
    }
   ],
   "source": [
    "orm_to_df(ormq[:3])"
   ]
  },
  {
   "cell_type": "markdown",
   "id": "3fff36b0",
   "metadata": {},
   "source": [
    "### Exercise 3\n",
    "Select all records from the Customers table, sort the result alphabetically,\n",
    "first by the column Country, then, by the column City."
   ]
  },
  {
   "cell_type": "code",
   "execution_count": 35,
   "id": "67442c71",
   "metadata": {},
   "outputs": [
    {
     "name": "stdout",
     "output_type": "stream",
     "text": [
      "Equal ✔️\n"
     ]
    }
   ],
   "source": [
    "sqlq = sql_raw(\"SELECT * FROM Customers ORDER BY country, city\")\n",
    "ormq = Customers.objects.all().order_by(\"country\", \"city\").values()\n",
    "equal(sqlq, ormq)"
   ]
  },
  {
   "cell_type": "code",
   "execution_count": 36,
   "id": "3c32ce72",
   "metadata": {},
   "outputs": [
    {
     "data": {
      "text/html": [
       "<div>\n",
       "<style scoped>\n",
       "    .dataframe tbody tr th:only-of-type {\n",
       "        vertical-align: middle;\n",
       "    }\n",
       "\n",
       "    .dataframe tbody tr th {\n",
       "        vertical-align: top;\n",
       "    }\n",
       "\n",
       "    .dataframe thead th {\n",
       "        text-align: right;\n",
       "    }\n",
       "</style>\n",
       "<table border=\"1\" class=\"dataframe\">\n",
       "  <thead>\n",
       "    <tr style=\"text-align: right;\">\n",
       "      <th></th>\n",
       "      <th>customer_number</th>\n",
       "      <th>customer_name</th>\n",
       "      <th>contact_last_name</th>\n",
       "      <th>contact_first_name</th>\n",
       "      <th>phone</th>\n",
       "      <th>address_line1</th>\n",
       "      <th>city</th>\n",
       "      <th>state</th>\n",
       "      <th>postal_code</th>\n",
       "      <th>country</th>\n",
       "    </tr>\n",
       "  </thead>\n",
       "  <tbody>\n",
       "    <tr>\n",
       "      <th>0</th>\n",
       "      <td>282</td>\n",
       "      <td>Souveniers And Things Co.</td>\n",
       "      <td>Huxley</td>\n",
       "      <td>Adrian</td>\n",
       "      <td>+61 2 9495 8555</td>\n",
       "      <td>Monitor Money Building</td>\n",
       "      <td>Chatswood</td>\n",
       "      <td>NSW</td>\n",
       "      <td>2067</td>\n",
       "      <td>Australia</td>\n",
       "    </tr>\n",
       "    <tr>\n",
       "      <th>1</th>\n",
       "      <td>471</td>\n",
       "      <td>Australian Collectables, Ltd</td>\n",
       "      <td>Clenahan</td>\n",
       "      <td>Sean</td>\n",
       "      <td>61-9-3844-6555</td>\n",
       "      <td>7 Allen Street</td>\n",
       "      <td>Glen Waverly</td>\n",
       "      <td>Victoria</td>\n",
       "      <td>3150</td>\n",
       "      <td>Australia</td>\n",
       "    </tr>\n",
       "    <tr>\n",
       "      <th>2</th>\n",
       "      <td>114</td>\n",
       "      <td>Australian Collectors, Co.</td>\n",
       "      <td>Ferguson</td>\n",
       "      <td>Peter</td>\n",
       "      <td>03 9520 4555</td>\n",
       "      <td>636 St Kilda Road</td>\n",
       "      <td>Melbourne</td>\n",
       "      <td>Victoria</td>\n",
       "      <td>3004</td>\n",
       "      <td>Australia</td>\n",
       "    </tr>\n",
       "  </tbody>\n",
       "</table>\n",
       "</div>"
      ],
      "text/plain": [
       "   customer_number                 customer_name contact_last_name  \\\n",
       "0              282     Souveniers And Things Co.            Huxley   \n",
       "1              471  Australian Collectables, Ltd          Clenahan   \n",
       "2              114    Australian Collectors, Co.          Ferguson   \n",
       "\n",
       "  contact_first_name            phone           address_line1          city  \\\n",
       "0             Adrian  +61 2 9495 8555  Monitor Money Building     Chatswood   \n",
       "1               Sean   61-9-3844-6555          7 Allen Street  Glen Waverly   \n",
       "2              Peter     03 9520 4555       636 St Kilda Road     Melbourne   \n",
       "\n",
       "      state postal_code    country  \n",
       "0       NSW        2067  Australia  \n",
       "1  Victoria        3150  Australia  \n",
       "2  Victoria        3004  Australia  "
      ]
     },
     "execution_count": 36,
     "metadata": {},
     "output_type": "execute_result"
    }
   ],
   "source": [
    "orm_to_df(ormq[:3])"
   ]
  },
  {
   "cell_type": "markdown",
   "id": "a3bf5d86",
   "metadata": {},
   "source": [
    "## NULL\n",
    "### Exercise 1\n",
    "Select all records from the Customers where the PostalCode column is empty."
   ]
  },
  {
   "cell_type": "code",
   "execution_count": 37,
   "id": "0a2544c5",
   "metadata": {},
   "outputs": [
    {
     "name": "stdout",
     "output_type": "stream",
     "text": [
      "Equal ✔️\n"
     ]
    }
   ],
   "source": [
    "sqlq = sql_raw(\"SELECT * FROM Customers WHERE postalCode IS null\")\n",
    "ormq = Customers.objects.filter(postal_code=None).values()\n",
    "equal(sqlq, ormq)"
   ]
  },
  {
   "cell_type": "code",
   "execution_count": 38,
   "id": "a5840991",
   "metadata": {},
   "outputs": [
    {
     "data": {
      "text/html": [
       "<div>\n",
       "<style scoped>\n",
       "    .dataframe tbody tr th:only-of-type {\n",
       "        vertical-align: middle;\n",
       "    }\n",
       "\n",
       "    .dataframe tbody tr th {\n",
       "        vertical-align: top;\n",
       "    }\n",
       "\n",
       "    .dataframe thead th {\n",
       "        text-align: right;\n",
       "    }\n",
       "</style>\n",
       "<table border=\"1\" class=\"dataframe\">\n",
       "  <thead>\n",
       "    <tr style=\"text-align: right;\">\n",
       "      <th></th>\n",
       "      <th>customer_number</th>\n",
       "      <th>customer_name</th>\n",
       "      <th>contact_last_name</th>\n",
       "      <th>contact_first_name</th>\n",
       "      <th>phone</th>\n",
       "      <th>address_line1</th>\n",
       "      <th>city</th>\n",
       "      <th>state</th>\n",
       "      <th>postal_code</th>\n",
       "      <th>country</th>\n",
       "    </tr>\n",
       "  </thead>\n",
       "  <tbody>\n",
       "    <tr>\n",
       "      <th>0</th>\n",
       "      <td>211</td>\n",
       "      <td>King Kong Collectables, Co.</td>\n",
       "      <td>Gao</td>\n",
       "      <td>Mike</td>\n",
       "      <td>+852 2251 1555</td>\n",
       "      <td>Bank of China Tower</td>\n",
       "      <td>Central Hong Kong</td>\n",
       "      <td>None</td>\n",
       "      <td>None</td>\n",
       "      <td>Hong Kong</td>\n",
       "    </tr>\n",
       "    <tr>\n",
       "      <th>1</th>\n",
       "      <td>323</td>\n",
       "      <td>Down Under Souveniers, Inc</td>\n",
       "      <td>Graham</td>\n",
       "      <td>Mike</td>\n",
       "      <td>+64 9 312 5555</td>\n",
       "      <td>162-164 Grafton Road</td>\n",
       "      <td>Auckland</td>\n",
       "      <td>None</td>\n",
       "      <td>None</td>\n",
       "      <td>New Zealand</td>\n",
       "    </tr>\n",
       "    <tr>\n",
       "      <th>2</th>\n",
       "      <td>348</td>\n",
       "      <td>Asian Treasures, Inc.</td>\n",
       "      <td>McKenna</td>\n",
       "      <td>Patricia</td>\n",
       "      <td>2967 555</td>\n",
       "      <td>8 Johnstown Road</td>\n",
       "      <td>Cork</td>\n",
       "      <td>Co. Cork</td>\n",
       "      <td>None</td>\n",
       "      <td>Ireland</td>\n",
       "    </tr>\n",
       "  </tbody>\n",
       "</table>\n",
       "</div>"
      ],
      "text/plain": [
       "   customer_number                customer_name contact_last_name  \\\n",
       "0              211  King Kong Collectables, Co.               Gao   \n",
       "1              323   Down Under Souveniers, Inc            Graham   \n",
       "2              348        Asian Treasures, Inc.           McKenna   \n",
       "\n",
       "  contact_first_name           phone         address_line1               city  \\\n",
       "0               Mike  +852 2251 1555   Bank of China Tower  Central Hong Kong   \n",
       "1               Mike  +64 9 312 5555  162-164 Grafton Road         Auckland     \n",
       "2          Patricia         2967 555      8 Johnstown Road               Cork   \n",
       "\n",
       "      state postal_code      country  \n",
       "0      None        None    Hong Kong  \n",
       "1      None        None  New Zealand  \n",
       "2  Co. Cork        None      Ireland  "
      ]
     },
     "execution_count": 38,
     "metadata": {},
     "output_type": "execute_result"
    }
   ],
   "source": [
    "orm_to_df(ormq[:3])"
   ]
  },
  {
   "cell_type": "markdown",
   "id": "1303c96c",
   "metadata": {},
   "source": [
    "### Exercise 2\n",
    "Select all records from the Customers where the PostalCode column is NOT empty."
   ]
  },
  {
   "cell_type": "code",
   "execution_count": 39,
   "id": "64d415a9",
   "metadata": {},
   "outputs": [
    {
     "name": "stdout",
     "output_type": "stream",
     "text": [
      "Equal ✔️\n"
     ]
    }
   ],
   "source": [
    "sqlq = sql_raw(\"select * from Customers where postalCode is not null\")\n",
    "ormq = Customers.objects.exclude(postal_code=None).values()\n",
    "equal(sqlq, ormq)"
   ]
  },
  {
   "cell_type": "code",
   "execution_count": 40,
   "id": "dcccfde7",
   "metadata": {},
   "outputs": [
    {
     "name": "stdout",
     "output_type": "stream",
     "text": [
      "Equal ✔️\n"
     ]
    }
   ],
   "source": [
    "ormq1 = Customers.objects.filter(~Q(postal_code=None)).values()\n",
    "equal(sqlq, ormq1)"
   ]
  },
  {
   "cell_type": "code",
   "execution_count": 41,
   "id": "11fc9035",
   "metadata": {},
   "outputs": [
    {
     "data": {
      "text/html": [
       "<div>\n",
       "<style scoped>\n",
       "    .dataframe tbody tr th:only-of-type {\n",
       "        vertical-align: middle;\n",
       "    }\n",
       "\n",
       "    .dataframe tbody tr th {\n",
       "        vertical-align: top;\n",
       "    }\n",
       "\n",
       "    .dataframe thead th {\n",
       "        text-align: right;\n",
       "    }\n",
       "</style>\n",
       "<table border=\"1\" class=\"dataframe\">\n",
       "  <thead>\n",
       "    <tr style=\"text-align: right;\">\n",
       "      <th></th>\n",
       "      <th>customer_number</th>\n",
       "      <th>customer_name</th>\n",
       "      <th>contact_last_name</th>\n",
       "      <th>contact_first_name</th>\n",
       "      <th>phone</th>\n",
       "      <th>address_line1</th>\n",
       "      <th>city</th>\n",
       "      <th>state</th>\n",
       "      <th>postal_code</th>\n",
       "      <th>country</th>\n",
       "    </tr>\n",
       "  </thead>\n",
       "  <tbody>\n",
       "    <tr>\n",
       "      <th>0</th>\n",
       "      <td>103</td>\n",
       "      <td>Atelier graphique</td>\n",
       "      <td>Schmitt</td>\n",
       "      <td>Carine</td>\n",
       "      <td>40.32.2555</td>\n",
       "      <td>54, rue Royale</td>\n",
       "      <td>Nantes</td>\n",
       "      <td>None</td>\n",
       "      <td>44000</td>\n",
       "      <td>France</td>\n",
       "    </tr>\n",
       "    <tr>\n",
       "      <th>1</th>\n",
       "      <td>112</td>\n",
       "      <td>Signal Gift Stores</td>\n",
       "      <td>King</td>\n",
       "      <td>Jean</td>\n",
       "      <td>7025551838</td>\n",
       "      <td>8489 Strong St.</td>\n",
       "      <td>Las Vegas</td>\n",
       "      <td>NV</td>\n",
       "      <td>83030</td>\n",
       "      <td>USA</td>\n",
       "    </tr>\n",
       "    <tr>\n",
       "      <th>2</th>\n",
       "      <td>114</td>\n",
       "      <td>Australian Collectors, Co.</td>\n",
       "      <td>Ferguson</td>\n",
       "      <td>Peter</td>\n",
       "      <td>03 9520 4555</td>\n",
       "      <td>636 St Kilda Road</td>\n",
       "      <td>Melbourne</td>\n",
       "      <td>Victoria</td>\n",
       "      <td>3004</td>\n",
       "      <td>Australia</td>\n",
       "    </tr>\n",
       "  </tbody>\n",
       "</table>\n",
       "</div>"
      ],
      "text/plain": [
       "   customer_number               customer_name contact_last_name  \\\n",
       "0              103           Atelier graphique           Schmitt   \n",
       "1              112          Signal Gift Stores              King   \n",
       "2              114  Australian Collectors, Co.          Ferguson   \n",
       "\n",
       "  contact_first_name         phone      address_line1       city     state  \\\n",
       "0            Carine     40.32.2555     54, rue Royale     Nantes      None   \n",
       "1               Jean    7025551838    8489 Strong St.  Las Vegas        NV   \n",
       "2              Peter  03 9520 4555  636 St Kilda Road  Melbourne  Victoria   \n",
       "\n",
       "  postal_code    country  \n",
       "0       44000     France  \n",
       "1       83030        USA  \n",
       "2        3004  Australia  "
      ]
     },
     "execution_count": 41,
     "metadata": {},
     "output_type": "execute_result"
    }
   ],
   "source": [
    "orm_to_df(ormq[:3])"
   ]
  },
  {
   "cell_type": "markdown",
   "id": "f821c63f",
   "metadata": {},
   "source": [
    "## FUNCTION\n",
    "### Exercise 1\n",
    "Use the MIN function to select the record with the smallest value of the Price column."
   ]
  },
  {
   "cell_type": "code",
   "execution_count": 42,
   "id": "52e81680",
   "metadata": {},
   "outputs": [
    {
     "name": "stdout",
     "output_type": "stream",
     "text": [
      "Equal ✔️\n"
     ]
    }
   ],
   "source": [
    "sqlq = sql_raw(\"select MIN(buyPrice) mn from products\")\n",
    "ormq = Products.objects.aggregate(mn=Min(\"buy_price\"))\n",
    "equal(sqlq, ormq)"
   ]
  },
  {
   "cell_type": "code",
   "execution_count": 43,
   "id": "f5690fa9",
   "metadata": {},
   "outputs": [
    {
     "data": {
      "text/html": [
       "<div>\n",
       "<style scoped>\n",
       "    .dataframe tbody tr th:only-of-type {\n",
       "        vertical-align: middle;\n",
       "    }\n",
       "\n",
       "    .dataframe tbody tr th {\n",
       "        vertical-align: top;\n",
       "    }\n",
       "\n",
       "    .dataframe thead th {\n",
       "        text-align: right;\n",
       "    }\n",
       "</style>\n",
       "<table border=\"1\" class=\"dataframe\">\n",
       "  <thead>\n",
       "    <tr style=\"text-align: right;\">\n",
       "      <th></th>\n",
       "      <th>mn</th>\n",
       "    </tr>\n",
       "  </thead>\n",
       "  <tbody>\n",
       "    <tr>\n",
       "      <th>0</th>\n",
       "      <td>15.9100000000000</td>\n",
       "    </tr>\n",
       "  </tbody>\n",
       "</table>\n",
       "</div>"
      ],
      "text/plain": [
       "                 mn\n",
       "0  15.9100000000000"
      ]
     },
     "execution_count": 43,
     "metadata": {},
     "output_type": "execute_result"
    }
   ],
   "source": [
    "orm_to_df(ormq)"
   ]
  },
  {
   "cell_type": "markdown",
   "id": "27fc5746",
   "metadata": {},
   "source": [
    "### Exercise 2\n",
    "Use an SQL function to select the record with the highest value of the Price column."
   ]
  },
  {
   "cell_type": "code",
   "execution_count": 44,
   "id": "2c612aac",
   "metadata": {},
   "outputs": [
    {
     "name": "stdout",
     "output_type": "stream",
     "text": [
      "Equal ✔️\n"
     ]
    }
   ],
   "source": [
    "sqlq = sql_raw(\"select MAX(buyPrice) mn from products\")\n",
    "ormq = dec_to_float(Products.objects.aggregate(mn=Max(\"buy_price\")))\n",
    "equal(sqlq, ormq)"
   ]
  },
  {
   "cell_type": "code",
   "execution_count": 45,
   "id": "0ce8c15a",
   "metadata": {},
   "outputs": [
    {
     "data": {
      "text/html": [
       "<div>\n",
       "<style scoped>\n",
       "    .dataframe tbody tr th:only-of-type {\n",
       "        vertical-align: middle;\n",
       "    }\n",
       "\n",
       "    .dataframe tbody tr th {\n",
       "        vertical-align: top;\n",
       "    }\n",
       "\n",
       "    .dataframe thead th {\n",
       "        text-align: right;\n",
       "    }\n",
       "</style>\n",
       "<table border=\"1\" class=\"dataframe\">\n",
       "  <thead>\n",
       "    <tr style=\"text-align: right;\">\n",
       "      <th></th>\n",
       "      <th>mn</th>\n",
       "    </tr>\n",
       "  </thead>\n",
       "  <tbody>\n",
       "    <tr>\n",
       "      <th>0</th>\n",
       "      <td>103.420000000000</td>\n",
       "    </tr>\n",
       "  </tbody>\n",
       "</table>\n",
       "</div>"
      ],
      "text/plain": [
       "                 mn\n",
       "0  103.420000000000"
      ]
     },
     "execution_count": 45,
     "metadata": {},
     "output_type": "execute_result"
    }
   ],
   "source": [
    "orm_to_df(ormq)"
   ]
  },
  {
   "cell_type": "markdown",
   "id": "c94e5174",
   "metadata": {},
   "source": [
    "### Excercise 3\n",
    "Use the correct function to return the number of records that have the Price value set to 15.91."
   ]
  },
  {
   "cell_type": "code",
   "execution_count": 46,
   "id": "60451ffe",
   "metadata": {},
   "outputs": [
    {
     "name": "stdout",
     "output_type": "stream",
     "text": [
      "Equal ✔️\n"
     ]
    }
   ],
   "source": [
    "sqlq = sql_raw(\"select COUNT(*) cnt from products WHERE buyPrice=15.91\")\n",
    "ormq = (\n",
    "    Products.objects.filter(buy_price=15.91)\n",
    "    .annotate(cnt=Count(\"product_code\"))\n",
    "    .values(\"cnt\")\n",
    ")\n",
    "equal(sqlq, ormq)"
   ]
  },
  {
   "cell_type": "code",
   "execution_count": 47,
   "id": "4bdcbd22",
   "metadata": {},
   "outputs": [
    {
     "name": "stdout",
     "output_type": "stream",
     "text": [
      "Equal ✔️\n"
     ]
    }
   ],
   "source": [
    "ormq1 = Products.objects.filter(buy_price=15.91).count()\n",
    "ormq1 = [{\"cnt\": ormq1}]\n",
    "equal(sqlq, ormq1)"
   ]
  },
  {
   "cell_type": "code",
   "execution_count": 48,
   "id": "f5dac712",
   "metadata": {},
   "outputs": [
    {
     "data": {
      "text/html": [
       "<div>\n",
       "<style scoped>\n",
       "    .dataframe tbody tr th:only-of-type {\n",
       "        vertical-align: middle;\n",
       "    }\n",
       "\n",
       "    .dataframe tbody tr th {\n",
       "        vertical-align: top;\n",
       "    }\n",
       "\n",
       "    .dataframe thead th {\n",
       "        text-align: right;\n",
       "    }\n",
       "</style>\n",
       "<table border=\"1\" class=\"dataframe\">\n",
       "  <thead>\n",
       "    <tr style=\"text-align: right;\">\n",
       "      <th></th>\n",
       "      <th>cnt</th>\n",
       "    </tr>\n",
       "  </thead>\n",
       "  <tbody>\n",
       "    <tr>\n",
       "      <th>0</th>\n",
       "      <td>1</td>\n",
       "    </tr>\n",
       "  </tbody>\n",
       "</table>\n",
       "</div>"
      ],
      "text/plain": [
       "   cnt\n",
       "0    1"
      ]
     },
     "execution_count": 48,
     "metadata": {},
     "output_type": "execute_result"
    }
   ],
   "source": [
    "orm_to_df(ormq)"
   ]
  },
  {
   "cell_type": "markdown",
   "id": "f4dfcf83",
   "metadata": {},
   "source": [
    "### Exercise 4\n",
    "Use an SQL function to calculate the average price of all products."
   ]
  },
  {
   "cell_type": "code",
   "execution_count": 49,
   "id": "8dfd5f62",
   "metadata": {},
   "outputs": [
    {
     "name": "stdout",
     "output_type": "stream",
     "text": [
      "Equal ✔️\n"
     ]
    }
   ],
   "source": [
    "sqlq = dec_to_float(sql_raw(\"SELECT AVG(buyPrice) mean FROM products;\"))\n",
    "ormq = dec_to_float(Products.objects.aggregate(mean=Avg(\"buy_price\")))\n",
    "equal(sqlq, ormq)"
   ]
  },
  {
   "cell_type": "code",
   "execution_count": 50,
   "id": "9d513768",
   "metadata": {},
   "outputs": [
    {
     "data": {
      "text/html": [
       "<div>\n",
       "<style scoped>\n",
       "    .dataframe tbody tr th:only-of-type {\n",
       "        vertical-align: middle;\n",
       "    }\n",
       "\n",
       "    .dataframe tbody tr th {\n",
       "        vertical-align: top;\n",
       "    }\n",
       "\n",
       "    .dataframe thead th {\n",
       "        text-align: right;\n",
       "    }\n",
       "</style>\n",
       "<table border=\"1\" class=\"dataframe\">\n",
       "  <thead>\n",
       "    <tr style=\"text-align: right;\">\n",
       "      <th></th>\n",
       "      <th>mean</th>\n",
       "    </tr>\n",
       "  </thead>\n",
       "  <tbody>\n",
       "    <tr>\n",
       "      <th>0</th>\n",
       "      <td>54.3951818181818</td>\n",
       "    </tr>\n",
       "  </tbody>\n",
       "</table>\n",
       "</div>"
      ],
      "text/plain": [
       "               mean\n",
       "0  54.3951818181818"
      ]
     },
     "execution_count": 50,
     "metadata": {},
     "output_type": "execute_result"
    }
   ],
   "source": [
    "orm_to_df(ormq)"
   ]
  },
  {
   "cell_type": "markdown",
   "id": "3fb79100",
   "metadata": {},
   "source": [
    "### Exercise 5\n",
    "Use an SQL function to calculate the sum of all the Price column values in the Products table."
   ]
  },
  {
   "cell_type": "code",
   "execution_count": 51,
   "id": "248719bc",
   "metadata": {},
   "outputs": [
    {
     "name": "stdout",
     "output_type": "stream",
     "text": [
      "Equal ✔️\n"
     ]
    }
   ],
   "source": [
    "sqlq = dec_to_float(sql_raw(\"SELECT SUM(buyPrice) sum_ FROM products;\"))\n",
    "ormq = dec_to_float(Products.objects.aggregate(sum_=Sum(\"buy_price\")))\n",
    "equal(sqlq, ormq)"
   ]
  },
  {
   "cell_type": "code",
   "execution_count": 52,
   "id": "aa1b5e28",
   "metadata": {},
   "outputs": [
    {
     "data": {
      "text/html": [
       "<div>\n",
       "<style scoped>\n",
       "    .dataframe tbody tr th:only-of-type {\n",
       "        vertical-align: middle;\n",
       "    }\n",
       "\n",
       "    .dataframe tbody tr th {\n",
       "        vertical-align: top;\n",
       "    }\n",
       "\n",
       "    .dataframe thead th {\n",
       "        text-align: right;\n",
       "    }\n",
       "</style>\n",
       "<table border=\"1\" class=\"dataframe\">\n",
       "  <thead>\n",
       "    <tr style=\"text-align: right;\">\n",
       "      <th></th>\n",
       "      <th>sum_</th>\n",
       "    </tr>\n",
       "  </thead>\n",
       "  <tbody>\n",
       "    <tr>\n",
       "      <th>0</th>\n",
       "      <td>5983.47000000000</td>\n",
       "    </tr>\n",
       "  </tbody>\n",
       "</table>\n",
       "</div>"
      ],
      "text/plain": [
       "               sum_\n",
       "0  5983.47000000000"
      ]
     },
     "execution_count": 52,
     "metadata": {},
     "output_type": "execute_result"
    }
   ],
   "source": [
    "orm_to_df(ormq)"
   ]
  },
  {
   "cell_type": "markdown",
   "id": "9ec733ae",
   "metadata": {},
   "source": [
    "## LIKE\n",
    "### Exercise 1\n",
    "Select all records where the value of the City column starts with the letter \"a\"."
   ]
  },
  {
   "cell_type": "code",
   "execution_count": 53,
   "id": "26bd7aea",
   "metadata": {},
   "outputs": [
    {
     "name": "stdout",
     "output_type": "stream",
     "text": [
      "Equal ✔️\n"
     ]
    }
   ],
   "source": [
    "sqlq = sql_raw(\"SELECT * FROM customers WHERE city LIKE 'a%'\")\n",
    "ormq = Customers.objects.filter(city__istartswith=\"a\").values()\n",
    "equal(sqlq, ormq)"
   ]
  },
  {
   "cell_type": "code",
   "execution_count": 54,
   "id": "19078f7c",
   "metadata": {},
   "outputs": [
    {
     "data": {
      "text/html": [
       "<div>\n",
       "<style scoped>\n",
       "    .dataframe tbody tr th:only-of-type {\n",
       "        vertical-align: middle;\n",
       "    }\n",
       "\n",
       "    .dataframe tbody tr th {\n",
       "        vertical-align: top;\n",
       "    }\n",
       "\n",
       "    .dataframe thead th {\n",
       "        text-align: right;\n",
       "    }\n",
       "</style>\n",
       "<table border=\"1\" class=\"dataframe\">\n",
       "  <thead>\n",
       "    <tr style=\"text-align: right;\">\n",
       "      <th></th>\n",
       "      <th>customer_number</th>\n",
       "      <th>customer_name</th>\n",
       "      <th>contact_last_name</th>\n",
       "      <th>contact_first_name</th>\n",
       "      <th>phone</th>\n",
       "      <th>address_line1</th>\n",
       "      <th>city</th>\n",
       "      <th>state</th>\n",
       "      <th>postal_code</th>\n",
       "      <th>country</th>\n",
       "    </tr>\n",
       "  </thead>\n",
       "  <tbody>\n",
       "    <tr>\n",
       "      <th>0</th>\n",
       "      <td>157</td>\n",
       "      <td>Diecast Classics Inc.</td>\n",
       "      <td>Leong</td>\n",
       "      <td>Kelvin</td>\n",
       "      <td>2155551555</td>\n",
       "      <td>7586 Pompton St.</td>\n",
       "      <td>Allentown</td>\n",
       "      <td>PA</td>\n",
       "      <td>70267</td>\n",
       "      <td>USA</td>\n",
       "    </tr>\n",
       "    <tr>\n",
       "      <th>1</th>\n",
       "      <td>303</td>\n",
       "      <td>Schuyler Imports</td>\n",
       "      <td>Schuyler</td>\n",
       "      <td>Bradley</td>\n",
       "      <td>+31 20 491 9555</td>\n",
       "      <td>Kingsfordweg 151</td>\n",
       "      <td>Amsterdam</td>\n",
       "      <td>None</td>\n",
       "      <td>1043 GR</td>\n",
       "      <td>Netherlands</td>\n",
       "    </tr>\n",
       "    <tr>\n",
       "      <th>2</th>\n",
       "      <td>323</td>\n",
       "      <td>Down Under Souveniers, Inc</td>\n",
       "      <td>Graham</td>\n",
       "      <td>Mike</td>\n",
       "      <td>+64 9 312 5555</td>\n",
       "      <td>162-164 Grafton Road</td>\n",
       "      <td>Auckland</td>\n",
       "      <td>None</td>\n",
       "      <td>None</td>\n",
       "      <td>New Zealand</td>\n",
       "    </tr>\n",
       "  </tbody>\n",
       "</table>\n",
       "</div>"
      ],
      "text/plain": [
       "   customer_number               customer_name contact_last_name  \\\n",
       "0              157       Diecast Classics Inc.             Leong   \n",
       "1              303            Schuyler Imports          Schuyler   \n",
       "2              323  Down Under Souveniers, Inc            Graham   \n",
       "\n",
       "  contact_first_name            phone         address_line1        city state  \\\n",
       "0             Kelvin       2155551555      7586 Pompton St.   Allentown    PA   \n",
       "1            Bradley  +31 20 491 9555      Kingsfordweg 151   Amsterdam  None   \n",
       "2               Mike   +64 9 312 5555  162-164 Grafton Road  Auckland    None   \n",
       "\n",
       "  postal_code      country  \n",
       "0       70267          USA  \n",
       "1     1043 GR  Netherlands  \n",
       "2        None  New Zealand  "
      ]
     },
     "execution_count": 54,
     "metadata": {},
     "output_type": "execute_result"
    }
   ],
   "source": [
    "orm_to_df(ormq[:3])"
   ]
  },
  {
   "cell_type": "markdown",
   "id": "17717b1b",
   "metadata": {},
   "source": [
    "### Exercise 2\n",
    "Select all records where the value of the City column ends with the letter \"a\"."
   ]
  },
  {
   "cell_type": "code",
   "execution_count": 55,
   "id": "e80bf3c1",
   "metadata": {},
   "outputs": [
    {
     "name": "stdout",
     "output_type": "stream",
     "text": [
      "Equal ✔️\n"
     ]
    }
   ],
   "source": [
    "sqlq = sql_raw(\"SELECT * FROM customers WHERE city LIKE '%a'\")\n",
    "ormq = Customers.objects.filter(city__iendswith=\"a\").values()\n",
    "equal(sqlq, ormq)"
   ]
  },
  {
   "cell_type": "code",
   "execution_count": 56,
   "id": "6d3c5104",
   "metadata": {},
   "outputs": [
    {
     "data": {
      "text/html": [
       "<div>\n",
       "<style scoped>\n",
       "    .dataframe tbody tr th:only-of-type {\n",
       "        vertical-align: middle;\n",
       "    }\n",
       "\n",
       "    .dataframe tbody tr th {\n",
       "        vertical-align: top;\n",
       "    }\n",
       "\n",
       "    .dataframe thead th {\n",
       "        text-align: right;\n",
       "    }\n",
       "</style>\n",
       "<table border=\"1\" class=\"dataframe\">\n",
       "  <thead>\n",
       "    <tr style=\"text-align: right;\">\n",
       "      <th></th>\n",
       "      <th>customer_number</th>\n",
       "      <th>customer_name</th>\n",
       "      <th>contact_last_name</th>\n",
       "      <th>contact_first_name</th>\n",
       "      <th>phone</th>\n",
       "      <th>address_line1</th>\n",
       "      <th>city</th>\n",
       "      <th>state</th>\n",
       "      <th>postal_code</th>\n",
       "      <th>country</th>\n",
       "    </tr>\n",
       "  </thead>\n",
       "  <tbody>\n",
       "    <tr>\n",
       "      <th>0</th>\n",
       "      <td>125</td>\n",
       "      <td>Havel &amp; Zbyszek Co</td>\n",
       "      <td>Piestrzeniewicz</td>\n",
       "      <td>Zbyszek</td>\n",
       "      <td>(26) 642-7555</td>\n",
       "      <td>ul. Filtrowa 68</td>\n",
       "      <td>Warszawa</td>\n",
       "      <td>None</td>\n",
       "      <td>01-012</td>\n",
       "      <td>Poland</td>\n",
       "    </tr>\n",
       "    <tr>\n",
       "      <th>1</th>\n",
       "      <td>169</td>\n",
       "      <td>Porto Imports Co.</td>\n",
       "      <td>de Castro</td>\n",
       "      <td>Isabel</td>\n",
       "      <td>(1) 356-5555</td>\n",
       "      <td>Estrada da sa·de n. 58</td>\n",
       "      <td>Lisboa</td>\n",
       "      <td>None</td>\n",
       "      <td>1756</td>\n",
       "      <td>Portugal</td>\n",
       "    </tr>\n",
       "    <tr>\n",
       "      <th>2</th>\n",
       "      <td>205</td>\n",
       "      <td>Toys4GrownUps.com</td>\n",
       "      <td>Young</td>\n",
       "      <td>Julie</td>\n",
       "      <td>6265557265</td>\n",
       "      <td>78934 Hillside Dr.</td>\n",
       "      <td>Pasadena</td>\n",
       "      <td>CA</td>\n",
       "      <td>90003</td>\n",
       "      <td>USA</td>\n",
       "    </tr>\n",
       "  </tbody>\n",
       "</table>\n",
       "</div>"
      ],
      "text/plain": [
       "   customer_number       customer_name contact_last_name contact_first_name  \\\n",
       "0              125  Havel & Zbyszek Co   Piestrzeniewicz           Zbyszek    \n",
       "1              169   Porto Imports Co.         de Castro            Isabel    \n",
       "2              205   Toys4GrownUps.com             Young              Julie   \n",
       "\n",
       "           phone           address_line1      city state postal_code   country  \n",
       "0  (26) 642-7555         ul. Filtrowa 68  Warszawa  None      01-012    Poland  \n",
       "1   (1) 356-5555  Estrada da sa·de n. 58    Lisboa  None        1756  Portugal  \n",
       "2     6265557265      78934 Hillside Dr.  Pasadena    CA       90003       USA  "
      ]
     },
     "execution_count": 56,
     "metadata": {},
     "output_type": "execute_result"
    }
   ],
   "source": [
    "orm_to_df(ormq[:3])"
   ]
  },
  {
   "cell_type": "markdown",
   "id": "429687f1",
   "metadata": {},
   "source": [
    "### Exercise 3\n",
    "Select all records where the value of the City column contains the letter \"a\"."
   ]
  },
  {
   "cell_type": "code",
   "execution_count": 57,
   "id": "040f2bfd",
   "metadata": {},
   "outputs": [
    {
     "name": "stdout",
     "output_type": "stream",
     "text": [
      "Equal ✔️\n"
     ]
    }
   ],
   "source": [
    "sqlq = sql_raw(\"SELECT * FROM customers WHERE city LIKE '%a%'\")\n",
    "ormq = Customers.objects.filter(city__icontains=\"a\").values()\n",
    "equal(sqlq, ormq)"
   ]
  },
  {
   "cell_type": "code",
   "execution_count": 58,
   "id": "e5a73780",
   "metadata": {},
   "outputs": [
    {
     "data": {
      "text/html": [
       "<div>\n",
       "<style scoped>\n",
       "    .dataframe tbody tr th:only-of-type {\n",
       "        vertical-align: middle;\n",
       "    }\n",
       "\n",
       "    .dataframe tbody tr th {\n",
       "        vertical-align: top;\n",
       "    }\n",
       "\n",
       "    .dataframe thead th {\n",
       "        text-align: right;\n",
       "    }\n",
       "</style>\n",
       "<table border=\"1\" class=\"dataframe\">\n",
       "  <thead>\n",
       "    <tr style=\"text-align: right;\">\n",
       "      <th></th>\n",
       "      <th>customer_number</th>\n",
       "      <th>customer_name</th>\n",
       "      <th>contact_last_name</th>\n",
       "      <th>contact_first_name</th>\n",
       "      <th>phone</th>\n",
       "      <th>address_line1</th>\n",
       "      <th>city</th>\n",
       "      <th>state</th>\n",
       "      <th>postal_code</th>\n",
       "      <th>country</th>\n",
       "    </tr>\n",
       "  </thead>\n",
       "  <tbody>\n",
       "    <tr>\n",
       "      <th>0</th>\n",
       "      <td>103</td>\n",
       "      <td>Atelier graphique</td>\n",
       "      <td>Schmitt</td>\n",
       "      <td>Carine</td>\n",
       "      <td>40.32.2555</td>\n",
       "      <td>54, rue Royale</td>\n",
       "      <td>Nantes</td>\n",
       "      <td>None</td>\n",
       "      <td>44000</td>\n",
       "      <td>France</td>\n",
       "    </tr>\n",
       "    <tr>\n",
       "      <th>1</th>\n",
       "      <td>112</td>\n",
       "      <td>Signal Gift Stores</td>\n",
       "      <td>King</td>\n",
       "      <td>Jean</td>\n",
       "      <td>7025551838</td>\n",
       "      <td>8489 Strong St.</td>\n",
       "      <td>Las Vegas</td>\n",
       "      <td>NV</td>\n",
       "      <td>83030</td>\n",
       "      <td>USA</td>\n",
       "    </tr>\n",
       "    <tr>\n",
       "      <th>2</th>\n",
       "      <td>119</td>\n",
       "      <td>La Rochelle Gifts</td>\n",
       "      <td>Labrune</td>\n",
       "      <td>Janine</td>\n",
       "      <td>40.67.8555</td>\n",
       "      <td>67, rue des Cinquante Otages</td>\n",
       "      <td>Nantes</td>\n",
       "      <td>None</td>\n",
       "      <td>44000</td>\n",
       "      <td>France</td>\n",
       "    </tr>\n",
       "  </tbody>\n",
       "</table>\n",
       "</div>"
      ],
      "text/plain": [
       "   customer_number       customer_name contact_last_name contact_first_name  \\\n",
       "0              103   Atelier graphique           Schmitt            Carine    \n",
       "1              112  Signal Gift Stores              King               Jean   \n",
       "2              119   La Rochelle Gifts           Labrune            Janine    \n",
       "\n",
       "        phone                 address_line1       city state postal_code  \\\n",
       "0  40.32.2555                54, rue Royale     Nantes  None       44000   \n",
       "1  7025551838               8489 Strong St.  Las Vegas    NV       83030   \n",
       "2  40.67.8555  67, rue des Cinquante Otages     Nantes  None       44000   \n",
       "\n",
       "  country  \n",
       "0  France  \n",
       "1     USA  \n",
       "2  France  "
      ]
     },
     "execution_count": 58,
     "metadata": {},
     "output_type": "execute_result"
    }
   ],
   "source": [
    "orm_to_df(ormq[:3])"
   ]
  },
  {
   "cell_type": "markdown",
   "id": "66ff6f10",
   "metadata": {},
   "source": [
    "### Exercise 4\n",
    "Select all records where the value of the City column starts with letter \"a\" and ends with the letter \"b\".\n",
    "(Note no such rows exists, so we will use L%n"
   ]
  },
  {
   "cell_type": "code",
   "execution_count": 59,
   "id": "b83e0041",
   "metadata": {},
   "outputs": [
    {
     "name": "stdout",
     "output_type": "stream",
     "text": [
      "Equal ✔️\n"
     ]
    }
   ],
   "source": [
    "sqlq = sql_raw(\"SELECT * FROM customers WHERE city LIKE 'L%n'\")\n",
    "ormq = Customers.objects.filter(\n",
    "    Q(city__istartswith=\"L\") & Q(city__endswith=\"n\")\n",
    ").values()\n",
    "equal(sqlq, ormq)"
   ]
  },
  {
   "cell_type": "code",
   "execution_count": 60,
   "id": "5c5358a7",
   "metadata": {},
   "outputs": [
    {
     "name": "stdout",
     "output_type": "stream",
     "text": [
      "Equal ✔️\n"
     ]
    }
   ],
   "source": [
    "ormq1 = Customers.objects.filter(city__regex=r\"^L.*n$\").values()\n",
    "equal(sqlq, ormq1)"
   ]
  },
  {
   "cell_type": "code",
   "execution_count": 61,
   "id": "10c6210f",
   "metadata": {},
   "outputs": [
    {
     "data": {
      "text/html": [
       "<div>\n",
       "<style scoped>\n",
       "    .dataframe tbody tr th:only-of-type {\n",
       "        vertical-align: middle;\n",
       "    }\n",
       "\n",
       "    .dataframe tbody tr th {\n",
       "        vertical-align: top;\n",
       "    }\n",
       "\n",
       "    .dataframe thead th {\n",
       "        text-align: right;\n",
       "    }\n",
       "</style>\n",
       "<table border=\"1\" class=\"dataframe\">\n",
       "  <thead>\n",
       "    <tr style=\"text-align: right;\">\n",
       "      <th></th>\n",
       "      <th>customer_number</th>\n",
       "      <th>customer_name</th>\n",
       "      <th>contact_last_name</th>\n",
       "      <th>contact_first_name</th>\n",
       "      <th>phone</th>\n",
       "      <th>address_line1</th>\n",
       "      <th>city</th>\n",
       "      <th>state</th>\n",
       "      <th>postal_code</th>\n",
       "      <th>country</th>\n",
       "    </tr>\n",
       "  </thead>\n",
       "  <tbody>\n",
       "    <tr>\n",
       "      <th>0</th>\n",
       "      <td>146</td>\n",
       "      <td>Saveley &amp; Henriot, Co.</td>\n",
       "      <td>Saveley</td>\n",
       "      <td>Mary</td>\n",
       "      <td>78.32.5555</td>\n",
       "      <td>2, rue du Commerce</td>\n",
       "      <td>Lyon</td>\n",
       "      <td>None</td>\n",
       "      <td>69004</td>\n",
       "      <td>France</td>\n",
       "    </tr>\n",
       "    <tr>\n",
       "      <th>1</th>\n",
       "      <td>324</td>\n",
       "      <td>Stylish Desk Decors, Co.</td>\n",
       "      <td>Brown</td>\n",
       "      <td>Ann</td>\n",
       "      <td>(171) 555-0297</td>\n",
       "      <td>35 King George</td>\n",
       "      <td>London</td>\n",
       "      <td>None</td>\n",
       "      <td>WX3 6FW</td>\n",
       "      <td>UK</td>\n",
       "    </tr>\n",
       "    <tr>\n",
       "      <th>2</th>\n",
       "      <td>489</td>\n",
       "      <td>Double Decker Gift Stores, Ltd</td>\n",
       "      <td>Smith</td>\n",
       "      <td>Thomas</td>\n",
       "      <td>(171) 555-7555</td>\n",
       "      <td>120 Hanover Sq.</td>\n",
       "      <td>London</td>\n",
       "      <td>None</td>\n",
       "      <td>WA1 1DP</td>\n",
       "      <td>UK</td>\n",
       "    </tr>\n",
       "  </tbody>\n",
       "</table>\n",
       "</div>"
      ],
      "text/plain": [
       "   customer_number                   customer_name contact_last_name  \\\n",
       "0              146          Saveley & Henriot, Co.           Saveley   \n",
       "1              324        Stylish Desk Decors, Co.             Brown   \n",
       "2              489  Double Decker Gift Stores, Ltd             Smith   \n",
       "\n",
       "  contact_first_name           phone       address_line1    city state  \\\n",
       "0              Mary       78.32.5555  2, rue du Commerce    Lyon  None   \n",
       "1               Ann   (171) 555-0297      35 King George  London  None   \n",
       "2            Thomas   (171) 555-7555     120 Hanover Sq.  London  None   \n",
       "\n",
       "  postal_code country  \n",
       "0       69004  France  \n",
       "1     WX3 6FW      UK  \n",
       "2     WA1 1DP      UK  "
      ]
     },
     "execution_count": 61,
     "metadata": {},
     "output_type": "execute_result"
    }
   ],
   "source": [
    "orm_to_df(ormq[:3])"
   ]
  },
  {
   "cell_type": "markdown",
   "id": "8a49e05e",
   "metadata": {},
   "source": [
    "### Exercise 5\n",
    "Select all records where the value of the City column does NOT start with the letter \"a\"."
   ]
  },
  {
   "cell_type": "code",
   "execution_count": 62,
   "id": "95ef59f2",
   "metadata": {},
   "outputs": [
    {
     "name": "stdout",
     "output_type": "stream",
     "text": [
      "Equal ✔️\n"
     ]
    }
   ],
   "source": [
    "sqlq = sql_raw(\"SELECT * FROM customers WHERE city NOT LIKE 'a%'\")\n",
    "ormq = Customers.objects.exclude(city__istartswith=\"a\").values()\n",
    "equal(sqlq, ormq)"
   ]
  },
  {
   "cell_type": "code",
   "execution_count": 63,
   "id": "3f130d66",
   "metadata": {},
   "outputs": [
    {
     "name": "stdout",
     "output_type": "stream",
     "text": [
      "Equal ✔️\n"
     ]
    }
   ],
   "source": [
    "ormq1 = Customers.objects.filter(city__regex=r\"^[^aA]\").values()\n",
    "equal(sqlq, ormq1)"
   ]
  },
  {
   "cell_type": "code",
   "execution_count": 64,
   "id": "c35bc554",
   "metadata": {},
   "outputs": [
    {
     "name": "stdout",
     "output_type": "stream",
     "text": [
      "Equal ✔️\n"
     ]
    }
   ],
   "source": [
    "ormq2 = Customers.objects.filter(~Q(city__istartswith=\"a\")).values()\n",
    "equal(sqlq, ormq2)"
   ]
  },
  {
   "cell_type": "code",
   "execution_count": 65,
   "id": "85375a44",
   "metadata": {},
   "outputs": [
    {
     "data": {
      "text/html": [
       "<div>\n",
       "<style scoped>\n",
       "    .dataframe tbody tr th:only-of-type {\n",
       "        vertical-align: middle;\n",
       "    }\n",
       "\n",
       "    .dataframe tbody tr th {\n",
       "        vertical-align: top;\n",
       "    }\n",
       "\n",
       "    .dataframe thead th {\n",
       "        text-align: right;\n",
       "    }\n",
       "</style>\n",
       "<table border=\"1\" class=\"dataframe\">\n",
       "  <thead>\n",
       "    <tr style=\"text-align: right;\">\n",
       "      <th></th>\n",
       "      <th>customer_number</th>\n",
       "      <th>customer_name</th>\n",
       "      <th>contact_last_name</th>\n",
       "      <th>contact_first_name</th>\n",
       "      <th>phone</th>\n",
       "      <th>address_line1</th>\n",
       "      <th>city</th>\n",
       "      <th>state</th>\n",
       "      <th>postal_code</th>\n",
       "      <th>country</th>\n",
       "    </tr>\n",
       "  </thead>\n",
       "  <tbody>\n",
       "    <tr>\n",
       "      <th>0</th>\n",
       "      <td>103</td>\n",
       "      <td>Atelier graphique</td>\n",
       "      <td>Schmitt</td>\n",
       "      <td>Carine</td>\n",
       "      <td>40.32.2555</td>\n",
       "      <td>54, rue Royale</td>\n",
       "      <td>Nantes</td>\n",
       "      <td>None</td>\n",
       "      <td>44000</td>\n",
       "      <td>France</td>\n",
       "    </tr>\n",
       "    <tr>\n",
       "      <th>1</th>\n",
       "      <td>112</td>\n",
       "      <td>Signal Gift Stores</td>\n",
       "      <td>King</td>\n",
       "      <td>Jean</td>\n",
       "      <td>7025551838</td>\n",
       "      <td>8489 Strong St.</td>\n",
       "      <td>Las Vegas</td>\n",
       "      <td>NV</td>\n",
       "      <td>83030</td>\n",
       "      <td>USA</td>\n",
       "    </tr>\n",
       "    <tr>\n",
       "      <th>2</th>\n",
       "      <td>114</td>\n",
       "      <td>Australian Collectors, Co.</td>\n",
       "      <td>Ferguson</td>\n",
       "      <td>Peter</td>\n",
       "      <td>03 9520 4555</td>\n",
       "      <td>636 St Kilda Road</td>\n",
       "      <td>Melbourne</td>\n",
       "      <td>Victoria</td>\n",
       "      <td>3004</td>\n",
       "      <td>Australia</td>\n",
       "    </tr>\n",
       "  </tbody>\n",
       "</table>\n",
       "</div>"
      ],
      "text/plain": [
       "   customer_number               customer_name contact_last_name  \\\n",
       "0              103           Atelier graphique           Schmitt   \n",
       "1              112          Signal Gift Stores              King   \n",
       "2              114  Australian Collectors, Co.          Ferguson   \n",
       "\n",
       "  contact_first_name         phone      address_line1       city     state  \\\n",
       "0            Carine     40.32.2555     54, rue Royale     Nantes      None   \n",
       "1               Jean    7025551838    8489 Strong St.  Las Vegas        NV   \n",
       "2              Peter  03 9520 4555  636 St Kilda Road  Melbourne  Victoria   \n",
       "\n",
       "  postal_code    country  \n",
       "0       44000     France  \n",
       "1       83030        USA  \n",
       "2        3004  Australia  "
      ]
     },
     "execution_count": 65,
     "metadata": {},
     "output_type": "execute_result"
    }
   ],
   "source": [
    "orm_to_df(ormq[:3])"
   ]
  },
  {
   "cell_type": "markdown",
   "id": "2a5a4e7e",
   "metadata": {},
   "source": [
    "## Wilcards\n",
    "### Exercise 1\n",
    "Select all records where the second letter of the City is an \"a\"."
   ]
  },
  {
   "cell_type": "code",
   "execution_count": 66,
   "id": "5dba714b",
   "metadata": {},
   "outputs": [
    {
     "name": "stdout",
     "output_type": "stream",
     "text": [
      "Equal ✔️\n"
     ]
    }
   ],
   "source": [
    "sqlq = sql_raw(\"SELECT * FROM customers WHERE city LIKE '_a%'\")\n",
    "ormq = Customers.objects.filter(city__regex=r\"^.[aA].*$\").values()\n",
    "equal(sqlq, ormq)"
   ]
  },
  {
   "cell_type": "code",
   "execution_count": 67,
   "id": "fcfbe091",
   "metadata": {},
   "outputs": [
    {
     "data": {
      "text/html": [
       "<div>\n",
       "<style scoped>\n",
       "    .dataframe tbody tr th:only-of-type {\n",
       "        vertical-align: middle;\n",
       "    }\n",
       "\n",
       "    .dataframe tbody tr th {\n",
       "        vertical-align: top;\n",
       "    }\n",
       "\n",
       "    .dataframe thead th {\n",
       "        text-align: right;\n",
       "    }\n",
       "</style>\n",
       "<table border=\"1\" class=\"dataframe\">\n",
       "  <thead>\n",
       "    <tr style=\"text-align: right;\">\n",
       "      <th></th>\n",
       "      <th>customer_number</th>\n",
       "      <th>customer_name</th>\n",
       "      <th>contact_last_name</th>\n",
       "      <th>contact_first_name</th>\n",
       "      <th>phone</th>\n",
       "      <th>address_line1</th>\n",
       "      <th>city</th>\n",
       "      <th>state</th>\n",
       "      <th>postal_code</th>\n",
       "      <th>country</th>\n",
       "    </tr>\n",
       "  </thead>\n",
       "  <tbody>\n",
       "    <tr>\n",
       "      <th>0</th>\n",
       "      <td>103</td>\n",
       "      <td>Atelier graphique</td>\n",
       "      <td>Schmitt</td>\n",
       "      <td>Carine</td>\n",
       "      <td>40.32.2555</td>\n",
       "      <td>54, rue Royale</td>\n",
       "      <td>Nantes</td>\n",
       "      <td>None</td>\n",
       "      <td>44000</td>\n",
       "      <td>France</td>\n",
       "    </tr>\n",
       "    <tr>\n",
       "      <th>1</th>\n",
       "      <td>112</td>\n",
       "      <td>Signal Gift Stores</td>\n",
       "      <td>King</td>\n",
       "      <td>Jean</td>\n",
       "      <td>7025551838</td>\n",
       "      <td>8489 Strong St.</td>\n",
       "      <td>Las Vegas</td>\n",
       "      <td>NV</td>\n",
       "      <td>83030</td>\n",
       "      <td>USA</td>\n",
       "    </tr>\n",
       "    <tr>\n",
       "      <th>2</th>\n",
       "      <td>119</td>\n",
       "      <td>La Rochelle Gifts</td>\n",
       "      <td>Labrune</td>\n",
       "      <td>Janine</td>\n",
       "      <td>40.67.8555</td>\n",
       "      <td>67, rue des Cinquante Otages</td>\n",
       "      <td>Nantes</td>\n",
       "      <td>None</td>\n",
       "      <td>44000</td>\n",
       "      <td>France</td>\n",
       "    </tr>\n",
       "  </tbody>\n",
       "</table>\n",
       "</div>"
      ],
      "text/plain": [
       "   customer_number       customer_name contact_last_name contact_first_name  \\\n",
       "0              103   Atelier graphique           Schmitt            Carine    \n",
       "1              112  Signal Gift Stores              King               Jean   \n",
       "2              119   La Rochelle Gifts           Labrune            Janine    \n",
       "\n",
       "        phone                 address_line1       city state postal_code  \\\n",
       "0  40.32.2555                54, rue Royale     Nantes  None       44000   \n",
       "1  7025551838               8489 Strong St.  Las Vegas    NV       83030   \n",
       "2  40.67.8555  67, rue des Cinquante Otages     Nantes  None       44000   \n",
       "\n",
       "  country  \n",
       "0  France  \n",
       "1     USA  \n",
       "2  France  "
      ]
     },
     "execution_count": 67,
     "metadata": {},
     "output_type": "execute_result"
    }
   ],
   "source": [
    "orm_to_df(ormq[:3])"
   ]
  },
  {
   "cell_type": "markdown",
   "id": "b88c8ac4",
   "metadata": {},
   "source": [
    "### Exercise 2\n",
    "Select all records where the first letter of the City is an \"a\" or a \"c\" or an \"s\"."
   ]
  },
  {
   "cell_type": "code",
   "execution_count": 68,
   "id": "d3ab0d1e",
   "metadata": {},
   "outputs": [
    {
     "name": "stdout",
     "output_type": "stream",
     "text": [
      "Equal ✔️\n"
     ]
    }
   ],
   "source": [
    "# sqlq =  Customers.objects.raw(\"SELECT * FROM customers WHERE city LIKE '[acs]%'\")\n",
    "sqlq = sql_raw(\n",
    "    \"SELECT * FROM customers WHERE CITY LIKE 'a%' OR CITY LIKE 'c%' OR CITY LIKE 's%'\"\n",
    ")\n",
    "query = Q()\n",
    "for ch in [\"a\", \"c\", \"s\"]:\n",
    "    query = query | Q(city__istartswith=ch)\n",
    "ormq = Customers.objects.filter(query).values()\n",
    "equal(sqlq, ormq)"
   ]
  },
  {
   "cell_type": "code",
   "execution_count": 69,
   "id": "6d87123e",
   "metadata": {},
   "outputs": [
    {
     "name": "stdout",
     "output_type": "stream",
     "text": [
      "Equal ✔️\n"
     ]
    }
   ],
   "source": [
    "ormq1 = Customers.objects.filter(city__regex=r\"^[acsACS].*$\").values()\n",
    "equal(sqlq, ormq1)"
   ]
  },
  {
   "cell_type": "code",
   "execution_count": 70,
   "id": "2bfbdd5f",
   "metadata": {},
   "outputs": [
    {
     "data": {
      "text/html": [
       "<div>\n",
       "<style scoped>\n",
       "    .dataframe tbody tr th:only-of-type {\n",
       "        vertical-align: middle;\n",
       "    }\n",
       "\n",
       "    .dataframe tbody tr th {\n",
       "        vertical-align: top;\n",
       "    }\n",
       "\n",
       "    .dataframe thead th {\n",
       "        text-align: right;\n",
       "    }\n",
       "</style>\n",
       "<table border=\"1\" class=\"dataframe\">\n",
       "  <thead>\n",
       "    <tr style=\"text-align: right;\">\n",
       "      <th></th>\n",
       "      <th>customer_number</th>\n",
       "      <th>customer_name</th>\n",
       "      <th>contact_last_name</th>\n",
       "      <th>contact_first_name</th>\n",
       "      <th>phone</th>\n",
       "      <th>address_line1</th>\n",
       "      <th>city</th>\n",
       "      <th>state</th>\n",
       "      <th>postal_code</th>\n",
       "      <th>country</th>\n",
       "    </tr>\n",
       "  </thead>\n",
       "  <tbody>\n",
       "    <tr>\n",
       "      <th>0</th>\n",
       "      <td>121</td>\n",
       "      <td>Baane Mini Imports</td>\n",
       "      <td>Bergulfsen</td>\n",
       "      <td>Jonas</td>\n",
       "      <td>07-98 9555</td>\n",
       "      <td>Erling Skakkes gate 78</td>\n",
       "      <td>Stavern</td>\n",
       "      <td>None</td>\n",
       "      <td>4110</td>\n",
       "      <td>Norway</td>\n",
       "    </tr>\n",
       "    <tr>\n",
       "      <th>1</th>\n",
       "      <td>124</td>\n",
       "      <td>Mini Gifts Distributors Ltd.</td>\n",
       "      <td>Nelson</td>\n",
       "      <td>Susan</td>\n",
       "      <td>4155551450</td>\n",
       "      <td>5677 Strong St.</td>\n",
       "      <td>San Rafael</td>\n",
       "      <td>CA</td>\n",
       "      <td>97562</td>\n",
       "      <td>USA</td>\n",
       "    </tr>\n",
       "    <tr>\n",
       "      <th>2</th>\n",
       "      <td>129</td>\n",
       "      <td>Mini Wheels Co.</td>\n",
       "      <td>Murphy</td>\n",
       "      <td>Julie</td>\n",
       "      <td>6505555787</td>\n",
       "      <td>5557 North Pendale Street</td>\n",
       "      <td>San Francisco</td>\n",
       "      <td>CA</td>\n",
       "      <td>94217</td>\n",
       "      <td>USA</td>\n",
       "    </tr>\n",
       "  </tbody>\n",
       "</table>\n",
       "</div>"
      ],
      "text/plain": [
       "   customer_number                 customer_name contact_last_name  \\\n",
       "0              121            Baane Mini Imports        Bergulfsen   \n",
       "1              124  Mini Gifts Distributors Ltd.            Nelson   \n",
       "2              129               Mini Wheels Co.            Murphy   \n",
       "\n",
       "  contact_first_name       phone              address_line1           city  \\\n",
       "0             Jonas   07-98 9555     Erling Skakkes gate 78        Stavern   \n",
       "1              Susan  4155551450            5677 Strong St.     San Rafael   \n",
       "2              Julie  6505555787  5557 North Pendale Street  San Francisco   \n",
       "\n",
       "  state postal_code country  \n",
       "0  None        4110  Norway  \n",
       "1    CA       97562     USA  \n",
       "2    CA       94217     USA  "
      ]
     },
     "execution_count": 70,
     "metadata": {},
     "output_type": "execute_result"
    }
   ],
   "source": [
    "orm_to_df(ormq[:3])"
   ]
  },
  {
   "cell_type": "markdown",
   "id": "2a333c34",
   "metadata": {},
   "source": [
    "### Exercise 3\n",
    "Select all records where the first letter of the City starts with anything from an \"a\" to an \"f\"."
   ]
  },
  {
   "cell_type": "code",
   "execution_count": 71,
   "id": "104a9ce6",
   "metadata": {},
   "outputs": [
    {
     "name": "stdout",
     "output_type": "stream",
     "text": [
      "Equal ✔️\n"
     ]
    }
   ],
   "source": [
    "# sqlq =  Customers.objects.raw(\"SELECT * FROM customers WHERE city LIKE '[a-f]%'\") # doesnt work in sqlite\n",
    "sqlq = sql_raw(\"SELECT * FROM customers WHERE city REGEXP '^[a-fA-F].*$'\")\n",
    "ormq = Customers.objects.filter(city__regex=r\"^[a-fA-F].*$\").values()\n",
    "equal(sqlq, ormq)"
   ]
  },
  {
   "cell_type": "markdown",
   "id": "d7e4fc24",
   "metadata": {},
   "source": [
    "### Exercise 4\n",
    "Select all records where the first letter of the City is NOT an \"a\" or a \"c\" or an \"f\"."
   ]
  },
  {
   "cell_type": "code",
   "execution_count": 72,
   "id": "04326121",
   "metadata": {},
   "outputs": [
    {
     "name": "stdout",
     "output_type": "stream",
     "text": [
      "Equal ✔️\n"
     ]
    }
   ],
   "source": [
    "# sqlq =  Customers.objects.raw(\"SELECT * FROM customers WHERE city LIKE '[!acf]%'\")\n",
    "sqlq = sql_raw(\n",
    "    \"SELECT * FROM customers WHERE CITY NOT LIKE 'a%' OR CITY NOT LIKE 'c%' OR CITY NOT LIKE 's%'\"\n",
    ")\n",
    "query = Q()\n",
    "for ch in [\"a\", \"c\", \"d\"]:\n",
    "    query = query | ~Q(city__istartswith=ch)\n",
    "ormq = Customers.objects.filter(query).values()\n",
    "equal(sqlq, ormq)"
   ]
  },
  {
   "cell_type": "code",
   "execution_count": 73,
   "id": "9d25fc04",
   "metadata": {},
   "outputs": [
    {
     "data": {
      "text/html": [
       "<div>\n",
       "<style scoped>\n",
       "    .dataframe tbody tr th:only-of-type {\n",
       "        vertical-align: middle;\n",
       "    }\n",
       "\n",
       "    .dataframe tbody tr th {\n",
       "        vertical-align: top;\n",
       "    }\n",
       "\n",
       "    .dataframe thead th {\n",
       "        text-align: right;\n",
       "    }\n",
       "</style>\n",
       "<table border=\"1\" class=\"dataframe\">\n",
       "  <thead>\n",
       "    <tr style=\"text-align: right;\">\n",
       "      <th></th>\n",
       "      <th>customer_number</th>\n",
       "      <th>customer_name</th>\n",
       "      <th>contact_last_name</th>\n",
       "      <th>contact_first_name</th>\n",
       "      <th>phone</th>\n",
       "      <th>address_line1</th>\n",
       "      <th>city</th>\n",
       "      <th>state</th>\n",
       "      <th>postal_code</th>\n",
       "      <th>country</th>\n",
       "    </tr>\n",
       "  </thead>\n",
       "  <tbody>\n",
       "    <tr>\n",
       "      <th>0</th>\n",
       "      <td>103</td>\n",
       "      <td>Atelier graphique</td>\n",
       "      <td>Schmitt</td>\n",
       "      <td>Carine</td>\n",
       "      <td>40.32.2555</td>\n",
       "      <td>54, rue Royale</td>\n",
       "      <td>Nantes</td>\n",
       "      <td>None</td>\n",
       "      <td>44000</td>\n",
       "      <td>France</td>\n",
       "    </tr>\n",
       "    <tr>\n",
       "      <th>1</th>\n",
       "      <td>112</td>\n",
       "      <td>Signal Gift Stores</td>\n",
       "      <td>King</td>\n",
       "      <td>Jean</td>\n",
       "      <td>7025551838</td>\n",
       "      <td>8489 Strong St.</td>\n",
       "      <td>Las Vegas</td>\n",
       "      <td>NV</td>\n",
       "      <td>83030</td>\n",
       "      <td>USA</td>\n",
       "    </tr>\n",
       "    <tr>\n",
       "      <th>2</th>\n",
       "      <td>114</td>\n",
       "      <td>Australian Collectors, Co.</td>\n",
       "      <td>Ferguson</td>\n",
       "      <td>Peter</td>\n",
       "      <td>03 9520 4555</td>\n",
       "      <td>636 St Kilda Road</td>\n",
       "      <td>Melbourne</td>\n",
       "      <td>Victoria</td>\n",
       "      <td>3004</td>\n",
       "      <td>Australia</td>\n",
       "    </tr>\n",
       "  </tbody>\n",
       "</table>\n",
       "</div>"
      ],
      "text/plain": [
       "   customer_number               customer_name contact_last_name  \\\n",
       "0              103           Atelier graphique           Schmitt   \n",
       "1              112          Signal Gift Stores              King   \n",
       "2              114  Australian Collectors, Co.          Ferguson   \n",
       "\n",
       "  contact_first_name         phone      address_line1       city     state  \\\n",
       "0            Carine     40.32.2555     54, rue Royale     Nantes      None   \n",
       "1               Jean    7025551838    8489 Strong St.  Las Vegas        NV   \n",
       "2              Peter  03 9520 4555  636 St Kilda Road  Melbourne  Victoria   \n",
       "\n",
       "  postal_code    country  \n",
       "0       44000     France  \n",
       "1       83030        USA  \n",
       "2        3004  Australia  "
      ]
     },
     "execution_count": 73,
     "metadata": {},
     "output_type": "execute_result"
    }
   ],
   "source": [
    "orm_to_df(ormq[:3])"
   ]
  },
  {
   "cell_type": "markdown",
   "id": "952a8dd4",
   "metadata": {},
   "source": [
    "# IN\n",
    "### Exercise 1\n",
    "Use the IN operator to select all the records where Country is either \"Norway\" or \"France\"."
   ]
  },
  {
   "cell_type": "code",
   "execution_count": 74,
   "id": "dfb394a1",
   "metadata": {},
   "outputs": [
    {
     "name": "stdout",
     "output_type": "stream",
     "text": [
      "Equal ✔️\n"
     ]
    }
   ],
   "source": [
    "sqlq = sql_raw(\"SELECT * FROM customers WHERE country IN ('Norway', 'France')\")\n",
    "ormq = Customers.objects.filter(country__in=[\"Norway\", \"France\"]).values()\n",
    "equal(sqlq, ormq)"
   ]
  },
  {
   "cell_type": "code",
   "execution_count": 75,
   "id": "6d588ab6",
   "metadata": {},
   "outputs": [
    {
     "data": {
      "text/html": [
       "<div>\n",
       "<style scoped>\n",
       "    .dataframe tbody tr th:only-of-type {\n",
       "        vertical-align: middle;\n",
       "    }\n",
       "\n",
       "    .dataframe tbody tr th {\n",
       "        vertical-align: top;\n",
       "    }\n",
       "\n",
       "    .dataframe thead th {\n",
       "        text-align: right;\n",
       "    }\n",
       "</style>\n",
       "<table border=\"1\" class=\"dataframe\">\n",
       "  <thead>\n",
       "    <tr style=\"text-align: right;\">\n",
       "      <th></th>\n",
       "      <th>customer_number</th>\n",
       "      <th>customer_name</th>\n",
       "      <th>contact_last_name</th>\n",
       "      <th>contact_first_name</th>\n",
       "      <th>phone</th>\n",
       "      <th>address_line1</th>\n",
       "      <th>city</th>\n",
       "      <th>state</th>\n",
       "      <th>postal_code</th>\n",
       "      <th>country</th>\n",
       "    </tr>\n",
       "  </thead>\n",
       "  <tbody>\n",
       "    <tr>\n",
       "      <th>0</th>\n",
       "      <td>103</td>\n",
       "      <td>Atelier graphique</td>\n",
       "      <td>Schmitt</td>\n",
       "      <td>Carine</td>\n",
       "      <td>40.32.2555</td>\n",
       "      <td>54, rue Royale</td>\n",
       "      <td>Nantes</td>\n",
       "      <td>None</td>\n",
       "      <td>44000</td>\n",
       "      <td>France</td>\n",
       "    </tr>\n",
       "    <tr>\n",
       "      <th>1</th>\n",
       "      <td>119</td>\n",
       "      <td>La Rochelle Gifts</td>\n",
       "      <td>Labrune</td>\n",
       "      <td>Janine</td>\n",
       "      <td>40.67.8555</td>\n",
       "      <td>67, rue des Cinquante Otages</td>\n",
       "      <td>Nantes</td>\n",
       "      <td>None</td>\n",
       "      <td>44000</td>\n",
       "      <td>France</td>\n",
       "    </tr>\n",
       "    <tr>\n",
       "      <th>2</th>\n",
       "      <td>121</td>\n",
       "      <td>Baane Mini Imports</td>\n",
       "      <td>Bergulfsen</td>\n",
       "      <td>Jonas</td>\n",
       "      <td>07-98 9555</td>\n",
       "      <td>Erling Skakkes gate 78</td>\n",
       "      <td>Stavern</td>\n",
       "      <td>None</td>\n",
       "      <td>4110</td>\n",
       "      <td>Norway</td>\n",
       "    </tr>\n",
       "  </tbody>\n",
       "</table>\n",
       "</div>"
      ],
      "text/plain": [
       "   customer_number       customer_name contact_last_name contact_first_name  \\\n",
       "0              103   Atelier graphique           Schmitt            Carine    \n",
       "1              119   La Rochelle Gifts           Labrune            Janine    \n",
       "2              121  Baane Mini Imports        Bergulfsen             Jonas    \n",
       "\n",
       "        phone                 address_line1     city state postal_code country  \n",
       "0  40.32.2555                54, rue Royale   Nantes  None       44000  France  \n",
       "1  40.67.8555  67, rue des Cinquante Otages   Nantes  None       44000  France  \n",
       "2  07-98 9555        Erling Skakkes gate 78  Stavern  None        4110  Norway  "
      ]
     },
     "execution_count": 75,
     "metadata": {},
     "output_type": "execute_result"
    }
   ],
   "source": [
    "orm_to_df(ormq[:3])"
   ]
  },
  {
   "cell_type": "markdown",
   "id": "d0fdfe50",
   "metadata": {},
   "source": [
    "### Exercise 2\n",
    "Use the IN operator to select all the records where Country is NOT \"Norway\" and NOT \"France\"."
   ]
  },
  {
   "cell_type": "code",
   "execution_count": 76,
   "id": "dc48363f",
   "metadata": {},
   "outputs": [
    {
     "name": "stdout",
     "output_type": "stream",
     "text": [
      "Equal ✔️\n"
     ]
    }
   ],
   "source": [
    "sqlq = sql_raw(\"SELECT * FROM customers WHERE country NOT IN ('Norway', 'France')\")\n",
    "ormq = Customers.objects.exclude(country__in=[\"Norway\", \"France\"]).values()\n",
    "equal(sqlq, ormq)"
   ]
  },
  {
   "cell_type": "code",
   "execution_count": 77,
   "id": "22f015af",
   "metadata": {},
   "outputs": [
    {
     "name": "stdout",
     "output_type": "stream",
     "text": [
      "Equal ✔️\n"
     ]
    }
   ],
   "source": [
    "ormq1 = Customers.objects.filter(~Q(country__in=[\"Norway\", \"France\"])).values()\n",
    "equal(sqlq, ormq1)"
   ]
  },
  {
   "cell_type": "code",
   "execution_count": 78,
   "id": "af97125d",
   "metadata": {},
   "outputs": [
    {
     "data": {
      "text/html": [
       "<div>\n",
       "<style scoped>\n",
       "    .dataframe tbody tr th:only-of-type {\n",
       "        vertical-align: middle;\n",
       "    }\n",
       "\n",
       "    .dataframe tbody tr th {\n",
       "        vertical-align: top;\n",
       "    }\n",
       "\n",
       "    .dataframe thead th {\n",
       "        text-align: right;\n",
       "    }\n",
       "</style>\n",
       "<table border=\"1\" class=\"dataframe\">\n",
       "  <thead>\n",
       "    <tr style=\"text-align: right;\">\n",
       "      <th></th>\n",
       "      <th>customer_number</th>\n",
       "      <th>customer_name</th>\n",
       "      <th>contact_last_name</th>\n",
       "      <th>contact_first_name</th>\n",
       "      <th>phone</th>\n",
       "      <th>address_line1</th>\n",
       "      <th>city</th>\n",
       "      <th>state</th>\n",
       "      <th>postal_code</th>\n",
       "      <th>country</th>\n",
       "    </tr>\n",
       "  </thead>\n",
       "  <tbody>\n",
       "    <tr>\n",
       "      <th>0</th>\n",
       "      <td>112</td>\n",
       "      <td>Signal Gift Stores</td>\n",
       "      <td>King</td>\n",
       "      <td>Jean</td>\n",
       "      <td>7025551838</td>\n",
       "      <td>8489 Strong St.</td>\n",
       "      <td>Las Vegas</td>\n",
       "      <td>NV</td>\n",
       "      <td>83030</td>\n",
       "      <td>USA</td>\n",
       "    </tr>\n",
       "    <tr>\n",
       "      <th>1</th>\n",
       "      <td>114</td>\n",
       "      <td>Australian Collectors, Co.</td>\n",
       "      <td>Ferguson</td>\n",
       "      <td>Peter</td>\n",
       "      <td>03 9520 4555</td>\n",
       "      <td>636 St Kilda Road</td>\n",
       "      <td>Melbourne</td>\n",
       "      <td>Victoria</td>\n",
       "      <td>3004</td>\n",
       "      <td>Australia</td>\n",
       "    </tr>\n",
       "    <tr>\n",
       "      <th>2</th>\n",
       "      <td>124</td>\n",
       "      <td>Mini Gifts Distributors Ltd.</td>\n",
       "      <td>Nelson</td>\n",
       "      <td>Susan</td>\n",
       "      <td>4155551450</td>\n",
       "      <td>5677 Strong St.</td>\n",
       "      <td>San Rafael</td>\n",
       "      <td>CA</td>\n",
       "      <td>97562</td>\n",
       "      <td>USA</td>\n",
       "    </tr>\n",
       "  </tbody>\n",
       "</table>\n",
       "</div>"
      ],
      "text/plain": [
       "   customer_number                 customer_name contact_last_name  \\\n",
       "0              112            Signal Gift Stores              King   \n",
       "1              114    Australian Collectors, Co.          Ferguson   \n",
       "2              124  Mini Gifts Distributors Ltd.            Nelson   \n",
       "\n",
       "  contact_first_name         phone      address_line1        city     state  \\\n",
       "0               Jean    7025551838    8489 Strong St.   Las Vegas        NV   \n",
       "1              Peter  03 9520 4555  636 St Kilda Road   Melbourne  Victoria   \n",
       "2              Susan    4155551450    5677 Strong St.  San Rafael        CA   \n",
       "\n",
       "  postal_code    country  \n",
       "0       83030        USA  \n",
       "1        3004  Australia  \n",
       "2       97562        USA  "
      ]
     },
     "execution_count": 78,
     "metadata": {},
     "output_type": "execute_result"
    }
   ],
   "source": [
    "orm_to_df(ormq[:3])"
   ]
  },
  {
   "cell_type": "markdown",
   "id": "8b4c0e30",
   "metadata": {},
   "source": [
    "# BETWEEN\n",
    "### Exercise 1\n",
    "Use the BETWEEN operator to select all the records where the value of the Price column is between 10 and 20."
   ]
  },
  {
   "cell_type": "code",
   "execution_count": 79,
   "id": "79217e39",
   "metadata": {},
   "outputs": [
    {
     "name": "stdout",
     "output_type": "stream",
     "text": [
      "Equal ✔️\n"
     ]
    }
   ],
   "source": [
    "sqlq = sql_raw(\"SELECT * FROM products WHERE buyPrice BETWEEN 10 AND 20;\")\n",
    "ormq = Products.objects.filter(Q(buy_price__gte=10) & Q(buy_price__lte=20)).values()\n",
    "equal(sqlq, ormq)"
   ]
  },
  {
   "cell_type": "code",
   "execution_count": 80,
   "id": "a520833d",
   "metadata": {},
   "outputs": [
    {
     "data": {
      "text/html": [
       "<div>\n",
       "<style scoped>\n",
       "    .dataframe tbody tr th:only-of-type {\n",
       "        vertical-align: middle;\n",
       "    }\n",
       "\n",
       "    .dataframe tbody tr th {\n",
       "        vertical-align: top;\n",
       "    }\n",
       "\n",
       "    .dataframe thead th {\n",
       "        text-align: right;\n",
       "    }\n",
       "</style>\n",
       "<table border=\"1\" class=\"dataframe\">\n",
       "  <thead>\n",
       "    <tr style=\"text-align: right;\">\n",
       "      <th></th>\n",
       "      <th>product_code</th>\n",
       "      <th>product_name</th>\n",
       "      <th>product_scale</th>\n",
       "      <th>product_vendor</th>\n",
       "      <th>product_description</th>\n",
       "      <th>quantity_in_stock</th>\n",
       "      <th>buy_price</th>\n",
       "      <th>msrp</th>\n",
       "    </tr>\n",
       "  </thead>\n",
       "  <tbody>\n",
       "    <tr>\n",
       "      <th>0</th>\n",
       "      <td>S24_2840</td>\n",
       "      <td>1958 Chevy Corvette Limited Edition</td>\n",
       "      <td>1:24</td>\n",
       "      <td>Carousel DieCast Legends</td>\n",
       "      <td>The operating parts of this 1958 Chevy Corvett...</td>\n",
       "      <td>2542</td>\n",
       "      <td>15.91</td>\n",
       "      <td>35.36</td>\n",
       "    </tr>\n",
       "    <tr>\n",
       "      <th>1</th>\n",
       "      <td>S24_2972</td>\n",
       "      <td>1982 Lamborghini Diablo</td>\n",
       "      <td>1:24</td>\n",
       "      <td>Second Gear Diecast</td>\n",
       "      <td>This replica features opening doors, superb de...</td>\n",
       "      <td>7723</td>\n",
       "      <td>16.24</td>\n",
       "      <td>37.76</td>\n",
       "    </tr>\n",
       "  </tbody>\n",
       "</table>\n",
       "</div>"
      ],
      "text/plain": [
       "  product_code                         product_name product_scale  \\\n",
       "0     S24_2840  1958 Chevy Corvette Limited Edition          1:24   \n",
       "1     S24_2972              1982 Lamborghini Diablo          1:24   \n",
       "\n",
       "             product_vendor  \\\n",
       "0  Carousel DieCast Legends   \n",
       "1       Second Gear Diecast   \n",
       "\n",
       "                                 product_description  quantity_in_stock  \\\n",
       "0  The operating parts of this 1958 Chevy Corvett...               2542   \n",
       "1  This replica features opening doors, superb de...               7723   \n",
       "\n",
       "  buy_price   msrp  \n",
       "0     15.91  35.36  \n",
       "1     16.24  37.76  "
      ]
     },
     "execution_count": 80,
     "metadata": {},
     "output_type": "execute_result"
    }
   ],
   "source": [
    "orm_to_df(ormq[:3])"
   ]
  },
  {
   "cell_type": "markdown",
   "id": "8a0a1a9c",
   "metadata": {},
   "source": [
    "### Exercise 2\n",
    "Use the BETWEEN operator to select all the records where the value of the ProductName column is alphabetically between 'Geitost' and 'Pavlova'."
   ]
  },
  {
   "cell_type": "code",
   "execution_count": 81,
   "id": "7a4d9422",
   "metadata": {},
   "outputs": [
    {
     "name": "stdout",
     "output_type": "stream",
     "text": [
      "Equal ✔️\n"
     ]
    }
   ],
   "source": [
    "sqlq = sql_raw(\"SELECT * FROM products WHERE buyPrice NOT BETWEEN 10 AND 20;\")\n",
    "ormq = Products.objects.filter(~Q(buy_price__gte=10) | ~Q(buy_price__lte=20)).values()\n",
    "equal(sqlq, ormq)"
   ]
  },
  {
   "cell_type": "code",
   "execution_count": 82,
   "id": "5c66b038",
   "metadata": {},
   "outputs": [
    {
     "data": {
      "text/html": [
       "<div>\n",
       "<style scoped>\n",
       "    .dataframe tbody tr th:only-of-type {\n",
       "        vertical-align: middle;\n",
       "    }\n",
       "\n",
       "    .dataframe tbody tr th {\n",
       "        vertical-align: top;\n",
       "    }\n",
       "\n",
       "    .dataframe thead th {\n",
       "        text-align: right;\n",
       "    }\n",
       "</style>\n",
       "<table border=\"1\" class=\"dataframe\">\n",
       "  <thead>\n",
       "    <tr style=\"text-align: right;\">\n",
       "      <th></th>\n",
       "      <th>product_code</th>\n",
       "      <th>product_name</th>\n",
       "      <th>product_scale</th>\n",
       "      <th>product_vendor</th>\n",
       "      <th>product_description</th>\n",
       "      <th>quantity_in_stock</th>\n",
       "      <th>buy_price</th>\n",
       "      <th>msrp</th>\n",
       "    </tr>\n",
       "  </thead>\n",
       "  <tbody>\n",
       "    <tr>\n",
       "      <th>0</th>\n",
       "      <td>S10_1678</td>\n",
       "      <td>1969 Harley Davidson Ultimate Chopper</td>\n",
       "      <td>1:10</td>\n",
       "      <td>Min Lin Diecast</td>\n",
       "      <td>This replica features working kickstand, front...</td>\n",
       "      <td>7933</td>\n",
       "      <td>48.81</td>\n",
       "      <td>95.70</td>\n",
       "    </tr>\n",
       "    <tr>\n",
       "      <th>1</th>\n",
       "      <td>S10_1949</td>\n",
       "      <td>1952 Alpine Renault 1300</td>\n",
       "      <td>1:10</td>\n",
       "      <td>Classic Metal Creations</td>\n",
       "      <td>Turnable front wheels; steering function; deta...</td>\n",
       "      <td>7305</td>\n",
       "      <td>98.58</td>\n",
       "      <td>214.30</td>\n",
       "    </tr>\n",
       "    <tr>\n",
       "      <th>2</th>\n",
       "      <td>S10_2016</td>\n",
       "      <td>1996 Moto Guzzi 1100i</td>\n",
       "      <td>1:10</td>\n",
       "      <td>Highway 66 Mini Classics</td>\n",
       "      <td>Official Moto Guzzi logos and insignias, saddl...</td>\n",
       "      <td>6625</td>\n",
       "      <td>68.99</td>\n",
       "      <td>118.94</td>\n",
       "    </tr>\n",
       "  </tbody>\n",
       "</table>\n",
       "</div>"
      ],
      "text/plain": [
       "  product_code                           product_name product_scale  \\\n",
       "0     S10_1678  1969 Harley Davidson Ultimate Chopper          1:10   \n",
       "1     S10_1949               1952 Alpine Renault 1300          1:10   \n",
       "2     S10_2016                  1996 Moto Guzzi 1100i          1:10   \n",
       "\n",
       "             product_vendor  \\\n",
       "0           Min Lin Diecast   \n",
       "1   Classic Metal Creations   \n",
       "2  Highway 66 Mini Classics   \n",
       "\n",
       "                                 product_description  quantity_in_stock  \\\n",
       "0  This replica features working kickstand, front...               7933   \n",
       "1  Turnable front wheels; steering function; deta...               7305   \n",
       "2  Official Moto Guzzi logos and insignias, saddl...               6625   \n",
       "\n",
       "  buy_price    msrp  \n",
       "0     48.81   95.70  \n",
       "1     98.58  214.30  \n",
       "2     68.99  118.94  "
      ]
     },
     "execution_count": 82,
     "metadata": {},
     "output_type": "execute_result"
    }
   ],
   "source": [
    "orm_to_df(ormq[:3])"
   ]
  },
  {
   "cell_type": "markdown",
   "id": "78116f47",
   "metadata": {},
   "source": [
    "### Exercise 3\n",
    "Use the BETWEEN operator to select all the records\n",
    "where the value of the ProductName column is alphabetically between '1904 Buick Runabout' and '1928 Mercedes-Benz SSK'."
   ]
  },
  {
   "cell_type": "code",
   "execution_count": 83,
   "id": "2b6721d3",
   "metadata": {},
   "outputs": [
    {
     "name": "stdout",
     "output_type": "stream",
     "text": [
      "Equal ✔️\n"
     ]
    }
   ],
   "source": [
    "sqlq = sql_raw(\n",
    "    \"SELECT * FROM products WHERE productName BETWEEN '1904 Buick Runabout' AND '1928 Mercedes-Benz SSK';\"\n",
    ")\n",
    "ormq = Products.objects.filter(\n",
    "    Q(product_name__gte=\"1904 Buick Runabout\")\n",
    "    & Q(product_name__lte=\"1928 Mercedes-Benz SSK\")\n",
    ").values()\n",
    "equal(sqlq, ormq)"
   ]
  },
  {
   "cell_type": "code",
   "execution_count": 84,
   "id": "3086c0fc",
   "metadata": {},
   "outputs": [
    {
     "data": {
      "text/html": [
       "<div>\n",
       "<style scoped>\n",
       "    .dataframe tbody tr th:only-of-type {\n",
       "        vertical-align: middle;\n",
       "    }\n",
       "\n",
       "    .dataframe tbody tr th {\n",
       "        vertical-align: top;\n",
       "    }\n",
       "\n",
       "    .dataframe thead th {\n",
       "        text-align: right;\n",
       "    }\n",
       "</style>\n",
       "<table border=\"1\" class=\"dataframe\">\n",
       "  <thead>\n",
       "    <tr style=\"text-align: right;\">\n",
       "      <th></th>\n",
       "      <th>product_code</th>\n",
       "      <th>product_name</th>\n",
       "      <th>product_scale</th>\n",
       "      <th>product_vendor</th>\n",
       "      <th>product_description</th>\n",
       "      <th>quantity_in_stock</th>\n",
       "      <th>buy_price</th>\n",
       "      <th>msrp</th>\n",
       "    </tr>\n",
       "  </thead>\n",
       "  <tbody>\n",
       "    <tr>\n",
       "      <th>0</th>\n",
       "      <td>S18_1749</td>\n",
       "      <td>1917 Grand Touring Sedan</td>\n",
       "      <td>1:18</td>\n",
       "      <td>Welly Diecast Productions</td>\n",
       "      <td>This 1:18 scale replica of the 1917 Grand Tour...</td>\n",
       "      <td>2724</td>\n",
       "      <td>86.70</td>\n",
       "      <td>170.00</td>\n",
       "    </tr>\n",
       "    <tr>\n",
       "      <th>1</th>\n",
       "      <td>S18_2248</td>\n",
       "      <td>1911 Ford Town Car</td>\n",
       "      <td>1:18</td>\n",
       "      <td>Motor City Art Classics</td>\n",
       "      <td>Features opening hood, opening doors, opening ...</td>\n",
       "      <td>540</td>\n",
       "      <td>33.30</td>\n",
       "      <td>60.54</td>\n",
       "    </tr>\n",
       "    <tr>\n",
       "      <th>2</th>\n",
       "      <td>S18_2432</td>\n",
       "      <td>1926 Ford Fire Engine</td>\n",
       "      <td>1:18</td>\n",
       "      <td>Carousel DieCast Legends</td>\n",
       "      <td>Gleaming red handsome appearance. Everything i...</td>\n",
       "      <td>2018</td>\n",
       "      <td>24.92</td>\n",
       "      <td>60.77</td>\n",
       "    </tr>\n",
       "  </tbody>\n",
       "</table>\n",
       "</div>"
      ],
      "text/plain": [
       "  product_code              product_name product_scale  \\\n",
       "0     S18_1749  1917 Grand Touring Sedan          1:18   \n",
       "1     S18_2248        1911 Ford Town Car          1:18   \n",
       "2     S18_2432     1926 Ford Fire Engine          1:18   \n",
       "\n",
       "              product_vendor  \\\n",
       "0  Welly Diecast Productions   \n",
       "1    Motor City Art Classics   \n",
       "2   Carousel DieCast Legends   \n",
       "\n",
       "                                 product_description  quantity_in_stock  \\\n",
       "0  This 1:18 scale replica of the 1917 Grand Tour...               2724   \n",
       "1  Features opening hood, opening doors, opening ...                540   \n",
       "2  Gleaming red handsome appearance. Everything i...               2018   \n",
       "\n",
       "  buy_price    msrp  \n",
       "0     86.70  170.00  \n",
       "1     33.30   60.54  \n",
       "2     24.92   60.77  "
      ]
     },
     "execution_count": 84,
     "metadata": {},
     "output_type": "execute_result"
    }
   ],
   "source": [
    "orm_to_df(ormq[:3])"
   ]
  },
  {
   "cell_type": "markdown",
   "id": "f64cfb52",
   "metadata": {},
   "source": [
    "# ALIAS\n",
    "### Exercise 1\n",
    "When displaying the Customers table, make an ALIAS of the PostalCode column, the column should be called Pno instead."
   ]
  },
  {
   "cell_type": "code",
   "execution_count": 85,
   "id": "88c25b70",
   "metadata": {},
   "outputs": [
    {
     "name": "stdout",
     "output_type": "stream",
     "text": [
      "Equal ✔️\n"
     ]
    }
   ],
   "source": [
    "sqlq = sql_raw(\"SELECT customerName, addressLine1, postalCode pno FROM customers;\")\n",
    "ormq = Customers.objects.values(\"customer_name\", \"address_line1\", pno=F(\"postal_code\"))\n",
    "equal(sqlq, ormq)"
   ]
  },
  {
   "cell_type": "code",
   "execution_count": 86,
   "id": "f088e80b",
   "metadata": {},
   "outputs": [
    {
     "data": {
      "text/html": [
       "<div>\n",
       "<style scoped>\n",
       "    .dataframe tbody tr th:only-of-type {\n",
       "        vertical-align: middle;\n",
       "    }\n",
       "\n",
       "    .dataframe tbody tr th {\n",
       "        vertical-align: top;\n",
       "    }\n",
       "\n",
       "    .dataframe thead th {\n",
       "        text-align: right;\n",
       "    }\n",
       "</style>\n",
       "<table border=\"1\" class=\"dataframe\">\n",
       "  <thead>\n",
       "    <tr style=\"text-align: right;\">\n",
       "      <th></th>\n",
       "      <th>customer_name</th>\n",
       "      <th>address_line1</th>\n",
       "      <th>pno</th>\n",
       "    </tr>\n",
       "  </thead>\n",
       "  <tbody>\n",
       "    <tr>\n",
       "      <th>0</th>\n",
       "      <td>Atelier graphique</td>\n",
       "      <td>54, rue Royale</td>\n",
       "      <td>44000</td>\n",
       "    </tr>\n",
       "    <tr>\n",
       "      <th>1</th>\n",
       "      <td>Signal Gift Stores</td>\n",
       "      <td>8489 Strong St.</td>\n",
       "      <td>83030</td>\n",
       "    </tr>\n",
       "    <tr>\n",
       "      <th>2</th>\n",
       "      <td>Australian Collectors, Co.</td>\n",
       "      <td>636 St Kilda Road</td>\n",
       "      <td>3004</td>\n",
       "    </tr>\n",
       "  </tbody>\n",
       "</table>\n",
       "</div>"
      ],
      "text/plain": [
       "                customer_name      address_line1    pno\n",
       "0           Atelier graphique     54, rue Royale  44000\n",
       "1          Signal Gift Stores    8489 Strong St.  83030\n",
       "2  Australian Collectors, Co.  636 St Kilda Road   3004"
      ]
     },
     "execution_count": 86,
     "metadata": {},
     "output_type": "execute_result"
    }
   ],
   "source": [
    "orm_to_df(ormq[:3])"
   ]
  },
  {
   "cell_type": "markdown",
   "id": "50a4e8b3",
   "metadata": {},
   "source": [
    "### Exercise 2\n",
    "When displaying the Customers table, refer to the table as Consumers instead of Customers."
   ]
  },
  {
   "cell_type": "code",
   "execution_count": 87,
   "id": "4f9c3359",
   "metadata": {},
   "outputs": [],
   "source": [
    "# Couldn't find an answer"
   ]
  },
  {
   "cell_type": "markdown",
   "id": "c4716778",
   "metadata": {},
   "source": [
    "# JOIN\n",
    "### Exercise 1\n",
    "Insert the missing parts in the JOIN clause to join the two tables Orders and Customers,\n",
    "using the CustomerID field in both tables as the relationship between the two tables."
   ]
  },
  {
   "cell_type": "code",
   "execution_count": 88,
   "id": "34525f56",
   "metadata": {},
   "outputs": [
    {
     "name": "stdout",
     "output_type": "stream",
     "text": [
      "(326, 16)\n"
     ]
    },
    {
     "data": {
      "text/html": [
       "<div>\n",
       "<style scoped>\n",
       "    .dataframe tbody tr th:only-of-type {\n",
       "        vertical-align: middle;\n",
       "    }\n",
       "\n",
       "    .dataframe tbody tr th {\n",
       "        vertical-align: top;\n",
       "    }\n",
       "\n",
       "    .dataframe thead th {\n",
       "        text-align: right;\n",
       "    }\n",
       "</style>\n",
       "<table border=\"1\" class=\"dataframe\">\n",
       "  <thead>\n",
       "    <tr style=\"text-align: right;\">\n",
       "      <th></th>\n",
       "      <th>orderNumber</th>\n",
       "      <th>orderDate</th>\n",
       "      <th>requiredDate</th>\n",
       "      <th>shippedDate</th>\n",
       "      <th>status</th>\n",
       "      <th>comments</th>\n",
       "      <th>customerNumber</th>\n",
       "      <th>customerName</th>\n",
       "      <th>contactLastName</th>\n",
       "      <th>contactFirstName</th>\n",
       "      <th>phone</th>\n",
       "      <th>addressLine1</th>\n",
       "      <th>city</th>\n",
       "      <th>state</th>\n",
       "      <th>postalCode</th>\n",
       "      <th>country</th>\n",
       "    </tr>\n",
       "  </thead>\n",
       "  <tbody>\n",
       "    <tr>\n",
       "      <th>0</th>\n",
       "      <td>10100</td>\n",
       "      <td>2003-01-06</td>\n",
       "      <td>2003-01-13</td>\n",
       "      <td>2003-01-10</td>\n",
       "      <td>Shipped</td>\n",
       "      <td>None</td>\n",
       "      <td>363</td>\n",
       "      <td>Online Diecast Creations Co.</td>\n",
       "      <td>Young</td>\n",
       "      <td>Dorothy</td>\n",
       "      <td>6035558647</td>\n",
       "      <td>2304 Long Airport Avenue</td>\n",
       "      <td>Nashua</td>\n",
       "      <td>NH</td>\n",
       "      <td>62005</td>\n",
       "      <td>USA</td>\n",
       "    </tr>\n",
       "    <tr>\n",
       "      <th>1</th>\n",
       "      <td>10101</td>\n",
       "      <td>2003-01-09</td>\n",
       "      <td>2003-01-18</td>\n",
       "      <td>2003-01-11</td>\n",
       "      <td>Shipped</td>\n",
       "      <td>Check on availability.</td>\n",
       "      <td>128</td>\n",
       "      <td>Blauer See Auto, Co.</td>\n",
       "      <td>Keitel</td>\n",
       "      <td>Roland</td>\n",
       "      <td>+49 69 66 90 2555</td>\n",
       "      <td>Lyonerstr. 34</td>\n",
       "      <td>Frankfurt</td>\n",
       "      <td>None</td>\n",
       "      <td>60528</td>\n",
       "      <td>Germany</td>\n",
       "    </tr>\n",
       "  </tbody>\n",
       "</table>\n",
       "</div>"
      ],
      "text/plain": [
       "   orderNumber   orderDate requiredDate shippedDate   status  \\\n",
       "0        10100  2003-01-06   2003-01-13  2003-01-10  Shipped   \n",
       "1        10101  2003-01-09   2003-01-18  2003-01-11  Shipped   \n",
       "\n",
       "                 comments  customerNumber                  customerName  \\\n",
       "0                    None             363  Online Diecast Creations Co.   \n",
       "1  Check on availability.             128          Blauer See Auto, Co.   \n",
       "\n",
       "  contactLastName contactFirstName              phone  \\\n",
       "0           Young          Dorothy         6035558647   \n",
       "1          Keitel           Roland  +49 69 66 90 2555   \n",
       "\n",
       "               addressLine1       city state postalCode  country  \n",
       "0  2304 Long Airport Avenue     Nashua    NH      62005      USA  \n",
       "1             Lyonerstr. 34  Frankfurt  None      60528  Germany  "
      ]
     },
     "execution_count": 88,
     "metadata": {},
     "output_type": "execute_result"
    }
   ],
   "source": [
    "q = \"\"\"\n",
    "Select * FROM orders o\n",
    "LEFT OUTER JOIN customers c\n",
    "on o.customerNumber == c.customerNumber\n",
    "\"\"\"\n",
    "sqlq = sql_raw(q)\n",
    "ji = sql_to_df(sqlq)\n",
    "print(ji.shape)\n",
    "ji.head(2)"
   ]
  },
  {
   "cell_type": "code",
   "execution_count": 89,
   "id": "86f8985c",
   "metadata": {},
   "outputs": [],
   "source": [
    "def get_all_join_fields(lh_class, rh_class, fk):\n",
    "    lh_class_fields = [field.name for field in lh_class._meta.local_fields]\n",
    "    rh_class_fields = {\n",
    "        field.name: F(f\"{fk}__{field.name}\")\n",
    "        for field in rh_class._meta.local_fields\n",
    "        if field.name not in lh_class_fields\n",
    "    }\n",
    "    return lh_class_fields, rh_class_fields"
   ]
  },
  {
   "cell_type": "code",
   "execution_count": 90,
   "id": "ef51da92",
   "metadata": {},
   "outputs": [],
   "source": [
    "lh_fields, rh_field_dict = get_all_join_fields(Orders, Customers, \"customer_number\")\n",
    "# this will perform an inner join because customer_number is non nullable\n",
    "ormq = Orders.objects.select_related(\"customer_number\").values(\n",
    "    *lh_fields, **rh_field_dict\n",
    ")"
   ]
  },
  {
   "cell_type": "code",
   "execution_count": 91,
   "id": "d636f7f7",
   "metadata": {},
   "outputs": [
    {
     "name": "stdout",
     "output_type": "stream",
     "text": [
      "Equal ✔️\n"
     ]
    }
   ],
   "source": [
    "equal(sqlq, ormq)"
   ]
  },
  {
   "cell_type": "code",
   "execution_count": 92,
   "id": "5da5e551",
   "metadata": {},
   "outputs": [
    {
     "data": {
      "text/html": [
       "<div>\n",
       "<style scoped>\n",
       "    .dataframe tbody tr th:only-of-type {\n",
       "        vertical-align: middle;\n",
       "    }\n",
       "\n",
       "    .dataframe tbody tr th {\n",
       "        vertical-align: top;\n",
       "    }\n",
       "\n",
       "    .dataframe thead th {\n",
       "        text-align: right;\n",
       "    }\n",
       "</style>\n",
       "<table border=\"1\" class=\"dataframe\">\n",
       "  <thead>\n",
       "    <tr style=\"text-align: right;\">\n",
       "      <th></th>\n",
       "      <th>order_number</th>\n",
       "      <th>order_date</th>\n",
       "      <th>required_date</th>\n",
       "      <th>shipped_date</th>\n",
       "      <th>status</th>\n",
       "      <th>comments</th>\n",
       "      <th>customer_number</th>\n",
       "      <th>customer_name</th>\n",
       "      <th>contact_last_name</th>\n",
       "      <th>contact_first_name</th>\n",
       "      <th>phone</th>\n",
       "      <th>address_line1</th>\n",
       "      <th>city</th>\n",
       "      <th>state</th>\n",
       "      <th>postal_code</th>\n",
       "      <th>country</th>\n",
       "    </tr>\n",
       "  </thead>\n",
       "  <tbody>\n",
       "    <tr>\n",
       "      <th>0</th>\n",
       "      <td>10100</td>\n",
       "      <td>2003-01-06</td>\n",
       "      <td>2003-01-13</td>\n",
       "      <td>2003-01-10</td>\n",
       "      <td>Shipped</td>\n",
       "      <td>None</td>\n",
       "      <td>363</td>\n",
       "      <td>Online Diecast Creations Co.</td>\n",
       "      <td>Young</td>\n",
       "      <td>Dorothy</td>\n",
       "      <td>6035558647</td>\n",
       "      <td>2304 Long Airport Avenue</td>\n",
       "      <td>Nashua</td>\n",
       "      <td>NH</td>\n",
       "      <td>62005</td>\n",
       "      <td>USA</td>\n",
       "    </tr>\n",
       "    <tr>\n",
       "      <th>1</th>\n",
       "      <td>10101</td>\n",
       "      <td>2003-01-09</td>\n",
       "      <td>2003-01-18</td>\n",
       "      <td>2003-01-11</td>\n",
       "      <td>Shipped</td>\n",
       "      <td>Check on availability.</td>\n",
       "      <td>128</td>\n",
       "      <td>Blauer See Auto, Co.</td>\n",
       "      <td>Keitel</td>\n",
       "      <td>Roland</td>\n",
       "      <td>+49 69 66 90 2555</td>\n",
       "      <td>Lyonerstr. 34</td>\n",
       "      <td>Frankfurt</td>\n",
       "      <td>None</td>\n",
       "      <td>60528</td>\n",
       "      <td>Germany</td>\n",
       "    </tr>\n",
       "    <tr>\n",
       "      <th>2</th>\n",
       "      <td>10102</td>\n",
       "      <td>2003-01-10</td>\n",
       "      <td>2003-01-18</td>\n",
       "      <td>2003-01-14</td>\n",
       "      <td>Shipped</td>\n",
       "      <td>None</td>\n",
       "      <td>181</td>\n",
       "      <td>Vitachrome Inc.</td>\n",
       "      <td>Frick</td>\n",
       "      <td>Michael</td>\n",
       "      <td>2125551500</td>\n",
       "      <td>2678 Kingston Rd.</td>\n",
       "      <td>NYC</td>\n",
       "      <td>NY</td>\n",
       "      <td>10022</td>\n",
       "      <td>USA</td>\n",
       "    </tr>\n",
       "  </tbody>\n",
       "</table>\n",
       "</div>"
      ],
      "text/plain": [
       "   order_number  order_date required_date shipped_date   status  \\\n",
       "0         10100  2003-01-06    2003-01-13   2003-01-10  Shipped   \n",
       "1         10101  2003-01-09    2003-01-18   2003-01-11  Shipped   \n",
       "2         10102  2003-01-10    2003-01-18   2003-01-14  Shipped   \n",
       "\n",
       "                 comments  customer_number                 customer_name  \\\n",
       "0                    None              363  Online Diecast Creations Co.   \n",
       "1  Check on availability.              128          Blauer See Auto, Co.   \n",
       "2                    None              181               Vitachrome Inc.   \n",
       "\n",
       "  contact_last_name contact_first_name              phone  \\\n",
       "0             Young            Dorothy         6035558647   \n",
       "1            Keitel             Roland  +49 69 66 90 2555   \n",
       "2             Frick            Michael         2125551500   \n",
       "\n",
       "              address_line1       city state postal_code  country  \n",
       "0  2304 Long Airport Avenue     Nashua    NH       62005      USA  \n",
       "1             Lyonerstr. 34  Frankfurt  None       60528  Germany  \n",
       "2         2678 Kingston Rd.        NYC    NY       10022      USA  "
      ]
     },
     "execution_count": 92,
     "metadata": {},
     "output_type": "execute_result"
    }
   ],
   "source": [
    "orm_to_df(ormq[:3])"
   ]
  },
  {
   "cell_type": "markdown",
   "id": "decbf78a",
   "metadata": {},
   "source": [
    "### Exercise 2\n",
    "Choose the correct JOIN clause to select all records from the two tables where there is a match in both tables."
   ]
  },
  {
   "cell_type": "code",
   "execution_count": 93,
   "id": "bb270947",
   "metadata": {},
   "outputs": [
    {
     "name": "stdout",
     "output_type": "stream",
     "text": [
      "(326, 16)\n"
     ]
    },
    {
     "data": {
      "text/html": [
       "<div>\n",
       "<style scoped>\n",
       "    .dataframe tbody tr th:only-of-type {\n",
       "        vertical-align: middle;\n",
       "    }\n",
       "\n",
       "    .dataframe tbody tr th {\n",
       "        vertical-align: top;\n",
       "    }\n",
       "\n",
       "    .dataframe thead th {\n",
       "        text-align: right;\n",
       "    }\n",
       "</style>\n",
       "<table border=\"1\" class=\"dataframe\">\n",
       "  <thead>\n",
       "    <tr style=\"text-align: right;\">\n",
       "      <th></th>\n",
       "      <th>orderNumber</th>\n",
       "      <th>orderDate</th>\n",
       "      <th>requiredDate</th>\n",
       "      <th>shippedDate</th>\n",
       "      <th>status</th>\n",
       "      <th>comments</th>\n",
       "      <th>customerNumber</th>\n",
       "      <th>customerName</th>\n",
       "      <th>contactLastName</th>\n",
       "      <th>contactFirstName</th>\n",
       "      <th>phone</th>\n",
       "      <th>addressLine1</th>\n",
       "      <th>city</th>\n",
       "      <th>state</th>\n",
       "      <th>postalCode</th>\n",
       "      <th>country</th>\n",
       "    </tr>\n",
       "  </thead>\n",
       "  <tbody>\n",
       "    <tr>\n",
       "      <th>0</th>\n",
       "      <td>10100</td>\n",
       "      <td>2003-01-06</td>\n",
       "      <td>2003-01-13</td>\n",
       "      <td>2003-01-10</td>\n",
       "      <td>Shipped</td>\n",
       "      <td>None</td>\n",
       "      <td>363</td>\n",
       "      <td>Online Diecast Creations Co.</td>\n",
       "      <td>Young</td>\n",
       "      <td>Dorothy</td>\n",
       "      <td>6035558647</td>\n",
       "      <td>2304 Long Airport Avenue</td>\n",
       "      <td>Nashua</td>\n",
       "      <td>NH</td>\n",
       "      <td>62005</td>\n",
       "      <td>USA</td>\n",
       "    </tr>\n",
       "    <tr>\n",
       "      <th>1</th>\n",
       "      <td>10101</td>\n",
       "      <td>2003-01-09</td>\n",
       "      <td>2003-01-18</td>\n",
       "      <td>2003-01-11</td>\n",
       "      <td>Shipped</td>\n",
       "      <td>Check on availability.</td>\n",
       "      <td>128</td>\n",
       "      <td>Blauer See Auto, Co.</td>\n",
       "      <td>Keitel</td>\n",
       "      <td>Roland</td>\n",
       "      <td>+49 69 66 90 2555</td>\n",
       "      <td>Lyonerstr. 34</td>\n",
       "      <td>Frankfurt</td>\n",
       "      <td>None</td>\n",
       "      <td>60528</td>\n",
       "      <td>Germany</td>\n",
       "    </tr>\n",
       "  </tbody>\n",
       "</table>\n",
       "</div>"
      ],
      "text/plain": [
       "   orderNumber   orderDate requiredDate shippedDate   status  \\\n",
       "0        10100  2003-01-06   2003-01-13  2003-01-10  Shipped   \n",
       "1        10101  2003-01-09   2003-01-18  2003-01-11  Shipped   \n",
       "\n",
       "                 comments  customerNumber                  customerName  \\\n",
       "0                    None             363  Online Diecast Creations Co.   \n",
       "1  Check on availability.             128          Blauer See Auto, Co.   \n",
       "\n",
       "  contactLastName contactFirstName              phone  \\\n",
       "0           Young          Dorothy         6035558647   \n",
       "1          Keitel           Roland  +49 69 66 90 2555   \n",
       "\n",
       "               addressLine1       city state postalCode  country  \n",
       "0  2304 Long Airport Avenue     Nashua    NH      62005      USA  \n",
       "1             Lyonerstr. 34  Frankfurt  None      60528  Germany  "
      ]
     },
     "execution_count": 93,
     "metadata": {},
     "output_type": "execute_result"
    }
   ],
   "source": [
    "q = \"\"\"\n",
    "Select * FROM orders o\n",
    "INNER JOIN customers c\n",
    "on o.customerNumber == c.customerNumber\n",
    "\"\"\"\n",
    "sqlq = sql_raw(q)\n",
    "ji = sql_to_df(sqlq)\n",
    "print(ji.shape)\n",
    "ji.head(2)"
   ]
  },
  {
   "cell_type": "code",
   "execution_count": 94,
   "id": "4abfbc94",
   "metadata": {},
   "outputs": [],
   "source": [
    "lh_fields, rh_field_dict = get_all_join_fields(Orders, Customers, \"customer_number\")\n",
    "ormq = (\n",
    "    Orders.objects.filter(customer_number__isnull=False)\n",
    "    .select_related(\"customer_number\")\n",
    "    .values(*lh_fields, **rh_field_dict)\n",
    ")"
   ]
  },
  {
   "cell_type": "code",
   "execution_count": 95,
   "id": "1d0e1527",
   "metadata": {},
   "outputs": [
    {
     "name": "stdout",
     "output_type": "stream",
     "text": [
      "Equal ✔️\n"
     ]
    }
   ],
   "source": [
    "equal(sqlq, ormq)"
   ]
  },
  {
   "cell_type": "code",
   "execution_count": 96,
   "id": "a1a972a7",
   "metadata": {},
   "outputs": [
    {
     "data": {
      "text/html": [
       "<div>\n",
       "<style scoped>\n",
       "    .dataframe tbody tr th:only-of-type {\n",
       "        vertical-align: middle;\n",
       "    }\n",
       "\n",
       "    .dataframe tbody tr th {\n",
       "        vertical-align: top;\n",
       "    }\n",
       "\n",
       "    .dataframe thead th {\n",
       "        text-align: right;\n",
       "    }\n",
       "</style>\n",
       "<table border=\"1\" class=\"dataframe\">\n",
       "  <thead>\n",
       "    <tr style=\"text-align: right;\">\n",
       "      <th></th>\n",
       "      <th>order_number</th>\n",
       "      <th>order_date</th>\n",
       "      <th>required_date</th>\n",
       "      <th>shipped_date</th>\n",
       "      <th>status</th>\n",
       "      <th>comments</th>\n",
       "      <th>customer_number</th>\n",
       "      <th>customer_name</th>\n",
       "      <th>contact_last_name</th>\n",
       "      <th>contact_first_name</th>\n",
       "      <th>phone</th>\n",
       "      <th>address_line1</th>\n",
       "      <th>city</th>\n",
       "      <th>state</th>\n",
       "      <th>postal_code</th>\n",
       "      <th>country</th>\n",
       "    </tr>\n",
       "  </thead>\n",
       "  <tbody>\n",
       "    <tr>\n",
       "      <th>0</th>\n",
       "      <td>10100</td>\n",
       "      <td>2003-01-06</td>\n",
       "      <td>2003-01-13</td>\n",
       "      <td>2003-01-10</td>\n",
       "      <td>Shipped</td>\n",
       "      <td>None</td>\n",
       "      <td>363</td>\n",
       "      <td>Online Diecast Creations Co.</td>\n",
       "      <td>Young</td>\n",
       "      <td>Dorothy</td>\n",
       "      <td>6035558647</td>\n",
       "      <td>2304 Long Airport Avenue</td>\n",
       "      <td>Nashua</td>\n",
       "      <td>NH</td>\n",
       "      <td>62005</td>\n",
       "      <td>USA</td>\n",
       "    </tr>\n",
       "    <tr>\n",
       "      <th>1</th>\n",
       "      <td>10101</td>\n",
       "      <td>2003-01-09</td>\n",
       "      <td>2003-01-18</td>\n",
       "      <td>2003-01-11</td>\n",
       "      <td>Shipped</td>\n",
       "      <td>Check on availability.</td>\n",
       "      <td>128</td>\n",
       "      <td>Blauer See Auto, Co.</td>\n",
       "      <td>Keitel</td>\n",
       "      <td>Roland</td>\n",
       "      <td>+49 69 66 90 2555</td>\n",
       "      <td>Lyonerstr. 34</td>\n",
       "      <td>Frankfurt</td>\n",
       "      <td>None</td>\n",
       "      <td>60528</td>\n",
       "      <td>Germany</td>\n",
       "    </tr>\n",
       "    <tr>\n",
       "      <th>2</th>\n",
       "      <td>10102</td>\n",
       "      <td>2003-01-10</td>\n",
       "      <td>2003-01-18</td>\n",
       "      <td>2003-01-14</td>\n",
       "      <td>Shipped</td>\n",
       "      <td>None</td>\n",
       "      <td>181</td>\n",
       "      <td>Vitachrome Inc.</td>\n",
       "      <td>Frick</td>\n",
       "      <td>Michael</td>\n",
       "      <td>2125551500</td>\n",
       "      <td>2678 Kingston Rd.</td>\n",
       "      <td>NYC</td>\n",
       "      <td>NY</td>\n",
       "      <td>10022</td>\n",
       "      <td>USA</td>\n",
       "    </tr>\n",
       "  </tbody>\n",
       "</table>\n",
       "</div>"
      ],
      "text/plain": [
       "   order_number  order_date required_date shipped_date   status  \\\n",
       "0         10100  2003-01-06    2003-01-13   2003-01-10  Shipped   \n",
       "1         10101  2003-01-09    2003-01-18   2003-01-11  Shipped   \n",
       "2         10102  2003-01-10    2003-01-18   2003-01-14  Shipped   \n",
       "\n",
       "                 comments  customer_number                 customer_name  \\\n",
       "0                    None              363  Online Diecast Creations Co.   \n",
       "1  Check on availability.              128          Blauer See Auto, Co.   \n",
       "2                    None              181               Vitachrome Inc.   \n",
       "\n",
       "  contact_last_name contact_first_name              phone  \\\n",
       "0             Young            Dorothy         6035558647   \n",
       "1            Keitel             Roland  +49 69 66 90 2555   \n",
       "2             Frick            Michael         2125551500   \n",
       "\n",
       "              address_line1       city state postal_code  country  \n",
       "0  2304 Long Airport Avenue     Nashua    NH       62005      USA  \n",
       "1             Lyonerstr. 34  Frankfurt  None       60528  Germany  \n",
       "2         2678 Kingston Rd.        NYC    NY       10022      USA  "
      ]
     },
     "execution_count": 96,
     "metadata": {},
     "output_type": "execute_result"
    }
   ],
   "source": [
    "orm_to_df(ormq[:3])"
   ]
  },
  {
   "cell_type": "markdown",
   "id": "0b58a511",
   "metadata": {},
   "source": [
    "### Exercise 3\n",
    "Choose the correct JOIN clause to select all the records from the Customers table plus all the matches in the Orders table."
   ]
  },
  {
   "cell_type": "code",
   "execution_count": 97,
   "id": "c0465a35",
   "metadata": {},
   "outputs": [
    {
     "name": "stdout",
     "output_type": "stream",
     "text": [
      "(350, 16)\n"
     ]
    },
    {
     "data": {
      "text/html": [
       "<div>\n",
       "<style scoped>\n",
       "    .dataframe tbody tr th:only-of-type {\n",
       "        vertical-align: middle;\n",
       "    }\n",
       "\n",
       "    .dataframe tbody tr th {\n",
       "        vertical-align: top;\n",
       "    }\n",
       "\n",
       "    .dataframe thead th {\n",
       "        text-align: right;\n",
       "    }\n",
       "</style>\n",
       "<table border=\"1\" class=\"dataframe\">\n",
       "  <thead>\n",
       "    <tr style=\"text-align: right;\">\n",
       "      <th></th>\n",
       "      <th>orderNumber</th>\n",
       "      <th>orderDate</th>\n",
       "      <th>requiredDate</th>\n",
       "      <th>shippedDate</th>\n",
       "      <th>status</th>\n",
       "      <th>comments</th>\n",
       "      <th>customerNumber</th>\n",
       "      <th>customerName</th>\n",
       "      <th>contactLastName</th>\n",
       "      <th>contactFirstName</th>\n",
       "      <th>phone</th>\n",
       "      <th>addressLine1</th>\n",
       "      <th>city</th>\n",
       "      <th>state</th>\n",
       "      <th>postalCode</th>\n",
       "      <th>country</th>\n",
       "    </tr>\n",
       "  </thead>\n",
       "  <tbody>\n",
       "    <tr>\n",
       "      <th>0</th>\n",
       "      <td>10100.0</td>\n",
       "      <td>2003-01-06</td>\n",
       "      <td>2003-01-13</td>\n",
       "      <td>2003-01-10</td>\n",
       "      <td>Shipped</td>\n",
       "      <td>None</td>\n",
       "      <td>363</td>\n",
       "      <td>Online Diecast Creations Co.</td>\n",
       "      <td>Young</td>\n",
       "      <td>Dorothy</td>\n",
       "      <td>6035558647</td>\n",
       "      <td>2304 Long Airport Avenue</td>\n",
       "      <td>Nashua</td>\n",
       "      <td>NH</td>\n",
       "      <td>62005</td>\n",
       "      <td>USA</td>\n",
       "    </tr>\n",
       "    <tr>\n",
       "      <th>1</th>\n",
       "      <td>10101.0</td>\n",
       "      <td>2003-01-09</td>\n",
       "      <td>2003-01-18</td>\n",
       "      <td>2003-01-11</td>\n",
       "      <td>Shipped</td>\n",
       "      <td>Check on availability.</td>\n",
       "      <td>128</td>\n",
       "      <td>Blauer See Auto, Co.</td>\n",
       "      <td>Keitel</td>\n",
       "      <td>Roland</td>\n",
       "      <td>+49 69 66 90 2555</td>\n",
       "      <td>Lyonerstr. 34</td>\n",
       "      <td>Frankfurt</td>\n",
       "      <td>None</td>\n",
       "      <td>60528</td>\n",
       "      <td>Germany</td>\n",
       "    </tr>\n",
       "  </tbody>\n",
       "</table>\n",
       "</div>"
      ],
      "text/plain": [
       "   orderNumber   orderDate requiredDate shippedDate   status  \\\n",
       "0      10100.0  2003-01-06   2003-01-13  2003-01-10  Shipped   \n",
       "1      10101.0  2003-01-09   2003-01-18  2003-01-11  Shipped   \n",
       "\n",
       "                 comments  customerNumber                  customerName  \\\n",
       "0                    None             363  Online Diecast Creations Co.   \n",
       "1  Check on availability.             128          Blauer See Auto, Co.   \n",
       "\n",
       "  contactLastName contactFirstName              phone  \\\n",
       "0           Young          Dorothy         6035558647   \n",
       "1          Keitel           Roland  +49 69 66 90 2555   \n",
       "\n",
       "               addressLine1       city state postalCode  country  \n",
       "0  2304 Long Airport Avenue     Nashua    NH      62005      USA  \n",
       "1             Lyonerstr. 34  Frankfurt  None      60528  Germany  "
      ]
     },
     "execution_count": 97,
     "metadata": {},
     "output_type": "execute_result"
    }
   ],
   "source": [
    "q = \"\"\"\n",
    "Select * FROM orders o\n",
    "RIGHT OUTER JOIN customers c\n",
    "on c.customerNumber == o.customerNumber\n",
    "\"\"\"\n",
    "sqlq = sql_raw(q)\n",
    "ji = sql_to_df(sqlq)\n",
    "print(ji.shape)\n",
    "ji.head(2)"
   ]
  },
  {
   "cell_type": "code",
   "execution_count": 98,
   "id": "aee157f4",
   "metadata": {},
   "outputs": [],
   "source": [
    "# Couldnt find any proper right join in djorm\n",
    "lh_fields, rh_field_dict = get_all_join_fields(Customers, Orders, \"orders\")\n",
    "ormq = (\n",
    "    Customers.objects.select_related(\"orders\")\n",
    "    .order_by(F(\"orders__order_number\").asc(nulls_last=True))\n",
    "    .values(*lh_fields, **rh_field_dict)\n",
    ")\n",
    "ormdf = orm_to_df(ormq)"
   ]
  },
  {
   "cell_type": "code",
   "execution_count": 99,
   "id": "dac2c842",
   "metadata": {},
   "outputs": [
    {
     "name": "stdout",
     "output_type": "stream",
     "text": [
      "Equal ✔️\n"
     ]
    }
   ],
   "source": [
    "equal(sqlq, ormq)"
   ]
  },
  {
   "cell_type": "code",
   "execution_count": 100,
   "id": "e8d501c6",
   "metadata": {},
   "outputs": [
    {
     "data": {
      "text/html": [
       "<div>\n",
       "<style scoped>\n",
       "    .dataframe tbody tr th:only-of-type {\n",
       "        vertical-align: middle;\n",
       "    }\n",
       "\n",
       "    .dataframe tbody tr th {\n",
       "        vertical-align: top;\n",
       "    }\n",
       "\n",
       "    .dataframe thead th {\n",
       "        text-align: right;\n",
       "    }\n",
       "</style>\n",
       "<table border=\"1\" class=\"dataframe\">\n",
       "  <thead>\n",
       "    <tr style=\"text-align: right;\">\n",
       "      <th></th>\n",
       "      <th>customer_number</th>\n",
       "      <th>customer_name</th>\n",
       "      <th>contact_last_name</th>\n",
       "      <th>contact_first_name</th>\n",
       "      <th>phone</th>\n",
       "      <th>address_line1</th>\n",
       "      <th>city</th>\n",
       "      <th>state</th>\n",
       "      <th>postal_code</th>\n",
       "      <th>country</th>\n",
       "      <th>order_number</th>\n",
       "      <th>order_date</th>\n",
       "      <th>required_date</th>\n",
       "      <th>shipped_date</th>\n",
       "      <th>status</th>\n",
       "      <th>comments</th>\n",
       "    </tr>\n",
       "  </thead>\n",
       "  <tbody>\n",
       "    <tr>\n",
       "      <th>0</th>\n",
       "      <td>363</td>\n",
       "      <td>Online Diecast Creations Co.</td>\n",
       "      <td>Young</td>\n",
       "      <td>Dorothy</td>\n",
       "      <td>6035558647</td>\n",
       "      <td>2304 Long Airport Avenue</td>\n",
       "      <td>Nashua</td>\n",
       "      <td>NH</td>\n",
       "      <td>62005</td>\n",
       "      <td>USA</td>\n",
       "      <td>10100</td>\n",
       "      <td>2003-01-06</td>\n",
       "      <td>2003-01-13</td>\n",
       "      <td>2003-01-10</td>\n",
       "      <td>Shipped</td>\n",
       "      <td>None</td>\n",
       "    </tr>\n",
       "    <tr>\n",
       "      <th>1</th>\n",
       "      <td>128</td>\n",
       "      <td>Blauer See Auto, Co.</td>\n",
       "      <td>Keitel</td>\n",
       "      <td>Roland</td>\n",
       "      <td>+49 69 66 90 2555</td>\n",
       "      <td>Lyonerstr. 34</td>\n",
       "      <td>Frankfurt</td>\n",
       "      <td>None</td>\n",
       "      <td>60528</td>\n",
       "      <td>Germany</td>\n",
       "      <td>10101</td>\n",
       "      <td>2003-01-09</td>\n",
       "      <td>2003-01-18</td>\n",
       "      <td>2003-01-11</td>\n",
       "      <td>Shipped</td>\n",
       "      <td>Check on availability.</td>\n",
       "    </tr>\n",
       "    <tr>\n",
       "      <th>2</th>\n",
       "      <td>181</td>\n",
       "      <td>Vitachrome Inc.</td>\n",
       "      <td>Frick</td>\n",
       "      <td>Michael</td>\n",
       "      <td>2125551500</td>\n",
       "      <td>2678 Kingston Rd.</td>\n",
       "      <td>NYC</td>\n",
       "      <td>NY</td>\n",
       "      <td>10022</td>\n",
       "      <td>USA</td>\n",
       "      <td>10102</td>\n",
       "      <td>2003-01-10</td>\n",
       "      <td>2003-01-18</td>\n",
       "      <td>2003-01-14</td>\n",
       "      <td>Shipped</td>\n",
       "      <td>None</td>\n",
       "    </tr>\n",
       "  </tbody>\n",
       "</table>\n",
       "</div>"
      ],
      "text/plain": [
       "   customer_number                 customer_name contact_last_name  \\\n",
       "0              363  Online Diecast Creations Co.             Young   \n",
       "1              128          Blauer See Auto, Co.            Keitel   \n",
       "2              181               Vitachrome Inc.             Frick   \n",
       "\n",
       "  contact_first_name              phone             address_line1       city  \\\n",
       "0            Dorothy         6035558647  2304 Long Airport Avenue     Nashua   \n",
       "1             Roland  +49 69 66 90 2555             Lyonerstr. 34  Frankfurt   \n",
       "2            Michael         2125551500         2678 Kingston Rd.        NYC   \n",
       "\n",
       "  state postal_code  country  order_number  order_date required_date  \\\n",
       "0    NH       62005      USA         10100  2003-01-06    2003-01-13   \n",
       "1  None       60528  Germany         10101  2003-01-09    2003-01-18   \n",
       "2    NY       10022      USA         10102  2003-01-10    2003-01-18   \n",
       "\n",
       "  shipped_date   status                comments  \n",
       "0   2003-01-10  Shipped                    None  \n",
       "1   2003-01-11  Shipped  Check on availability.  \n",
       "2   2003-01-14  Shipped                    None  "
      ]
     },
     "execution_count": 100,
     "metadata": {},
     "output_type": "execute_result"
    }
   ],
   "source": [
    "orm_to_df(ormq[:3])"
   ]
  },
  {
   "cell_type": "markdown",
   "id": "01fd0cbd",
   "metadata": {},
   "source": [
    "# GROUP BY\n",
    "### Exercise 1\n",
    "List the number of customers in each country."
   ]
  },
  {
   "cell_type": "code",
   "execution_count": 101,
   "id": "aa0af9d4",
   "metadata": {},
   "outputs": [
    {
     "name": "stdout",
     "output_type": "stream",
     "text": [
      "Equal ✔️\n"
     ]
    }
   ],
   "source": [
    "sqlq = sql_raw(\"SELECT count(customerNumber) as cnt FROM  customers GROUP BY country;\")\n",
    "ormq = Customers.objects.values(\"country\").annotate(cnt=Count(\"country\")).values(\"cnt\")\n",
    "equal(sqlq, ormq)"
   ]
  },
  {
   "cell_type": "code",
   "execution_count": 102,
   "id": "8104584d",
   "metadata": {},
   "outputs": [
    {
     "data": {
      "text/html": [
       "<div>\n",
       "<style scoped>\n",
       "    .dataframe tbody tr th:only-of-type {\n",
       "        vertical-align: middle;\n",
       "    }\n",
       "\n",
       "    .dataframe tbody tr th {\n",
       "        vertical-align: top;\n",
       "    }\n",
       "\n",
       "    .dataframe thead th {\n",
       "        text-align: right;\n",
       "    }\n",
       "</style>\n",
       "<table border=\"1\" class=\"dataframe\">\n",
       "  <thead>\n",
       "    <tr style=\"text-align: right;\">\n",
       "      <th></th>\n",
       "      <th>cnt</th>\n",
       "    </tr>\n",
       "  </thead>\n",
       "  <tbody>\n",
       "    <tr>\n",
       "      <th>0</th>\n",
       "      <td>5</td>\n",
       "    </tr>\n",
       "    <tr>\n",
       "      <th>1</th>\n",
       "      <td>2</td>\n",
       "    </tr>\n",
       "    <tr>\n",
       "      <th>2</th>\n",
       "      <td>2</td>\n",
       "    </tr>\n",
       "  </tbody>\n",
       "</table>\n",
       "</div>"
      ],
      "text/plain": [
       "   cnt\n",
       "0    5\n",
       "1    2\n",
       "2    2"
      ]
     },
     "execution_count": 102,
     "metadata": {},
     "output_type": "execute_result"
    }
   ],
   "source": [
    "orm_to_df(ormq[:3])"
   ]
  },
  {
   "cell_type": "markdown",
   "id": "348d52ae",
   "metadata": {},
   "source": [
    "### Exercise 2\n",
    "List the number of customers in each country, ordered by the country with the most customers first."
   ]
  },
  {
   "cell_type": "code",
   "execution_count": 105,
   "id": "4d0c22a0",
   "metadata": {},
   "outputs": [
    {
     "name": "stdout",
     "output_type": "stream",
     "text": [
      "Equal ✔️\n"
     ]
    }
   ],
   "source": [
    "sqlq = sql_raw(\n",
    "    \"SELECT country, count(customerNumber) as cnt FROM customers GROUP BY country ORDER BY count(customerNumber) desc;\"\n",
    ")\n",
    "ormq = (\n",
    "    Customers.objects.values(\"country\")\n",
    "    .annotate(cnt=Count(\"country\"))\n",
    "    .order_by(\"-cnt\")\n",
    "    .values(\"country\", \"cnt\")\n",
    ")\n",
    "equal(sqlq, ormq)"
   ]
  },
  {
   "cell_type": "code",
   "execution_count": 106,
   "id": "74e0274d",
   "metadata": {},
   "outputs": [
    {
     "data": {
      "text/html": [
       "<div>\n",
       "<style scoped>\n",
       "    .dataframe tbody tr th:only-of-type {\n",
       "        vertical-align: middle;\n",
       "    }\n",
       "\n",
       "    .dataframe tbody tr th {\n",
       "        vertical-align: top;\n",
       "    }\n",
       "\n",
       "    .dataframe thead th {\n",
       "        text-align: right;\n",
       "    }\n",
       "</style>\n",
       "<table border=\"1\" class=\"dataframe\">\n",
       "  <thead>\n",
       "    <tr style=\"text-align: right;\">\n",
       "      <th></th>\n",
       "      <th>country</th>\n",
       "      <th>cnt</th>\n",
       "    </tr>\n",
       "  </thead>\n",
       "  <tbody>\n",
       "    <tr>\n",
       "      <th>0</th>\n",
       "      <td>USA</td>\n",
       "      <td>36</td>\n",
       "    </tr>\n",
       "    <tr>\n",
       "      <th>1</th>\n",
       "      <td>Germany</td>\n",
       "      <td>13</td>\n",
       "    </tr>\n",
       "    <tr>\n",
       "      <th>2</th>\n",
       "      <td>France</td>\n",
       "      <td>12</td>\n",
       "    </tr>\n",
       "  </tbody>\n",
       "</table>\n",
       "</div>"
      ],
      "text/plain": [
       "   country  cnt\n",
       "0      USA   36\n",
       "1  Germany   13\n",
       "2   France   12"
      ]
     },
     "execution_count": 106,
     "metadata": {},
     "output_type": "execute_result"
    }
   ],
   "source": [
    "orm_to_df(ormq[:3])"
   ]
  },
  {
   "cell_type": "code",
   "execution_count": null,
   "id": "1f084f2f",
   "metadata": {},
   "outputs": [],
   "source": []
  }
 ],
 "metadata": {
  "kernelspec": {
   "display_name": "Python 3 (ipykernel)",
   "language": "python",
   "name": "python3"
  },
  "language_info": {
   "codemirror_mode": {
    "name": "ipython",
    "version": 3
   },
   "file_extension": ".py",
   "mimetype": "text/x-python",
   "name": "python",
   "nbconvert_exporter": "python",
   "pygments_lexer": "ipython3",
   "version": "3.9.16"
  }
 },
 "nbformat": 4,
 "nbformat_minor": 5
}
