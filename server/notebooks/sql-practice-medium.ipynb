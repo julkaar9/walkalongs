{
 "cells": [
  {
   "cell_type": "code",
   "execution_count": 4,
   "id": "079dd83c",
   "metadata": {},
   "outputs": [],
   "source": [
    "import os\n",
    "\n",
    "os.environ[\"DJANGO_ALLOW_ASYNC_UNSAFE\"] = \"true\"\n",
    "from utils import * "
   ]
  },
  {
   "cell_type": "code",
   "execution_count": 5,
   "id": "adb90216",
   "metadata": {},
   "outputs": [],
   "source": [
    "from django.db.models import (\n",
    "    Q,\n",
    "    F,\n",
    "    Case,\n",
    "    When,\n",
    "    Count,\n",
    "    Func,\n",
    "    Min,\n",
    "    Max,\n",
    "    Sum,\n",
    "    Avg,\n",
    "    Value,\n",
    "    OuterRef,\n",
    "    Subquery,\n",
    "    CharField,\n",
    ")\n",
    "from django.db.models.functions import Concat, Cast, Round, Length, Upper, Lower\n",
    "from django.db import connection\n",
    "from customer_db.models import Provinces, Patients, Doctors, Admissions"
   ]
  },
  {
   "cell_type": "code",
   "execution_count": 4,
   "id": "ffc1967c",
   "metadata": {},
   "outputs": [],
   "source": [
    "def orm_to_df(record: any) -> pd.DataFrame:\n",
    "    try:\n",
    "        iter(record)\n",
    "    except:\n",
    "        record = [record]\n",
    "    if isinstance(record, dict):\n",
    "        record = [record]\n",
    "    df = pd.DataFrame.from_records(record)\n",
    "    print(df.to_markdown())"
   ]
  },
  {
   "cell_type": "code",
   "execution_count": 6,
   "id": "a979da30",
   "metadata": {},
   "outputs": [],
   "source": [
    "admission_fields = [\n",
    "    \"id\",\n",
    "    \"patient_id\",\n",
    "    \"admission_date\",\n",
    "    \"discharge_date\",\n",
    "    \"diagnosis\",\n",
    "    \"attending_doctor_id\",\n",
    "]"
   ]
  },
  {
   "cell_type": "code",
   "execution_count": 7,
   "id": "ff151cc6",
   "metadata": {},
   "outputs": [],
   "source": [
    "class NonAggrCount(Count):\n",
    "    \"\"\"\n",
    "    This aggregation will not trigger a group by\n",
    "    \"\"\"\n",
    "\n",
    "    contains_aggregate = False\n",
    "\n",
    "\n",
    "class NonAggrSum(Sum):\n",
    "    contains_aggregate = False"
   ]
  },
  {
   "cell_type": "markdown",
   "id": "7e25677c",
   "metadata": {},
   "source": [
    "## Medium 1\n",
    "Show unique birth years from patients and order them by ascending."
   ]
  },
  {
   "cell_type": "code",
   "execution_count": 8,
   "id": "a26aaf08",
   "metadata": {},
   "outputs": [],
   "source": [
    "# Use YEAR(birth_date) for most databases\n",
    "qstr = \"\"\"\n",
    "SELECT\n",
    "  DISTINCT strftime('%Y', birth_date) birth_year\n",
    "FROM patients\n",
    "ORDER BY birth_year;\n",
    "\"\"\"\n",
    "sqlq = sql_raw(qstr)"
   ]
  },
  {
   "cell_type": "code",
   "execution_count": 9,
   "id": "fa0745da",
   "metadata": {},
   "outputs": [
    {
     "name": "stdout",
     "output_type": "stream",
     "text": [
      "Equal ✔️\n",
      "SELECT DISTINCT CAST(django_date_extract(year, \"patients\".\"birth_date\") AS text) AS \"birth_year\"\n",
      "FROM \"patients\"\n",
      "ORDER BY 1 ASC\n"
     ]
    }
   ],
   "source": [
    "ormq = (\n",
    "    Patients.objects.annotate(birth_year=Cast(F(\"birth_date__year\"), CharField()))\n",
    "    .distinct()\n",
    "    .order_by(\"birth_year\")\n",
    "    .values(\"birth_year\")\n",
    ")\n",
    "equal(sqlq, ormq)\n",
    "print_sql(ormq)"
   ]
  },
  {
   "cell_type": "code",
   "execution_count": 10,
   "id": "46a59da7",
   "metadata": {},
   "outputs": [
    {
     "data": {
      "text/html": [
       "<div>\n",
       "<style scoped>\n",
       "    .dataframe tbody tr th:only-of-type {\n",
       "        vertical-align: middle;\n",
       "    }\n",
       "\n",
       "    .dataframe tbody tr th {\n",
       "        vertical-align: top;\n",
       "    }\n",
       "\n",
       "    .dataframe thead th {\n",
       "        text-align: right;\n",
       "    }\n",
       "</style>\n",
       "<table border=\"1\" class=\"dataframe\">\n",
       "  <thead>\n",
       "    <tr style=\"text-align: right;\">\n",
       "      <th></th>\n",
       "      <th>birth_year</th>\n",
       "    </tr>\n",
       "  </thead>\n",
       "  <tbody>\n",
       "    <tr>\n",
       "      <th>0</th>\n",
       "      <td>1975</td>\n",
       "    </tr>\n",
       "    <tr>\n",
       "      <th>1</th>\n",
       "      <td>1976</td>\n",
       "    </tr>\n",
       "    <tr>\n",
       "      <th>2</th>\n",
       "      <td>1977</td>\n",
       "    </tr>\n",
       "  </tbody>\n",
       "</table>\n",
       "</div>"
      ],
      "text/plain": [
       "  birth_year\n",
       "0       1975\n",
       "1       1976\n",
       "2       1977"
      ]
     },
     "execution_count": 10,
     "metadata": {},
     "output_type": "execute_result"
    }
   ],
   "source": [
    "orm_to_df(ormq[:3])"
   ]
  },
  {
   "cell_type": "markdown",
   "id": "05167feb",
   "metadata": {},
   "source": [
    "## Medium 2\n",
    "Show unique first names from the patients table which only occurs once in the list.\n",
    "\n",
    "For example, if two or more people are named 'John' in the first_name column then don't include their name in the output list. If only 1 person is named 'Leo' then include them in the output."
   ]
  },
  {
   "cell_type": "code",
   "execution_count": 11,
   "id": "f3d46825",
   "metadata": {},
   "outputs": [],
   "source": [
    "qstr = \"\"\"\n",
    "SELECT first_name\n",
    "FROM patients\n",
    "GROUP BY first_name\n",
    "HAVING COUNT(first_name) = 1\n",
    "\"\"\"\n",
    "sqlq = sql_raw(qstr)"
   ]
  },
  {
   "cell_type": "code",
   "execution_count": 12,
   "id": "771ad168",
   "metadata": {},
   "outputs": [
    {
     "name": "stdout",
     "output_type": "stream",
     "text": [
      "Equal ✔️\n",
      "SELECT \"patients\".\"first_name\"\n",
      "FROM \"patients\"\n",
      "GROUP BY \"patients\".\"first_name\"\n",
      "HAVING COUNT(\"patients\".\"first_name\") = 1\n"
     ]
    }
   ],
   "source": [
    "ormq = (\n",
    "    Patients.objects.values(\"first_name\")\n",
    "    .annotate(occurance=Count(\"first_name\"))\n",
    "    .filter(occurance=1)\n",
    "    .values(\"first_name\")\n",
    ")\n",
    "equal(sqlq, ormq)\n",
    "print_sql(ormq)"
   ]
  },
  {
   "cell_type": "code",
   "execution_count": 13,
   "id": "38223bf4",
   "metadata": {},
   "outputs": [
    {
     "data": {
      "text/html": [
       "<div>\n",
       "<style scoped>\n",
       "    .dataframe tbody tr th:only-of-type {\n",
       "        vertical-align: middle;\n",
       "    }\n",
       "\n",
       "    .dataframe tbody tr th {\n",
       "        vertical-align: top;\n",
       "    }\n",
       "\n",
       "    .dataframe thead th {\n",
       "        text-align: right;\n",
       "    }\n",
       "</style>\n",
       "<table border=\"1\" class=\"dataframe\">\n",
       "  <thead>\n",
       "    <tr style=\"text-align: right;\">\n",
       "      <th></th>\n",
       "      <th>first_name</th>\n",
       "    </tr>\n",
       "  </thead>\n",
       "  <tbody>\n",
       "    <tr>\n",
       "      <th>0</th>\n",
       "      <td>Abigail</td>\n",
       "    </tr>\n",
       "    <tr>\n",
       "      <th>1</th>\n",
       "      <td>Alicia</td>\n",
       "    </tr>\n",
       "    <tr>\n",
       "      <th>2</th>\n",
       "      <td>Allison</td>\n",
       "    </tr>\n",
       "  </tbody>\n",
       "</table>\n",
       "</div>"
      ],
      "text/plain": [
       "  first_name\n",
       "0    Abigail\n",
       "1     Alicia\n",
       "2    Allison"
      ]
     },
     "execution_count": 13,
     "metadata": {},
     "output_type": "execute_result"
    }
   ],
   "source": [
    "orm_to_df(ormq[:3])"
   ]
  },
  {
   "cell_type": "markdown",
   "id": "198bcd91",
   "metadata": {},
   "source": [
    "## Medium 3\n",
    "Show patient_id and first_name from patients where their first_name start and ends with 's' and is at least 6 characters long.\n",
    "We will do start and ends with 'n' and is at least 6 characters long."
   ]
  },
  {
   "cell_type": "code",
   "execution_count": 14,
   "id": "c8b3ece0",
   "metadata": {},
   "outputs": [],
   "source": [
    "qstr = \"\"\"\n",
    "SELECT\n",
    "  patient_id,\n",
    "  first_name\n",
    "FROM patients\n",
    "WHERE first_name LIKe \"n____%n\"\n",
    "\"\"\"\n",
    "sqlq = sql_raw(qstr)"
   ]
  },
  {
   "cell_type": "code",
   "execution_count": 15,
   "id": "45d84a66",
   "metadata": {},
   "outputs": [
    {
     "name": "stdout",
     "output_type": "stream",
     "text": [
      "Equal ✔️\n",
      "SELECT \"patients\".\"first_name\",\n",
      "       \"patients\".\"patient_id\" AS \"patient_id\"\n",
      "FROM \"patients\"\n",
      "WHERE \"patients\".\"first_name\" REGEXP (?i)^n\\w{4,}n$\n"
     ]
    }
   ],
   "source": [
    "ormq = Patients.objects.filter(first_name__regex=r\"(?i)^n\\w{4,}n$\").values(\n",
    "    \"first_name\", patient_id=F(\"id\")\n",
    ")\n",
    "equal(sqlq, ormq)\n",
    "print_sql(ormq)"
   ]
  },
  {
   "cell_type": "code",
   "execution_count": 16,
   "id": "f14125d8",
   "metadata": {},
   "outputs": [
    {
     "data": {
      "text/html": [
       "<div>\n",
       "<style scoped>\n",
       "    .dataframe tbody tr th:only-of-type {\n",
       "        vertical-align: middle;\n",
       "    }\n",
       "\n",
       "    .dataframe tbody tr th {\n",
       "        vertical-align: top;\n",
       "    }\n",
       "\n",
       "    .dataframe thead th {\n",
       "        text-align: right;\n",
       "    }\n",
       "</style>\n",
       "<table border=\"1\" class=\"dataframe\">\n",
       "  <thead>\n",
       "    <tr style=\"text-align: right;\">\n",
       "      <th></th>\n",
       "      <th>first_name</th>\n",
       "      <th>patient_id</th>\n",
       "    </tr>\n",
       "  </thead>\n",
       "  <tbody>\n",
       "    <tr>\n",
       "      <th>0</th>\n",
       "      <td>Nathan</td>\n",
       "      <td>54</td>\n",
       "    </tr>\n",
       "    <tr>\n",
       "      <th>1</th>\n",
       "      <td>Nathan</td>\n",
       "      <td>100</td>\n",
       "    </tr>\n",
       "  </tbody>\n",
       "</table>\n",
       "</div>"
      ],
      "text/plain": [
       "  first_name  patient_id\n",
       "0     Nathan          54\n",
       "1     Nathan         100"
      ]
     },
     "execution_count": 16,
     "metadata": {},
     "output_type": "execute_result"
    }
   ],
   "source": [
    "orm_to_df(ormq[:3])"
   ]
  },
  {
   "cell_type": "markdown",
   "id": "54667979",
   "metadata": {},
   "source": [
    "## Medium 4\n",
    "Show patient_id, first_name, last_name from patients whos diagnosis is 'Dementia'.\n",
    "We will do Diabetes.\n",
    "Primary diagnosis is stored in the admissions table."
   ]
  },
  {
   "cell_type": "code",
   "execution_count": 17,
   "id": "ffcf38de",
   "metadata": {},
   "outputs": [],
   "source": [
    "qstr = \"\"\"\n",
    "SELECT\n",
    "  p.patient_id,\n",
    "  first_name,\n",
    "  last_name\n",
    "FROM patients p\n",
    "  INNER JOIN admissions a ON p.patient_id = a.patient_id\n",
    "WHERE diagnosis = 'Diabetes'\n",
    "\"\"\"\n",
    "sqlq = sql_raw(qstr)"
   ]
  },
  {
   "cell_type": "code",
   "execution_count": 18,
   "id": "8891900d",
   "metadata": {},
   "outputs": [
    {
     "name": "stdout",
     "output_type": "stream",
     "text": [
      "Equal ✔️\n",
      "SELECT \"admissions\".\"patient_id\",\n",
      "       \"patients\".\"first_name\" AS \"first_name\",\n",
      "       \"patients\".\"last_name\" AS \"last_name\"\n",
      "FROM \"admissions\"\n",
      "INNER JOIN \"patients\" ON (\"admissions\".\"patient_id\" = \"patients\".\"patient_id\")\n",
      "WHERE \"admissions\".\"diagnosis\" = Diabetes\n"
     ]
    }
   ],
   "source": [
    "ormq = Admissions.objects.filter(diagnosis=\"Diabetes\").values(\n",
    "    \"patient_id\", first_name=F(\"patient__first_name\"), last_name=F(\"patient__last_name\")\n",
    ")\n",
    "equal(sqlq, ormq)\n",
    "print_sql(ormq)"
   ]
  },
  {
   "cell_type": "code",
   "execution_count": 19,
   "id": "d19f2386",
   "metadata": {},
   "outputs": [],
   "source": [
    "# Note the result of the ORM query in the next cell is equivalent to that of the last cell,\n",
    "# except for the ordering.\n",
    "\n",
    "qstr = \"\"\"\n",
    "SELECT\n",
    "  p.patient_id,\n",
    "  first_name,\n",
    "  last_name\n",
    "FROM patients p\n",
    "  INNER JOIN admissions a ON p.patient_id = a.patient_id\n",
    "WHERE diagnosis = 'Diabetes'\n",
    "ORDER BY p.patient_id\n",
    "\"\"\"\n",
    "sqlq = sql_raw(qstr)"
   ]
  },
  {
   "cell_type": "code",
   "execution_count": 20,
   "id": "f800076f",
   "metadata": {},
   "outputs": [
    {
     "name": "stdout",
     "output_type": "stream",
     "text": [
      "Equal ✔️\n",
      "SELECT \"patients\".\"first_name\",\n",
      "       \"patients\".\"last_name\",\n",
      "       \"patients\".\"patient_id\" AS \"patient_id\"\n",
      "FROM \"patients\"\n",
      "WHERE \"patients\".\"patient_id\" IN\n",
      "    (SELECT DISTINCT U0.\"patient_id\"\n",
      "     FROM \"admissions\" U0\n",
      "     WHERE U0.\"diagnosis\" = Diabetes)\n",
      "ORDER BY 3 ASC\n"
     ]
    }
   ],
   "source": [
    "diabetic_patients = (\n",
    "    Admissions.objects.filter(diagnosis=\"Diabetes\").values_list(\"patient_id\").distinct()\n",
    ")\n",
    "ormq1 = (\n",
    "    Patients.objects.filter(id__in=diabetic_patients)\n",
    "    .values(\"first_name\", \"last_name\", patient_id=F(\"id\"))\n",
    "    .order_by(\"patient_id\")\n",
    "    .values(\"patient_id\", \"first_name\", \"last_name\")\n",
    ")\n",
    "equal(sqlq, ormq1)\n",
    "print_sql(ormq1)"
   ]
  },
  {
   "cell_type": "code",
   "execution_count": 21,
   "id": "9fcbee81",
   "metadata": {},
   "outputs": [
    {
     "data": {
      "text/html": [
       "<div>\n",
       "<style scoped>\n",
       "    .dataframe tbody tr th:only-of-type {\n",
       "        vertical-align: middle;\n",
       "    }\n",
       "\n",
       "    .dataframe tbody tr th {\n",
       "        vertical-align: top;\n",
       "    }\n",
       "\n",
       "    .dataframe thead th {\n",
       "        text-align: right;\n",
       "    }\n",
       "</style>\n",
       "<table border=\"1\" class=\"dataframe\">\n",
       "  <thead>\n",
       "    <tr style=\"text-align: right;\">\n",
       "      <th></th>\n",
       "      <th>patient_id</th>\n",
       "      <th>first_name</th>\n",
       "      <th>last_name</th>\n",
       "    </tr>\n",
       "  </thead>\n",
       "  <tbody>\n",
       "    <tr>\n",
       "      <th>0</th>\n",
       "      <td>6</td>\n",
       "      <td>Gavin</td>\n",
       "      <td>Bryant</td>\n",
       "    </tr>\n",
       "    <tr>\n",
       "      <th>1</th>\n",
       "      <td>17</td>\n",
       "      <td>Emily</td>\n",
       "      <td>Tran</td>\n",
       "    </tr>\n",
       "    <tr>\n",
       "      <th>2</th>\n",
       "      <td>27</td>\n",
       "      <td>Allison</td>\n",
       "      <td>Rogers</td>\n",
       "    </tr>\n",
       "  </tbody>\n",
       "</table>\n",
       "</div>"
      ],
      "text/plain": [
       "   patient_id first_name last_name\n",
       "0           6      Gavin    Bryant\n",
       "1          17      Emily      Tran\n",
       "2          27    Allison    Rogers"
      ]
     },
     "execution_count": 21,
     "metadata": {},
     "output_type": "execute_result"
    }
   ],
   "source": [
    "orm_to_df(ormq[:3])"
   ]
  },
  {
   "cell_type": "markdown",
   "id": "6e78bd24",
   "metadata": {},
   "source": [
    "## Medium 5\n",
    "Display every patient's first_name.\n",
    "Order the list by the length of each name and then by alphbetically"
   ]
  },
  {
   "cell_type": "code",
   "execution_count": 22,
   "id": "75fd0db8",
   "metadata": {},
   "outputs": [],
   "source": [
    "qstr = \"\"\"\n",
    "SELECT\n",
    "  first_name\n",
    "FROM patients p\n",
    "ORDER BY\n",
    "  LENGTH(first_name),\n",
    "  first_name;\n",
    "\"\"\"\n",
    "sqlq = sql_raw(qstr)"
   ]
  },
  {
   "cell_type": "code",
   "execution_count": 23,
   "id": "737b0a09",
   "metadata": {},
   "outputs": [
    {
     "name": "stdout",
     "output_type": "stream",
     "text": [
      "Equal ✔️\n",
      "SELECT \"patients\".\"first_name\"\n",
      "FROM \"patients\"\n",
      "ORDER BY LENGTH(\"patients\".\"first_name\") ASC, \"patients\".\"first_name\" ASC\n"
     ]
    }
   ],
   "source": [
    "ormq = Patients.objects.order_by(Length(\"first_name\"), \"first_name\").values(\n",
    "    \"first_name\"\n",
    ")\n",
    "equal(sqlq, ormq)\n",
    "print_sql(ormq)"
   ]
  },
  {
   "cell_type": "code",
   "execution_count": 24,
   "id": "74a5ae47",
   "metadata": {},
   "outputs": [
    {
     "data": {
      "text/html": [
       "<div>\n",
       "<style scoped>\n",
       "    .dataframe tbody tr th:only-of-type {\n",
       "        vertical-align: middle;\n",
       "    }\n",
       "\n",
       "    .dataframe tbody tr th {\n",
       "        vertical-align: top;\n",
       "    }\n",
       "\n",
       "    .dataframe thead th {\n",
       "        text-align: right;\n",
       "    }\n",
       "</style>\n",
       "<table border=\"1\" class=\"dataframe\">\n",
       "  <thead>\n",
       "    <tr style=\"text-align: right;\">\n",
       "      <th></th>\n",
       "      <th>first_name</th>\n",
       "    </tr>\n",
       "  </thead>\n",
       "  <tbody>\n",
       "    <tr>\n",
       "      <th>0</th>\n",
       "      <td>Eli</td>\n",
       "    </tr>\n",
       "    <tr>\n",
       "      <th>1</th>\n",
       "      <td>Eli</td>\n",
       "    </tr>\n",
       "    <tr>\n",
       "      <th>2</th>\n",
       "      <td>Eli</td>\n",
       "    </tr>\n",
       "  </tbody>\n",
       "</table>\n",
       "</div>"
      ],
      "text/plain": [
       "  first_name\n",
       "0        Eli\n",
       "1        Eli\n",
       "2        Eli"
      ]
     },
     "execution_count": 24,
     "metadata": {},
     "output_type": "execute_result"
    }
   ],
   "source": [
    "orm_to_df(ormq[:3])"
   ]
  },
  {
   "cell_type": "markdown",
   "id": "152fd1d2",
   "metadata": {},
   "source": [
    "## Medium 6\n",
    "Show the total amount of male patients and the total amount of female patients in the patients table.\n",
    "Display the two results in the same row."
   ]
  },
  {
   "cell_type": "code",
   "execution_count": 25,
   "id": "8ac00c72",
   "metadata": {},
   "outputs": [],
   "source": [
    "qstr = \"\"\"\n",
    "SELECT (\n",
    "    SELECT COUNT(gender)\n",
    "    FROM patients\n",
    "    WHERE gender = 'M'\n",
    "  ) AS male, (\n",
    "    SELECT COUNT(gender)\n",
    "    FROM patients\n",
    "    WHERE gender = 'F'\n",
    "  ) AS female;\n",
    "\"\"\"\n",
    "sqlq = sql_raw(qstr)"
   ]
  },
  {
   "cell_type": "code",
   "execution_count": 26,
   "id": "df843675",
   "metadata": {
    "scrolled": true
   },
   "outputs": [
    {
     "name": "stdout",
     "output_type": "stream",
     "text": [
      "Equal ✔️\n",
      "SELECT\n",
      "  (SELECT COUNT(U0.\"gender\") AS \"M_count\"\n",
      "   FROM \"patients\" U0\n",
      "   WHERE U0.\"gender\" = M) AS \"male\",\n",
      "\n",
      "  (SELECT COUNT(U0.\"gender\") AS \"F_count\"\n",
      "   FROM \"patients\" U0\n",
      "   WHERE U0.\"gender\" = F) AS \"female\"\n",
      "FROM \"patients\"\n",
      "LIMIT 1\n"
     ]
    }
   ],
   "source": [
    "male_subquery, female_subquery = [\n",
    "    Patients.objects.filter(gender=g)\n",
    "    .annotate(**{f\"{g}_count\": Func(F(\"gender\"), function=\"COUNT\")})\n",
    "    .values(f\"{g}_count\")\n",
    "    for g in [\"M\", \"F\"]\n",
    "]\n",
    "\n",
    "ormq = Patients.objects.annotate(\n",
    "    male=Subquery(male_subquery), female=Subquery(female_subquery)\n",
    ").values(\"male\", \"female\")[:1]\n",
    "equal(sqlq, ormq)\n",
    "print_sql(ormq)"
   ]
  },
  {
   "cell_type": "code",
   "execution_count": 28,
   "id": "8c5be5a3",
   "metadata": {},
   "outputs": [
    {
     "name": "stdout",
     "output_type": "stream",
     "text": [
      "Equal ✔️\n",
      "SELECT SUM(\"patients\".\"gender\" = M) AS \"male\",\n",
      "       SUM(\"patients\".\"gender\" = F) AS \"female\"\n",
      "FROM \"patients\"\n"
     ]
    }
   ],
   "source": [
    "ormq1 = Patients.objects.annotate(\n",
    "    male=NonAggrSum(Q(gender=\"M\")),\n",
    "    female=NonAggrSum(Q(gender=\"F\")),\n",
    ").values(\"male\", \"female\")\n",
    "equal(sqlq, ormq1)\n",
    "print_sql(ormq1)"
   ]
  },
  {
   "cell_type": "code",
   "execution_count": 29,
   "id": "b73b84b8",
   "metadata": {},
   "outputs": [
    {
     "name": "stdout",
     "output_type": "stream",
     "text": [
      "Equal ✔️\n",
      "SELECT SUM(CASE\n",
      "               WHEN \"patients\".\"gender\" = M THEN 1\n",
      "               ELSE NULL\n",
      "           END) AS \"male\",\n",
      "       SUM(CASE\n",
      "               WHEN \"patients\".\"gender\" = F THEN 1\n",
      "               ELSE NULL\n",
      "           END) AS \"female\"\n",
      "FROM \"patients\"\n"
     ]
    }
   ],
   "source": [
    "ormq2 = Patients.objects.annotate(\n",
    "    male=NonAggrSum(Case(When(gender=\"M\", then=1))),\n",
    "    female=NonAggrSum(Case(When(gender=\"F\", then=1))),\n",
    ").values(\"male\", \"female\")\n",
    "equal(sqlq, ormq2)\n",
    "print_sql(ormq2)"
   ]
  },
  {
   "cell_type": "code",
   "execution_count": 30,
   "id": "1c7e646f",
   "metadata": {},
   "outputs": [
    {
     "data": {
      "text/html": [
       "<div>\n",
       "<style scoped>\n",
       "    .dataframe tbody tr th:only-of-type {\n",
       "        vertical-align: middle;\n",
       "    }\n",
       "\n",
       "    .dataframe tbody tr th {\n",
       "        vertical-align: top;\n",
       "    }\n",
       "\n",
       "    .dataframe thead th {\n",
       "        text-align: right;\n",
       "    }\n",
       "</style>\n",
       "<table border=\"1\" class=\"dataframe\">\n",
       "  <thead>\n",
       "    <tr style=\"text-align: right;\">\n",
       "      <th></th>\n",
       "      <th>male</th>\n",
       "      <th>female</th>\n",
       "    </tr>\n",
       "  </thead>\n",
       "  <tbody>\n",
       "    <tr>\n",
       "      <th>0</th>\n",
       "      <td>50</td>\n",
       "      <td>51</td>\n",
       "    </tr>\n",
       "  </tbody>\n",
       "</table>\n",
       "</div>"
      ],
      "text/plain": [
       "   male  female\n",
       "0    50      51"
      ]
     },
     "execution_count": 30,
     "metadata": {},
     "output_type": "execute_result"
    }
   ],
   "source": [
    "orm_to_df(ormq)"
   ]
  },
  {
   "cell_type": "markdown",
   "id": "0a262c83",
   "metadata": {},
   "source": [
    "## Medium 7\n",
    "Show first and last name, allergies from patients which have allergies to either 'Penicillin' or 'Morphine'. Show results ordered ascending by allergies then by first_name then by last_name."
   ]
  },
  {
   "cell_type": "code",
   "execution_count": 31,
   "id": "843ceb1c",
   "metadata": {},
   "outputs": [],
   "source": [
    "qstr = \"\"\"\n",
    "SELECT\n",
    "  first_name,\n",
    "  last_name,\n",
    "  allergies\n",
    "FROM patients\n",
    "WHERE\n",
    "  allergies IN ('Penicillin', 'Morphine')\n",
    "ORDER BY\n",
    "  allergies,\n",
    "  first_name,\n",
    "  last_name;\n",
    "\"\"\"\n",
    "sqlq = sql_raw(qstr)"
   ]
  },
  {
   "cell_type": "code",
   "execution_count": 32,
   "id": "b092986f",
   "metadata": {},
   "outputs": [
    {
     "name": "stdout",
     "output_type": "stream",
     "text": [
      "Equal ✔️\n",
      "SELECT \"patients\".\"first_name\",\n",
      "       \"patients\".\"last_name\",\n",
      "       \"patients\".\"allergies\"\n",
      "FROM \"patients\"\n",
      "WHERE \"patients\".\"allergies\" IN (Penicillin,\n",
      "                                 Morphine)\n",
      "ORDER BY \"patients\".\"allergies\" ASC,\n",
      "         \"patients\".\"first_name\" ASC,\n",
      "         \"patients\".\"last_name\" ASC\n"
     ]
    }
   ],
   "source": [
    "ormq = (\n",
    "    Patients.objects.filter(allergies__in=[\"Penicillin\", \"Morphine\"])\n",
    "    .values(\"first_name\", \"last_name\", \"allergies\")\n",
    "    .order_by(\"allergies\", \"first_name\", \"last_name\")\n",
    ")\n",
    "equal(sqlq, ormq)\n",
    "print_sql(ormq)"
   ]
  },
  {
   "cell_type": "code",
   "execution_count": 33,
   "id": "68972556",
   "metadata": {},
   "outputs": [
    {
     "data": {
      "text/html": [
       "<div>\n",
       "<style scoped>\n",
       "    .dataframe tbody tr th:only-of-type {\n",
       "        vertical-align: middle;\n",
       "    }\n",
       "\n",
       "    .dataframe tbody tr th {\n",
       "        vertical-align: top;\n",
       "    }\n",
       "\n",
       "    .dataframe thead th {\n",
       "        text-align: right;\n",
       "    }\n",
       "</style>\n",
       "<table border=\"1\" class=\"dataframe\">\n",
       "  <thead>\n",
       "    <tr style=\"text-align: right;\">\n",
       "      <th></th>\n",
       "      <th>first_name</th>\n",
       "      <th>last_name</th>\n",
       "      <th>allergies</th>\n",
       "    </tr>\n",
       "  </thead>\n",
       "  <tbody>\n",
       "    <tr>\n",
       "      <th>0</th>\n",
       "      <td>Gavin</td>\n",
       "      <td>Bryant</td>\n",
       "      <td>Penicillin</td>\n",
       "    </tr>\n",
       "    <tr>\n",
       "      <th>1</th>\n",
       "      <td>Jeremy</td>\n",
       "      <td>Kim</td>\n",
       "      <td>Penicillin</td>\n",
       "    </tr>\n",
       "    <tr>\n",
       "      <th>2</th>\n",
       "      <td>Trevor</td>\n",
       "      <td>Baker</td>\n",
       "      <td>Penicillin</td>\n",
       "    </tr>\n",
       "  </tbody>\n",
       "</table>\n",
       "</div>"
      ],
      "text/plain": [
       "  first_name last_name   allergies\n",
       "0      Gavin    Bryant  Penicillin\n",
       "1     Jeremy       Kim  Penicillin\n",
       "2     Trevor     Baker  Penicillin"
      ]
     },
     "execution_count": 33,
     "metadata": {},
     "output_type": "execute_result"
    }
   ],
   "source": [
    "orm_to_df(ormq)"
   ]
  },
  {
   "cell_type": "markdown",
   "id": "93f3d23c",
   "metadata": {},
   "source": [
    "## Medium 8\n",
    "Show patient_id, diagnosis from admissions. Find patients admitted multiple times for the same diagnosis."
   ]
  },
  {
   "cell_type": "code",
   "execution_count": 34,
   "id": "a54b2922",
   "metadata": {},
   "outputs": [],
   "source": [
    "qstr = \"\"\"\n",
    "SELECT\n",
    "  patient_id,\n",
    "  diagnosis\n",
    "FROM admissions\n",
    "GROUP BY\n",
    "  patient_id,\n",
    "  diagnosis\n",
    "HAVING COUNT(*) > 1\n",
    "\"\"\"\n",
    "sqlq = sql_raw(qstr)"
   ]
  },
  {
   "cell_type": "code",
   "execution_count": 35,
   "id": "dca7fb3b",
   "metadata": {},
   "outputs": [
    {
     "name": "stdout",
     "output_type": "stream",
     "text": [
      "Equal ✔️\n",
      "SELECT \"admissions\".\"patient_id\",\n",
      "       \"admissions\".\"diagnosis\"\n",
      "FROM \"admissions\"\n",
      "GROUP BY \"admissions\".\"patient_id\",\n",
      "         \"admissions\".\"diagnosis\"\n",
      "HAVING COUNT(\"admissions\".\"patient_id\") > 1\n"
     ]
    }
   ],
   "source": [
    "ormq = (\n",
    "    Admissions.objects.values(\"patient_id\", \"diagnosis\")\n",
    "    .annotate(count=Count(\"patient_id\"))\n",
    "    .filter(count__gt=1)\n",
    "    .values(\"patient_id\", \"diagnosis\")\n",
    ")\n",
    "\n",
    "equal(sqlq, ormq)\n",
    "print_sql(ormq)"
   ]
  },
  {
   "cell_type": "code",
   "execution_count": 36,
   "id": "e748f9be",
   "metadata": {},
   "outputs": [
    {
     "data": {
      "text/html": [
       "<div>\n",
       "<style scoped>\n",
       "    .dataframe tbody tr th:only-of-type {\n",
       "        vertical-align: middle;\n",
       "    }\n",
       "\n",
       "    .dataframe tbody tr th {\n",
       "        vertical-align: top;\n",
       "    }\n",
       "\n",
       "    .dataframe thead th {\n",
       "        text-align: right;\n",
       "    }\n",
       "</style>\n",
       "<table border=\"1\" class=\"dataframe\">\n",
       "  <thead>\n",
       "    <tr style=\"text-align: right;\">\n",
       "      <th></th>\n",
       "      <th>patient_id</th>\n",
       "      <th>diagnosis</th>\n",
       "    </tr>\n",
       "  </thead>\n",
       "  <tbody>\n",
       "    <tr>\n",
       "      <th>0</th>\n",
       "      <td>5</td>\n",
       "      <td>Meningitis</td>\n",
       "    </tr>\n",
       "  </tbody>\n",
       "</table>\n",
       "</div>"
      ],
      "text/plain": [
       "   patient_id   diagnosis\n",
       "0           5  Meningitis"
      ]
     },
     "execution_count": 36,
     "metadata": {},
     "output_type": "execute_result"
    }
   ],
   "source": [
    "orm_to_df(ormq)"
   ]
  },
  {
   "cell_type": "markdown",
   "id": "89b0d469",
   "metadata": {},
   "source": [
    "## Medium 9\n",
    "Show the city and the total number of patients in the city.\n",
    "Order from most to least patients and then by city name ascending."
   ]
  },
  {
   "cell_type": "code",
   "execution_count": 37,
   "id": "e13fa348",
   "metadata": {},
   "outputs": [],
   "source": [
    "qstr = \"\"\"\n",
    "SELECT\n",
    "  city,\n",
    "  COUNT(*) population\n",
    "FROM patients\n",
    "GROUP BY city \n",
    "ORDER BY population DESC, city\n",
    "\"\"\"\n",
    "sqlq = sql_raw(qstr)"
   ]
  },
  {
   "cell_type": "code",
   "execution_count": 38,
   "id": "5ee71798",
   "metadata": {},
   "outputs": [
    {
     "name": "stdout",
     "output_type": "stream",
     "text": [
      "Equal ✔️\n",
      "SELECT \"patients\".\"city\",\n",
      "       COUNT(\"patients\".\"patient_id\") AS \"population\"\n",
      "FROM \"patients\"\n",
      "GROUP BY \"patients\".\"city\"\n",
      "ORDER BY 2 DESC,\n",
      "         \"patients\".\"city\" ASC\n"
     ]
    }
   ],
   "source": [
    "ormq = (\n",
    "    Patients.objects.values(\"city\")\n",
    "    .annotate(population=Count(\"id\"))\n",
    "    .order_by(\"-population\", \"city\")\n",
    ")\n",
    "\n",
    "equal(sqlq, ormq)\n",
    "print_sql(ormq)"
   ]
  },
  {
   "cell_type": "code",
   "execution_count": 39,
   "id": "66e7bf57",
   "metadata": {},
   "outputs": [
    {
     "data": {
      "text/html": [
       "<div>\n",
       "<style scoped>\n",
       "    .dataframe tbody tr th:only-of-type {\n",
       "        vertical-align: middle;\n",
       "    }\n",
       "\n",
       "    .dataframe tbody tr th {\n",
       "        vertical-align: top;\n",
       "    }\n",
       "\n",
       "    .dataframe thead th {\n",
       "        text-align: right;\n",
       "    }\n",
       "</style>\n",
       "<table border=\"1\" class=\"dataframe\">\n",
       "  <thead>\n",
       "    <tr style=\"text-align: right;\">\n",
       "      <th></th>\n",
       "      <th>city</th>\n",
       "      <th>population</th>\n",
       "    </tr>\n",
       "  </thead>\n",
       "  <tbody>\n",
       "    <tr>\n",
       "      <th>0</th>\n",
       "      <td>Montreal</td>\n",
       "      <td>14</td>\n",
       "    </tr>\n",
       "    <tr>\n",
       "      <th>1</th>\n",
       "      <td>Calgary</td>\n",
       "      <td>13</td>\n",
       "    </tr>\n",
       "    <tr>\n",
       "      <th>2</th>\n",
       "      <td>Toronto</td>\n",
       "      <td>13</td>\n",
       "    </tr>\n",
       "    <tr>\n",
       "      <th>3</th>\n",
       "      <td>Vancouver</td>\n",
       "      <td>13</td>\n",
       "    </tr>\n",
       "    <tr>\n",
       "      <th>4</th>\n",
       "      <td>Halifax</td>\n",
       "      <td>12</td>\n",
       "    </tr>\n",
       "    <tr>\n",
       "      <th>5</th>\n",
       "      <td>Ottawa</td>\n",
       "      <td>12</td>\n",
       "    </tr>\n",
       "    <tr>\n",
       "      <th>6</th>\n",
       "      <td>Victoria</td>\n",
       "      <td>12</td>\n",
       "    </tr>\n",
       "    <tr>\n",
       "      <th>7</th>\n",
       "      <td>Winnipeg</td>\n",
       "      <td>12</td>\n",
       "    </tr>\n",
       "  </tbody>\n",
       "</table>\n",
       "</div>"
      ],
      "text/plain": [
       "        city  population\n",
       "0   Montreal          14\n",
       "1    Calgary          13\n",
       "2    Toronto          13\n",
       "3  Vancouver          13\n",
       "4    Halifax          12\n",
       "5     Ottawa          12\n",
       "6   Victoria          12\n",
       "7   Winnipeg          12"
      ]
     },
     "execution_count": 39,
     "metadata": {},
     "output_type": "execute_result"
    }
   ],
   "source": [
    "orm_to_df(ormq)"
   ]
  },
  {
   "cell_type": "markdown",
   "id": "8f4b8597",
   "metadata": {},
   "source": [
    "## Medium 10\n",
    "Show first name, last name and role of every person that is either patient or doctor.\n",
    "The roles are either \"Patient\" or \"Doctor\""
   ]
  },
  {
   "cell_type": "code",
   "execution_count": 40,
   "id": "d58c01cb",
   "metadata": {},
   "outputs": [],
   "source": [
    "qstr = \"\"\"\n",
    "SELECT\n",
    "  first_name,\n",
    "  last_name,\n",
    "  'patient' AS Role\n",
    "FROM patients\n",
    "UNION ALL\n",
    "SELECT\n",
    "  first_name,\n",
    "  last_name,\n",
    "  'doctor' AS Role\n",
    "FROM doctors;\n",
    "\"\"\"\n",
    "sqlq = sql_raw(qstr)"
   ]
  },
  {
   "cell_type": "code",
   "execution_count": 41,
   "id": "9f8d606f",
   "metadata": {},
   "outputs": [
    {
     "name": "stdout",
     "output_type": "stream",
     "text": [
      "Equal ✔️\n",
      "SELECT \"patients\".\"first_name\" AS \"col1\",\n",
      "       \"patients\".\"last_name\" AS \"col2\",\n",
      "       patient AS \"role\"\n",
      "FROM \"patients\"\n",
      "UNION ALL\n",
      "SELECT \"doctors\".\"first_name\" AS \"col1\",\n",
      "       \"doctors\".\"last_name\" AS \"col2\",\n",
      "       doctor AS \"role\"\n",
      "FROM \"doctors\"\n"
     ]
    }
   ],
   "source": [
    "ormq = (\n",
    "    Patients.objects.annotate(role=Value(\"patient\", output_field=CharField()))\n",
    "    .values(\"first_name\", \"last_name\", \"role\")\n",
    "    .union(\n",
    "        Doctors.objects.annotate(role=Value(\"doctor\", output_field=CharField())).values(\n",
    "            \"first_name\", \"last_name\", \"role\"\n",
    "        ),\n",
    "        all=True,\n",
    "    )\n",
    ")\n",
    "\n",
    "equal(sqlq, ormq)\n",
    "print_sql(ormq)"
   ]
  },
  {
   "cell_type": "code",
   "execution_count": 42,
   "id": "868f4e55",
   "metadata": {},
   "outputs": [
    {
     "data": {
      "text/html": [
       "<div>\n",
       "<style scoped>\n",
       "    .dataframe tbody tr th:only-of-type {\n",
       "        vertical-align: middle;\n",
       "    }\n",
       "\n",
       "    .dataframe tbody tr th {\n",
       "        vertical-align: top;\n",
       "    }\n",
       "\n",
       "    .dataframe thead th {\n",
       "        text-align: right;\n",
       "    }\n",
       "</style>\n",
       "<table border=\"1\" class=\"dataframe\">\n",
       "  <thead>\n",
       "    <tr style=\"text-align: right;\">\n",
       "      <th></th>\n",
       "      <th>first_name</th>\n",
       "      <th>last_name</th>\n",
       "      <th>role</th>\n",
       "    </tr>\n",
       "  </thead>\n",
       "  <tbody>\n",
       "    <tr>\n",
       "      <th>0</th>\n",
       "      <td>Cheryl</td>\n",
       "      <td>Mason</td>\n",
       "      <td>patient</td>\n",
       "    </tr>\n",
       "    <tr>\n",
       "      <th>1</th>\n",
       "      <td>Jason</td>\n",
       "      <td>Fleming</td>\n",
       "      <td>patient</td>\n",
       "    </tr>\n",
       "    <tr>\n",
       "      <th>2</th>\n",
       "      <td>Tiffany</td>\n",
       "      <td>McDonald</td>\n",
       "      <td>patient</td>\n",
       "    </tr>\n",
       "  </tbody>\n",
       "</table>\n",
       "</div>"
      ],
      "text/plain": [
       "  first_name last_name     role\n",
       "0     Cheryl     Mason  patient\n",
       "1      Jason   Fleming  patient\n",
       "2    Tiffany  McDonald  patient"
      ]
     },
     "execution_count": 42,
     "metadata": {},
     "output_type": "execute_result"
    }
   ],
   "source": [
    "orm_to_df(ormq[:3])"
   ]
  },
  {
   "cell_type": "markdown",
   "id": "938cf813",
   "metadata": {},
   "source": [
    "## Medium 11\n",
    "Show all allergies and their occurance ordered by occurance. Remove NULL values from query."
   ]
  },
  {
   "cell_type": "code",
   "execution_count": 43,
   "id": "121e4b3c",
   "metadata": {},
   "outputs": [],
   "source": [
    "qstr = \"\"\"\n",
    "SELECT\n",
    "  allergies,\n",
    "  COUNT (*) AS total_occurance\n",
    "FROM patients\n",
    "WHERE allergies IS NOT null\n",
    "GROUP BY allergies\n",
    "ORDER BY total_occurance DESC\n",
    "\"\"\"\n",
    "sqlq = sql_raw(qstr)"
   ]
  },
  {
   "cell_type": "code",
   "execution_count": 44,
   "id": "186f50c6",
   "metadata": {},
   "outputs": [
    {
     "name": "stdout",
     "output_type": "stream",
     "text": [
      "Equal ✔️\n",
      "SELECT \"patients\".\"allergies\",\n",
      "       COUNT(\"patients\".\"allergies\") AS \"total_occurance\"\n",
      "FROM \"patients\"\n",
      "WHERE \"patients\".\"allergies\" IS NOT NULL\n",
      "GROUP BY \"patients\".\"allergies\"\n",
      "ORDER BY 2 DESC\n"
     ]
    }
   ],
   "source": [
    "ormq = (\n",
    "    Patients.objects.values(\"allergies\")\n",
    "    .filter(allergies__isnull=False)\n",
    "    .annotate(total_occurance=Count(\"allergies\"))\n",
    "    .order_by(\"-total_occurance\")\n",
    ")\n",
    "\n",
    "equal(sqlq, ormq)\n",
    "print_sql(ormq)"
   ]
  },
  {
   "cell_type": "code",
   "execution_count": 45,
   "id": "c7610449",
   "metadata": {},
   "outputs": [
    {
     "data": {
      "text/html": [
       "<div>\n",
       "<style scoped>\n",
       "    .dataframe tbody tr th:only-of-type {\n",
       "        vertical-align: middle;\n",
       "    }\n",
       "\n",
       "    .dataframe tbody tr th {\n",
       "        vertical-align: top;\n",
       "    }\n",
       "\n",
       "    .dataframe thead th {\n",
       "        text-align: right;\n",
       "    }\n",
       "</style>\n",
       "<table border=\"1\" class=\"dataframe\">\n",
       "  <thead>\n",
       "    <tr style=\"text-align: right;\">\n",
       "      <th></th>\n",
       "      <th>allergies</th>\n",
       "      <th>total_occurance</th>\n",
       "    </tr>\n",
       "  </thead>\n",
       "  <tbody>\n",
       "    <tr>\n",
       "      <th>0</th>\n",
       "      <td>Pollen</td>\n",
       "      <td>15</td>\n",
       "    </tr>\n",
       "    <tr>\n",
       "      <th>1</th>\n",
       "      <td>Lactose</td>\n",
       "      <td>13</td>\n",
       "    </tr>\n",
       "    <tr>\n",
       "      <th>2</th>\n",
       "      <td>Sulfa drugs</td>\n",
       "      <td>8</td>\n",
       "    </tr>\n",
       "  </tbody>\n",
       "</table>\n",
       "</div>"
      ],
      "text/plain": [
       "     allergies  total_occurance\n",
       "0       Pollen               15\n",
       "1      Lactose               13\n",
       "2  Sulfa drugs                8"
      ]
     },
     "execution_count": 45,
     "metadata": {},
     "output_type": "execute_result"
    }
   ],
   "source": [
    "orm_to_df(ormq[:3])"
   ]
  },
  {
   "cell_type": "markdown",
   "id": "90aab2c9",
   "metadata": {},
   "source": [
    "## Medium 12\n",
    "Show all patient's first_name, last_name, and birth_date who were born in the 1970s decade. Sort the list starting from the earliest birth_date."
   ]
  },
  {
   "cell_type": "code",
   "execution_count": 46,
   "id": "c8ede5a8",
   "metadata": {},
   "outputs": [],
   "source": [
    "# use YEAR(birth_date) if year function is available\n",
    "qstr = \"\"\"\n",
    "SELECT\n",
    "  first_name,\n",
    "  last_name,\n",
    "  birth_date\n",
    "FROM patients\n",
    "WHERE CAST(strftime('%Y', birth_date) AS INT) BETWEEN 1970 AND 1979\n",
    "ORDER BY birth_date\n",
    "\"\"\"\n",
    "sqlq = sql_raw(qstr)"
   ]
  },
  {
   "cell_type": "code",
   "execution_count": 47,
   "id": "ba06606d",
   "metadata": {},
   "outputs": [
    {
     "name": "stdout",
     "output_type": "stream",
     "text": [
      "Equal ✔️\n",
      "SELECT \"patients\".\"first_name\",\n",
      "       \"patients\".\"last_name\",\n",
      "       \"patients\".\"birth_date\"\n",
      "FROM \"patients\"\n",
      "WHERE django_date_extract(year, \"patients\".\"birth_date\") BETWEEN 1970 AND 1979\n",
      "ORDER BY \"patients\".\"birth_date\" ASC\n"
     ]
    }
   ],
   "source": [
    "ormq = (\n",
    "    Patients.objects.filter(birth_date__year__range=(1970, 1979))\n",
    "    .order_by(\"birth_date\")\n",
    "    .values(\"first_name\", \"last_name\", \"birth_date\")\n",
    ")\n",
    "\n",
    "equal(sqlq, ormq)\n",
    "print_sql(ormq)"
   ]
  },
  {
   "cell_type": "code",
   "execution_count": 48,
   "id": "00214390",
   "metadata": {},
   "outputs": [
    {
     "data": {
      "text/html": [
       "<div>\n",
       "<style scoped>\n",
       "    .dataframe tbody tr th:only-of-type {\n",
       "        vertical-align: middle;\n",
       "    }\n",
       "\n",
       "    .dataframe tbody tr th {\n",
       "        vertical-align: top;\n",
       "    }\n",
       "\n",
       "    .dataframe thead th {\n",
       "        text-align: right;\n",
       "    }\n",
       "</style>\n",
       "<table border=\"1\" class=\"dataframe\">\n",
       "  <thead>\n",
       "    <tr style=\"text-align: right;\">\n",
       "      <th></th>\n",
       "      <th>first_name</th>\n",
       "      <th>last_name</th>\n",
       "      <th>birth_date</th>\n",
       "    </tr>\n",
       "  </thead>\n",
       "  <tbody>\n",
       "    <tr>\n",
       "      <th>0</th>\n",
       "      <td>Jeremy</td>\n",
       "      <td>Kim</td>\n",
       "      <td>1975-07-19</td>\n",
       "    </tr>\n",
       "    <tr>\n",
       "      <th>1</th>\n",
       "      <td>Samantha</td>\n",
       "      <td>Garcia</td>\n",
       "      <td>1975-11-30</td>\n",
       "    </tr>\n",
       "    <tr>\n",
       "      <th>2</th>\n",
       "      <td>Olivia</td>\n",
       "      <td>Li</td>\n",
       "      <td>1976-03-11</td>\n",
       "    </tr>\n",
       "  </tbody>\n",
       "</table>\n",
       "</div>"
      ],
      "text/plain": [
       "  first_name last_name  birth_date\n",
       "0     Jeremy       Kim  1975-07-19\n",
       "1   Samantha    Garcia  1975-11-30\n",
       "2     Olivia        Li  1976-03-11"
      ]
     },
     "execution_count": 48,
     "metadata": {},
     "output_type": "execute_result"
    }
   ],
   "source": [
    "orm_to_df(ormq[:3])"
   ]
  },
  {
   "cell_type": "markdown",
   "id": "0a17a415",
   "metadata": {},
   "source": [
    "## Medium 13\n",
    "We want to display each patient's full name in a single column. Their last_name in all upper letters must appear first, then first_name in all lower case letters. Separate the last_name and first_name with a comma. Order the list by the first_name in decending order\n",
    "EX: SMITH,jane"
   ]
  },
  {
   "cell_type": "code",
   "execution_count": 49,
   "id": "580934ea",
   "metadata": {},
   "outputs": [],
   "source": [
    "qstr = \"\"\"\n",
    "SELECT\n",
    "   UPPER(last_name) || ',' || LOWER(first_name) AS full_name\n",
    "FROM patients\n",
    "ORDER BY first_name DESC\n",
    "\"\"\"\n",
    "sqlq = sql_raw(qstr)"
   ]
  },
  {
   "cell_type": "code",
   "execution_count": 50,
   "id": "01802e85",
   "metadata": {},
   "outputs": [
    {
     "name": "stdout",
     "output_type": "stream",
     "text": [
      "Equal ✔️\n",
      "SELECT COALESCE(UPPER(\"patients\".\"last_name\"),) || COALESCE(COALESCE(,,) || COALESCE(LOWER(\"patients\".\"first_name\"),),) AS \"full_name\"\n",
      "FROM \"patients\"\n",
      "ORDER BY \"patients\".\"first_name\" DESC\n"
     ]
    }
   ],
   "source": [
    "ormq = Patients.objects.values(\n",
    "    full_name=Concat(Upper(\"last_name\"), Value(\",\"), Lower(\"first_name\"))\n",
    ").order_by(\"-first_name\")\n",
    "equal(sqlq, ormq)\n",
    "print_sql(ormq)"
   ]
  },
  {
   "cell_type": "code",
   "execution_count": 51,
   "id": "bd311cbc",
   "metadata": {},
   "outputs": [
    {
     "data": {
      "text/html": [
       "<div>\n",
       "<style scoped>\n",
       "    .dataframe tbody tr th:only-of-type {\n",
       "        vertical-align: middle;\n",
       "    }\n",
       "\n",
       "    .dataframe tbody tr th {\n",
       "        vertical-align: top;\n",
       "    }\n",
       "\n",
       "    .dataframe thead th {\n",
       "        text-align: right;\n",
       "    }\n",
       "</style>\n",
       "<table border=\"1\" class=\"dataframe\">\n",
       "  <thead>\n",
       "    <tr style=\"text-align: right;\">\n",
       "      <th></th>\n",
       "      <th>full_name</th>\n",
       "    </tr>\n",
       "  </thead>\n",
       "  <tbody>\n",
       "    <tr>\n",
       "      <th>0</th>\n",
       "      <td>NGUYEN,william</td>\n",
       "    </tr>\n",
       "    <tr>\n",
       "      <th>1</th>\n",
       "      <td>LIU,victor</td>\n",
       "    </tr>\n",
       "    <tr>\n",
       "      <th>2</th>\n",
       "      <td>BAKER,trevor</td>\n",
       "    </tr>\n",
       "  </tbody>\n",
       "</table>\n",
       "</div>"
      ],
      "text/plain": [
       "        full_name\n",
       "0  NGUYEN,william\n",
       "1      LIU,victor\n",
       "2    BAKER,trevor"
      ]
     },
     "execution_count": 51,
     "metadata": {},
     "output_type": "execute_result"
    }
   ],
   "source": [
    "orm_to_df(ormq[:3])"
   ]
  },
  {
   "cell_type": "markdown",
   "id": "bbd85fc9",
   "metadata": {},
   "source": [
    "## Medium 14\n",
    "Show the province_id(s), sum of height; where the total sum of its patient's height is greater than or equal to 7,000.\n",
    "We will do 3000"
   ]
  },
  {
   "cell_type": "code",
   "execution_count": 52,
   "id": "e5983c5e",
   "metadata": {},
   "outputs": [],
   "source": [
    "qstr = \"\"\"\n",
    "SELECT\n",
    "  province_id,\n",
    "  SUM(height) AS sum_height\n",
    "FROM patients\n",
    "GROUP BY province_id\n",
    "HAVING SUM(height) > 3000;\n",
    "\"\"\"\n",
    "sqlq = sql_raw(qstr)"
   ]
  },
  {
   "cell_type": "code",
   "execution_count": 53,
   "id": "0024cf3c",
   "metadata": {},
   "outputs": [
    {
     "name": "stdout",
     "output_type": "stream",
     "text": [
      "Equal ✔️\n",
      "SELECT \"patients\".\"province_id\",\n",
      "       SUM(\"patients\".\"height\") AS \"sum_height\"\n",
      "FROM \"patients\"\n",
      "GROUP BY \"patients\".\"province_id\"\n",
      "HAVING SUM(\"patients\".\"height\") > 3000\n"
     ]
    }
   ],
   "source": [
    "ormq = (\n",
    "    Patients.objects.values(\"province_id\")\n",
    "    .annotate(sum_height=Sum(\"height\"))\n",
    "    .filter(sum_height__gt=3000)\n",
    "    .values(\"province_id\", \"sum_height\")\n",
    ")\n",
    "equal(sqlq, ormq)\n",
    "print_sql(ormq)"
   ]
  },
  {
   "cell_type": "code",
   "execution_count": 54,
   "id": "880d8f10",
   "metadata": {},
   "outputs": [
    {
     "data": {
      "text/html": [
       "<div>\n",
       "<style scoped>\n",
       "    .dataframe tbody tr th:only-of-type {\n",
       "        vertical-align: middle;\n",
       "    }\n",
       "\n",
       "    .dataframe tbody tr th {\n",
       "        vertical-align: top;\n",
       "    }\n",
       "\n",
       "    .dataframe thead th {\n",
       "        text-align: right;\n",
       "    }\n",
       "</style>\n",
       "<table border=\"1\" class=\"dataframe\">\n",
       "  <thead>\n",
       "    <tr style=\"text-align: right;\">\n",
       "      <th></th>\n",
       "      <th>province_id</th>\n",
       "      <th>sum_height</th>\n",
       "    </tr>\n",
       "  </thead>\n",
       "  <tbody>\n",
       "    <tr>\n",
       "      <th>0</th>\n",
       "      <td>BC</td>\n",
       "      <td>4357</td>\n",
       "    </tr>\n",
       "    <tr>\n",
       "      <th>1</th>\n",
       "      <td>ON</td>\n",
       "      <td>4331</td>\n",
       "    </tr>\n",
       "  </tbody>\n",
       "</table>\n",
       "</div>"
      ],
      "text/plain": [
       "  province_id  sum_height\n",
       "0          BC        4357\n",
       "1          ON        4331"
      ]
     },
     "execution_count": 54,
     "metadata": {},
     "output_type": "execute_result"
    }
   ],
   "source": [
    "orm_to_df(ormq[:3])"
   ]
  },
  {
   "cell_type": "markdown",
   "id": "406a5aff",
   "metadata": {},
   "source": [
    "## Medium 15\n",
    "Show the difference between the largest weight and smallest weight for patients with the last name 'Maroni'.\n",
    "We will do Lee."
   ]
  },
  {
   "cell_type": "code",
   "execution_count": 55,
   "id": "9edf66ef",
   "metadata": {},
   "outputs": [],
   "source": [
    "qstr = \"\"\"\n",
    "SELECT\n",
    "  (MAX(weight) - MIN(weight)) AS weight_dif\n",
    "FROM patients\n",
    "WHERE last_name = 'Lee';\n",
    "\"\"\"\n",
    "sqlq = sql_raw(qstr)"
   ]
  },
  {
   "cell_type": "code",
   "execution_count": 56,
   "id": "9530aafb",
   "metadata": {},
   "outputs": [
    {
     "name": "stdout",
     "output_type": "stream",
     "text": [
      "Equal ✔️\n"
     ]
    }
   ],
   "source": [
    "ormq = Patients.objects.filter(last_name=\"Lee\").aggregate(\n",
    "    weight_dif=Max(\"weight\") - Min(\"weight\")\n",
    ")\n",
    "equal(sqlq, ormq)\n",
    "# print_sql(ormq)"
   ]
  },
  {
   "cell_type": "code",
   "execution_count": 57,
   "id": "f9b6510d",
   "metadata": {},
   "outputs": [
    {
     "name": "stdout",
     "output_type": "stream",
     "text": [
      "Equal ✔️\n",
      "SELECT (MAX(\"patients\".\"weight\") - MIN(\"patients\".\"weight\")) AS \"weight_dif\"\n",
      "FROM \"patients\"\n",
      "WHERE \"patients\".\"last_name\" = Lee\n"
     ]
    }
   ],
   "source": [
    "ormq = (\n",
    "    Patients.objects.filter(last_name=\"Lee\")\n",
    "    .annotate(\n",
    "        weight_dif=Func(F(\"weight\"), function=\"MAX\") - Func(F(\"weight\"), function=\"MIN\")\n",
    "    )\n",
    "    .values(\"weight_dif\")\n",
    ")\n",
    "equal(sqlq, ormq)\n",
    "print_sql(ormq)"
   ]
  },
  {
   "cell_type": "code",
   "execution_count": 58,
   "id": "cb316417",
   "metadata": {},
   "outputs": [
    {
     "data": {
      "text/html": [
       "<div>\n",
       "<style scoped>\n",
       "    .dataframe tbody tr th:only-of-type {\n",
       "        vertical-align: middle;\n",
       "    }\n",
       "\n",
       "    .dataframe tbody tr th {\n",
       "        vertical-align: top;\n",
       "    }\n",
       "\n",
       "    .dataframe thead th {\n",
       "        text-align: right;\n",
       "    }\n",
       "</style>\n",
       "<table border=\"1\" class=\"dataframe\">\n",
       "  <thead>\n",
       "    <tr style=\"text-align: right;\">\n",
       "      <th></th>\n",
       "      <th>weight_dif</th>\n",
       "    </tr>\n",
       "  </thead>\n",
       "  <tbody>\n",
       "    <tr>\n",
       "      <th>0</th>\n",
       "      <td>23</td>\n",
       "    </tr>\n",
       "  </tbody>\n",
       "</table>\n",
       "</div>"
      ],
      "text/plain": [
       "   weight_dif\n",
       "0          23"
      ]
     },
     "execution_count": 58,
     "metadata": {},
     "output_type": "execute_result"
    }
   ],
   "source": [
    "orm_to_df(ormq)"
   ]
  },
  {
   "cell_type": "markdown",
   "id": "b8af818e",
   "metadata": {},
   "source": [
    "## Medium 16\n",
    "Show all of the days of the month (1-31) and how many admission_dates occurred on that day. Sort by the day with most admissions to least admissions."
   ]
  },
  {
   "cell_type": "code",
   "execution_count": 59,
   "id": "5fc4a254",
   "metadata": {},
   "outputs": [],
   "source": [
    "qstr = \"\"\"\n",
    "SELECT\n",
    "  CAST(strftime('%d', admission_date) as INT) AS month_day,\n",
    "  COUNT(patient_id) AS daily_admission\n",
    "FROM admissions\n",
    "GROUP BY strftime('%d', admission_date)\n",
    "ORDER BY daily_admission DESC;\n",
    "\"\"\"\n",
    "sqlq = sql_raw(qstr)"
   ]
  },
  {
   "cell_type": "code",
   "execution_count": 60,
   "id": "413c2377",
   "metadata": {},
   "outputs": [
    {
     "name": "stdout",
     "output_type": "stream",
     "text": [
      "Equal ✔️\n",
      "SELECT django_date_extract(day, \"admissions\".\"admission_date\") AS \"month_day\",\n",
      "       COUNT(\"admissions\".\"id\") AS \"daily_admission\"\n",
      "FROM \"admissions\"\n",
      "GROUP BY 1\n",
      "ORDER BY 2 DESC\n"
     ]
    }
   ],
   "source": [
    "ormq = (\n",
    "    Admissions.objects.values(month_day=F(\"admission_date__day\"))\n",
    "    .annotate(daily_admission=Count(\"id\"))\n",
    "    .order_by(\"-daily_admission\")\n",
    ")\n",
    "equal(sqlq, ormq)\n",
    "print_sql(ormq)"
   ]
  },
  {
   "cell_type": "code",
   "execution_count": 61,
   "id": "fadb1189",
   "metadata": {},
   "outputs": [
    {
     "data": {
      "text/html": [
       "<div>\n",
       "<style scoped>\n",
       "    .dataframe tbody tr th:only-of-type {\n",
       "        vertical-align: middle;\n",
       "    }\n",
       "\n",
       "    .dataframe tbody tr th {\n",
       "        vertical-align: top;\n",
       "    }\n",
       "\n",
       "    .dataframe thead th {\n",
       "        text-align: right;\n",
       "    }\n",
       "</style>\n",
       "<table border=\"1\" class=\"dataframe\">\n",
       "  <thead>\n",
       "    <tr style=\"text-align: right;\">\n",
       "      <th></th>\n",
       "      <th>month_day</th>\n",
       "      <th>daily_admission</th>\n",
       "    </tr>\n",
       "  </thead>\n",
       "  <tbody>\n",
       "    <tr>\n",
       "      <th>0</th>\n",
       "      <td>28</td>\n",
       "      <td>6</td>\n",
       "    </tr>\n",
       "    <tr>\n",
       "      <th>1</th>\n",
       "      <td>18</td>\n",
       "      <td>6</td>\n",
       "    </tr>\n",
       "    <tr>\n",
       "      <th>2</th>\n",
       "      <td>17</td>\n",
       "      <td>6</td>\n",
       "    </tr>\n",
       "  </tbody>\n",
       "</table>\n",
       "</div>"
      ],
      "text/plain": [
       "   month_day  daily_admission\n",
       "0         28                6\n",
       "1         18                6\n",
       "2         17                6"
      ]
     },
     "execution_count": 61,
     "metadata": {},
     "output_type": "execute_result"
    }
   ],
   "source": [
    "orm_to_df(ormq[:3])"
   ]
  },
  {
   "cell_type": "markdown",
   "id": "537e6f3f",
   "metadata": {},
   "source": [
    "## Medium 17\n",
    "Show all columns for patient_id 54's most recent admission_date."
   ]
  },
  {
   "cell_type": "code",
   "execution_count": 62,
   "id": "89479323",
   "metadata": {},
   "outputs": [],
   "source": [
    "qstr = \"\"\"\n",
    "SELECT *\n",
    "FROM admissions\n",
    "WHERE patient_id = 54 AND admission_date = (\n",
    "    SELECT max(admission_date)\n",
    "    FROM admissions\n",
    "    WHERE patient_id = 54\n",
    "  )\n",
    "\"\"\"\n",
    "sqlq = sql_raw(qstr)"
   ]
  },
  {
   "cell_type": "code",
   "execution_count": 63,
   "id": "763f14cc",
   "metadata": {},
   "outputs": [
    {
     "name": "stdout",
     "output_type": "stream",
     "text": [
      "Equal ✔️\n",
      "SELECT \"admissions\".\"id\",\n",
      "       \"admissions\".\"patient_id\",\n",
      "       \"admissions\".\"admission_date\",\n",
      "       \"admissions\".\"discharge_date\",\n",
      "       \"admissions\".\"diagnosis\",\n",
      "       \"admissions\".\"attending_doctor_id\"\n",
      "FROM \"admissions\"\n",
      "WHERE (\"admissions\".\"admission_date\" = 2022-06-02\n",
      "       AND \"admissions\".\"patient_id\" = 54)\n"
     ]
    }
   ],
   "source": [
    "ormq = Admissions.objects.filter(\n",
    "    patient_id=54,\n",
    "    admission_date=Admissions.objects.filter(patient_id=54).aggregate(\n",
    "        max_admission=Max(\"admission_date\")\n",
    "    )[\"max_admission\"],\n",
    ").values(*admission_fields)\n",
    "equal(sqlq, ormq)\n",
    "print_sql(ormq)"
   ]
  },
  {
   "cell_type": "code",
   "execution_count": 64,
   "id": "875daa86",
   "metadata": {},
   "outputs": [
    {
     "name": "stdout",
     "output_type": "stream",
     "text": [
      "Equal ✔️\n",
      "SELECT \"admissions\".\"id\",\n",
      "       \"admissions\".\"patient_id\",\n",
      "       \"admissions\".\"admission_date\",\n",
      "       \"admissions\".\"discharge_date\",\n",
      "       \"admissions\".\"diagnosis\",\n",
      "       \"admissions\".\"attending_doctor_id\"\n",
      "FROM \"admissions\"\n",
      "WHERE (\"admissions\".\"admission_date\" =\n",
      "         (SELECT Max(U0.\"admission_date\") AS \"max_admission\"\n",
      "          FROM \"admissions\" U0\n",
      "          WHERE U0.\"patient_id\" = 54)\n",
      "       AND \"admissions\".\"patient_id\" = 54)\n"
     ]
    }
   ],
   "source": [
    "ormq = Admissions.objects.filter(\n",
    "    patient_id=54,\n",
    "    admission_date=Subquery(\n",
    "        Admissions.objects.filter(patient_id=54)\n",
    "        .annotate(max_admission=Func(F(\"admission_date\"), function=\"Max\"))\n",
    "        .values(\"max_admission\")\n",
    "    ),\n",
    ").values(*admission_fields)\n",
    "\n",
    "\n",
    "equal(sqlq, ormq)\n",
    "print_sql(ormq)"
   ]
  },
  {
   "cell_type": "code",
   "execution_count": 65,
   "id": "df4afdab",
   "metadata": {},
   "outputs": [
    {
     "name": "stdout",
     "output_type": "stream",
     "text": [
      "Equal ✔️\n",
      "SELECT \"admissions\".\"id\",\n",
      "       \"admissions\".\"patient_id\",\n",
      "       \"admissions\".\"admission_date\",\n",
      "       \"admissions\".\"discharge_date\",\n",
      "       \"admissions\".\"diagnosis\",\n",
      "       \"admissions\".\"attending_doctor_id\"\n",
      "FROM \"admissions\"\n",
      "WHERE \"admissions\".\"patient_id\" = 54\n",
      "ORDER BY \"admissions\".\"admission_date\" DESC\n",
      "LIMIT 1\n"
     ]
    }
   ],
   "source": [
    "ormq = (\n",
    "    Admissions.objects.filter(patient_id=54)\n",
    "    .order_by(\"-admission_date\")[:1]\n",
    "    .values(*admission_fields)\n",
    ")\n",
    "equal(sqlq, ormq)\n",
    "print_sql(ormq)"
   ]
  },
  {
   "cell_type": "code",
   "execution_count": 66,
   "id": "a9be8b75",
   "metadata": {},
   "outputs": [
    {
     "data": {
      "text/html": [
       "<div>\n",
       "<style scoped>\n",
       "    .dataframe tbody tr th:only-of-type {\n",
       "        vertical-align: middle;\n",
       "    }\n",
       "\n",
       "    .dataframe tbody tr th {\n",
       "        vertical-align: top;\n",
       "    }\n",
       "\n",
       "    .dataframe thead th {\n",
       "        text-align: right;\n",
       "    }\n",
       "</style>\n",
       "<table border=\"1\" class=\"dataframe\">\n",
       "  <thead>\n",
       "    <tr style=\"text-align: right;\">\n",
       "      <th></th>\n",
       "      <th>id</th>\n",
       "      <th>patient_id</th>\n",
       "      <th>admission_date</th>\n",
       "      <th>discharge_date</th>\n",
       "      <th>diagnosis</th>\n",
       "      <th>attending_doctor_id</th>\n",
       "    </tr>\n",
       "  </thead>\n",
       "  <tbody>\n",
       "    <tr>\n",
       "      <th>0</th>\n",
       "      <td>154</td>\n",
       "      <td>54</td>\n",
       "      <td>2022-06-02</td>\n",
       "      <td>2022-06-06</td>\n",
       "      <td>Migraine</td>\n",
       "      <td>11</td>\n",
       "    </tr>\n",
       "  </tbody>\n",
       "</table>\n",
       "</div>"
      ],
      "text/plain": [
       "    id  patient_id admission_date discharge_date diagnosis  \\\n",
       "0  154          54     2022-06-02     2022-06-06  Migraine   \n",
       "\n",
       "   attending_doctor_id  \n",
       "0                   11  "
      ]
     },
     "execution_count": 66,
     "metadata": {},
     "output_type": "execute_result"
    }
   ],
   "source": [
    "orm_to_df(ormq[:3])"
   ]
  },
  {
   "cell_type": "markdown",
   "id": "44afd0cc",
   "metadata": {},
   "source": [
    "## Medium 18\n",
    "Show patient_id, attending_doctor_id, and diagnosis for admissions that match one of the two criteria:\n",
    "1. patient_id is an odd number and attending_doctor_id is either 1, 5, or 19.\n",
    "2. attending_doctor_id contains a 2 and the length of patient_id is 3 characters."
   ]
  },
  {
   "cell_type": "code",
   "execution_count": 67,
   "id": "19aa8ae6",
   "metadata": {},
   "outputs": [],
   "source": [
    "qstr = \"\"\"\n",
    "SELECT\n",
    "  patient_id,\n",
    "  attending_doctor_id,\n",
    "  diagnosis\n",
    "FROM admissions\n",
    "WHERE\n",
    "  (\n",
    "    patient_id % 2 = 1\n",
    "    and attending_doctor_id IN (1, 5, 19)\n",
    "  )\n",
    "  OR (\n",
    "    CAST(attending_doctor_id AS varchar) LIKE \"%2%\"\n",
    "    AND length(CAST(patient_id AS VARCHAR)) = 2\n",
    "  )\n",
    "\"\"\"\n",
    "sqlq = sql_raw(qstr)"
   ]
  },
  {
   "cell_type": "code",
   "execution_count": 68,
   "id": "cf8fcaa7",
   "metadata": {},
   "outputs": [
    {
     "name": "stdout",
     "output_type": "stream",
     "text": [
      "Equal ✔️\n",
      "SELECT \"admissions\".\"patient_id\",\n",
      "       \"admissions\".\"attending_doctor_id\",\n",
      "       \"admissions\".\"diagnosis\"\n",
      "FROM \"admissions\"\n",
      "WHERE ((\"admissions\".\"attending_doctor_id\" IN (1,\n",
      "                                               5,\n",
      "                                               19)\n",
      "        AND (\"admissions\".\"patient_id\" % 2) = 1)\n",
      "       OR (CAST(\"admissions\".\"attending_doctor_id\" AS text) LIKE %2% ESCAPE '\\'\n",
      "           AND LENGTH(CAST(\"admissions\".\"patient_id\" AS text)) = 2))\n"
     ]
    }
   ],
   "source": [
    "f1 = Q(attending_doctor_id__in=[1, 5, 19], pi_mod=1)\n",
    "f2 = Q(adi_str__icontains=\"2\", pi_len=2)\n",
    "\n",
    "ormq = (\n",
    "    Admissions.objects.annotate(\n",
    "        pi_mod=F(\"patient_id\") % 2,\n",
    "        adi_str=Cast(F(\"attending_doctor_id\"), CharField()),\n",
    "        pi_len=Length(Cast(F(\"patient_id\"), CharField())),\n",
    "    )\n",
    "    .filter(f1 | f2)\n",
    "    .values(\"patient_id\", \"attending_doctor_id\", \"diagnosis\")\n",
    ")\n",
    "\n",
    "equal(sqlq, ormq)\n",
    "print_sql(ormq)"
   ]
  },
  {
   "cell_type": "code",
   "execution_count": 69,
   "id": "f9a79ab2",
   "metadata": {},
   "outputs": [
    {
     "data": {
      "text/html": [
       "<div>\n",
       "<style scoped>\n",
       "    .dataframe tbody tr th:only-of-type {\n",
       "        vertical-align: middle;\n",
       "    }\n",
       "\n",
       "    .dataframe tbody tr th {\n",
       "        vertical-align: top;\n",
       "    }\n",
       "\n",
       "    .dataframe thead th {\n",
       "        text-align: right;\n",
       "    }\n",
       "</style>\n",
       "<table border=\"1\" class=\"dataframe\">\n",
       "  <thead>\n",
       "    <tr style=\"text-align: right;\">\n",
       "      <th></th>\n",
       "      <th>patient_id</th>\n",
       "      <th>attending_doctor_id</th>\n",
       "      <th>diagnosis</th>\n",
       "    </tr>\n",
       "  </thead>\n",
       "  <tbody>\n",
       "    <tr>\n",
       "      <th>0</th>\n",
       "      <td>14</td>\n",
       "      <td>20</td>\n",
       "      <td>Arthritis</td>\n",
       "    </tr>\n",
       "    <tr>\n",
       "      <th>1</th>\n",
       "      <td>15</td>\n",
       "      <td>2</td>\n",
       "      <td>Bronchitis</td>\n",
       "    </tr>\n",
       "    <tr>\n",
       "      <th>2</th>\n",
       "      <td>25</td>\n",
       "      <td>20</td>\n",
       "      <td>Asthma</td>\n",
       "    </tr>\n",
       "  </tbody>\n",
       "</table>\n",
       "</div>"
      ],
      "text/plain": [
       "   patient_id  attending_doctor_id   diagnosis\n",
       "0          14                   20   Arthritis\n",
       "1          15                    2  Bronchitis\n",
       "2          25                   20      Asthma"
      ]
     },
     "execution_count": 69,
     "metadata": {},
     "output_type": "execute_result"
    }
   ],
   "source": [
    "orm_to_df(ormq[:3])"
   ]
  },
  {
   "cell_type": "markdown",
   "id": "810a8d57",
   "metadata": {},
   "source": [
    "## Medium 19\n",
    "Show first_name, last_name, and the total number of admissions attended for each doctor.\n",
    "\n",
    "Every admission has been attended by a doctor."
   ]
  },
  {
   "cell_type": "code",
   "execution_count": 70,
   "id": "19a13ae6",
   "metadata": {},
   "outputs": [],
   "source": [
    "qstr = \"\"\"\n",
    "SELECT\n",
    "  first_name,\n",
    "  last_name,\n",
    "  COUNT(*) AS patient_count\n",
    "FROM admissions\n",
    "  JOIN doctors ON attending_doctor_id = doctor_id\n",
    "GROUP BY attending_doctor_id\n",
    "\"\"\"\n",
    "sqlq = sql_raw(qstr)"
   ]
  },
  {
   "cell_type": "code",
   "execution_count": 71,
   "id": "56ef8391",
   "metadata": {},
   "outputs": [
    {
     "name": "stdout",
     "output_type": "stream",
     "text": [
      "Equal ✔️\n",
      "SELECT COUNT(\"admissions\".\"attending_doctor_id\") AS \"patient_count\",\n",
      "       \"doctors\".\"first_name\" AS \"first_name\",\n",
      "       \"doctors\".\"last_name\" AS \"last_name\"\n",
      "FROM \"admissions\"\n",
      "INNER JOIN \"doctors\" ON (\"admissions\".\"attending_doctor_id\" = \"doctors\".\"doctor_id\")\n",
      "GROUP BY \"admissions\".\"attending_doctor_id\",\n",
      "         2,\n",
      "         3\n"
     ]
    }
   ],
   "source": [
    "ormq = (\n",
    "    Admissions.objects.values(\"attending_doctor_id\")\n",
    "    .annotate(patient_count=Count(\"attending_doctor_id\"))\n",
    "    .values(\n",
    "        \"patient_count\",\n",
    "        first_name=F(\"attending_doctor_id__first_name\"),\n",
    "        last_name=F(\"attending_doctor_id__last_name\"),\n",
    "    )\n",
    ")\n",
    "equal(sqlq, ormq)\n",
    "print_sql(ormq)"
   ]
  },
  {
   "cell_type": "code",
   "execution_count": 72,
   "id": "5c5f3789",
   "metadata": {},
   "outputs": [
    {
     "data": {
      "text/html": [
       "<div>\n",
       "<style scoped>\n",
       "    .dataframe tbody tr th:only-of-type {\n",
       "        vertical-align: middle;\n",
       "    }\n",
       "\n",
       "    .dataframe tbody tr th {\n",
       "        vertical-align: top;\n",
       "    }\n",
       "\n",
       "    .dataframe thead th {\n",
       "        text-align: right;\n",
       "    }\n",
       "</style>\n",
       "<table border=\"1\" class=\"dataframe\">\n",
       "  <thead>\n",
       "    <tr style=\"text-align: right;\">\n",
       "      <th></th>\n",
       "      <th>patient_count</th>\n",
       "      <th>first_name</th>\n",
       "      <th>last_name</th>\n",
       "    </tr>\n",
       "  </thead>\n",
       "  <tbody>\n",
       "    <tr>\n",
       "      <th>0</th>\n",
       "      <td>8</td>\n",
       "      <td>Maggie</td>\n",
       "      <td>Chen</td>\n",
       "    </tr>\n",
       "    <tr>\n",
       "      <th>1</th>\n",
       "      <td>8</td>\n",
       "      <td>Karen</td>\n",
       "      <td>Wong</td>\n",
       "    </tr>\n",
       "    <tr>\n",
       "      <th>2</th>\n",
       "      <td>7</td>\n",
       "      <td>Samuel</td>\n",
       "      <td>Nguyen</td>\n",
       "    </tr>\n",
       "  </tbody>\n",
       "</table>\n",
       "</div>"
      ],
      "text/plain": [
       "   patient_count first_name last_name\n",
       "0              8     Maggie      Chen\n",
       "1              8      Karen      Wong\n",
       "2              7     Samuel    Nguyen"
      ]
     },
     "execution_count": 72,
     "metadata": {},
     "output_type": "execute_result"
    }
   ],
   "source": [
    "orm_to_df(ormq[:3])"
   ]
  },
  {
   "cell_type": "markdown",
   "id": "229aea03",
   "metadata": {},
   "source": [
    "## Medium 20\n",
    "For each doctor, display their id, full name, and the first and last admission date they attended."
   ]
  },
  {
   "cell_type": "code",
   "execution_count": 73,
   "id": "70ff9851",
   "metadata": {},
   "outputs": [],
   "source": [
    "qstr = \"\"\"\n",
    "SELECT\n",
    "  doctor_id,\n",
    "  first_name || ' ' || last_name AS full_name,\n",
    "  MIN(admission_date) AS min_admission,\n",
    "  MAX(admission_date) AS max_admission\n",
    "FROM doctors\n",
    "  JOIN admissions ON attending_doctor_id = doctor_id\n",
    "GROUP BY doctor_id\n",
    "\"\"\"\n",
    "sqlq = sql_raw(qstr)"
   ]
  },
  {
   "cell_type": "code",
   "execution_count": 74,
   "id": "5a6664a5",
   "metadata": {},
   "outputs": [
    {
     "name": "stdout",
     "output_type": "stream",
     "text": [
      "Equal ✔️\n",
      "SELECT CAST(MIN(\"admissions\".\"admission_date\") AS text) AS \"min_admission\",\n",
      "       CAST(MAX(\"admissions\".\"admission_date\") AS text) AS \"max_admission\",\n",
      "       \"admissions\".\"attending_doctor_id\" AS \"doctor_id\",\n",
      "       COALESCE(\"doctors\".\"first_name\",) || COALESCE(COALESCE(,) || COALESCE(\"doctors\".\"last_name\",),) AS \"full_name\"\n",
      "FROM \"admissions\"\n",
      "INNER JOIN \"doctors\" ON (\"admissions\".\"attending_doctor_id\" = \"doctors\".\"doctor_id\")\n",
      "GROUP BY 3,\n",
      "         4\n"
     ]
    }
   ],
   "source": [
    "ormq = (\n",
    "    Admissions.objects.values(\"attending_doctor_id\")\n",
    "    .annotate(\n",
    "        min_admission=Cast(Min(\"admission_date\"), CharField()),\n",
    "        max_admission=Cast(Max(\"admission_date\"), CharField()),\n",
    "    )\n",
    "    .values(\n",
    "        \"min_admission\",\n",
    "        \"max_admission\",\n",
    "        doctor_id=F(\"attending_doctor_id\"),\n",
    "        full_name=Concat(\n",
    "            F(\"attending_doctor_id__first_name\"),\n",
    "            Value(\" \"),\n",
    "            F(\"attending_doctor_id__last_name\"),\n",
    "        ),\n",
    "    )\n",
    ")\n",
    "\n",
    "equal(sqlq, ormq)\n",
    "print_sql(ormq)"
   ]
  },
  {
   "cell_type": "code",
   "execution_count": 75,
   "id": "b40c7991",
   "metadata": {},
   "outputs": [
    {
     "data": {
      "text/html": [
       "<div>\n",
       "<style scoped>\n",
       "    .dataframe tbody tr th:only-of-type {\n",
       "        vertical-align: middle;\n",
       "    }\n",
       "\n",
       "    .dataframe tbody tr th {\n",
       "        vertical-align: top;\n",
       "    }\n",
       "\n",
       "    .dataframe thead th {\n",
       "        text-align: right;\n",
       "    }\n",
       "</style>\n",
       "<table border=\"1\" class=\"dataframe\">\n",
       "  <thead>\n",
       "    <tr style=\"text-align: right;\">\n",
       "      <th></th>\n",
       "      <th>min_admission</th>\n",
       "      <th>max_admission</th>\n",
       "      <th>doctor_id</th>\n",
       "      <th>full_name</th>\n",
       "    </tr>\n",
       "  </thead>\n",
       "  <tbody>\n",
       "    <tr>\n",
       "      <th>0</th>\n",
       "      <td>2022-01-08</td>\n",
       "      <td>2022-06-11</td>\n",
       "      <td>1</td>\n",
       "      <td>Maggie Chen</td>\n",
       "    </tr>\n",
       "    <tr>\n",
       "      <th>1</th>\n",
       "      <td>2022-01-15</td>\n",
       "      <td>2022-06-18</td>\n",
       "      <td>2</td>\n",
       "      <td>Karen Wong</td>\n",
       "    </tr>\n",
       "    <tr>\n",
       "      <th>2</th>\n",
       "      <td>2022-01-01</td>\n",
       "      <td>2022-05-27</td>\n",
       "      <td>3</td>\n",
       "      <td>Samuel Nguyen</td>\n",
       "    </tr>\n",
       "  </tbody>\n",
       "</table>\n",
       "</div>"
      ],
      "text/plain": [
       "  min_admission max_admission  doctor_id      full_name\n",
       "0    2022-01-08    2022-06-11          1    Maggie Chen\n",
       "1    2022-01-15    2022-06-18          2     Karen Wong\n",
       "2    2022-01-01    2022-05-27          3  Samuel Nguyen"
      ]
     },
     "execution_count": 75,
     "metadata": {},
     "output_type": "execute_result"
    }
   ],
   "source": [
    "orm_to_df(ormq[:3])"
   ]
  },
  {
   "cell_type": "markdown",
   "id": "c2d35cf4",
   "metadata": {},
   "source": [
    "## Medium 21\n",
    "Display the total amount of patients for each province. Order by descending."
   ]
  },
  {
   "cell_type": "code",
   "execution_count": 76,
   "id": "ad0361e6",
   "metadata": {},
   "outputs": [],
   "source": [
    "qstr = \"\"\"\n",
    "SELECT\n",
    "  pn.province_name,\n",
    "  count(patient_id) population\n",
    "FROM patients p\n",
    "  JOIN province_names pn ON p.province_id = pn.province_id\n",
    "GROUP BY pn.province_id\n",
    "ORDER BY population desc\n",
    "\"\"\"\n",
    "sqlq = sql_raw(qstr)"
   ]
  },
  {
   "cell_type": "code",
   "execution_count": 77,
   "id": "9508b391",
   "metadata": {},
   "outputs": [
    {
     "name": "stdout",
     "output_type": "stream",
     "text": [
      "Equal ✔️\n",
      "SELECT COUNT(\"patients\".\"province_id\") AS \"population\",\n",
      "       \"province_names\".\"province_name\" AS \"province_name\"\n",
      "FROM \"patients\"\n",
      "INNER JOIN \"province_names\" ON (\"patients\".\"province_id\" = \"province_names\".\"province_id\")\n",
      "WHERE \"province_names\".\"province_name\" IS NOT NULL\n",
      "GROUP BY \"patients\".\"province_id\",\n",
      "         2\n",
      "ORDER BY 1 DESC\n"
     ]
    }
   ],
   "source": [
    "ormq = (\n",
    "    Patients.objects.values(\"province\")\n",
    "    .annotate(population=Count(\"province\"))\n",
    "    .filter(province__name__isnull=False)\n",
    "    .order_by(\"-population\")\n",
    "    .values(\"population\", province_name=F(\"province__name\"))\n",
    ")\n",
    "\n",
    "equal(sqlq, ormq)\n",
    "print_sql(ormq)"
   ]
  },
  {
   "cell_type": "code",
   "execution_count": 78,
   "id": "b6dd0ba1",
   "metadata": {},
   "outputs": [
    {
     "data": {
      "text/html": [
       "<div>\n",
       "<style scoped>\n",
       "    .dataframe tbody tr th:only-of-type {\n",
       "        vertical-align: middle;\n",
       "    }\n",
       "\n",
       "    .dataframe tbody tr th {\n",
       "        vertical-align: top;\n",
       "    }\n",
       "\n",
       "    .dataframe thead th {\n",
       "        text-align: right;\n",
       "    }\n",
       "</style>\n",
       "<table border=\"1\" class=\"dataframe\">\n",
       "  <thead>\n",
       "    <tr style=\"text-align: right;\">\n",
       "      <th></th>\n",
       "      <th>population</th>\n",
       "      <th>province_name</th>\n",
       "    </tr>\n",
       "  </thead>\n",
       "  <tbody>\n",
       "    <tr>\n",
       "      <th>0</th>\n",
       "      <td>25</td>\n",
       "      <td>British Columbia</td>\n",
       "    </tr>\n",
       "    <tr>\n",
       "      <th>1</th>\n",
       "      <td>25</td>\n",
       "      <td>Ontario</td>\n",
       "    </tr>\n",
       "    <tr>\n",
       "      <th>2</th>\n",
       "      <td>14</td>\n",
       "      <td>Quebec</td>\n",
       "    </tr>\n",
       "    <tr>\n",
       "      <th>3</th>\n",
       "      <td>13</td>\n",
       "      <td>Alberta</td>\n",
       "    </tr>\n",
       "    <tr>\n",
       "      <th>4</th>\n",
       "      <td>12</td>\n",
       "      <td>Manitoba</td>\n",
       "    </tr>\n",
       "    <tr>\n",
       "      <th>5</th>\n",
       "      <td>12</td>\n",
       "      <td>Nova Scotia</td>\n",
       "    </tr>\n",
       "  </tbody>\n",
       "</table>\n",
       "</div>"
      ],
      "text/plain": [
       "   population     province_name\n",
       "0          25  British Columbia\n",
       "1          25           Ontario\n",
       "2          14            Quebec\n",
       "3          13           Alberta\n",
       "4          12          Manitoba\n",
       "5          12       Nova Scotia"
      ]
     },
     "execution_count": 78,
     "metadata": {},
     "output_type": "execute_result"
    }
   ],
   "source": [
    "orm_to_df(ormq)"
   ]
  },
  {
   "cell_type": "markdown",
   "id": "18217c39",
   "metadata": {},
   "source": [
    "## Medium 22\n",
    "For every admission, display the patient's full name, their admission diagnosis, and their doctor's full name who diagnosed their problem."
   ]
  },
  {
   "cell_type": "code",
   "execution_count": 79,
   "id": "db427fff",
   "metadata": {},
   "outputs": [],
   "source": [
    "qstr = \"\"\"\n",
    "SELECT\n",
    "  p.first_name || ' ' || p.last_name AS patient_name,\n",
    "  diagnosis,\n",
    "  d.first_name || ' ' || d.last_name AS doctor_name\n",
    "FROM patients p\n",
    "  JOIN admissions a ON p.patient_id = a.patient_id\n",
    "  JOIN doctors d ON a.attending_doctor_id = d.doctor_id\n",
    "\"\"\"\n",
    "sqlq = sql_raw(qstr)"
   ]
  },
  {
   "cell_type": "code",
   "execution_count": 80,
   "id": "33e81ad1",
   "metadata": {},
   "outputs": [
    {
     "name": "stdout",
     "output_type": "stream",
     "text": [
      "Equal ✔️\n",
      "SELECT \"admissions\".\"diagnosis\",\n",
      "       COALESCE(\"patients\".\"first_name\",) || COALESCE(COALESCE(,) || COALESCE(\"patients\".\"last_name\",),) AS \"patient_name\",\n",
      "       COALESCE(\"doctors\".\"first_name\",) || COALESCE(COALESCE(,) || COALESCE(\"doctors\".\"last_name\",),) AS \"doctor_name\"\n",
      "FROM \"admissions\"\n",
      "INNER JOIN \"patients\" ON (\"admissions\".\"patient_id\" = \"patients\".\"patient_id\")\n",
      "INNER JOIN \"doctors\" ON (\"admissions\".\"attending_doctor_id\" = \"doctors\".\"doctor_id\")\n"
     ]
    }
   ],
   "source": [
    "ormq = Admissions.objects.values(\n",
    "    \"diagnosis\",\n",
    "    patient_name=Concat(F(\"patient__first_name\"), Value(\" \"), F(\"patient__last_name\")),\n",
    "    doctor_name=Concat(\n",
    "        F(\"attending_doctor__first_name\"), Value(\" \"), F(\"attending_doctor__last_name\")\n",
    "    ),\n",
    ")\n",
    "\n",
    "equal(sqlq, ormq)\n",
    "print_sql(ormq)"
   ]
  },
  {
   "cell_type": "code",
   "execution_count": 81,
   "id": "b00fef4c",
   "metadata": {},
   "outputs": [
    {
     "data": {
      "text/html": [
       "<div>\n",
       "<style scoped>\n",
       "    .dataframe tbody tr th:only-of-type {\n",
       "        vertical-align: middle;\n",
       "    }\n",
       "\n",
       "    .dataframe tbody tr th {\n",
       "        vertical-align: top;\n",
       "    }\n",
       "\n",
       "    .dataframe thead th {\n",
       "        text-align: right;\n",
       "    }\n",
       "</style>\n",
       "<table border=\"1\" class=\"dataframe\">\n",
       "  <thead>\n",
       "    <tr style=\"text-align: right;\">\n",
       "      <th></th>\n",
       "      <th>diagnosis</th>\n",
       "      <th>patient_name</th>\n",
       "      <th>doctor_name</th>\n",
       "    </tr>\n",
       "  </thead>\n",
       "  <tbody>\n",
       "    <tr>\n",
       "      <th>0</th>\n",
       "      <td>Bronchitis</td>\n",
       "      <td>Cheryl Mason</td>\n",
       "      <td>Samuel Nguyen</td>\n",
       "    </tr>\n",
       "    <tr>\n",
       "      <th>1</th>\n",
       "      <td>Migraine</td>\n",
       "      <td>Jason Fleming</td>\n",
       "      <td>Lisa Tran</td>\n",
       "    </tr>\n",
       "    <tr>\n",
       "      <th>2</th>\n",
       "      <td>Pneumonia</td>\n",
       "      <td>Tiffany McDonald</td>\n",
       "      <td>Catherine Cheng</td>\n",
       "    </tr>\n",
       "  </tbody>\n",
       "</table>\n",
       "</div>"
      ],
      "text/plain": [
       "    diagnosis      patient_name      doctor_name\n",
       "0  Bronchitis      Cheryl Mason    Samuel Nguyen\n",
       "1    Migraine     Jason Fleming        Lisa Tran\n",
       "2   Pneumonia  Tiffany McDonald  Catherine Cheng"
      ]
     },
     "execution_count": 81,
     "metadata": {},
     "output_type": "execute_result"
    }
   ],
   "source": [
    "orm_to_df(ormq[:3])"
   ]
  },
  {
   "cell_type": "markdown",
   "id": "5fbdbe81",
   "metadata": {},
   "source": [
    "## Medium 23\n",
    "display the number of duplicate patients based on their first_name and last_name."
   ]
  },
  {
   "cell_type": "code",
   "execution_count": 82,
   "id": "0486d55d",
   "metadata": {},
   "outputs": [],
   "source": [
    "# use YEAR(birth_date) if year function is available\n",
    "qstr = \"\"\"\n",
    "SELECT\n",
    "  first_name,\n",
    "  last_name,\n",
    "  count(*) duplicates\n",
    "FROM patients\n",
    "GROUP BY\n",
    "  first_name,\n",
    "  last_name\n",
    "HAVING COUNT(*) > 1\n",
    "\"\"\"\n",
    "sqlq = sql_raw(qstr)"
   ]
  },
  {
   "cell_type": "code",
   "execution_count": 83,
   "id": "06f11f1a",
   "metadata": {},
   "outputs": [
    {
     "name": "stdout",
     "output_type": "stream",
     "text": [
      "Equal ✔️\n",
      "SELECT \"patients\".\"first_name\",\n",
      "       \"patients\".\"last_name\",\n",
      "       COUNT(\"patients\".\"patient_id\") AS \"duplicates\"\n",
      "FROM \"patients\"\n",
      "GROUP BY \"patients\".\"first_name\",\n",
      "         \"patients\".\"last_name\"\n",
      "HAVING COUNT(\"patients\".\"patient_id\") > 1\n"
     ]
    }
   ],
   "source": [
    "ormq = (\n",
    "    Patients.objects.values(\"first_name\", \"last_name\")\n",
    "    .annotate(duplicates=Count(\"id\"))\n",
    "    .filter(duplicates__gt=1)\n",
    ")\n",
    "\n",
    "equal(sqlq, ormq)\n",
    "print_sql(ormq)"
   ]
  },
  {
   "cell_type": "code",
   "execution_count": 84,
   "id": "9deec97c",
   "metadata": {},
   "outputs": [
    {
     "data": {
      "text/html": [
       "<div>\n",
       "<style scoped>\n",
       "    .dataframe tbody tr th:only-of-type {\n",
       "        vertical-align: middle;\n",
       "    }\n",
       "\n",
       "    .dataframe tbody tr th {\n",
       "        vertical-align: top;\n",
       "    }\n",
       "\n",
       "    .dataframe thead th {\n",
       "        text-align: right;\n",
       "    }\n",
       "</style>\n",
       "<table border=\"1\" class=\"dataframe\">\n",
       "  <thead>\n",
       "    <tr style=\"text-align: right;\">\n",
       "      <th></th>\n",
       "      <th>first_name</th>\n",
       "      <th>last_name</th>\n",
       "      <th>duplicates</th>\n",
       "    </tr>\n",
       "  </thead>\n",
       "  <tbody>\n",
       "    <tr>\n",
       "      <th>0</th>\n",
       "      <td>Emma</td>\n",
       "      <td>Gagnon</td>\n",
       "      <td>2</td>\n",
       "    </tr>\n",
       "    <tr>\n",
       "      <th>1</th>\n",
       "      <td>Isaac</td>\n",
       "      <td>Nguyen</td>\n",
       "      <td>2</td>\n",
       "    </tr>\n",
       "    <tr>\n",
       "      <th>2</th>\n",
       "      <td>Nora</td>\n",
       "      <td>Singh</td>\n",
       "      <td>2</td>\n",
       "    </tr>\n",
       "  </tbody>\n",
       "</table>\n",
       "</div>"
      ],
      "text/plain": [
       "  first_name last_name  duplicates\n",
       "0       Emma    Gagnon           2\n",
       "1      Isaac    Nguyen           2\n",
       "2       Nora     Singh           2"
      ]
     },
     "execution_count": 84,
     "metadata": {},
     "output_type": "execute_result"
    }
   ],
   "source": [
    "orm_to_df(ormq[:3])"
   ]
  },
  {
   "cell_type": "markdown",
   "id": "536c8927",
   "metadata": {},
   "source": [
    "## Medium 24\n",
    "Display patient's full name,\n",
    "height in the units feet rounded to 1 decimal,\n",
    "weight in the unit pounds rounded to 0 decimals,\n",
    "birth_date,\n",
    "gender non abbreviated.\n",
    "\n",
    "Convert CM to feet by dividing by 30.48.\n",
    "Convert KG to pounds by multiplying by 2.205."
   ]
  },
  {
   "cell_type": "code",
   "execution_count": 85,
   "id": "d8b4428c",
   "metadata": {},
   "outputs": [],
   "source": [
    "qstr = \"\"\"\n",
    "SELECT\n",
    "  first_name || ' ' || last_name AS full_name,\n",
    "  ROUND(height / 30.48, 1) AS height_inc,\n",
    "  ROUND(weight * 2.205, 0) AS weight_pound,\n",
    "  birth_date,\n",
    "  CASE\n",
    "    WHEN gender = 'M' THEN 'Male'\n",
    "    WHEN gender = 'F' THEN 'Female'\n",
    "  END AS gender_full\n",
    "FROM patients\n",
    "\"\"\"\n",
    "sqlq = sql_raw(qstr)"
   ]
  },
  {
   "cell_type": "code",
   "execution_count": 86,
   "id": "40c0979b",
   "metadata": {},
   "outputs": [
    {
     "name": "stdout",
     "output_type": "stream",
     "text": [
      "Equal ✔️\n",
      "SELECT \"patients\".\"birth_date\",\n",
      "       COALESCE(\"patients\".\"first_name\",) || COALESCE(COALESCE(,) || COALESCE(\"patients\".\"last_name\",),) AS \"full_name\",\n",
      "       ROUND((\"patients\".\"height\" / 30.48), 1) AS \"height_inc\",\n",
      "       ROUND((\"patients\".\"weight\" * 2.205), 0) AS \"weight_pound\",\n",
      "       CASE\n",
      "           WHEN \"patients\".\"gender\" = M THEN Male\n",
      "           WHEN \"patients\".\"gender\" = F THEN Female\n",
      "           ELSE NULL\n",
      "       END AS \"gender_full\"\n",
      "FROM \"patients\"\n"
     ]
    }
   ],
   "source": [
    "ormq = Patients.objects.values(\n",
    "    \"birth_date\",\n",
    "    full_name=Concat(F(\"first_name\"), Value(\" \"), F(\"last_name\")),\n",
    "    height_inc=Round(F(\"height\") / 30.48, 1),\n",
    "    weight_pound=Round(F(\"weight\") * 2.205, 0),\n",
    "    gender_full=Case(\n",
    "        When(gender=\"M\", then=Value(\"Male\")), When(gender=\"F\", then=Value(\"Female\"))\n",
    "    ),\n",
    ")\n",
    "\n",
    "equal(sqlq, ormq)\n",
    "print_sql(ormq)"
   ]
  },
  {
   "cell_type": "code",
   "execution_count": 87,
   "id": "9dc606b4",
   "metadata": {},
   "outputs": [
    {
     "data": {
      "text/html": [
       "<div>\n",
       "<style scoped>\n",
       "    .dataframe tbody tr th:only-of-type {\n",
       "        vertical-align: middle;\n",
       "    }\n",
       "\n",
       "    .dataframe tbody tr th {\n",
       "        vertical-align: top;\n",
       "    }\n",
       "\n",
       "    .dataframe thead th {\n",
       "        text-align: right;\n",
       "    }\n",
       "</style>\n",
       "<table border=\"1\" class=\"dataframe\">\n",
       "  <thead>\n",
       "    <tr style=\"text-align: right;\">\n",
       "      <th></th>\n",
       "      <th>birth_date</th>\n",
       "      <th>full_name</th>\n",
       "      <th>height_inc</th>\n",
       "      <th>weight_pound</th>\n",
       "      <th>gender_full</th>\n",
       "    </tr>\n",
       "  </thead>\n",
       "  <tbody>\n",
       "    <tr>\n",
       "      <th>0</th>\n",
       "      <td>1978-05-14</td>\n",
       "      <td>Cheryl Mason</td>\n",
       "      <td>5.6</td>\n",
       "      <td>143.0</td>\n",
       "      <td>Female</td>\n",
       "    </tr>\n",
       "    <tr>\n",
       "      <th>1</th>\n",
       "      <td>1990-08-02</td>\n",
       "      <td>Jason Fleming</td>\n",
       "      <td>6.1</td>\n",
       "      <td>176.0</td>\n",
       "      <td>Male</td>\n",
       "    </tr>\n",
       "    <tr>\n",
       "      <th>2</th>\n",
       "      <td>1985-03-27</td>\n",
       "      <td>Tiffany McDonald</td>\n",
       "      <td>5.1</td>\n",
       "      <td>128.0</td>\n",
       "      <td>Female</td>\n",
       "    </tr>\n",
       "  </tbody>\n",
       "</table>\n",
       "</div>"
      ],
      "text/plain": [
       "   birth_date         full_name  height_inc  weight_pound gender_full\n",
       "0  1978-05-14      Cheryl Mason         5.6         143.0      Female\n",
       "1  1990-08-02     Jason Fleming         6.1         176.0        Male\n",
       "2  1985-03-27  Tiffany McDonald         5.1         128.0      Female"
      ]
     },
     "execution_count": 87,
     "metadata": {},
     "output_type": "execute_result"
    }
   ],
   "source": [
    "orm_to_df(ormq[:3])"
   ]
  },
  {
   "cell_type": "markdown",
   "id": "9f46c8e7",
   "metadata": {},
   "source": [
    "## Medium 25\n",
    "Show patient_id, first_name, last_name from patients whose does not have any records in the admissions table. (Their patient_id does not exist in any admissions.patient_id rows.)"
   ]
  },
  {
   "cell_type": "code",
   "execution_count": 88,
   "id": "cca87548",
   "metadata": {},
   "outputs": [],
   "source": [
    "qstr = \"\"\"\n",
    "SELECT\n",
    "  patient_id,\n",
    "  first_name,\n",
    "  last_name\n",
    "FROM patients\n",
    "WHERE patient_id NOT IN (\n",
    "    SELECT patient_id\n",
    "    FROM admissions\n",
    "  )\n",
    "\"\"\"\n",
    "sqlq = sql_raw(qstr)"
   ]
  },
  {
   "cell_type": "code",
   "execution_count": 89,
   "id": "8323af94",
   "metadata": {},
   "outputs": [
    {
     "name": "stdout",
     "output_type": "stream",
     "text": [
      "Equal ✔️\n",
      "SELECT \"patients\".\"first_name\",\n",
      "       \"patients\".\"last_name\",\n",
      "       \"patients\".\"patient_id\" AS \"patient_id\"\n",
      "FROM \"patients\"\n",
      "WHERE NOT (\"patients\".\"patient_id\" IN\n",
      "             (SELECT U0.\"patient_id\"\n",
      "              FROM \"admissions\" U0))\n"
     ]
    }
   ],
   "source": [
    "ormq = Patients.objects.filter(\n",
    "    ~Q(id__in=Subquery(Admissions.objects.values(\"patient_id\")))\n",
    ").values(\n",
    "    \"first_name\",\n",
    "    \"last_name\",\n",
    "    patient_id=F(\"id\"),\n",
    ")\n",
    "\n",
    "equal(sqlq, ormq)\n",
    "print_sql(ormq)"
   ]
  },
  {
   "cell_type": "code",
   "execution_count": 90,
   "id": "e574a632",
   "metadata": {},
   "outputs": [
    {
     "data": {
      "text/html": [
       "<div>\n",
       "<style scoped>\n",
       "    .dataframe tbody tr th:only-of-type {\n",
       "        vertical-align: middle;\n",
       "    }\n",
       "\n",
       "    .dataframe tbody tr th {\n",
       "        vertical-align: top;\n",
       "    }\n",
       "\n",
       "    .dataframe thead th {\n",
       "        text-align: right;\n",
       "    }\n",
       "</style>\n",
       "<table border=\"1\" class=\"dataframe\">\n",
       "  <thead>\n",
       "    <tr style=\"text-align: right;\">\n",
       "      <th></th>\n",
       "      <th>patient_id</th>\n",
       "      <th>first_name</th>\n",
       "      <th>last_name</th>\n",
       "    </tr>\n",
       "  </thead>\n",
       "  <tbody>\n",
       "    <tr>\n",
       "      <th>0</th>\n",
       "      <td>101</td>\n",
       "      <td>Edward</td>\n",
       "      <td>Kenway</td>\n",
       "    </tr>\n",
       "  </tbody>\n",
       "</table>\n",
       "</div>"
      ],
      "text/plain": [
       "   patient_id first_name last_name\n",
       "0         101     Edward    Kenway"
      ]
     },
     "execution_count": 90,
     "metadata": {},
     "output_type": "execute_result"
    }
   ],
   "source": [
    "orm_to_df(sqlq)"
   ]
  }
 ],
 "metadata": {
  "kernelspec": {
   "display_name": "Django Shell-Plus",
   "language": "python",
   "name": "django_extensions"
  },
  "language_info": {
   "codemirror_mode": {
    "name": "ipython",
    "version": 3
   },
   "file_extension": ".py",
   "mimetype": "text/x-python",
   "name": "python",
   "nbconvert_exporter": "python",
   "pygments_lexer": "ipython3",
   "version": "3.9.0"
  }
 },
 "nbformat": 4,
 "nbformat_minor": 5
}
