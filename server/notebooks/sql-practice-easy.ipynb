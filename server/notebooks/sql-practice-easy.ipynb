{
 "cells": [
  {
   "cell_type": "code",
   "execution_count": 1,
   "id": "079dd83c",
   "metadata": {},
   "outputs": [],
   "source": [
    "import os\n",
    "\n",
    "os.environ[\"DJANGO_ALLOW_ASYNC_UNSAFE\"] = \"true\"\n",
    "from utils import *"
   ]
  },
  {
   "cell_type": "code",
   "execution_count": 2,
   "id": "adb90216",
   "metadata": {},
   "outputs": [],
   "source": [
    "from django.db.models import (\n",
    "    Q,\n",
    "    F,\n",
    "    Case,\n",
    "    When,\n",
    "    Count,\n",
    "    Func,\n",
    "    Min,\n",
    "    Max,\n",
    "    Sum,\n",
    "    Avg,\n",
    "    Value,\n",
    "    OuterRef,\n",
    "    Subquery,\n",
    "    CharField,\n",
    ")\n",
    "from django.db.models.functions import Concat, Cast, Round, Length\n",
    "from django.db import connection\n",
    "from customer_db.models import Provinces, Patients, Doctors, Admissions"
   ]
  },
  {
   "cell_type": "markdown",
   "id": "964f35c8",
   "metadata": {},
   "source": [
    "## Testing some basic queries"
   ]
  },
  {
   "cell_type": "code",
   "execution_count": 3,
   "id": "4003828f",
   "metadata": {},
   "outputs": [
    {
     "data": {
      "text/html": [
       "<div>\n",
       "<style scoped>\n",
       "    .dataframe tbody tr th:only-of-type {\n",
       "        vertical-align: middle;\n",
       "    }\n",
       "\n",
       "    .dataframe tbody tr th {\n",
       "        vertical-align: top;\n",
       "    }\n",
       "\n",
       "    .dataframe thead th {\n",
       "        text-align: right;\n",
       "    }\n",
       "</style>\n",
       "<table border=\"1\" class=\"dataframe\">\n",
       "  <thead>\n",
       "    <tr style=\"text-align: right;\">\n",
       "      <th></th>\n",
       "      <th>patient_id</th>\n",
       "      <th>first_name</th>\n",
       "      <th>last_name</th>\n",
       "      <th>gender</th>\n",
       "      <th>birth_date</th>\n",
       "      <th>city</th>\n",
       "      <th>allergies</th>\n",
       "      <th>height</th>\n",
       "      <th>weight</th>\n",
       "      <th>province_id</th>\n",
       "    </tr>\n",
       "  </thead>\n",
       "  <tbody>\n",
       "    <tr>\n",
       "      <th>0</th>\n",
       "      <td>1</td>\n",
       "      <td>Cheryl</td>\n",
       "      <td>Mason</td>\n",
       "      <td>F</td>\n",
       "      <td>1978-05-14</td>\n",
       "      <td>Toronto</td>\n",
       "      <td>Peanuts</td>\n",
       "      <td>170</td>\n",
       "      <td>65</td>\n",
       "      <td>ON</td>\n",
       "    </tr>\n",
       "    <tr>\n",
       "      <th>1</th>\n",
       "      <td>2</td>\n",
       "      <td>Jason</td>\n",
       "      <td>Fleming</td>\n",
       "      <td>M</td>\n",
       "      <td>1990-08-02</td>\n",
       "      <td>Vancouver</td>\n",
       "      <td>Sulfa drugs</td>\n",
       "      <td>185</td>\n",
       "      <td>80</td>\n",
       "      <td>BC</td>\n",
       "    </tr>\n",
       "    <tr>\n",
       "      <th>2</th>\n",
       "      <td>3</td>\n",
       "      <td>Tiffany</td>\n",
       "      <td>McDonald</td>\n",
       "      <td>F</td>\n",
       "      <td>1985-03-27</td>\n",
       "      <td>Calgary</td>\n",
       "      <td>Lactose</td>\n",
       "      <td>155</td>\n",
       "      <td>58</td>\n",
       "      <td>AB</td>\n",
       "    </tr>\n",
       "  </tbody>\n",
       "</table>\n",
       "</div>"
      ],
      "text/plain": [
       "   patient_id first_name last_name gender  birth_date       city    allergies  \\\n",
       "0           1     Cheryl     Mason      F  1978-05-14    Toronto      Peanuts   \n",
       "1           2      Jason   Fleming      M  1990-08-02  Vancouver  Sulfa drugs   \n",
       "2           3    Tiffany  McDonald      F  1985-03-27    Calgary      Lactose   \n",
       "\n",
       "   height  weight province_id  \n",
       "0     170      65          ON  \n",
       "1     185      80          BC  \n",
       "2     155      58          AB  "
      ]
     },
     "execution_count": 3,
     "metadata": {},
     "output_type": "execute_result"
    }
   ],
   "source": [
    "sqlq = sql_raw(\"SELECT * FROM Patients LIMIT 3\")\n",
    "sql_to_df(sqlq)"
   ]
  },
  {
   "cell_type": "code",
   "execution_count": 4,
   "id": "2e79d9b7",
   "metadata": {},
   "outputs": [],
   "source": [
    "patient_fields = [\n",
    "    \"first_name\",\n",
    "    \"last_name\",\n",
    "    \"gender\",\n",
    "    \"birth_date\",\n",
    "    \"city\",\n",
    "    \"province_id\",\n",
    "    \"allergies\",\n",
    "    \"height\",\n",
    "    \"weight\",\n",
    "]"
   ]
  },
  {
   "cell_type": "code",
   "execution_count": 5,
   "id": "3eb54b50",
   "metadata": {},
   "outputs": [
    {
     "data": {
      "text/html": [
       "<div>\n",
       "<style scoped>\n",
       "    .dataframe tbody tr th:only-of-type {\n",
       "        vertical-align: middle;\n",
       "    }\n",
       "\n",
       "    .dataframe tbody tr th {\n",
       "        vertical-align: top;\n",
       "    }\n",
       "\n",
       "    .dataframe thead th {\n",
       "        text-align: right;\n",
       "    }\n",
       "</style>\n",
       "<table border=\"1\" class=\"dataframe\">\n",
       "  <thead>\n",
       "    <tr style=\"text-align: right;\">\n",
       "      <th></th>\n",
       "      <th>first_name</th>\n",
       "      <th>last_name</th>\n",
       "      <th>gender</th>\n",
       "      <th>birth_date</th>\n",
       "      <th>city</th>\n",
       "      <th>province_id</th>\n",
       "      <th>allergies</th>\n",
       "      <th>height</th>\n",
       "      <th>weight</th>\n",
       "      <th>patient_id</th>\n",
       "    </tr>\n",
       "  </thead>\n",
       "  <tbody>\n",
       "    <tr>\n",
       "      <th>0</th>\n",
       "      <td>Cheryl</td>\n",
       "      <td>Mason</td>\n",
       "      <td>F</td>\n",
       "      <td>1978-05-14</td>\n",
       "      <td>Toronto</td>\n",
       "      <td>ON</td>\n",
       "      <td>Peanuts</td>\n",
       "      <td>170</td>\n",
       "      <td>65</td>\n",
       "      <td>1</td>\n",
       "    </tr>\n",
       "    <tr>\n",
       "      <th>1</th>\n",
       "      <td>Jason</td>\n",
       "      <td>Fleming</td>\n",
       "      <td>M</td>\n",
       "      <td>1990-08-02</td>\n",
       "      <td>Vancouver</td>\n",
       "      <td>BC</td>\n",
       "      <td>Sulfa drugs</td>\n",
       "      <td>185</td>\n",
       "      <td>80</td>\n",
       "      <td>2</td>\n",
       "    </tr>\n",
       "    <tr>\n",
       "      <th>2</th>\n",
       "      <td>Tiffany</td>\n",
       "      <td>McDonald</td>\n",
       "      <td>F</td>\n",
       "      <td>1985-03-27</td>\n",
       "      <td>Calgary</td>\n",
       "      <td>AB</td>\n",
       "      <td>Lactose</td>\n",
       "      <td>155</td>\n",
       "      <td>58</td>\n",
       "      <td>3</td>\n",
       "    </tr>\n",
       "  </tbody>\n",
       "</table>\n",
       "</div>"
      ],
      "text/plain": [
       "  first_name last_name gender  birth_date       city province_id    allergies  \\\n",
       "0     Cheryl     Mason      F  1978-05-14    Toronto          ON      Peanuts   \n",
       "1      Jason   Fleming      M  1990-08-02  Vancouver          BC  Sulfa drugs   \n",
       "2    Tiffany  McDonald      F  1985-03-27    Calgary          AB      Lactose   \n",
       "\n",
       "   height  weight  patient_id  \n",
       "0     170      65           1  \n",
       "1     185      80           2  \n",
       "2     155      58           3  "
      ]
     },
     "execution_count": 5,
     "metadata": {},
     "output_type": "execute_result"
    }
   ],
   "source": [
    "ormq = Patients.objects.values(patient_id=F(\"id\"), *patient_fields)[:3]\n",
    "orm_to_df(ormq)"
   ]
  },
  {
   "cell_type": "code",
   "execution_count": 6,
   "id": "390ca73c",
   "metadata": {},
   "outputs": [
    {
     "name": "stdout",
     "output_type": "stream",
     "text": [
      "Equal ✔️\n"
     ]
    }
   ],
   "source": [
    "equal(sqlq, ormq)"
   ]
  },
  {
   "cell_type": "markdown",
   "id": "a18a2cf4",
   "metadata": {},
   "source": [
    "## Easy 1\n",
    "Show first name, last name, and gender of patients who's gender is 'M'"
   ]
  },
  {
   "cell_type": "code",
   "execution_count": 7,
   "id": "e8abf1ae",
   "metadata": {},
   "outputs": [],
   "source": [
    "qstr = \"\"\"\n",
    "SELECT\n",
    "  first_name,\n",
    "  last_name,\n",
    "  gender\n",
    "FROM Patients\n",
    "WHERE gender = 'M';\n",
    "\"\"\"\n",
    "sqlq = sql_raw(qstr)"
   ]
  },
  {
   "cell_type": "code",
   "execution_count": 8,
   "id": "d696b631",
   "metadata": {},
   "outputs": [
    {
     "name": "stdout",
     "output_type": "stream",
     "text": [
      "Equal ✔️\n",
      "SELECT \"patients\".\"first_name\",\n",
      "       \"patients\".\"last_name\",\n",
      "       \"patients\".\"gender\"\n",
      "FROM \"patients\"\n",
      "WHERE \"patients\".\"gender\" = M\n"
     ]
    }
   ],
   "source": [
    "ormq = Patients.objects.filter(gender=\"M\").values(\"first_name\", \"last_name\", \"gender\")\n",
    "equal(sqlq, ormq)\n",
    "print_sql(ormq)"
   ]
  },
  {
   "cell_type": "code",
   "execution_count": 9,
   "id": "fb8aa872",
   "metadata": {},
   "outputs": [
    {
     "data": {
      "text/html": [
       "<div>\n",
       "<style scoped>\n",
       "    .dataframe tbody tr th:only-of-type {\n",
       "        vertical-align: middle;\n",
       "    }\n",
       "\n",
       "    .dataframe tbody tr th {\n",
       "        vertical-align: top;\n",
       "    }\n",
       "\n",
       "    .dataframe thead th {\n",
       "        text-align: right;\n",
       "    }\n",
       "</style>\n",
       "<table border=\"1\" class=\"dataframe\">\n",
       "  <thead>\n",
       "    <tr style=\"text-align: right;\">\n",
       "      <th></th>\n",
       "      <th>first_name</th>\n",
       "      <th>last_name</th>\n",
       "      <th>gender</th>\n",
       "    </tr>\n",
       "  </thead>\n",
       "  <tbody>\n",
       "    <tr>\n",
       "      <th>0</th>\n",
       "      <td>Jason</td>\n",
       "      <td>Fleming</td>\n",
       "      <td>M</td>\n",
       "    </tr>\n",
       "    <tr>\n",
       "      <th>1</th>\n",
       "      <td>Alex</td>\n",
       "      <td>Carter</td>\n",
       "      <td>M</td>\n",
       "    </tr>\n",
       "    <tr>\n",
       "      <th>2</th>\n",
       "      <td>Gavin</td>\n",
       "      <td>Bryant</td>\n",
       "      <td>M</td>\n",
       "    </tr>\n",
       "  </tbody>\n",
       "</table>\n",
       "</div>"
      ],
      "text/plain": [
       "  first_name last_name gender\n",
       "0      Jason   Fleming      M\n",
       "1       Alex    Carter      M\n",
       "2      Gavin    Bryant      M"
      ]
     },
     "execution_count": 9,
     "metadata": {},
     "output_type": "execute_result"
    }
   ],
   "source": [
    "orm_to_df(ormq[:3])"
   ]
  },
  {
   "cell_type": "markdown",
   "id": "2f4f6395",
   "metadata": {},
   "source": [
    "## Easy 2\n",
    "Show first name and last name of patients who does not have allergies. (null)"
   ]
  },
  {
   "cell_type": "code",
   "execution_count": 10,
   "id": "94a8c817",
   "metadata": {},
   "outputs": [],
   "source": [
    "qstr = \"\"\"\n",
    "SELECT\n",
    "  first_name,\n",
    "  last_name\n",
    "FROM Patients\n",
    "WHERE allergies IS NULL;\n",
    "\"\"\"\n",
    "sqlq = sql_raw(qstr)"
   ]
  },
  {
   "cell_type": "code",
   "execution_count": 11,
   "id": "27a97da6",
   "metadata": {},
   "outputs": [
    {
     "name": "stdout",
     "output_type": "stream",
     "text": [
      "Equal ✔️\n",
      "SELECT \"patients\".\"first_name\",\n",
      "       \"patients\".\"last_name\"\n",
      "FROM \"patients\"\n",
      "WHERE \"patients\".\"allergies\" IS NULL\n"
     ]
    }
   ],
   "source": [
    "ormq = Patients.objects.filter(allergies=None).values(\"first_name\", \"last_name\")\n",
    "equal(sqlq, ormq)\n",
    "print_sql(ormq)"
   ]
  },
  {
   "cell_type": "code",
   "execution_count": 12,
   "id": "d1ed71e9",
   "metadata": {},
   "outputs": [
    {
     "name": "stdout",
     "output_type": "stream",
     "text": [
      "Equal ✔️\n",
      "SELECT \"patients\".\"first_name\",\n",
      "       \"patients\".\"last_name\"\n",
      "FROM \"patients\"\n",
      "WHERE \"patients\".\"allergies\" IS NULL\n"
     ]
    }
   ],
   "source": [
    "ormq1 = Patients.objects.filter(allergies__isnull=True).values(\n",
    "    \"first_name\", \"last_name\"\n",
    ")\n",
    "equal(sqlq, ormq1)\n",
    "print_sql(ormq)"
   ]
  },
  {
   "cell_type": "code",
   "execution_count": 13,
   "id": "bd69522b",
   "metadata": {},
   "outputs": [
    {
     "data": {
      "text/html": [
       "<div>\n",
       "<style scoped>\n",
       "    .dataframe tbody tr th:only-of-type {\n",
       "        vertical-align: middle;\n",
       "    }\n",
       "\n",
       "    .dataframe tbody tr th {\n",
       "        vertical-align: top;\n",
       "    }\n",
       "\n",
       "    .dataframe thead th {\n",
       "        text-align: right;\n",
       "    }\n",
       "</style>\n",
       "<table border=\"1\" class=\"dataframe\">\n",
       "  <thead>\n",
       "    <tr style=\"text-align: right;\">\n",
       "      <th></th>\n",
       "      <th>first_name</th>\n",
       "      <th>last_name</th>\n",
       "    </tr>\n",
       "  </thead>\n",
       "  <tbody>\n",
       "    <tr>\n",
       "      <th>0</th>\n",
       "      <td>Alex</td>\n",
       "      <td>Carter</td>\n",
       "    </tr>\n",
       "    <tr>\n",
       "      <th>1</th>\n",
       "      <td>Adam</td>\n",
       "      <td>Nguyen</td>\n",
       "    </tr>\n",
       "    <tr>\n",
       "      <th>2</th>\n",
       "      <td>Shane</td>\n",
       "      <td>Simpson</td>\n",
       "    </tr>\n",
       "  </tbody>\n",
       "</table>\n",
       "</div>"
      ],
      "text/plain": [
       "  first_name last_name\n",
       "0       Alex    Carter\n",
       "1       Adam    Nguyen\n",
       "2      Shane   Simpson"
      ]
     },
     "execution_count": 13,
     "metadata": {},
     "output_type": "execute_result"
    }
   ],
   "source": [
    "orm_to_df(ormq[:3])"
   ]
  },
  {
   "cell_type": "markdown",
   "id": "0870d033",
   "metadata": {},
   "source": [
    "## Easy 3\n",
    "Show first name of patients that start with the letter 'C'"
   ]
  },
  {
   "cell_type": "code",
   "execution_count": 14,
   "id": "e9af9039",
   "metadata": {},
   "outputs": [],
   "source": [
    "qstr = \"\"\"\n",
    "SELECT first_name\n",
    "FROM Patients\n",
    "WHERE first_name LIKE 'C%';\n",
    "\"\"\"\n",
    "sqlq = sql_raw(qstr)"
   ]
  },
  {
   "cell_type": "code",
   "execution_count": 15,
   "id": "3b3f0e12",
   "metadata": {},
   "outputs": [
    {
     "name": "stdout",
     "output_type": "stream",
     "text": [
      "Equal ✔️\n",
      "SELECT \"patients\".\"first_name\"\n",
      "FROM \"patients\"\n",
      "WHERE \"patients\".\"first_name\" LIKE C% ESCAPE '\\'\n"
     ]
    }
   ],
   "source": [
    "ormq = Patients.objects.filter(first_name__startswith=\"C\").values(\"first_name\")\n",
    "equal(sqlq, ormq)\n",
    "print_sql(ormq)"
   ]
  },
  {
   "cell_type": "code",
   "execution_count": 16,
   "id": "74e881c9",
   "metadata": {},
   "outputs": [
    {
     "data": {
      "text/html": [
       "<div>\n",
       "<style scoped>\n",
       "    .dataframe tbody tr th:only-of-type {\n",
       "        vertical-align: middle;\n",
       "    }\n",
       "\n",
       "    .dataframe tbody tr th {\n",
       "        vertical-align: top;\n",
       "    }\n",
       "\n",
       "    .dataframe thead th {\n",
       "        text-align: right;\n",
       "    }\n",
       "</style>\n",
       "<table border=\"1\" class=\"dataframe\">\n",
       "  <thead>\n",
       "    <tr style=\"text-align: right;\">\n",
       "      <th></th>\n",
       "      <th>first_name</th>\n",
       "    </tr>\n",
       "  </thead>\n",
       "  <tbody>\n",
       "    <tr>\n",
       "      <th>0</th>\n",
       "      <td>Cheryl</td>\n",
       "    </tr>\n",
       "    <tr>\n",
       "      <th>1</th>\n",
       "      <td>Cassandra</td>\n",
       "    </tr>\n",
       "    <tr>\n",
       "      <th>2</th>\n",
       "      <td>Cameron</td>\n",
       "    </tr>\n",
       "  </tbody>\n",
       "</table>\n",
       "</div>"
      ],
      "text/plain": [
       "  first_name\n",
       "0     Cheryl\n",
       "1  Cassandra\n",
       "2    Cameron"
      ]
     },
     "execution_count": 16,
     "metadata": {},
     "output_type": "execute_result"
    }
   ],
   "source": [
    "orm_to_df(ormq[:3])"
   ]
  },
  {
   "cell_type": "markdown",
   "id": "948f5ff7",
   "metadata": {},
   "source": [
    "## Easy 4\n",
    "Show first name and last name of patients that weight within the range of 100 to 120 (inclusive)\n",
    "We will do 70 - 80"
   ]
  },
  {
   "cell_type": "code",
   "execution_count": 17,
   "id": "dece97c2",
   "metadata": {},
   "outputs": [],
   "source": [
    "qstr = \"\"\"\n",
    "SELECT\n",
    "  first_name,\n",
    "  last_name\n",
    "FROM Patients\n",
    "WHERE weight BETWEEN 70 AND 80;\n",
    "\"\"\"\n",
    "sqlq = sql_raw(qstr)"
   ]
  },
  {
   "cell_type": "code",
   "execution_count": 18,
   "id": "99623c3d",
   "metadata": {},
   "outputs": [
    {
     "name": "stdout",
     "output_type": "stream",
     "text": [
      "Equal ✔️\n",
      "SELECT \"patients\".\"first_name\",\n",
      "       \"patients\".\"last_name\"\n",
      "FROM \"patients\"\n",
      "WHERE \"patients\".\"weight\" BETWEEN 70 AND 80\n"
     ]
    }
   ],
   "source": [
    "ormq = Patients.objects.filter(weight__range=[70, 80]).values(\"first_name\", \"last_name\")\n",
    "equal(sqlq, ormq)\n",
    "print_sql(ormq)"
   ]
  },
  {
   "cell_type": "code",
   "execution_count": 19,
   "id": "7d7486e2",
   "metadata": {},
   "outputs": [
    {
     "name": "stdout",
     "output_type": "stream",
     "text": [
      "Equal ✔️\n",
      "SELECT \"patients\".\"first_name\",\n",
      "       \"patients\".\"last_name\"\n",
      "FROM \"patients\"\n",
      "WHERE (\"patients\".\"weight\" >= 70\n",
      "       AND \"patients\".\"weight\" <= 80)\n"
     ]
    }
   ],
   "source": [
    "ormq1 = Patients.objects.filter(weight__gte=70, weight__lte=80).values(\n",
    "    \"first_name\", \"last_name\"\n",
    ")\n",
    "equal(sqlq, ormq1)\n",
    "print_sql(ormq1)"
   ]
  },
  {
   "cell_type": "code",
   "execution_count": 20,
   "id": "b4b22063",
   "metadata": {},
   "outputs": [
    {
     "data": {
      "text/html": [
       "<div>\n",
       "<style scoped>\n",
       "    .dataframe tbody tr th:only-of-type {\n",
       "        vertical-align: middle;\n",
       "    }\n",
       "\n",
       "    .dataframe tbody tr th {\n",
       "        vertical-align: top;\n",
       "    }\n",
       "\n",
       "    .dataframe thead th {\n",
       "        text-align: right;\n",
       "    }\n",
       "</style>\n",
       "<table border=\"1\" class=\"dataframe\">\n",
       "  <thead>\n",
       "    <tr style=\"text-align: right;\">\n",
       "      <th></th>\n",
       "      <th>first_name</th>\n",
       "      <th>last_name</th>\n",
       "    </tr>\n",
       "  </thead>\n",
       "  <tbody>\n",
       "    <tr>\n",
       "      <th>0</th>\n",
       "      <td>Jason</td>\n",
       "      <td>Fleming</td>\n",
       "    </tr>\n",
       "    <tr>\n",
       "      <th>1</th>\n",
       "      <td>Alex</td>\n",
       "      <td>Carter</td>\n",
       "    </tr>\n",
       "    <tr>\n",
       "      <th>2</th>\n",
       "      <td>Gavin</td>\n",
       "      <td>Bryant</td>\n",
       "    </tr>\n",
       "  </tbody>\n",
       "</table>\n",
       "</div>"
      ],
      "text/plain": [
       "  first_name last_name\n",
       "0      Jason   Fleming\n",
       "1       Alex    Carter\n",
       "2      Gavin    Bryant"
      ]
     },
     "execution_count": 20,
     "metadata": {},
     "output_type": "execute_result"
    }
   ],
   "source": [
    "orm_to_df(ormq[:3])"
   ]
  },
  {
   "cell_type": "markdown",
   "id": "ec2e4c0e",
   "metadata": {},
   "source": [
    "## Easy 5\n",
    "Show first name and last name concatinated into one column to show their full name."
   ]
  },
  {
   "cell_type": "code",
   "execution_count": 21,
   "id": "2ec4f5c4",
   "metadata": {},
   "outputs": [],
   "source": [
    "qstr = \"\"\"\n",
    "SELECT\n",
    "  first_name || ' ' || last_name AS full_name\n",
    "FROM patients;\n",
    "\"\"\"\n",
    "sqlq = sql_raw(qstr)"
   ]
  },
  {
   "cell_type": "code",
   "execution_count": 22,
   "id": "2a727caf",
   "metadata": {},
   "outputs": [
    {
     "name": "stdout",
     "output_type": "stream",
     "text": [
      "Equal ✔️\n",
      "SELECT COALESCE(\"patients\".\"first_name\",) || COALESCE(COALESCE(,) || COALESCE(\"patients\".\"last_name\",),) AS \"full_name\"\n",
      "FROM \"patients\"\n"
     ]
    }
   ],
   "source": [
    "# sqlq =  sql_raw(\"SELECT CONCAT(first_name,' ', last_name) full_name FROM Patients;\")\n",
    "\n",
    "ormq = Patients.objects.values(full_name=Concat(\"first_name\", Value(\" \"), \"last_name\"))\n",
    "equal(sqlq, ormq)\n",
    "print_sql(ormq)"
   ]
  },
  {
   "cell_type": "code",
   "execution_count": 23,
   "id": "dbe24ff3",
   "metadata": {},
   "outputs": [
    {
     "data": {
      "text/html": [
       "<div>\n",
       "<style scoped>\n",
       "    .dataframe tbody tr th:only-of-type {\n",
       "        vertical-align: middle;\n",
       "    }\n",
       "\n",
       "    .dataframe tbody tr th {\n",
       "        vertical-align: top;\n",
       "    }\n",
       "\n",
       "    .dataframe thead th {\n",
       "        text-align: right;\n",
       "    }\n",
       "</style>\n",
       "<table border=\"1\" class=\"dataframe\">\n",
       "  <thead>\n",
       "    <tr style=\"text-align: right;\">\n",
       "      <th></th>\n",
       "      <th>full_name</th>\n",
       "    </tr>\n",
       "  </thead>\n",
       "  <tbody>\n",
       "    <tr>\n",
       "      <th>0</th>\n",
       "      <td>Cheryl Mason</td>\n",
       "    </tr>\n",
       "    <tr>\n",
       "      <th>1</th>\n",
       "      <td>Jason Fleming</td>\n",
       "    </tr>\n",
       "    <tr>\n",
       "      <th>2</th>\n",
       "      <td>Tiffany McDonald</td>\n",
       "    </tr>\n",
       "  </tbody>\n",
       "</table>\n",
       "</div>"
      ],
      "text/plain": [
       "          full_name\n",
       "0      Cheryl Mason\n",
       "1     Jason Fleming\n",
       "2  Tiffany McDonald"
      ]
     },
     "execution_count": 23,
     "metadata": {},
     "output_type": "execute_result"
    }
   ],
   "source": [
    "orm_to_df(ormq[:3])"
   ]
  },
  {
   "cell_type": "markdown",
   "id": "37434886",
   "metadata": {},
   "source": [
    "## Easy 6\n",
    "Show first name, last name, and the **full** province name of each patient.\n",
    "\n",
    "Example: 'Ontario' instead of 'ON'"
   ]
  },
  {
   "cell_type": "code",
   "execution_count": 24,
   "id": "34d72292",
   "metadata": {},
   "outputs": [],
   "source": [
    "qstr = \"\"\"\n",
    "SELECT\n",
    "  first_name,\n",
    "  last_name,\n",
    "  province_name\n",
    "FROM Patients p\n",
    "  INNER JOIN province_names pn ON p.province_id = pn.province_id;\n",
    "\"\"\"\n",
    "sqlq = sql_raw(qstr)"
   ]
  },
  {
   "cell_type": "code",
   "execution_count": 25,
   "id": "3dadf93c",
   "metadata": {},
   "outputs": [
    {
     "name": "stdout",
     "output_type": "stream",
     "text": [
      "Equal ✔️\n",
      "SELECT \"patients\".\"first_name\",\n",
      "       \"patients\".\"last_name\",\n",
      "       \"province_names\".\"province_name\" AS \"province_name\"\n",
      "FROM \"patients\"\n",
      "INNER JOIN \"province_names\" ON (\"patients\".\"province_id\" = \"province_names\".\"province_id\")\n",
      "WHERE \"patients\".\"province_id\" IS NOT NULL\n"
     ]
    }
   ],
   "source": [
    "# The filter ensures an Inner join is performed\n",
    "ormq = Patients.objects.filter(province__isnull=False).values(\n",
    "    \"first_name\", \"last_name\", province_name=F(\"province__name\")\n",
    ")\n",
    "equal(sqlq, ormq)\n",
    "print_sql(ormq)"
   ]
  },
  {
   "cell_type": "code",
   "execution_count": 26,
   "id": "1301239b",
   "metadata": {},
   "outputs": [
    {
     "data": {
      "text/html": [
       "<div>\n",
       "<style scoped>\n",
       "    .dataframe tbody tr th:only-of-type {\n",
       "        vertical-align: middle;\n",
       "    }\n",
       "\n",
       "    .dataframe tbody tr th {\n",
       "        vertical-align: top;\n",
       "    }\n",
       "\n",
       "    .dataframe thead th {\n",
       "        text-align: right;\n",
       "    }\n",
       "</style>\n",
       "<table border=\"1\" class=\"dataframe\">\n",
       "  <thead>\n",
       "    <tr style=\"text-align: right;\">\n",
       "      <th></th>\n",
       "      <th>first_name</th>\n",
       "      <th>last_name</th>\n",
       "      <th>province_name</th>\n",
       "    </tr>\n",
       "  </thead>\n",
       "  <tbody>\n",
       "    <tr>\n",
       "      <th>0</th>\n",
       "      <td>Cheryl</td>\n",
       "      <td>Mason</td>\n",
       "      <td>Ontario</td>\n",
       "    </tr>\n",
       "    <tr>\n",
       "      <th>1</th>\n",
       "      <td>Jason</td>\n",
       "      <td>Fleming</td>\n",
       "      <td>British Columbia</td>\n",
       "    </tr>\n",
       "    <tr>\n",
       "      <th>2</th>\n",
       "      <td>Tiffany</td>\n",
       "      <td>McDonald</td>\n",
       "      <td>Alberta</td>\n",
       "    </tr>\n",
       "  </tbody>\n",
       "</table>\n",
       "</div>"
      ],
      "text/plain": [
       "  first_name last_name     province_name\n",
       "0     Cheryl     Mason           Ontario\n",
       "1      Jason   Fleming  British Columbia\n",
       "2    Tiffany  McDonald           Alberta"
      ]
     },
     "execution_count": 26,
     "metadata": {},
     "output_type": "execute_result"
    }
   ],
   "source": [
    "orm_to_df(ormq[:3])"
   ]
  },
  {
   "cell_type": "markdown",
   "id": "1caad3ce",
   "metadata": {},
   "source": [
    "## Easy 7\n",
    "Show how many patients have a birth_date with 2010 as the birth year.\n",
    "We will do 1995"
   ]
  },
  {
   "cell_type": "code",
   "execution_count": 27,
   "id": "a2bae34d",
   "metadata": {},
   "outputs": [],
   "source": [
    "# sqlq =  sql_raw(\"SELECT COUNT(*) birth_year FROM Patients WHERE YEAR(birth_date) = 2010;\")\n",
    "\n",
    "# for sqlite (Notice the '1995' instead of 1995)\n",
    "qstr = \"\"\"\n",
    "SELECT COUNT(*) AS birth_count\n",
    "FROM Patients\n",
    "WHERE strftime('%Y', birth_date) = '1995';\n",
    "\"\"\"\n",
    "sqlq = sql_raw(qstr)"
   ]
  },
  {
   "cell_type": "code",
   "execution_count": 28,
   "id": "bb0fcfc9",
   "metadata": {},
   "outputs": [
    {
     "name": "stdout",
     "output_type": "stream",
     "text": [
      "Equal ✔️\n",
      "SELECT Count(\"patients\".\"patient_id\") AS \"birth_count\"\n",
      "FROM \"patients\"\n",
      "WHERE \"patients\".\"birth_date\" BETWEEN 1995-01-01 AND 1995-12-31\n"
     ]
    }
   ],
   "source": [
    "ormq = (\n",
    "    Patients.objects.filter(birth_date__year=1995)\n",
    "    .annotate(birth_count=Func(F(\"id\"), function=\"Count\"))\n",
    "    .values(\"birth_count\")\n",
    ")\n",
    "equal(sqlq, ormq)\n",
    "print_sql(ormq)"
   ]
  },
  {
   "cell_type": "code",
   "execution_count": 29,
   "id": "31bdeeaf",
   "metadata": {},
   "outputs": [
    {
     "name": "stdout",
     "output_type": "stream",
     "text": [
      "{'birth_count': 5}\n",
      "Equal ✔️\n"
     ]
    }
   ],
   "source": [
    "ormq = Patients.objects.filter(birth_date__year=1995).aggregate(\n",
    "    birth_count=Count(\"birth_date\")\n",
    ")\n",
    "print(ormq)\n",
    "equal(sqlq, ormq)"
   ]
  },
  {
   "cell_type": "code",
   "execution_count": 30,
   "id": "eddcc34d",
   "metadata": {},
   "outputs": [
    {
     "name": "stdout",
     "output_type": "stream",
     "text": [
      "Equal ✔️\n"
     ]
    }
   ],
   "source": [
    "ormq1 = Patients.objects.filter(birth_date__year=1995).count()\n",
    "ormq1 = [{\"birth_count\": ormq1}]\n",
    "equal(sqlq, ormq1)"
   ]
  },
  {
   "cell_type": "code",
   "execution_count": 31,
   "id": "b4cbc398",
   "metadata": {},
   "outputs": [
    {
     "data": {
      "text/html": [
       "<div>\n",
       "<style scoped>\n",
       "    .dataframe tbody tr th:only-of-type {\n",
       "        vertical-align: middle;\n",
       "    }\n",
       "\n",
       "    .dataframe tbody tr th {\n",
       "        vertical-align: top;\n",
       "    }\n",
       "\n",
       "    .dataframe thead th {\n",
       "        text-align: right;\n",
       "    }\n",
       "</style>\n",
       "<table border=\"1\" class=\"dataframe\">\n",
       "  <thead>\n",
       "    <tr style=\"text-align: right;\">\n",
       "      <th></th>\n",
       "      <th>birth_count</th>\n",
       "    </tr>\n",
       "  </thead>\n",
       "  <tbody>\n",
       "    <tr>\n",
       "      <th>0</th>\n",
       "      <td>5</td>\n",
       "    </tr>\n",
       "  </tbody>\n",
       "</table>\n",
       "</div>"
      ],
      "text/plain": [
       "   birth_count\n",
       "0            5"
      ]
     },
     "execution_count": 31,
     "metadata": {},
     "output_type": "execute_result"
    }
   ],
   "source": [
    "orm_to_df(ormq)"
   ]
  },
  {
   "cell_type": "markdown",
   "id": "9441be88",
   "metadata": {},
   "source": [
    "## Easy 8\n",
    "Show the first_name, last_name, and height of the patient with the greatest height."
   ]
  },
  {
   "cell_type": "code",
   "execution_count": 32,
   "id": "76d3e904",
   "metadata": {},
   "outputs": [],
   "source": [
    "qstr = \"\"\"\n",
    "SELECT\n",
    "  first_name,\n",
    "  last_name,\n",
    "  Max(height) AS max_height\n",
    "FROM patients;\n",
    "\"\"\"\n",
    "sqlq = sql_raw(qstr)"
   ]
  },
  {
   "cell_type": "code",
   "execution_count": 33,
   "id": "c153ec1d",
   "metadata": {},
   "outputs": [
    {
     "name": "stdout",
     "output_type": "stream",
     "text": [
      "Equal ✔️\n",
      "SELECT \"patients\".\"first_name\",\n",
      "       \"patients\".\"last_name\",\n",
      "       Max(\"patients\".\"height\") AS \"max_height\"\n",
      "FROM \"patients\"\n"
     ]
    }
   ],
   "source": [
    "# Subclassing Max and setting contains_aggregate = False also works\n",
    "# class NonAggrMax(Max):\n",
    "#     contains_aggregate = False\n",
    "\n",
    "ormq = Patients.objects.annotate(max_height=Func(\"height\", function=\"Max\")).values(\n",
    "    \"first_name\", \"last_name\", \"max_height\"\n",
    ")\n",
    "equal(sqlq, ormq)\n",
    "print_sql(ormq)"
   ]
  },
  {
   "cell_type": "code",
   "execution_count": 34,
   "id": "1f475700",
   "metadata": {},
   "outputs": [
    {
     "data": {
      "text/html": [
       "<div>\n",
       "<style scoped>\n",
       "    .dataframe tbody tr th:only-of-type {\n",
       "        vertical-align: middle;\n",
       "    }\n",
       "\n",
       "    .dataframe tbody tr th {\n",
       "        vertical-align: top;\n",
       "    }\n",
       "\n",
       "    .dataframe thead th {\n",
       "        text-align: right;\n",
       "    }\n",
       "</style>\n",
       "<table border=\"1\" class=\"dataframe\">\n",
       "  <thead>\n",
       "    <tr style=\"text-align: right;\">\n",
       "      <th></th>\n",
       "      <th>first_name</th>\n",
       "      <th>last_name</th>\n",
       "      <th>max_height</th>\n",
       "    </tr>\n",
       "  </thead>\n",
       "  <tbody>\n",
       "    <tr>\n",
       "      <th>0</th>\n",
       "      <td>Cameron</td>\n",
       "      <td>Gupta</td>\n",
       "      <td>190</td>\n",
       "    </tr>\n",
       "  </tbody>\n",
       "</table>\n",
       "</div>"
      ],
      "text/plain": [
       "  first_name last_name  max_height\n",
       "0    Cameron     Gupta         190"
      ]
     },
     "execution_count": 34,
     "metadata": {},
     "output_type": "execute_result"
    }
   ],
   "source": [
    "orm_to_df(ormq)"
   ]
  },
  {
   "cell_type": "markdown",
   "id": "42a05dae",
   "metadata": {},
   "source": [
    "## Easy 9\n",
    "Show all columns for patients who have one of the following patient_ids:\n",
    "1,45,534,879,1000\n",
    "We will use 1,45,53,87,100"
   ]
  },
  {
   "cell_type": "code",
   "execution_count": 35,
   "id": "5e30ce0c",
   "metadata": {},
   "outputs": [],
   "source": [
    "qstr = \"\"\"\n",
    "SELECT\n",
    "  *\n",
    "FROM patients\n",
    "WHERE patient_id IN (1, 45, 53, 87, 100);\n",
    "\"\"\"\n",
    "sqlq = sql_raw(qstr)"
   ]
  },
  {
   "cell_type": "code",
   "execution_count": 36,
   "id": "0a4f132c",
   "metadata": {},
   "outputs": [
    {
     "name": "stdout",
     "output_type": "stream",
     "text": [
      "Equal ✔️\n",
      "SELECT \"patients\".\"first_name\",\n",
      "       \"patients\".\"last_name\",\n",
      "       \"patients\".\"gender\",\n",
      "       \"patients\".\"birth_date\",\n",
      "       \"patients\".\"city\",\n",
      "       \"patients\".\"province_id\",\n",
      "       \"patients\".\"allergies\",\n",
      "       \"patients\".\"height\",\n",
      "       \"patients\".\"weight\",\n",
      "       \"patients\".\"patient_id\" AS \"patient_id\"\n",
      "FROM \"patients\"\n",
      "WHERE \"patients\".\"patient_id\" IN (1,\n",
      "                                  45,\n",
      "                                  53,\n",
      "                                  87,\n",
      "                                  100)\n"
     ]
    }
   ],
   "source": [
    "ormq = Patients.objects.filter(id__in=[1, 45, 53, 87, 100]).values(\n",
    "    patient_id=F(\"id\"), *patient_fields\n",
    ")\n",
    "equal(sqlq, ormq)\n",
    "print_sql(ormq)"
   ]
  },
  {
   "cell_type": "code",
   "execution_count": 37,
   "id": "d156598e",
   "metadata": {},
   "outputs": [
    {
     "data": {
      "text/html": [
       "<div>\n",
       "<style scoped>\n",
       "    .dataframe tbody tr th:only-of-type {\n",
       "        vertical-align: middle;\n",
       "    }\n",
       "\n",
       "    .dataframe tbody tr th {\n",
       "        vertical-align: top;\n",
       "    }\n",
       "\n",
       "    .dataframe thead th {\n",
       "        text-align: right;\n",
       "    }\n",
       "</style>\n",
       "<table border=\"1\" class=\"dataframe\">\n",
       "  <thead>\n",
       "    <tr style=\"text-align: right;\">\n",
       "      <th></th>\n",
       "      <th>first_name</th>\n",
       "      <th>last_name</th>\n",
       "      <th>gender</th>\n",
       "      <th>birth_date</th>\n",
       "      <th>city</th>\n",
       "      <th>province_id</th>\n",
       "      <th>allergies</th>\n",
       "      <th>height</th>\n",
       "      <th>weight</th>\n",
       "      <th>patient_id</th>\n",
       "    </tr>\n",
       "  </thead>\n",
       "  <tbody>\n",
       "    <tr>\n",
       "      <th>0</th>\n",
       "      <td>Cheryl</td>\n",
       "      <td>Mason</td>\n",
       "      <td>F</td>\n",
       "      <td>1978-05-14</td>\n",
       "      <td>Toronto</td>\n",
       "      <td>ON</td>\n",
       "      <td>Peanuts</td>\n",
       "      <td>170</td>\n",
       "      <td>65</td>\n",
       "      <td>1</td>\n",
       "    </tr>\n",
       "    <tr>\n",
       "      <th>1</th>\n",
       "      <td>Ella</td>\n",
       "      <td>Lemieux</td>\n",
       "      <td>F</td>\n",
       "      <td>1991-05-01</td>\n",
       "      <td>Halifax</td>\n",
       "      <td>NS</td>\n",
       "      <td>Lactose</td>\n",
       "      <td>164</td>\n",
       "      <td>60</td>\n",
       "      <td>45</td>\n",
       "    </tr>\n",
       "    <tr>\n",
       "      <th>2</th>\n",
       "      <td>Avery</td>\n",
       "      <td>Roy</td>\n",
       "      <td>F</td>\n",
       "      <td>1993-05-08</td>\n",
       "      <td>Halifax</td>\n",
       "      <td>NS</td>\n",
       "      <td>None</td>\n",
       "      <td>165</td>\n",
       "      <td>61</td>\n",
       "      <td>53</td>\n",
       "    </tr>\n",
       "    <tr>\n",
       "      <th>3</th>\n",
       "      <td>Avery</td>\n",
       "      <td>Chen</td>\n",
       "      <td>F</td>\n",
       "      <td>1989-12-07</td>\n",
       "      <td>Winnipeg</td>\n",
       "      <td>MB</td>\n",
       "      <td>None</td>\n",
       "      <td>163</td>\n",
       "      <td>58</td>\n",
       "      <td>87</td>\n",
       "    </tr>\n",
       "    <tr>\n",
       "      <th>4</th>\n",
       "      <td>Nathan</td>\n",
       "      <td>Gupta</td>\n",
       "      <td>M</td>\n",
       "      <td>1986-01-14</td>\n",
       "      <td>Victoria</td>\n",
       "      <td>BC</td>\n",
       "      <td>Lactose</td>\n",
       "      <td>184</td>\n",
       "      <td>82</td>\n",
       "      <td>100</td>\n",
       "    </tr>\n",
       "  </tbody>\n",
       "</table>\n",
       "</div>"
      ],
      "text/plain": [
       "  first_name last_name gender  birth_date      city province_id allergies  \\\n",
       "0     Cheryl     Mason      F  1978-05-14   Toronto          ON   Peanuts   \n",
       "1       Ella   Lemieux      F  1991-05-01   Halifax          NS   Lactose   \n",
       "2      Avery       Roy      F  1993-05-08   Halifax          NS      None   \n",
       "3      Avery      Chen      F  1989-12-07  Winnipeg          MB      None   \n",
       "4     Nathan     Gupta      M  1986-01-14  Victoria          BC   Lactose   \n",
       "\n",
       "   height  weight  patient_id  \n",
       "0     170      65           1  \n",
       "1     164      60          45  \n",
       "2     165      61          53  \n",
       "3     163      58          87  \n",
       "4     184      82         100  "
      ]
     },
     "execution_count": 37,
     "metadata": {},
     "output_type": "execute_result"
    }
   ],
   "source": [
    "orm_to_df(ormq)"
   ]
  },
  {
   "cell_type": "markdown",
   "id": "636cf0d2",
   "metadata": {},
   "source": [
    "## Easy 10\n",
    "Show the total number of admissions"
   ]
  },
  {
   "cell_type": "code",
   "execution_count": 38,
   "id": "c2956d6f",
   "metadata": {},
   "outputs": [
    {
     "name": "stdout",
     "output_type": "stream",
     "text": [
      "Equal ✔️\n"
     ]
    }
   ],
   "source": [
    "sqlq = sql_raw(\"SELECT COUNT(*) AS total FROM admissions;\")\n",
    "ormq = Admissions.objects.aggregate(total=Count(\"id\"))\n",
    "equal(sqlq, ormq)"
   ]
  },
  {
   "cell_type": "code",
   "execution_count": 39,
   "id": "3285cfac",
   "metadata": {},
   "outputs": [
    {
     "name": "stdout",
     "output_type": "stream",
     "text": [
      "Equal ✔️\n"
     ]
    }
   ],
   "source": [
    "ormq1 = Admissions.objects.count()\n",
    "ormq1 = [{\"total\": ormq1}]\n",
    "equal(sqlq, ormq1)"
   ]
  },
  {
   "cell_type": "code",
   "execution_count": 40,
   "id": "a0b46bd1",
   "metadata": {},
   "outputs": [
    {
     "data": {
      "text/html": [
       "<div>\n",
       "<style scoped>\n",
       "    .dataframe tbody tr th:only-of-type {\n",
       "        vertical-align: middle;\n",
       "    }\n",
       "\n",
       "    .dataframe tbody tr th {\n",
       "        vertical-align: top;\n",
       "    }\n",
       "\n",
       "    .dataframe thead th {\n",
       "        text-align: right;\n",
       "    }\n",
       "</style>\n",
       "<table border=\"1\" class=\"dataframe\">\n",
       "  <thead>\n",
       "    <tr style=\"text-align: right;\">\n",
       "      <th></th>\n",
       "      <th>total</th>\n",
       "    </tr>\n",
       "  </thead>\n",
       "  <tbody>\n",
       "    <tr>\n",
       "      <th>0</th>\n",
       "      <td>170</td>\n",
       "    </tr>\n",
       "  </tbody>\n",
       "</table>\n",
       "</div>"
      ],
      "text/plain": [
       "   total\n",
       "0    170"
      ]
     },
     "execution_count": 40,
     "metadata": {},
     "output_type": "execute_result"
    }
   ],
   "source": [
    "orm_to_df(ormq)"
   ]
  },
  {
   "cell_type": "markdown",
   "id": "a79d1553",
   "metadata": {},
   "source": [
    "## Easy 11\n",
    "Show all the columns from admissions where the patient was admitted and discharged on the same day."
   ]
  },
  {
   "cell_type": "code",
   "execution_count": 41,
   "id": "9b0cfec5",
   "metadata": {},
   "outputs": [],
   "source": [
    "qstr = \"\"\"\n",
    "SELECT *\n",
    "FROM admissions\n",
    "WHERE admission_date = discharge_date;\n",
    "\"\"\"\n",
    "sqlq = sql_raw(qstr)"
   ]
  },
  {
   "cell_type": "code",
   "execution_count": 42,
   "id": "3f06df47",
   "metadata": {},
   "outputs": [],
   "source": [
    "admission_fields = [\n",
    "    \"id\",\n",
    "    \"patient_id\",\n",
    "    \"admission_date\",\n",
    "    \"discharge_date\",\n",
    "    \"diagnosis\",\n",
    "    \"attending_doctor_id\",\n",
    "]"
   ]
  },
  {
   "cell_type": "code",
   "execution_count": 43,
   "id": "6d5fd3f8",
   "metadata": {},
   "outputs": [
    {
     "name": "stdout",
     "output_type": "stream",
     "text": [
      "Equal ✔️\n",
      "SELECT \"admissions\".\"id\",\n",
      "       \"admissions\".\"patient_id\",\n",
      "       \"admissions\".\"admission_date\",\n",
      "       \"admissions\".\"discharge_date\",\n",
      "       \"admissions\".\"diagnosis\",\n",
      "       \"admissions\".\"attending_doctor_id\"\n",
      "FROM \"admissions\"\n",
      "WHERE \"admissions\".\"admission_date\" = (\"admissions\".\"discharge_date\")\n"
     ]
    }
   ],
   "source": [
    "ormq = Admissions.objects.filter(admission_date=F(\"discharge_date\")).values(\n",
    "    *admission_fields\n",
    ")\n",
    "equal(sqlq, ormq)\n",
    "print_sql(ormq)"
   ]
  },
  {
   "cell_type": "code",
   "execution_count": 44,
   "id": "a3a838b2",
   "metadata": {},
   "outputs": [
    {
     "data": {
      "text/html": [
       "<div>\n",
       "<style scoped>\n",
       "    .dataframe tbody tr th:only-of-type {\n",
       "        vertical-align: middle;\n",
       "    }\n",
       "\n",
       "    .dataframe tbody tr th {\n",
       "        vertical-align: top;\n",
       "    }\n",
       "\n",
       "    .dataframe thead th {\n",
       "        text-align: right;\n",
       "    }\n",
       "</style>\n",
       "<table border=\"1\" class=\"dataframe\">\n",
       "  <thead>\n",
       "    <tr style=\"text-align: right;\">\n",
       "      <th></th>\n",
       "      <th>id</th>\n",
       "      <th>patient_id</th>\n",
       "      <th>admission_date</th>\n",
       "      <th>discharge_date</th>\n",
       "      <th>diagnosis</th>\n",
       "      <th>attending_doctor_id</th>\n",
       "    </tr>\n",
       "  </thead>\n",
       "  <tbody>\n",
       "    <tr>\n",
       "      <th>0</th>\n",
       "      <td>159</td>\n",
       "      <td>59</td>\n",
       "      <td>2022-06-07</td>\n",
       "      <td>2022-06-07</td>\n",
       "      <td>Meningitis</td>\n",
       "      <td>5</td>\n",
       "    </tr>\n",
       "    <tr>\n",
       "      <th>1</th>\n",
       "      <td>160</td>\n",
       "      <td>60</td>\n",
       "      <td>2022-06-08</td>\n",
       "      <td>2022-06-08</td>\n",
       "      <td>Anemia</td>\n",
       "      <td>12</td>\n",
       "    </tr>\n",
       "    <tr>\n",
       "      <th>2</th>\n",
       "      <td>162</td>\n",
       "      <td>62</td>\n",
       "      <td>2022-06-10</td>\n",
       "      <td>2022-06-10</td>\n",
       "      <td>Gastroenteritis</td>\n",
       "      <td>16</td>\n",
       "    </tr>\n",
       "  </tbody>\n",
       "</table>\n",
       "</div>"
      ],
      "text/plain": [
       "    id  patient_id admission_date discharge_date        diagnosis  \\\n",
       "0  159          59     2022-06-07     2022-06-07       Meningitis   \n",
       "1  160          60     2022-06-08     2022-06-08           Anemia   \n",
       "2  162          62     2022-06-10     2022-06-10  Gastroenteritis   \n",
       "\n",
       "   attending_doctor_id  \n",
       "0                    5  \n",
       "1                   12  \n",
       "2                   16  "
      ]
     },
     "execution_count": 44,
     "metadata": {},
     "output_type": "execute_result"
    }
   ],
   "source": [
    "orm_to_df(ormq[:3])"
   ]
  },
  {
   "cell_type": "markdown",
   "id": "4ef764de",
   "metadata": {},
   "source": [
    "## Easy 12\n",
    "Show the patient id and the total number of admissions for patient_id 579.\n",
    "We will do 57"
   ]
  },
  {
   "cell_type": "code",
   "execution_count": 45,
   "id": "9f59da8c",
   "metadata": {},
   "outputs": [],
   "source": [
    "qstr = \"\"\"\n",
    "SELECT\n",
    "  patient_id,\n",
    "  Count(patient_id) admissions\n",
    "FROM admissions\n",
    "WHERE patient_id = 57;\n",
    "\"\"\"\n",
    "sqlq = sql_raw(qstr)"
   ]
  },
  {
   "cell_type": "code",
   "execution_count": 46,
   "id": "b89d490f",
   "metadata": {},
   "outputs": [
    {
     "name": "stdout",
     "output_type": "stream",
     "text": [
      "Equal ✔️\n",
      "SELECT \"admissions\".\"patient_id\",\n",
      "       Count(\"admissions\".\"patient_id\") AS \"admissions\"\n",
      "FROM \"admissions\"\n",
      "WHERE \"admissions\".\"patient_id\" = 57\n"
     ]
    }
   ],
   "source": [
    "ormq = (\n",
    "    Admissions.objects.filter(patient_id=57)\n",
    "    .annotate(admissions=Func(F(\"patient_id\"), function=\"Count\"))\n",
    "    .values(\"patient_id\", \"admissions\")\n",
    ")\n",
    "equal(sqlq, ormq)\n",
    "print_sql(ormq)"
   ]
  },
  {
   "cell_type": "code",
   "execution_count": 47,
   "id": "982edc35",
   "metadata": {},
   "outputs": [
    {
     "data": {
      "text/html": [
       "<div>\n",
       "<style scoped>\n",
       "    .dataframe tbody tr th:only-of-type {\n",
       "        vertical-align: middle;\n",
       "    }\n",
       "\n",
       "    .dataframe tbody tr th {\n",
       "        vertical-align: top;\n",
       "    }\n",
       "\n",
       "    .dataframe thead th {\n",
       "        text-align: right;\n",
       "    }\n",
       "</style>\n",
       "<table border=\"1\" class=\"dataframe\">\n",
       "  <thead>\n",
       "    <tr style=\"text-align: right;\">\n",
       "      <th></th>\n",
       "      <th>patient_id</th>\n",
       "      <th>admissions</th>\n",
       "    </tr>\n",
       "  </thead>\n",
       "  <tbody>\n",
       "    <tr>\n",
       "      <th>0</th>\n",
       "      <td>57</td>\n",
       "      <td>2</td>\n",
       "    </tr>\n",
       "  </tbody>\n",
       "</table>\n",
       "</div>"
      ],
      "text/plain": [
       "   patient_id  admissions\n",
       "0          57           2"
      ]
     },
     "execution_count": 47,
     "metadata": {},
     "output_type": "execute_result"
    }
   ],
   "source": [
    "orm_to_df(ormq[:3])"
   ]
  },
  {
   "cell_type": "markdown",
   "id": "7325d4f2",
   "metadata": {},
   "source": [
    "## Easy 13\n",
    "Based on the cities that our patients live in, show unique cities that are in province_id 'NS'?"
   ]
  },
  {
   "cell_type": "code",
   "execution_count": 48,
   "id": "ee4614e8",
   "metadata": {},
   "outputs": [],
   "source": [
    "qstr = \"\"\"\n",
    "SELECT DISTINCT city\n",
    "FROM patients\n",
    "WHERE province_id = 'NS';\n",
    "\"\"\"\n",
    "sqlq = sql_raw(qstr)"
   ]
  },
  {
   "cell_type": "code",
   "execution_count": 49,
   "id": "8ad106d2",
   "metadata": {},
   "outputs": [
    {
     "name": "stdout",
     "output_type": "stream",
     "text": [
      "Equal ✔️\n",
      "SELECT DISTINCT \"patients\".\"city\"\n",
      "FROM \"patients\"\n",
      "WHERE \"patients\".\"province_id\" = NS\n"
     ]
    }
   ],
   "source": [
    "ormq = Patients.objects.filter(province__id=\"NS\").values(\"city\").distinct()\n",
    "equal(sqlq, ormq)\n",
    "print_sql(ormq)"
   ]
  },
  {
   "cell_type": "code",
   "execution_count": 50,
   "id": "bb09b98e",
   "metadata": {},
   "outputs": [
    {
     "data": {
      "text/html": [
       "<div>\n",
       "<style scoped>\n",
       "    .dataframe tbody tr th:only-of-type {\n",
       "        vertical-align: middle;\n",
       "    }\n",
       "\n",
       "    .dataframe tbody tr th {\n",
       "        vertical-align: top;\n",
       "    }\n",
       "\n",
       "    .dataframe thead th {\n",
       "        text-align: right;\n",
       "    }\n",
       "</style>\n",
       "<table border=\"1\" class=\"dataframe\">\n",
       "  <thead>\n",
       "    <tr style=\"text-align: right;\">\n",
       "      <th></th>\n",
       "      <th>city</th>\n",
       "    </tr>\n",
       "  </thead>\n",
       "  <tbody>\n",
       "    <tr>\n",
       "      <th>0</th>\n",
       "      <td>Halifax</td>\n",
       "    </tr>\n",
       "  </tbody>\n",
       "</table>\n",
       "</div>"
      ],
      "text/plain": [
       "      city\n",
       "0  Halifax"
      ]
     },
     "execution_count": 50,
     "metadata": {},
     "output_type": "execute_result"
    }
   ],
   "source": [
    "orm_to_df(ormq)"
   ]
  },
  {
   "cell_type": "markdown",
   "id": "29ee2fe5",
   "metadata": {},
   "source": [
    "## Easy 14\n",
    "Write a query to find the first_name, last name and birth date of patients who has height greater than 160 and weight greater than 70"
   ]
  },
  {
   "cell_type": "code",
   "execution_count": 51,
   "id": "739c0e26",
   "metadata": {},
   "outputs": [],
   "source": [
    "qstr = \"\"\"\n",
    "SELECT\n",
    "  first_name,\n",
    "  last_name,\n",
    "  birth_date\n",
    "FROM patients\n",
    "WHERE height > 160 AND weight > 70;\n",
    "\"\"\"\n",
    "sqlq = sql_raw(qstr)"
   ]
  },
  {
   "cell_type": "code",
   "execution_count": 52,
   "id": "1645ac7b",
   "metadata": {},
   "outputs": [
    {
     "name": "stdout",
     "output_type": "stream",
     "text": [
      "Equal ✔️\n",
      "SELECT \"patients\".\"first_name\",\n",
      "       \"patients\".\"last_name\",\n",
      "       \"patients\".\"birth_date\"\n",
      "FROM \"patients\"\n",
      "WHERE (\"patients\".\"height\" > 160\n",
      "       AND \"patients\".\"weight\" > 70)\n"
     ]
    }
   ],
   "source": [
    "ormq = Patients.objects.filter(height__gt=160, weight__gt=70).values(\n",
    "    \"first_name\", \"last_name\", \"birth_date\"\n",
    ")\n",
    "equal(sqlq, ormq)\n",
    "print_sql(ormq)"
   ]
  },
  {
   "cell_type": "code",
   "execution_count": 53,
   "id": "dd4b6a38",
   "metadata": {},
   "outputs": [
    {
     "data": {
      "text/html": [
       "<div>\n",
       "<style scoped>\n",
       "    .dataframe tbody tr th:only-of-type {\n",
       "        vertical-align: middle;\n",
       "    }\n",
       "\n",
       "    .dataframe tbody tr th {\n",
       "        vertical-align: top;\n",
       "    }\n",
       "\n",
       "    .dataframe thead th {\n",
       "        text-align: right;\n",
       "    }\n",
       "</style>\n",
       "<table border=\"1\" class=\"dataframe\">\n",
       "  <thead>\n",
       "    <tr style=\"text-align: right;\">\n",
       "      <th></th>\n",
       "      <th>first_name</th>\n",
       "      <th>last_name</th>\n",
       "      <th>birth_date</th>\n",
       "    </tr>\n",
       "  </thead>\n",
       "  <tbody>\n",
       "    <tr>\n",
       "      <th>0</th>\n",
       "      <td>Jason</td>\n",
       "      <td>Fleming</td>\n",
       "      <td>1990-08-02</td>\n",
       "    </tr>\n",
       "    <tr>\n",
       "      <th>1</th>\n",
       "      <td>Alex</td>\n",
       "      <td>Carter</td>\n",
       "      <td>1976-11-18</td>\n",
       "    </tr>\n",
       "    <tr>\n",
       "      <th>2</th>\n",
       "      <td>Gavin</td>\n",
       "      <td>Bryant</td>\n",
       "      <td>1980-02-06</td>\n",
       "    </tr>\n",
       "  </tbody>\n",
       "</table>\n",
       "</div>"
      ],
      "text/plain": [
       "  first_name last_name  birth_date\n",
       "0      Jason   Fleming  1990-08-02\n",
       "1       Alex    Carter  1976-11-18\n",
       "2      Gavin    Bryant  1980-02-06"
      ]
     },
     "execution_count": 53,
     "metadata": {},
     "output_type": "execute_result"
    }
   ],
   "source": [
    "orm_to_df(ormq[:3])"
   ]
  },
  {
   "cell_type": "markdown",
   "id": "30c19bd3",
   "metadata": {},
   "source": [
    "## Easy 15\n",
    "Write a query to find list of patients first_name, last_name, and allergies from Hamilton where allergies are not null.\n",
    "We will use Toronto"
   ]
  },
  {
   "cell_type": "code",
   "execution_count": 54,
   "id": "42eb679f",
   "metadata": {},
   "outputs": [],
   "source": [
    "qstr = \"\"\"\n",
    "SELECT\n",
    "  first_name,\n",
    "  last_name,\n",
    "  allergies\n",
    "FROM patients\n",
    "WHERE\n",
    "  city = 'Toronto'\n",
    "  AND allergies IS NOT NULL;\n",
    "\"\"\"\n",
    "sqlq = sql_raw(qstr)"
   ]
  },
  {
   "cell_type": "code",
   "execution_count": 55,
   "id": "580a2c69",
   "metadata": {},
   "outputs": [
    {
     "name": "stdout",
     "output_type": "stream",
     "text": [
      "Equal ✔️\n",
      "SELECT \"patients\".\"first_name\",\n",
      "       \"patients\".\"last_name\",\n",
      "       \"patients\".\"allergies\"\n",
      "FROM \"patients\"\n",
      "WHERE (\"patients\".\"allergies\" IS NOT NULL\n",
      "       AND \"patients\".\"city\" = Toronto)\n"
     ]
    }
   ],
   "source": [
    "ormq = Patients.objects.filter(city=\"Toronto\", allergies__isnull=False).values(\n",
    "    \"first_name\", \"last_name\", \"allergies\"\n",
    ")\n",
    "equal(sqlq, ormq)\n",
    "print_sql(ormq)"
   ]
  },
  {
   "cell_type": "code",
   "execution_count": 56,
   "id": "a7e4e5c0",
   "metadata": {},
   "outputs": [
    {
     "name": "stdout",
     "output_type": "stream",
     "text": [
      "Equal ✔️\n",
      "SELECT \"patients\".\"first_name\",\n",
      "       \"patients\".\"last_name\",\n",
      "       \"patients\".\"allergies\"\n",
      "FROM \"patients\"\n",
      "WHERE (NOT (\"patients\".\"allergies\" IS NULL)\n",
      "       AND \"patients\".\"city\" = Toronto)\n"
     ]
    }
   ],
   "source": [
    "ormq1 = Patients.objects.filter(\n",
    "    ~Q(allergies=None),\n",
    "    city=\"Toronto\",\n",
    ").values(\"first_name\", \"last_name\", \"allergies\")\n",
    "equal(sqlq, ormq1)\n",
    "print_sql(ormq1)"
   ]
  },
  {
   "cell_type": "code",
   "execution_count": 57,
   "id": "abfa0fb4",
   "metadata": {},
   "outputs": [
    {
     "name": "stdout",
     "output_type": "stream",
     "text": [
      "Equal ✔️\n",
      "SELECT \"patients\".\"first_name\",\n",
      "       \"patients\".\"last_name\",\n",
      "       \"patients\".\"allergies\"\n",
      "FROM \"patients\"\n",
      "WHERE (\"patients\".\"city\" = Toronto\n",
      "       AND NOT (\"patients\".\"allergies\" IS NULL))\n"
     ]
    }
   ],
   "source": [
    "ormq2 = (\n",
    "    Patients.objects.filter(city=\"Toronto\")\n",
    "    .exclude(allergies=None)\n",
    "    .values(\"first_name\", \"last_name\", \"allergies\")\n",
    ")\n",
    "equal(sqlq, ormq2)\n",
    "print_sql(ormq2)"
   ]
  },
  {
   "cell_type": "code",
   "execution_count": 58,
   "id": "50def2af",
   "metadata": {},
   "outputs": [
    {
     "data": {
      "text/html": [
       "<div>\n",
       "<style scoped>\n",
       "    .dataframe tbody tr th:only-of-type {\n",
       "        vertical-align: middle;\n",
       "    }\n",
       "\n",
       "    .dataframe tbody tr th {\n",
       "        vertical-align: top;\n",
       "    }\n",
       "\n",
       "    .dataframe thead th {\n",
       "        text-align: right;\n",
       "    }\n",
       "</style>\n",
       "<table border=\"1\" class=\"dataframe\">\n",
       "  <thead>\n",
       "    <tr style=\"text-align: right;\">\n",
       "      <th></th>\n",
       "      <th>first_name</th>\n",
       "      <th>last_name</th>\n",
       "      <th>allergies</th>\n",
       "    </tr>\n",
       "  </thead>\n",
       "  <tbody>\n",
       "    <tr>\n",
       "      <th>0</th>\n",
       "      <td>Cheryl</td>\n",
       "      <td>Mason</td>\n",
       "      <td>Peanuts</td>\n",
       "    </tr>\n",
       "    <tr>\n",
       "      <th>1</th>\n",
       "      <td>Kimberly</td>\n",
       "      <td>Lee</td>\n",
       "      <td>Pollen</td>\n",
       "    </tr>\n",
       "    <tr>\n",
       "      <th>2</th>\n",
       "      <td>Maria</td>\n",
       "      <td>Singh</td>\n",
       "      <td>Pollen</td>\n",
       "    </tr>\n",
       "  </tbody>\n",
       "</table>\n",
       "</div>"
      ],
      "text/plain": [
       "  first_name last_name allergies\n",
       "0     Cheryl     Mason   Peanuts\n",
       "1   Kimberly       Lee    Pollen\n",
       "2      Maria     Singh    Pollen"
      ]
     },
     "execution_count": 58,
     "metadata": {},
     "output_type": "execute_result"
    }
   ],
   "source": [
    "orm_to_df(ormq[:3])"
   ]
  },
  {
   "cell_type": "markdown",
   "id": "9489e6ca",
   "metadata": {},
   "source": [
    "## Easy 16\n",
    "Based on cities where our patient lives in, write a query to display the list of unique city starting with a vowel (a, e, i, o, u). Show the result order in ascending by city."
   ]
  },
  {
   "cell_type": "code",
   "execution_count": 59,
   "id": "e7ce8c59",
   "metadata": {},
   "outputs": [],
   "source": [
    "# You can use city LIKE '[aeiou]%'\n",
    "# We are doing case insensitve matching here.\n",
    "qstr = \"\"\"\n",
    "SELECT DISTINCT city\n",
    "FROM patients\n",
    "WHERE\n",
    "  city LIKE 'a%'\n",
    "  OR city LIKE 'e%'\n",
    "  OR city LIKE 'i%'\n",
    "  OR city LIKE 'o%'\n",
    "  OR city LIKE 'u%'\n",
    "ORDER BY city;\n",
    "\"\"\"\n",
    "sqlq = sql_raw(qstr)"
   ]
  },
  {
   "cell_type": "code",
   "execution_count": 60,
   "id": "761af2ef",
   "metadata": {},
   "outputs": [
    {
     "name": "stdout",
     "output_type": "stream",
     "text": [
      "Equal ✔️\n",
      "SELECT DISTINCT \"patients\".\"city\"\n",
      "FROM \"patients\"\n",
      "WHERE (\"patients\".\"city\" LIKE a% ESCAPE '\\' OR \"patients\".\"city\" LIKE e% ESCAPE '\\' OR \"patients\".\"city\" LIKE i% ESCAPE '\\' OR \"patients\".\"city\" LIKE o% ESCAPE '\\' OR \"patients\".\"city\" LIKE u% ESCAPE '\\')\n",
      "ORDER BY \"patients\".\"city\" ASC\n"
     ]
    }
   ],
   "source": [
    "query = Q()\n",
    "for ch in [\"a\", \"e\", \"i\", \"o\", \"u\"]:\n",
    "    query |= Q(city__istartswith=ch)\n",
    "ormq = Patients.objects.filter(query).values(\"city\").distinct().order_by(\"city\")\n",
    "equal(sqlq, ormq)\n",
    "print_sql(ormq)"
   ]
  },
  {
   "cell_type": "code",
   "execution_count": 61,
   "id": "da16e46e",
   "metadata": {},
   "outputs": [
    {
     "name": "stdout",
     "output_type": "stream",
     "text": [
      "Equal ✔️\n",
      "SELECT DISTINCT \"patients\".\"city\"\n",
      "FROM \"patients\"\n",
      "WHERE \"patients\".\"city\" REGEXP (?i)^[aeiou].+\n",
      "ORDER BY \"patients\".\"city\" ASC\n"
     ]
    }
   ],
   "source": [
    "ormq1 = (\n",
    "    Patients.objects.filter(city__regex=r\"(?i)^[aeiou].+\")\n",
    "    .values(\"city\")\n",
    "    .distinct()\n",
    "    .order_by(\"city\")\n",
    ")\n",
    "equal(sqlq, ormq1)\n",
    "print_sql(ormq1)"
   ]
  },
  {
   "cell_type": "code",
   "execution_count": 62,
   "id": "2309c08e",
   "metadata": {},
   "outputs": [
    {
     "data": {
      "text/html": [
       "<div>\n",
       "<style scoped>\n",
       "    .dataframe tbody tr th:only-of-type {\n",
       "        vertical-align: middle;\n",
       "    }\n",
       "\n",
       "    .dataframe tbody tr th {\n",
       "        vertical-align: top;\n",
       "    }\n",
       "\n",
       "    .dataframe thead th {\n",
       "        text-align: right;\n",
       "    }\n",
       "</style>\n",
       "<table border=\"1\" class=\"dataframe\">\n",
       "  <thead>\n",
       "    <tr style=\"text-align: right;\">\n",
       "      <th></th>\n",
       "      <th>city</th>\n",
       "    </tr>\n",
       "  </thead>\n",
       "  <tbody>\n",
       "    <tr>\n",
       "      <th>0</th>\n",
       "      <td>Ottawa</td>\n",
       "    </tr>\n",
       "  </tbody>\n",
       "</table>\n",
       "</div>"
      ],
      "text/plain": [
       "     city\n",
       "0  Ottawa"
      ]
     },
     "execution_count": 62,
     "metadata": {},
     "output_type": "execute_result"
    }
   ],
   "source": [
    "orm_to_df(ormq1)"
   ]
  }
 ],
 "metadata": {
  "kernelspec": {
   "display_name": "Django Shell-Plus",
   "language": "python",
   "name": "django_extensions"
  },
  "language_info": {
   "codemirror_mode": {
    "name": "ipython",
    "version": 3
   },
   "file_extension": ".py",
   "mimetype": "text/x-python",
   "name": "python",
   "nbconvert_exporter": "python",
   "pygments_lexer": "ipython3",
   "version": "3.9.0"
  }
 },
 "nbformat": 4,
 "nbformat_minor": 5
}
