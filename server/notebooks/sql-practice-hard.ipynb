{
 "cells": [
  {
   "cell_type": "code",
   "execution_count": 1,
   "id": "079dd83c",
   "metadata": {},
   "outputs": [],
   "source": [
    "import os\n",
    "\n",
    "os.environ[\"DJANGO_ALLOW_ASYNC_UNSAFE\"] = \"true\"\n",
    "from utils import *"
   ]
  },
  {
   "cell_type": "code",
   "execution_count": 2,
   "id": "adb90216",
   "metadata": {},
   "outputs": [],
   "source": [
    "from django.db.models import (\n",
    "    Q,\n",
    "    F,\n",
    "    Case,\n",
    "    When,\n",
    "    Count,\n",
    "    Func,\n",
    "    Min,\n",
    "    Max,\n",
    "    Sum,\n",
    "    Avg,\n",
    "    Value,\n",
    "    OuterRef,\n",
    "    Subquery,\n",
    "    Window,\n",
    "    CharField,\n",
    "    FloatField,\n",
    ")\n",
    "from django.db.models.lookups import Exact, GreaterThanOrEqual\n",
    "from django.db.models.functions import Concat, Cast, Round, Length, Lag\n",
    "from django.db import connection\n",
    "from customer_db.models import Provinces, Patients, Doctors, Admissions"
   ]
  },
  {
   "cell_type": "code",
   "execution_count": 3,
   "id": "fba2e23b",
   "metadata": {},
   "outputs": [],
   "source": [
    "def orm_to_df(record: any) -> pd.DataFrame:\n",
    "    try:\n",
    "        iter(record)\n",
    "    except:\n",
    "        record = [record]\n",
    "    if isinstance(record, dict):\n",
    "        record = [record]\n",
    "    df = pd.DataFrame.from_records(record)\n",
    "    print(df.to_markdown())"
   ]
  },
  {
   "cell_type": "code",
   "execution_count": 4,
   "id": "34f901a2",
   "metadata": {},
   "outputs": [],
   "source": [
    "patient_fields = [\n",
    "    \"first_name\",\n",
    "    \"last_name\",\n",
    "    \"gender\",\n",
    "    \"birth_date\",\n",
    "    \"city\",\n",
    "    \"province_id\",\n",
    "    \"allergies\",\n",
    "    \"height\",\n",
    "    \"weight\",\n",
    "]"
   ]
  },
  {
   "cell_type": "markdown",
   "id": "a18a2cf4",
   "metadata": {},
   "source": [
    "## Hard 1\n",
    "\n",
    "Show all of the patients grouped into weight groups.\n",
    "Show the total amount of patients in each weight group.\n",
    "Order the list by the weight group decending.\n",
    "\n",
    "For example, if they weight 100 to 109 they are placed in the 100 weight group, 110-119 = 110 weight group, etc."
   ]
  },
  {
   "cell_type": "code",
   "execution_count": 5,
   "id": "e8abf1ae",
   "metadata": {},
   "outputs": [],
   "source": [
    "qstr = \"\"\"\n",
    "SELECT\n",
    "  ROUND(weight / 10, 0) * 10 AS weight_class,\n",
    "  COUNT(patient_id) AS patient_count\n",
    "FROM patients\n",
    "GROUP BY weight_class\n",
    "ORDER BY weight_class DESC\n",
    "\"\"\"\n",
    "sqlq = sql_raw(qstr)"
   ]
  },
  {
   "cell_type": "code",
   "execution_count": 6,
   "id": "d696b631",
   "metadata": {},
   "outputs": [
    {
     "name": "stdout",
     "output_type": "stream",
     "text": [
      "Equal ✔️\n",
      "SELECT (ROUND((\"patients\".\"weight\" / 10), 0) * 10) AS \"weight_class\",\n",
      "       COUNT(\"patients\".\"patient_id\") AS \"patient_count\"\n",
      "FROM \"patients\"\n",
      "GROUP BY 1\n",
      "ORDER BY 1 DESC\n"
     ]
    }
   ],
   "source": [
    "ormq = (\n",
    "    Patients.objects.values(weight_class=Round(F(\"weight\") / 10, 0) * 10)\n",
    "    .annotate(patient_count=Count(\"id\"))\n",
    "    .order_by(\"-weight_class\")\n",
    "    .values(\"weight_class\", \"patient_count\")\n",
    ")\n",
    "equal(sqlq, ormq)\n",
    "print_sql(ormq)"
   ]
  },
  {
   "cell_type": "code",
   "execution_count": 7,
   "id": "fb8aa872",
   "metadata": {},
   "outputs": [
    {
     "name": "stdout",
     "output_type": "stream",
     "text": [
      "|    |   weight_class |   patient_count |\n",
      "|---:|---------------:|----------------:|\n",
      "|  0 |             90 |               1 |\n",
      "|  1 |             80 |              20 |\n",
      "|  2 |             70 |              29 |\n"
     ]
    }
   ],
   "source": [
    "orm_to_df(ormq[:3])"
   ]
  },
  {
   "cell_type": "markdown",
   "id": "2f4f6395",
   "metadata": {},
   "source": [
    "## Hard 2\n",
    "Show patient_id, weight, height, isObese from the patients table.\n",
    "\n",
    "Display isObese as a boolean 0 or 1.\n",
    "Obese is defined as weight(kg)/(height(m)2) >= 30.\n",
    "weight is in units kg.\n",
    "height is in units cm.\n",
    "\n",
    "We will do 24"
   ]
  },
  {
   "cell_type": "code",
   "execution_count": 8,
   "id": "94a8c817",
   "metadata": {},
   "outputs": [],
   "source": [
    "qstr = \"\"\"\n",
    "SELECT\n",
    "  patient_id AS id,\n",
    "  weight,\n",
    "  height,\n",
    "  CASE\n",
    "    WHEN weight * 10000/ (height * height) >= 24 THEN 1\n",
    "    ELSE 0\n",
    "  END AS isObese\n",
    "FROM patients\n",
    "\"\"\"\n",
    "sqlq = sql_raw(qstr)"
   ]
  },
  {
   "cell_type": "code",
   "execution_count": 9,
   "id": "27a97da6",
   "metadata": {},
   "outputs": [
    {
     "name": "stdout",
     "output_type": "stream",
     "text": [
      "Equal ✔️\n",
      "SELECT \"patients\".\"patient_id\",\n",
      "       \"patients\".\"weight\",\n",
      "       \"patients\".\"height\",\n",
      "       CASE\n",
      "           WHEN ((\"patients\".\"weight\" * 10000) / (\"patients\".\"height\" * \"patients\".\"height\")) >= 24 THEN 1\n",
      "           ELSE 0\n",
      "       END AS \"isObese\"\n",
      "FROM \"patients\"\n"
     ]
    }
   ],
   "source": [
    "ormq = Patients.objects.annotate(\n",
    "    tmp_weight=F(\"weight\") * 10000 / (F(\"height\") * F(\"height\"))\n",
    ").values(\n",
    "    \"id\", \"weight\", \"height\", isObese=Case(When(tmp_weight__gte=24, then=1), default=0)\n",
    ")\n",
    "equal(sqlq, ormq)\n",
    "print_sql(ormq)"
   ]
  },
  {
   "cell_type": "code",
   "execution_count": 10,
   "id": "bd69522b",
   "metadata": {},
   "outputs": [
    {
     "name": "stdout",
     "output_type": "stream",
     "text": [
      "|    |   id |   weight |   height |   isObese |\n",
      "|---:|-----:|---------:|---------:|----------:|\n",
      "|  0 |    1 |       65 |      170 |         0 |\n",
      "|  1 |    2 |       80 |      185 |         0 |\n",
      "|  2 |    3 |       58 |      155 |         1 |\n"
     ]
    }
   ],
   "source": [
    "orm_to_df(ormq[:3])"
   ]
  },
  {
   "cell_type": "markdown",
   "id": "0870d033",
   "metadata": {},
   "source": [
    "## Hard 3\n",
    "Show patient_id, first_name, last_name, and attending doctor's specialty.\n",
    "Show only the patients who has a diagnosis as 'Epilepsy' and the doctor's first name is 'Lisa'\n",
    "\n",
    "Check patients, admissions, and doctors tables for required information.\n",
    "We will do 'Anemia'"
   ]
  },
  {
   "cell_type": "code",
   "execution_count": 11,
   "id": "e9af9039",
   "metadata": {},
   "outputs": [],
   "source": [
    "qstr = \"\"\"\n",
    "SELECT\n",
    "  p.patient_id,\n",
    "  p.first_name,\n",
    "  p.last_name,\n",
    "  speciality\n",
    "FROM admissions AS a\n",
    "  JOIN patients p ON p.patient_id = a.patient_id\n",
    "  JOIN doctors d ON a.attending_doctor_id = d.doctor_id\n",
    "WHERE\n",
    "  diagnosis = 'Anemia'\n",
    "  and d.first_name = 'Lisa'\n",
    "\"\"\"\n",
    "sqlq = sql_raw(qstr)"
   ]
  },
  {
   "cell_type": "code",
   "execution_count": 12,
   "id": "3b3f0e12",
   "metadata": {},
   "outputs": [
    {
     "name": "stdout",
     "output_type": "stream",
     "text": [
      "Equal ✔️\n",
      "SELECT \"admissions\".\"patient_id\",\n",
      "       \"patients\".\"first_name\" AS \"first_name\",\n",
      "       \"patients\".\"last_name\" AS \"last_name\",\n",
      "       \"doctors\".\"speciality\" AS \"speciality\"\n",
      "FROM \"admissions\"\n",
      "INNER JOIN \"doctors\" ON (\"admissions\".\"attending_doctor_id\" = \"doctors\".\"doctor_id\")\n",
      "INNER JOIN \"patients\" ON (\"admissions\".\"patient_id\" = \"patients\".\"patient_id\")\n",
      "WHERE (\"doctors\".\"first_name\" = Lisa\n",
      "       AND \"admissions\".\"diagnosis\" = Anemia)\n"
     ]
    }
   ],
   "source": [
    "ormq = Admissions.objects.filter(\n",
    "    diagnosis=\"Anemia\", attending_doctor__first_name=\"Lisa\"\n",
    ").values(\n",
    "    \"patient_id\",\n",
    "    first_name=F(\"patient__first_name\"),\n",
    "    last_name=F(\"patient__last_name\"),\n",
    "    speciality=F(\"attending_doctor__speciality\"),\n",
    ")\n",
    "equal(sqlq, ormq)\n",
    "print_sql(ormq)"
   ]
  },
  {
   "cell_type": "code",
   "execution_count": 13,
   "id": "74e881c9",
   "metadata": {},
   "outputs": [
    {
     "name": "stdout",
     "output_type": "stream",
     "text": [
      "|    |   patient_id | first_name   | last_name   | speciality    |\n",
      "|---:|-------------:|:-------------|:------------|:--------------|\n",
      "|  0 |           51 | Isabelle     | Lee         | Endocrinology |\n"
     ]
    }
   ],
   "source": [
    "orm_to_df(ormq[:3])"
   ]
  },
  {
   "cell_type": "markdown",
   "id": "948f5ff7",
   "metadata": {},
   "source": [
    "## Hard 4\n",
    "All patients who have gone through admissions, can see their medical documents on our site. Those patients are given a temporary password after their first admission. Show the patient_id and temp_password.\n",
    "\n",
    "The password must be the following, in order:\n",
    "1. patient_id\n",
    "2. the numerical length of patient's last_name\n",
    "3. year of patient's birth_date"
   ]
  },
  {
   "cell_type": "code",
   "execution_count": 14,
   "id": "dece97c2",
   "metadata": {},
   "outputs": [],
   "source": [
    "# use YEAR(birth_date) in other databases\n",
    "qstr = \"\"\"\n",
    "SELECT\n",
    "  p.patient_id,\n",
    "  p.patient_id || LENGTH(last_name) || strftime('%Y', birth_date) AS temp_password\n",
    "FROM patients p\n",
    "WHERE patient_id IN (\n",
    "    SELECT DISTINCT(patient_id)\n",
    "    FROM admissions\n",
    "  )\n",
    "\"\"\"\n",
    "sqlq = sql_raw(qstr)"
   ]
  },
  {
   "cell_type": "code",
   "execution_count": 15,
   "id": "980544fd",
   "metadata": {},
   "outputs": [
    {
     "name": "stdout",
     "output_type": "stream",
     "text": [
      "Equal ✔️\n",
      "SELECT \"patients\".\"patient_id\" AS \"patient_id\",\n",
      "       CAST(COALESCE(\"patients\".\"patient_id\",) || COALESCE(COALESCE(LENGTH(\"patients\".\"last_name\"),) || COALESCE(django_date_extract(year, \"patients\".\"birth_date\"),),) AS text) AS \"temp_password\"\n",
      "FROM \"patients\"\n",
      "WHERE \"patients\".\"patient_id\" IN\n",
      "    (SELECT DISTINCT U0.\"patient_id\"\n",
      "     FROM \"admissions\" U0)\n"
     ]
    }
   ],
   "source": [
    "ormq = Patients.objects.filter(\n",
    "    id__in=Subquery(Admissions.objects.values(\"patient_id\").distinct())\n",
    ").values(\n",
    "    patient_id=F(\"id\"),\n",
    "    temp_password=Cast(\n",
    "        Concat(\"id\", Length(\"last_name\"), \"birth_date__year\"), CharField()\n",
    "    ),\n",
    ")\n",
    "equal(sqlq, ormq)\n",
    "print_sql(ormq)"
   ]
  },
  {
   "cell_type": "code",
   "execution_count": 16,
   "id": "99623c3d",
   "metadata": {},
   "outputs": [
    {
     "name": "stdout",
     "output_type": "stream",
     "text": [
      "Equal ✔️\n",
      "SELECT DISTINCT \"admissions\".\"patient_id\" AS \"patient_id\",\n",
      "                CAST(COALESCE(\"patients\".\"patient_id\",) || COALESCE(COALESCE(LENGTH(\"patients\".\"last_name\"),) || COALESCE(django_date_extract(year, \"patients\".\"birth_date\"),),) AS text) AS \"temp_password\"\n",
      "FROM \"patients\"\n",
      "INNER JOIN \"admissions\" ON (\"patients\".\"patient_id\" = \"admissions\".\"patient_id\")\n",
      "WHERE \"admissions\".\"admission_date\" IS NOT NULL\n"
     ]
    }
   ],
   "source": [
    "ormq1 = (\n",
    "    Patients.objects.filter(admissions__admission_date__isnull=False)\n",
    "    .values(\n",
    "        patient_id=F(\"admissions__patient_id\"),\n",
    "        temp_password=Cast(\n",
    "            Concat(\"id\", Length(\"last_name\"), \"birth_date__year\"), CharField()\n",
    "        ),\n",
    "    )\n",
    "    .distinct()\n",
    ")\n",
    "equal(sqlq, ormq1, True)\n",
    "print_sql(ormq1)"
   ]
  },
  {
   "cell_type": "code",
   "execution_count": 17,
   "id": "f4d32ed1",
   "metadata": {},
   "outputs": [
    {
     "name": "stdout",
     "output_type": "stream",
     "text": [
      "|    |   patient_id |   temp_password |\n",
      "|---:|-------------:|----------------:|\n",
      "|  0 |            1 |          151978 |\n",
      "|  1 |            2 |          271990 |\n",
      "|  2 |            3 |          381985 |\n"
     ]
    }
   ],
   "source": [
    "orm_to_df(ormq[:3])"
   ]
  },
  {
   "cell_type": "markdown",
   "id": "ec2e4c0e",
   "metadata": {},
   "source": [
    "## Hard 5\n",
    "Each admission costs \\\\$50 for patients without insurance, and \\\\$10 for patients with insurance. All patients with an even patient_id have insurance.\n",
    "\n",
    "Give each patient a 'Yes' if they have insurance, and a 'No' if they don't have insurance. Add up the admission_total cost for each has_insurance group."
   ]
  },
  {
   "cell_type": "code",
   "execution_count": 18,
   "id": "2ec4f5c4",
   "metadata": {},
   "outputs": [],
   "source": [
    "qstr = \"\"\"\n",
    "SELECT has_insurance, SUM(insurance_cost) AS total_insurance_cost\n",
    "FROM(\n",
    "    SELECT\n",
    "      CASE\n",
    "        WHEN patient_id % 2 = 0 THEN \"Yes\"\n",
    "        ELSE \"No\"\n",
    "      END AS has_insurance,\n",
    "      CASE\n",
    "        WHEN patient_id % 2 = 0 THEN 10\n",
    "        ELSE 50\n",
    "      END AS insurance_cost\n",
    "    FROM admissions\n",
    "  )\n",
    "GROUP BY has_insurance;\n",
    "\"\"\"\n",
    "sqlq = sql_raw(qstr)"
   ]
  },
  {
   "cell_type": "code",
   "execution_count": 19,
   "id": "2a727caf",
   "metadata": {},
   "outputs": [
    {
     "name": "stdout",
     "output_type": "stream",
     "text": [
      "Equal ✔️\n",
      "SELECT CASE\n",
      "           WHEN (\"admissions\".\"id\" % 2) = (0) THEN Yes\n",
      "           ELSE No\n",
      "       END AS \"has_insurance\",\n",
      "       SUM(CASE\n",
      "               WHEN (\"admissions\".\"patient_id\" % 2) = (0) THEN 10\n",
      "               ELSE 50\n",
      "           END) AS \"total_insurance_cost\"\n",
      "FROM \"admissions\"\n",
      "GROUP BY 1,\n",
      "         CASE\n",
      "             WHEN (\"admissions\".\"patient_id\" % 2) = (0) THEN 10\n",
      "             ELSE 50\n",
      "         END\n"
     ]
    }
   ],
   "source": [
    "ormq = (\n",
    "    Admissions.objects.values(\n",
    "        has_insurance=Case(\n",
    "            When(Exact(F(\"id\") % 2, 0), then=Value(\"Yes\")), default=Value(\"No\")\n",
    "        ),\n",
    "        insurance_cost=Case(When(Exact(F(\"patient_id\") % 2, 0), then=10), default=50),\n",
    "    )\n",
    "    .annotate(total_insurance_cost=Sum(\"insurance_cost\"))\n",
    "    .values(\"has_insurance\", \"total_insurance_cost\")\n",
    ")\n",
    "\n",
    "equal(sqlq, ormq)\n",
    "print_sql(ormq)"
   ]
  },
  {
   "cell_type": "code",
   "execution_count": 20,
   "id": "5cc6f093",
   "metadata": {},
   "outputs": [
    {
     "name": "stdout",
     "output_type": "stream",
     "text": [
      "Equal ✔️\n",
      "SELECT Yes AS \"has_insurance\",\n",
      "       (COUNT(Yes) * 10) AS \"total_insurance_cost\"\n",
      "FROM \"admissions\"\n",
      "WHERE (\"admissions\".\"id\" % 2) = (0)\n",
      "UNION\n",
      "SELECT No AS \"has_insurance\",\n",
      "             (COUNT(No) * 50) AS \"total_insurance_cost\"\n",
      "FROM \"admissions\"\n",
      "WHERE (\"admissions\".\"id\" % 2) = (1)\n"
     ]
    }
   ],
   "source": [
    "ormq1 = (\n",
    "    Admissions.objects.values(has_insurance=Value(\"Yes\"))\n",
    "    .filter(Exact(F(\"id\")%2, 0))\n",
    "    .annotate(total_insurance_cost=Count(\"has_insurance\") * 10)\n",
    "    .values(\"has_insurance\", \"total_insurance_cost\")\n",
    "    .union(\n",
    "        Admissions.objects.values(has_insurance=Value(\"No\"))\n",
    "        .filter(Exact(F(\"id\")%2, 1))\n",
    "        .annotate(total_insurance_cost=Count(\"has_insurance\") * 50)\n",
    "        .values(\"has_insurance\", \"total_insurance_cost\")\n",
    "    )\n",
    ")\n",
    "\n",
    "\n",
    "equal(sqlq, ormq1, True)\n",
    "print_sql(ormq1)"
   ]
  },
  {
   "cell_type": "code",
   "execution_count": 21,
   "id": "dbe24ff3",
   "metadata": {},
   "outputs": [
    {
     "name": "stdout",
     "output_type": "stream",
     "text": [
      "|    | has_insurance   |   total_insurance_cost |\n",
      "|---:|:----------------|-----------------------:|\n",
      "|  0 | No              |                   4250 |\n",
      "|  1 | Yes             |                    850 |\n"
     ]
    }
   ],
   "source": [
    "orm_to_df(ormq[:3])"
   ]
  },
  {
   "cell_type": "markdown",
   "id": "37434886",
   "metadata": {},
   "source": [
    "## Hard 6\n",
    "Show the provinces that has more patients identified as 'M' than 'F'. Must only show full province_name"
   ]
  },
  {
   "cell_type": "code",
   "execution_count": 22,
   "id": "34d72292",
   "metadata": {},
   "outputs": [],
   "source": [
    "qstr = \"\"\"\n",
    "SELECT pr.province_name\n",
    "FROM patients AS pa\n",
    "  JOIN province_names AS pr ON pa.province_id = pr.province_id\n",
    "GROUP BY pr.province_name\n",
    "HAVING SUM(gender = 'M') > SUM(gender = 'F')\n",
    "\"\"\"\n",
    "sqlq = sql_raw(qstr)"
   ]
  },
  {
   "cell_type": "code",
   "execution_count": 23,
   "id": "3dadf93c",
   "metadata": {},
   "outputs": [
    {
     "name": "stdout",
     "output_type": "stream",
     "text": [
      "Equal ✔️\n",
      "SELECT \"province_names\".\"province_name\" AS \"province_name\"\n",
      "FROM \"patients\"\n",
      "INNER JOIN \"province_names\" ON (\"patients\".\"province_id\" = \"province_names\".\"province_id\")\n",
      "WHERE \"province_names\".\"province_name\" IS NOT NULL\n",
      "GROUP BY 1\n",
      "HAVING SUM((\"patients\".\"gender\" = M)) > (SUM(\"patients\".\"gender\" = F))\n"
     ]
    }
   ],
   "source": [
    "ormq = (\n",
    "    Patients.objects.values(\"province__name\")\n",
    "    .annotate(female=Sum(Q(gender=\"F\")), male=Sum(Q(gender=\"M\")))\n",
    "    .filter(male__gt=F(\"female\"), province__name__isnull=False)\n",
    "    .values(province_name=F(\"province__name\"))\n",
    ")\n",
    "\n",
    "equal(sqlq, ormq)\n",
    "print_sql(ormq)"
   ]
  },
  {
   "cell_type": "code",
   "execution_count": 24,
   "id": "1301239b",
   "metadata": {},
   "outputs": [
    {
     "name": "stdout",
     "output_type": "stream",
     "text": [
      "|    | province_name   |\n",
      "|---:|:----------------|\n",
      "|  0 | Manitoba        |\n",
      "|  1 | Ontario         |\n",
      "|  2 | Quebec          |\n"
     ]
    }
   ],
   "source": [
    "orm_to_df(ormq[:3])"
   ]
  },
  {
   "cell_type": "markdown",
   "id": "1caad3ce",
   "metadata": {},
   "source": [
    "## Hard 7\n",
    "\n",
    "We are looking for a specific patient. Pull all columns for the patient who matches the following criteria:\n",
    "- First_name contains an 'r' after the first two letters.\n",
    "- Identifies their gender as 'F' (We will do 'M')\n",
    "- Born in February, May, or December\n",
    "- Their weight would be between 60kg and 80kg\n",
    "- Their patient_id is an odd number  (We will do even)\n",
    "- They are from the city 'Kingston'  (We will do 'Vancouver')"
   ]
  },
  {
   "cell_type": "code",
   "execution_count": 25,
   "id": "a2bae34d",
   "metadata": {},
   "outputs": [],
   "source": [
    "qstr = \"\"\"\n",
    "SELECT *\n",
    "FROM patients\n",
    "WHERE\n",
    "  first_name LIKE \"__r%\"\n",
    "  AND gender = 'M'\n",
    "  AND (\n",
    "    CAST(strftime('%m', birth_date) AS INT) IN (2, 5, 12)\n",
    "  )\n",
    "  AND weight between 60 AND 80\n",
    "  AND patient_id % 2 = 0\n",
    "  AND city = 'Vancouver'\n",
    "\"\"\"\n",
    "sqlq = sql_raw(qstr)"
   ]
  },
  {
   "cell_type": "code",
   "execution_count": 26,
   "id": "bb0fcfc9",
   "metadata": {},
   "outputs": [
    {
     "name": "stdout",
     "output_type": "stream",
     "text": [
      "Equal ✔️\n",
      "SELECT \"patients\".\"first_name\",\n",
      "       \"patients\".\"last_name\",\n",
      "       \"patients\".\"gender\",\n",
      "       \"patients\".\"birth_date\",\n",
      "       \"patients\".\"city\",\n",
      "       \"patients\".\"province_id\",\n",
      "       \"patients\".\"allergies\",\n",
      "       \"patients\".\"height\",\n",
      "       \"patients\".\"weight\",\n",
      "       \"patients\".\"patient_id\" AS \"patient_id\"\n",
      "FROM \"patients\"\n",
      "WHERE ((\"patients\".\"patient_id\" % 2) = (0)\n",
      "       AND django_date_extract(month, \"patients\".\"birth_date\") IN (2,\n",
      "                                                                   5,\n",
      "                                                                   12)\n",
      "       AND \"patients\".\"city\" = Vancouver\n",
      "       AND \"patients\".\"first_name\" REGEXP (?i)^\\w{2,}r\\w*$\n",
      "       AND \"patients\".\"gender\" = M\n",
      "       AND \"patients\".\"weight\" BETWEEN 60 AND 80)\n"
     ]
    }
   ],
   "source": [
    "ormq = (\n",
    "    Patients.objects.filter(\n",
    "        Exact(F(\"id\") % 2, 0),\n",
    "        first_name__regex=r\"(?i)^\\w{2,}r\\w*$\",\n",
    "        gender=\"M\",\n",
    "        birth_date__month__in=(2, 5, 12),\n",
    "        weight__range=(60, 80),\n",
    "        city=\"Vancouver\",\n",
    "    )\n",
    ").values(patient_id=F(\"id\"), *patient_fields)\n",
    "equal(sqlq, ormq)\n",
    "print_sql(ormq)"
   ]
  },
  {
   "cell_type": "code",
   "execution_count": 27,
   "id": "b4cbc398",
   "metadata": {},
   "outputs": [
    {
     "name": "stdout",
     "output_type": "stream",
     "text": [
      "|    | first_name   | last_name   | gender   | birth_date   | city      | province_id   | allergies   |   height |   weight |   patient_id |\n",
      "|---:|:-------------|:------------|:---------|:-------------|:----------|:--------------|:------------|---------:|---------:|-------------:|\n",
      "|  0 | Jared        | Taylor      | M        | 1986-02-20   | Vancouver | BC            |             |      178 |       75 |           34 |\n"
     ]
    }
   ],
   "source": [
    "orm_to_df(ormq)"
   ]
  },
  {
   "cell_type": "markdown",
   "id": "9441be88",
   "metadata": {},
   "source": [
    "## Hard 8\n",
    "Show the percent of patients that have 'M' as their gender. Round the answer to the nearest hundreth number and in percent form."
   ]
  },
  {
   "cell_type": "code",
   "execution_count": 28,
   "id": "76d3e904",
   "metadata": {},
   "outputs": [],
   "source": [
    "qstr = \"\"\"\n",
    "SELECT\n",
    "  ROUND(\n",
    "    CAST(AVG(gender = 'M') as FLOAT)  * 100,\n",
    "    2\n",
    "  ) || '%' AS pct\n",
    "FROM patients\n",
    "\"\"\"\n",
    "sqlq = sql_raw(qstr)"
   ]
  },
  {
   "cell_type": "code",
   "execution_count": 29,
   "id": "c153ec1d",
   "metadata": {},
   "outputs": [
    {
     "name": "stdout",
     "output_type": "stream",
     "text": [
      "Equal ✔️\n",
      "SELECT COALESCE(CAST(ROUND((AVG(\"patients\".\"gender\" = M) * 100), 2) AS text),) || COALESCE(%,) AS \"pct\"\n",
      "FROM \"patients\"\n"
     ]
    }
   ],
   "source": [
    "class NonAggrAvg(Avg):\n",
    "    contains_aggregate = False\n",
    "\n",
    "\n",
    "ormq = Patients.objects.annotate(\n",
    "    pct=Concat(\n",
    "        Cast(\n",
    "            Round(NonAggrAvg(Q(gender=\"M\"), output_field=FloatField()) * 100, 2),\n",
    "            CharField(),\n",
    "        ),\n",
    "        Value(\"%\"),\n",
    "    )\n",
    ").values(\"pct\")\n",
    "\n",
    "equal(sqlq, ormq)\n",
    "print_sql(ormq)"
   ]
  },
  {
   "cell_type": "code",
   "execution_count": 30,
   "id": "1f475700",
   "metadata": {},
   "outputs": [
    {
     "name": "stdout",
     "output_type": "stream",
     "text": [
      "|    | pct   |\n",
      "|---:|:------|\n",
      "|  0 | 49.5% |\n"
     ]
    }
   ],
   "source": [
    "orm_to_df(ormq)"
   ]
  },
  {
   "cell_type": "markdown",
   "id": "42a05dae",
   "metadata": {},
   "source": [
    "## Hard 9\n",
    "For each day display the total amount of admissions on that day. Display the amount changed from the previous date."
   ]
  },
  {
   "cell_type": "code",
   "execution_count": 31,
   "id": "5e30ce0c",
   "metadata": {},
   "outputs": [],
   "source": [
    "qstr = \"\"\"\n",
    "SELECT\n",
    "  admission_date,\n",
    "  daily_admissions,\n",
    "  daily_admissions - prev_admissions AS admission_diff\n",
    "FROM (\n",
    "    SELECT\n",
    "      admission_date,\n",
    "      COUNT(*) daily_admissions,\n",
    "      LAG(count(*), 1) OVER (\n",
    "        ORDER BY\n",
    "          admission_date\n",
    "      ) AS prev_admissions\n",
    "    FROM admissions\n",
    "    GROUP BY admission_date\n",
    "  )\n",
    "\"\"\"\n",
    "sqlq = sql_raw(qstr)"
   ]
  },
  {
   "cell_type": "code",
   "execution_count": 32,
   "id": "0a4f132c",
   "metadata": {},
   "outputs": [
    {
     "name": "stdout",
     "output_type": "stream",
     "text": [
      "Equal ✔️\n",
      "SELECT \"admissions\".\"admission_date\",\n",
      "       COUNT(\"admissions\".\"patient_id\") AS \"daily_admissions\",\n",
      "       (COUNT(\"admissions\".\"patient_id\") - LAG(COUNT(\"admissions\".\"patient_id\"), 1) OVER ()) AS \"admission_diff\"\n",
      "FROM \"admissions\"\n",
      "GROUP BY \"admissions\".\"admission_date\"\n"
     ]
    }
   ],
   "source": [
    "ormq = (\n",
    "    Admissions.objects.values(\"admission_date\")\n",
    "    .annotate(daily_admissions=Count(\"patient_id\"))\n",
    "    .values(\n",
    "        \"admission_date\",\n",
    "        \"daily_admissions\",\n",
    "        admission_diff=F(\"daily_admissions\") - Window(Lag(\"daily_admissions\")),\n",
    "    )\n",
    ")\n",
    "equal(sqlq, ormq)\n",
    "print_sql(ormq)"
   ]
  },
  {
   "cell_type": "code",
   "execution_count": 33,
   "id": "e10cb060",
   "metadata": {},
   "outputs": [
    {
     "name": "stdout",
     "output_type": "stream",
     "text": [
      "|    | admission_date   |   daily_admissions |   admission_diff |\n",
      "|---:|:-----------------|-------------------:|-----------------:|\n",
      "|  0 | 2022-01-01       |                  1 |              nan |\n",
      "|  1 | 2022-01-02       |                  1 |                0 |\n",
      "|  2 | 2022-01-03       |                  1 |                0 |\n"
     ]
    }
   ],
   "source": [
    "orm_to_df(ormq[:3])"
   ]
  },
  {
   "cell_type": "markdown",
   "id": "636cf0d2",
   "metadata": {},
   "source": [
    "## Hard 10\n",
    "Show the total number of admissions"
   ]
  },
  {
   "cell_type": "code",
   "execution_count": 34,
   "id": "81715bd2",
   "metadata": {},
   "outputs": [],
   "source": [
    "qstr = \"\"\"\n",
    "select province_name\n",
    "from province_names\n",
    "order by\n",
    "  province_name = 'Ontario' desc,\n",
    "  province_name\n",
    "\"\"\"\n",
    "sqlq = sql_raw(qstr)"
   ]
  },
  {
   "cell_type": "code",
   "execution_count": 35,
   "id": "c2956d6f",
   "metadata": {
    "scrolled": true
   },
   "outputs": [
    {
     "name": "stdout",
     "output_type": "stream",
     "text": [
      "Equal ✔️\n",
      "SELECT \"province_names\".\"province_name\" AS \"province_name\"\n",
      "FROM \"province_names\"\n",
      "ORDER BY \"province_names\".\"province_name\" = (Ontario) DESC, \"province_names\".\"province_name\" ASC\n"
     ]
    }
   ],
   "source": [
    "ormq = Provinces.objects.order_by(Exact(F(\"name\"), \"Ontario\").desc(), \"name\").values(\n",
    "    province_name=F(\"name\")\n",
    ")\n",
    "equal(sqlq, ormq)\n",
    "print_sql(ormq)"
   ]
  },
  {
   "cell_type": "code",
   "execution_count": 36,
   "id": "a0b46bd1",
   "metadata": {},
   "outputs": [
    {
     "name": "stdout",
     "output_type": "stream",
     "text": [
      "|    | province_name    |\n",
      "|---:|:-----------------|\n",
      "|  0 | Ontario          |\n",
      "|  1 | Alberta          |\n",
      "|  2 | British Columbia |\n"
     ]
    }
   ],
   "source": [
    "orm_to_df(ormq[:3])"
   ]
  },
  {
   "cell_type": "markdown",
   "id": "a79d1553",
   "metadata": {},
   "source": [
    "## Hard 11\n",
    "We need a breakdown for the total amount of admissions each doctor has started each year. Show the doctor_id, doctor_full_name, specialty, year, total_admissions for that year."
   ]
  },
  {
   "cell_type": "code",
   "execution_count": 37,
   "id": "9b0cfec5",
   "metadata": {},
   "outputs": [],
   "source": [
    "qstr = \"\"\"\n",
    "SELECT\n",
    "  doctor_id,\n",
    "  first_name || ' ' || last_name AS full_name,\n",
    "  speciality,\n",
    "  CAST(strftime('%Y', admission_date) AS INT) AS current_year,\n",
    "  Count(strftime('%Y', admission_date)) AS patients_attended\n",
    "FROM admissions a\n",
    "  JOIN doctors d ON a.attending_doctor_id = d.doctor_id\n",
    "GROUP BY current_year, doctor_id\n",
    "\"\"\"\n",
    "sqlq = sql_raw(qstr)"
   ]
  },
  {
   "cell_type": "code",
   "execution_count": 38,
   "id": "6d5fd3f8",
   "metadata": {},
   "outputs": [
    {
     "name": "stdout",
     "output_type": "stream",
     "text": [
      "Equal ✔️\n",
      "SELECT COUNT(django_date_extract(year, \"admissions\".\"admission_date\")) AS \"patients_attended\",\n",
      "       \"admissions\".\"attending_doctor_id\" AS \"doctor_id\",\n",
      "       COALESCE(\"doctors\".\"first_name\",) || COALESCE(COALESCE(,) || COALESCE(\"doctors\".\"last_name\",),) AS \"full_name\",\n",
      "       \"doctors\".\"speciality\" AS \"speciality\",\n",
      "       django_date_extract(year, \"admissions\".\"admission_date\") AS \"current_year\"\n",
      "FROM \"admissions\"\n",
      "INNER JOIN \"doctors\" ON (\"admissions\".\"attending_doctor_id\" = \"doctors\".\"doctor_id\")\n",
      "GROUP BY 2,\n",
      "         5,\n",
      "         3,\n",
      "         4\n"
     ]
    }
   ],
   "source": [
    "ormq = (\n",
    "    Admissions.objects.values(\"admission_date__year\", \"attending_doctor_id\")\n",
    "    .annotate(patients_attended=Count(\"admission_date__year\"))\n",
    "    .values(\n",
    "        \"patients_attended\",\n",
    "        doctor_id=F(\"attending_doctor_id\"),\n",
    "        full_name=Concat(\n",
    "            \"attending_doctor__first_name\", Value(\" \"), \"attending_doctor__last_name\"\n",
    "        ),\n",
    "        speciality=F(\"attending_doctor__speciality\"),\n",
    "        current_year=F(\"admission_date__year\"),\n",
    "    )\n",
    ")\n",
    "equal(sqlq, ormq)\n",
    "print_sql(ormq)"
   ]
  },
  {
   "cell_type": "code",
   "execution_count": 39,
   "id": "a3a838b2",
   "metadata": {},
   "outputs": [
    {
     "name": "stdout",
     "output_type": "stream",
     "text": [
      "|    |   patients_attended |   doctor_id | full_name     | speciality   |   current_year |\n",
      "|---:|--------------------:|------------:|:--------------|:-------------|---------------:|\n",
      "|  0 |                   8 |           1 | Maggie Chen   | Cardiology   |           2022 |\n",
      "|  1 |                   8 |           2 | Karen Wong    | Neurology    |           2022 |\n",
      "|  2 |                   7 |           3 | Samuel Nguyen | Dermatology  |           2022 |\n"
     ]
    }
   ],
   "source": [
    "orm_to_df(ormq[:3])"
   ]
  }
 ],
 "metadata": {
  "kernelspec": {
   "display_name": "Django Shell-Plus",
   "language": "python",
   "name": "django_extensions"
  },
  "language_info": {
   "codemirror_mode": {
    "name": "ipython",
    "version": 3
   },
   "file_extension": ".py",
   "mimetype": "text/x-python",
   "name": "python",
   "nbconvert_exporter": "python",
   "pygments_lexer": "ipython3",
   "version": "3.9.0"
  }
 },
 "nbformat": 4,
 "nbformat_minor": 5
}
