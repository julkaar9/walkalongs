{
 "cells": [
  {
   "cell_type": "code",
   "execution_count": 1,
   "id": "079dd83c",
   "metadata": {},
   "outputs": [],
   "source": [
    "import os\n",
    "os.environ[\"DJANGO_ALLOW_ASYNC_UNSAFE\"] = \"true\"\n",
    "from utils import *\n",
    "from sqlparse import format"
   ]
  },
  {
   "cell_type": "code",
   "execution_count": 2,
   "id": "adb90216",
   "metadata": {},
   "outputs": [],
   "source": [
    "from django.db.models import (\n",
    "    Q,\n",
    "    F,\n",
    "    Case,\n",
    "    When,\n",
    "    Count,\n",
    "    Func,\n",
    "    Min,\n",
    "    Max,\n",
    "    Sum,\n",
    "    Avg,\n",
    "    Value,\n",
    "    OuterRef,\n",
    "    Subquery,\n",
    "    CharField,\n",
    ")\n",
    "from django.db.models.functions import Concat, Cast, Round, Length\n",
    "from django.db import connection\n",
    "from customer_db.models import Provinces, Patients, Doctors, Admissions\n"
   ]
  },
  {
   "cell_type": "code",
   "execution_count": 3,
   "id": "47b65247",
   "metadata": {},
   "outputs": [],
   "source": [
    "def print_sql(queryset):\n",
    "    formatted = format(str(queryset.query), reindent=True)\n",
    "    print(formatted)"
   ]
  },
  {
   "cell_type": "markdown",
   "id": "964f35c8",
   "metadata": {},
   "source": [
    "## Testing some basic queries"
   ]
  },
  {
   "cell_type": "code",
   "execution_count": 4,
   "id": "4003828f",
   "metadata": {},
   "outputs": [
    {
     "data": {
      "text/html": [
       "<div>\n",
       "<style scoped>\n",
       "    .dataframe tbody tr th:only-of-type {\n",
       "        vertical-align: middle;\n",
       "    }\n",
       "\n",
       "    .dataframe tbody tr th {\n",
       "        vertical-align: top;\n",
       "    }\n",
       "\n",
       "    .dataframe thead th {\n",
       "        text-align: right;\n",
       "    }\n",
       "</style>\n",
       "<table border=\"1\" class=\"dataframe\">\n",
       "  <thead>\n",
       "    <tr style=\"text-align: right;\">\n",
       "      <th></th>\n",
       "      <th>patient_id</th>\n",
       "      <th>first_name</th>\n",
       "      <th>last_name</th>\n",
       "      <th>gender</th>\n",
       "      <th>birth_date</th>\n",
       "      <th>city</th>\n",
       "      <th>allergies</th>\n",
       "      <th>height</th>\n",
       "      <th>weight</th>\n",
       "      <th>province_id</th>\n",
       "    </tr>\n",
       "  </thead>\n",
       "  <tbody>\n",
       "    <tr>\n",
       "      <th>0</th>\n",
       "      <td>1</td>\n",
       "      <td>Cheryl</td>\n",
       "      <td>Mason</td>\n",
       "      <td>F</td>\n",
       "      <td>1978-05-14</td>\n",
       "      <td>Toronto</td>\n",
       "      <td>Peanuts</td>\n",
       "      <td>170</td>\n",
       "      <td>65</td>\n",
       "      <td>ON</td>\n",
       "    </tr>\n",
       "    <tr>\n",
       "      <th>1</th>\n",
       "      <td>2</td>\n",
       "      <td>Jason</td>\n",
       "      <td>Fleming</td>\n",
       "      <td>M</td>\n",
       "      <td>1990-08-02</td>\n",
       "      <td>Vancouver</td>\n",
       "      <td>Sulfa drugs</td>\n",
       "      <td>185</td>\n",
       "      <td>80</td>\n",
       "      <td>BC</td>\n",
       "    </tr>\n",
       "    <tr>\n",
       "      <th>2</th>\n",
       "      <td>3</td>\n",
       "      <td>Tiffany</td>\n",
       "      <td>McDonald</td>\n",
       "      <td>F</td>\n",
       "      <td>1985-03-27</td>\n",
       "      <td>Calgary</td>\n",
       "      <td>Lactose</td>\n",
       "      <td>155</td>\n",
       "      <td>58</td>\n",
       "      <td>AB</td>\n",
       "    </tr>\n",
       "  </tbody>\n",
       "</table>\n",
       "</div>"
      ],
      "text/plain": [
       "   patient_id first_name last_name gender  birth_date       city    allergies   \n",
       "0           1     Cheryl     Mason      F  1978-05-14    Toronto      Peanuts  \\\n",
       "1           2      Jason   Fleming      M  1990-08-02  Vancouver  Sulfa drugs   \n",
       "2           3    Tiffany  McDonald      F  1985-03-27    Calgary      Lactose   \n",
       "\n",
       "   height  weight province_id  \n",
       "0     170      65          ON  \n",
       "1     185      80          BC  \n",
       "2     155      58          AB  "
      ]
     },
     "execution_count": 4,
     "metadata": {},
     "output_type": "execute_result"
    }
   ],
   "source": [
    "sqlq = sql_raw(\"SELECT * FROM Patients limit 3\")\n",
    "sql_to_df(sqlq)"
   ]
  },
  {
   "cell_type": "code",
   "execution_count": 5,
   "id": "2e79d9b7",
   "metadata": {},
   "outputs": [],
   "source": [
    "common_fields = ['first_name','last_name','gender',\n",
    "        'birth_date','city','province_id','allergies','height','weight']"
   ]
  },
  {
   "cell_type": "code",
   "execution_count": 6,
   "id": "3eb54b50",
   "metadata": {},
   "outputs": [
    {
     "data": {
      "text/html": [
       "<div>\n",
       "<style scoped>\n",
       "    .dataframe tbody tr th:only-of-type {\n",
       "        vertical-align: middle;\n",
       "    }\n",
       "\n",
       "    .dataframe tbody tr th {\n",
       "        vertical-align: top;\n",
       "    }\n",
       "\n",
       "    .dataframe thead th {\n",
       "        text-align: right;\n",
       "    }\n",
       "</style>\n",
       "<table border=\"1\" class=\"dataframe\">\n",
       "  <thead>\n",
       "    <tr style=\"text-align: right;\">\n",
       "      <th></th>\n",
       "      <th>first_name</th>\n",
       "      <th>last_name</th>\n",
       "      <th>gender</th>\n",
       "      <th>birth_date</th>\n",
       "      <th>city</th>\n",
       "      <th>province_id</th>\n",
       "      <th>allergies</th>\n",
       "      <th>height</th>\n",
       "      <th>weight</th>\n",
       "      <th>patient_id</th>\n",
       "    </tr>\n",
       "  </thead>\n",
       "  <tbody>\n",
       "    <tr>\n",
       "      <th>0</th>\n",
       "      <td>Cheryl</td>\n",
       "      <td>Mason</td>\n",
       "      <td>F</td>\n",
       "      <td>1978-05-14</td>\n",
       "      <td>Toronto</td>\n",
       "      <td>ON</td>\n",
       "      <td>Peanuts</td>\n",
       "      <td>170</td>\n",
       "      <td>65</td>\n",
       "      <td>1</td>\n",
       "    </tr>\n",
       "    <tr>\n",
       "      <th>1</th>\n",
       "      <td>Jason</td>\n",
       "      <td>Fleming</td>\n",
       "      <td>M</td>\n",
       "      <td>1990-08-02</td>\n",
       "      <td>Vancouver</td>\n",
       "      <td>BC</td>\n",
       "      <td>Sulfa drugs</td>\n",
       "      <td>185</td>\n",
       "      <td>80</td>\n",
       "      <td>2</td>\n",
       "    </tr>\n",
       "    <tr>\n",
       "      <th>2</th>\n",
       "      <td>Tiffany</td>\n",
       "      <td>McDonald</td>\n",
       "      <td>F</td>\n",
       "      <td>1985-03-27</td>\n",
       "      <td>Calgary</td>\n",
       "      <td>AB</td>\n",
       "      <td>Lactose</td>\n",
       "      <td>155</td>\n",
       "      <td>58</td>\n",
       "      <td>3</td>\n",
       "    </tr>\n",
       "  </tbody>\n",
       "</table>\n",
       "</div>"
      ],
      "text/plain": [
       "  first_name last_name gender  birth_date       city province_id    allergies   \n",
       "0     Cheryl     Mason      F  1978-05-14    Toronto          ON      Peanuts  \\\n",
       "1      Jason   Fleming      M  1990-08-02  Vancouver          BC  Sulfa drugs   \n",
       "2    Tiffany  McDonald      F  1985-03-27    Calgary          AB      Lactose   \n",
       "\n",
       "   height  weight  patient_id  \n",
       "0     170      65           1  \n",
       "1     185      80           2  \n",
       "2     155      58           3  "
      ]
     },
     "execution_count": 6,
     "metadata": {},
     "output_type": "execute_result"
    }
   ],
   "source": [
    "ormq = Patients.objects\\\n",
    ".values(patient_id=F('id'), *common_fields)[:3]\n",
    "orm_to_df(ormq)"
   ]
  },
  {
   "cell_type": "code",
   "execution_count": 7,
   "id": "390ca73c",
   "metadata": {},
   "outputs": [
    {
     "name": "stdout",
     "output_type": "stream",
     "text": [
      "Equal ✔️\n"
     ]
    }
   ],
   "source": [
    "equal(sqlq, ormq)"
   ]
  },
  {
   "cell_type": "markdown",
   "id": "a18a2cf4",
   "metadata": {},
   "source": [
    "## Easy 1\n",
    "Show first name, last name, and gender of patients who's gender is 'M'"
   ]
  },
  {
   "cell_type": "code",
   "execution_count": 8,
   "id": "e8abf1ae",
   "metadata": {},
   "outputs": [],
   "source": [
    "qstr = \"\"\"\n",
    "SELECT\n",
    "  first_name,\n",
    "  last_name\n",
    "FROM Patients\n",
    "WHERE gender = 'M';\n",
    "\"\"\"\n",
    "sqlq = sql_raw(qstr)"
   ]
  },
  {
   "cell_type": "code",
   "execution_count": 9,
   "id": "d696b631",
   "metadata": {},
   "outputs": [
    {
     "name": "stdout",
     "output_type": "stream",
     "text": [
      "Equal ✔️\n",
      "SELECT \"patients\".\"first_name\",\n",
      "       \"patients\".\"last_name\"\n",
      "FROM \"patients\"\n",
      "WHERE \"patients\".\"gender\" = M\n"
     ]
    }
   ],
   "source": [
    "ormq =  Patients.objects.filter(gender='M').values('first_name', 'last_name')\n",
    "equal(sqlq, ormq)\n",
    "print_sql(ormq)"
   ]
  },
  {
   "cell_type": "code",
   "execution_count": 10,
   "id": "fb8aa872",
   "metadata": {},
   "outputs": [
    {
     "data": {
      "text/html": [
       "<div>\n",
       "<style scoped>\n",
       "    .dataframe tbody tr th:only-of-type {\n",
       "        vertical-align: middle;\n",
       "    }\n",
       "\n",
       "    .dataframe tbody tr th {\n",
       "        vertical-align: top;\n",
       "    }\n",
       "\n",
       "    .dataframe thead th {\n",
       "        text-align: right;\n",
       "    }\n",
       "</style>\n",
       "<table border=\"1\" class=\"dataframe\">\n",
       "  <thead>\n",
       "    <tr style=\"text-align: right;\">\n",
       "      <th></th>\n",
       "      <th>first_name</th>\n",
       "      <th>last_name</th>\n",
       "    </tr>\n",
       "  </thead>\n",
       "  <tbody>\n",
       "    <tr>\n",
       "      <th>0</th>\n",
       "      <td>Jason</td>\n",
       "      <td>Fleming</td>\n",
       "    </tr>\n",
       "    <tr>\n",
       "      <th>1</th>\n",
       "      <td>Alex</td>\n",
       "      <td>Carter</td>\n",
       "    </tr>\n",
       "    <tr>\n",
       "      <th>2</th>\n",
       "      <td>Gavin</td>\n",
       "      <td>Bryant</td>\n",
       "    </tr>\n",
       "  </tbody>\n",
       "</table>\n",
       "</div>"
      ],
      "text/plain": [
       "  first_name last_name\n",
       "0      Jason   Fleming\n",
       "1       Alex    Carter\n",
       "2      Gavin    Bryant"
      ]
     },
     "execution_count": 10,
     "metadata": {},
     "output_type": "execute_result"
    }
   ],
   "source": [
    "orm_to_df(ormq[:3])"
   ]
  },
  {
   "cell_type": "markdown",
   "id": "2f4f6395",
   "metadata": {},
   "source": [
    "## Easy 2\n",
    "Show first name and last name of patients who does not have allergies. (null)"
   ]
  },
  {
   "cell_type": "code",
   "execution_count": 11,
   "id": "94a8c817",
   "metadata": {},
   "outputs": [],
   "source": [
    "qstr = \"\"\"\n",
    "SELECT\n",
    "  first_name,\n",
    "  last_name\n",
    "FROM Patients\n",
    "WHERE allergies IS NULL;\n",
    "\"\"\"\n",
    "sqlq = sql_raw(qstr)"
   ]
  },
  {
   "cell_type": "code",
   "execution_count": 12,
   "id": "27a97da6",
   "metadata": {},
   "outputs": [
    {
     "name": "stdout",
     "output_type": "stream",
     "text": [
      "Equal ✔️\n",
      "SELECT \"patients\".\"first_name\",\n",
      "       \"patients\".\"last_name\"\n",
      "FROM \"patients\"\n",
      "WHERE \"patients\".\"allergies\" IS NULL\n"
     ]
    }
   ],
   "source": [
    "ormq =  Patients.objects.filter(allergies=None).values('first_name', 'last_name') \n",
    "equal(sqlq, ormq)\n",
    "print_sql(ormq)"
   ]
  },
  {
   "cell_type": "code",
   "execution_count": 13,
   "id": "d1ed71e9",
   "metadata": {},
   "outputs": [
    {
     "name": "stdout",
     "output_type": "stream",
     "text": [
      "Equal ✔️\n",
      "SELECT \"patients\".\"first_name\",\n",
      "       \"patients\".\"last_name\"\n",
      "FROM \"patients\"\n",
      "WHERE \"patients\".\"allergies\" IS NULL\n"
     ]
    }
   ],
   "source": [
    "ormq1 =  Patients.objects.filter(allergies__isnull=True).values('first_name', 'last_name')\n",
    "equal(sqlq, ormq1)\n",
    "print_sql(ormq)"
   ]
  },
  {
   "cell_type": "code",
   "execution_count": 14,
   "id": "bd69522b",
   "metadata": {},
   "outputs": [
    {
     "data": {
      "text/html": [
       "<div>\n",
       "<style scoped>\n",
       "    .dataframe tbody tr th:only-of-type {\n",
       "        vertical-align: middle;\n",
       "    }\n",
       "\n",
       "    .dataframe tbody tr th {\n",
       "        vertical-align: top;\n",
       "    }\n",
       "\n",
       "    .dataframe thead th {\n",
       "        text-align: right;\n",
       "    }\n",
       "</style>\n",
       "<table border=\"1\" class=\"dataframe\">\n",
       "  <thead>\n",
       "    <tr style=\"text-align: right;\">\n",
       "      <th></th>\n",
       "      <th>first_name</th>\n",
       "      <th>last_name</th>\n",
       "    </tr>\n",
       "  </thead>\n",
       "  <tbody>\n",
       "    <tr>\n",
       "      <th>0</th>\n",
       "      <td>Alex</td>\n",
       "      <td>Carter</td>\n",
       "    </tr>\n",
       "    <tr>\n",
       "      <th>1</th>\n",
       "      <td>Adam</td>\n",
       "      <td>Nguyen</td>\n",
       "    </tr>\n",
       "    <tr>\n",
       "      <th>2</th>\n",
       "      <td>Shane</td>\n",
       "      <td>Simpson</td>\n",
       "    </tr>\n",
       "  </tbody>\n",
       "</table>\n",
       "</div>"
      ],
      "text/plain": [
       "  first_name last_name\n",
       "0       Alex    Carter\n",
       "1       Adam    Nguyen\n",
       "2      Shane   Simpson"
      ]
     },
     "execution_count": 14,
     "metadata": {},
     "output_type": "execute_result"
    }
   ],
   "source": [
    "orm_to_df(ormq[:3])"
   ]
  },
  {
   "cell_type": "markdown",
   "id": "0870d033",
   "metadata": {},
   "source": [
    "## Easy 3\n",
    "Show first name of patients that start with the letter 'C'"
   ]
  },
  {
   "cell_type": "code",
   "execution_count": 15,
   "id": "e9af9039",
   "metadata": {},
   "outputs": [],
   "source": [
    "qstr = \"\"\"\n",
    "SELECT first_name\n",
    "FROM Patients\n",
    "WHERE first_name LIKE 'C%';\n",
    "\"\"\"\n",
    "sqlq = sql_raw(qstr)"
   ]
  },
  {
   "cell_type": "code",
   "execution_count": 16,
   "id": "3b3f0e12",
   "metadata": {},
   "outputs": [
    {
     "name": "stdout",
     "output_type": "stream",
     "text": [
      "Equal ✔️\n",
      "SELECT \"patients\".\"first_name\"\n",
      "FROM \"patients\"\n",
      "WHERE \"patients\".\"first_name\" LIKE C% ESCAPE '\\'\n"
     ]
    }
   ],
   "source": [
    "ormq =  Patients.objects.filter(first_name__startswith='C').values('first_name')\n",
    "equal(sqlq, ormq)\n",
    "print_sql(ormq)"
   ]
  },
  {
   "cell_type": "code",
   "execution_count": 17,
   "id": "74e881c9",
   "metadata": {},
   "outputs": [
    {
     "data": {
      "text/html": [
       "<div>\n",
       "<style scoped>\n",
       "    .dataframe tbody tr th:only-of-type {\n",
       "        vertical-align: middle;\n",
       "    }\n",
       "\n",
       "    .dataframe tbody tr th {\n",
       "        vertical-align: top;\n",
       "    }\n",
       "\n",
       "    .dataframe thead th {\n",
       "        text-align: right;\n",
       "    }\n",
       "</style>\n",
       "<table border=\"1\" class=\"dataframe\">\n",
       "  <thead>\n",
       "    <tr style=\"text-align: right;\">\n",
       "      <th></th>\n",
       "      <th>first_name</th>\n",
       "    </tr>\n",
       "  </thead>\n",
       "  <tbody>\n",
       "    <tr>\n",
       "      <th>0</th>\n",
       "      <td>Cheryl</td>\n",
       "    </tr>\n",
       "    <tr>\n",
       "      <th>1</th>\n",
       "      <td>Cassandra</td>\n",
       "    </tr>\n",
       "    <tr>\n",
       "      <th>2</th>\n",
       "      <td>Cameron</td>\n",
       "    </tr>\n",
       "  </tbody>\n",
       "</table>\n",
       "</div>"
      ],
      "text/plain": [
       "  first_name\n",
       "0     Cheryl\n",
       "1  Cassandra\n",
       "2    Cameron"
      ]
     },
     "execution_count": 17,
     "metadata": {},
     "output_type": "execute_result"
    }
   ],
   "source": [
    "orm_to_df(ormq[:3])"
   ]
  },
  {
   "cell_type": "markdown",
   "id": "948f5ff7",
   "metadata": {},
   "source": [
    "## Easy 4\n",
    "Show first name and last name of patients that weight within the range of 100 to 120 (inclusive)\n",
    "We will do 70 - 80"
   ]
  },
  {
   "cell_type": "code",
   "execution_count": 18,
   "id": "dece97c2",
   "metadata": {},
   "outputs": [],
   "source": [
    "qstr = \"\"\"\n",
    "SELECT\n",
    "  first_name,\n",
    "  last_name\n",
    "FROM Patients\n",
    "WHERE weight BETWEEN 70 and 80;\n",
    "\"\"\"\n",
    "sqlq = sql_raw(qstr)"
   ]
  },
  {
   "cell_type": "code",
   "execution_count": 19,
   "id": "99623c3d",
   "metadata": {},
   "outputs": [
    {
     "name": "stdout",
     "output_type": "stream",
     "text": [
      "Equal ✔️\n",
      "SELECT \"patients\".\"first_name\",\n",
      "       \"patients\".\"last_name\"\n",
      "FROM \"patients\"\n",
      "WHERE \"patients\".\"weight\" BETWEEN 70 AND 80\n"
     ]
    }
   ],
   "source": [
    "ormq =  Patients.objects.filter(weight__range=[70, 80]).values('first_name', 'last_name')\n",
    "equal(sqlq, ormq)\n",
    "print_sql(ormq)"
   ]
  },
  {
   "cell_type": "code",
   "execution_count": 20,
   "id": "7d7486e2",
   "metadata": {},
   "outputs": [
    {
     "name": "stdout",
     "output_type": "stream",
     "text": [
      "Equal ✔️\n",
      "SELECT \"patients\".\"first_name\",\n",
      "       \"patients\".\"last_name\"\n",
      "FROM \"patients\"\n",
      "WHERE (\"patients\".\"weight\" >= 70\n",
      "       AND \"patients\".\"weight\" <= 80)\n"
     ]
    }
   ],
   "source": [
    "ormq1 =  Patients.objects.filter(weight__gte=70, weight__lte=80).values('first_name', 'last_name')\n",
    "equal(sqlq, ormq1)\n",
    "print_sql(ormq1)"
   ]
  },
  {
   "cell_type": "code",
   "execution_count": 21,
   "id": "b4b22063",
   "metadata": {},
   "outputs": [
    {
     "data": {
      "text/html": [
       "<div>\n",
       "<style scoped>\n",
       "    .dataframe tbody tr th:only-of-type {\n",
       "        vertical-align: middle;\n",
       "    }\n",
       "\n",
       "    .dataframe tbody tr th {\n",
       "        vertical-align: top;\n",
       "    }\n",
       "\n",
       "    .dataframe thead th {\n",
       "        text-align: right;\n",
       "    }\n",
       "</style>\n",
       "<table border=\"1\" class=\"dataframe\">\n",
       "  <thead>\n",
       "    <tr style=\"text-align: right;\">\n",
       "      <th></th>\n",
       "      <th>first_name</th>\n",
       "      <th>last_name</th>\n",
       "    </tr>\n",
       "  </thead>\n",
       "  <tbody>\n",
       "    <tr>\n",
       "      <th>0</th>\n",
       "      <td>Jason</td>\n",
       "      <td>Fleming</td>\n",
       "    </tr>\n",
       "    <tr>\n",
       "      <th>1</th>\n",
       "      <td>Alex</td>\n",
       "      <td>Carter</td>\n",
       "    </tr>\n",
       "    <tr>\n",
       "      <th>2</th>\n",
       "      <td>Gavin</td>\n",
       "      <td>Bryant</td>\n",
       "    </tr>\n",
       "  </tbody>\n",
       "</table>\n",
       "</div>"
      ],
      "text/plain": [
       "  first_name last_name\n",
       "0      Jason   Fleming\n",
       "1       Alex    Carter\n",
       "2      Gavin    Bryant"
      ]
     },
     "execution_count": 21,
     "metadata": {},
     "output_type": "execute_result"
    }
   ],
   "source": [
    "orm_to_df(ormq[:3])"
   ]
  },
  {
   "cell_type": "markdown",
   "id": "ec2e4c0e",
   "metadata": {},
   "source": [
    "## Easy 5\n",
    "Show first name and last name concatinated into one column to show their full name."
   ]
  },
  {
   "cell_type": "code",
   "execution_count": 22,
   "id": "2ec4f5c4",
   "metadata": {},
   "outputs": [],
   "source": [
    "qstr = \"\"\"\n",
    "SELECT\n",
    "  first_name || ' ' || last_name full_name\n",
    "FROM patients;\n",
    "\"\"\"\n",
    "sqlq = sql_raw(qstr)"
   ]
  },
  {
   "cell_type": "code",
   "execution_count": 23,
   "id": "2a727caf",
   "metadata": {},
   "outputs": [
    {
     "name": "stdout",
     "output_type": "stream",
     "text": [
      "Equal ✔️\n",
      "SELECT COALESCE(\"patients\".\"first_name\",) || COALESCE(COALESCE(,) || COALESCE(\"patients\".\"last_name\",),) AS \"full_name\"\n",
      "FROM \"patients\"\n"
     ]
    }
   ],
   "source": [
    "# sqlq =  sql_raw(\"SELECT CONCAT(first_name,' ', last_name) full_name FROM Patients;\")\n",
    "\n",
    "ormq =  Patients.objects.values(full_name=Concat('first_name', Value(' '), 'last_name'))\n",
    "equal(sqlq, ormq)\n",
    "print_sql(ormq)"
   ]
  },
  {
   "cell_type": "code",
   "execution_count": 24,
   "id": "dbe24ff3",
   "metadata": {},
   "outputs": [
    {
     "data": {
      "text/html": [
       "<div>\n",
       "<style scoped>\n",
       "    .dataframe tbody tr th:only-of-type {\n",
       "        vertical-align: middle;\n",
       "    }\n",
       "\n",
       "    .dataframe tbody tr th {\n",
       "        vertical-align: top;\n",
       "    }\n",
       "\n",
       "    .dataframe thead th {\n",
       "        text-align: right;\n",
       "    }\n",
       "</style>\n",
       "<table border=\"1\" class=\"dataframe\">\n",
       "  <thead>\n",
       "    <tr style=\"text-align: right;\">\n",
       "      <th></th>\n",
       "      <th>full_name</th>\n",
       "    </tr>\n",
       "  </thead>\n",
       "  <tbody>\n",
       "    <tr>\n",
       "      <th>0</th>\n",
       "      <td>Cheryl Mason</td>\n",
       "    </tr>\n",
       "    <tr>\n",
       "      <th>1</th>\n",
       "      <td>Jason Fleming</td>\n",
       "    </tr>\n",
       "    <tr>\n",
       "      <th>2</th>\n",
       "      <td>Tiffany McDonald</td>\n",
       "    </tr>\n",
       "  </tbody>\n",
       "</table>\n",
       "</div>"
      ],
      "text/plain": [
       "          full_name\n",
       "0      Cheryl Mason\n",
       "1     Jason Fleming\n",
       "2  Tiffany McDonald"
      ]
     },
     "execution_count": 24,
     "metadata": {},
     "output_type": "execute_result"
    }
   ],
   "source": [
    "orm_to_df(ormq[:3])"
   ]
  },
  {
   "cell_type": "markdown",
   "id": "37434886",
   "metadata": {},
   "source": [
    "## Easy 6\n",
    "Show first name, last name, and the **full** province name of each patient.\n",
    "\n",
    "Example: 'Ontario' instead of 'ON'"
   ]
  },
  {
   "cell_type": "code",
   "execution_count": 25,
   "id": "34d72292",
   "metadata": {},
   "outputs": [],
   "source": [
    "qstr = \"\"\"\n",
    "SELECT\n",
    "  first_name,\n",
    "  last_name,\n",
    "  province_name\n",
    "FROM Patients p\n",
    "  INNER JOIN province_names pn ON p.province_id = pn.province_id;\n",
    "\"\"\"\n",
    "sqlq =  sql_raw(qstr)"
   ]
  },
  {
   "cell_type": "code",
   "execution_count": 26,
   "id": "3dadf93c",
   "metadata": {},
   "outputs": [
    {
     "name": "stdout",
     "output_type": "stream",
     "text": [
      "Equal ✔️\n",
      "SELECT \"patients\".\"first_name\",\n",
      "       \"patients\".\"last_name\",\n",
      "       \"province_names\".\"province_name\" AS \"province_name\"\n",
      "FROM \"patients\"\n",
      "INNER JOIN \"province_names\" ON (\"patients\".\"province_id\" = \"province_names\".\"province_id\")\n",
      "WHERE \"patients\".\"province_id\" IS NOT NULL\n"
     ]
    }
   ],
   "source": [
    "# The filter ensures an Inner join is performed\n",
    "ormq =  Patients.objects.filter(province__isnull=False).\\\n",
    "        values('first_name', 'last_name', province_name=F(\"province__name\"))\n",
    "equal(sqlq, ormq)\n",
    "print_sql(ormq)"
   ]
  },
  {
   "cell_type": "code",
   "execution_count": 27,
   "id": "1301239b",
   "metadata": {},
   "outputs": [
    {
     "data": {
      "text/html": [
       "<div>\n",
       "<style scoped>\n",
       "    .dataframe tbody tr th:only-of-type {\n",
       "        vertical-align: middle;\n",
       "    }\n",
       "\n",
       "    .dataframe tbody tr th {\n",
       "        vertical-align: top;\n",
       "    }\n",
       "\n",
       "    .dataframe thead th {\n",
       "        text-align: right;\n",
       "    }\n",
       "</style>\n",
       "<table border=\"1\" class=\"dataframe\">\n",
       "  <thead>\n",
       "    <tr style=\"text-align: right;\">\n",
       "      <th></th>\n",
       "      <th>first_name</th>\n",
       "      <th>last_name</th>\n",
       "      <th>province_name</th>\n",
       "    </tr>\n",
       "  </thead>\n",
       "  <tbody>\n",
       "    <tr>\n",
       "      <th>0</th>\n",
       "      <td>Cheryl</td>\n",
       "      <td>Mason</td>\n",
       "      <td>Ontario</td>\n",
       "    </tr>\n",
       "    <tr>\n",
       "      <th>1</th>\n",
       "      <td>Jason</td>\n",
       "      <td>Fleming</td>\n",
       "      <td>British Columbia</td>\n",
       "    </tr>\n",
       "    <tr>\n",
       "      <th>2</th>\n",
       "      <td>Tiffany</td>\n",
       "      <td>McDonald</td>\n",
       "      <td>Alberta</td>\n",
       "    </tr>\n",
       "  </tbody>\n",
       "</table>\n",
       "</div>"
      ],
      "text/plain": [
       "  first_name last_name     province_name\n",
       "0     Cheryl     Mason           Ontario\n",
       "1      Jason   Fleming  British Columbia\n",
       "2    Tiffany  McDonald           Alberta"
      ]
     },
     "execution_count": 27,
     "metadata": {},
     "output_type": "execute_result"
    }
   ],
   "source": [
    "orm_to_df(ormq[:3])"
   ]
  },
  {
   "cell_type": "markdown",
   "id": "1caad3ce",
   "metadata": {},
   "source": [
    "## Easy 7\n",
    "Show how many patients have a birth_date with 2010 as the birth year.\n",
    "We will do 1995"
   ]
  },
  {
   "cell_type": "code",
   "execution_count": 28,
   "id": "a2bae34d",
   "metadata": {},
   "outputs": [],
   "source": [
    "# sqlq =  sql_raw(\"SELECT COUNT(*) birth_year FROM Patients WHERE YEAR(birth_date) = 2010;\")\n",
    "\n",
    "# for sqlite (Notice the '1995' instead of 1995)\n",
    "qstr = \"\"\"\n",
    "SELECT COUNT(*) birth_count\n",
    "FROM Patients\n",
    "WHERE strftime('%Y', birth_date) = '1995';\n",
    "\"\"\"\n",
    "sqlq =  sql_raw(qstr)"
   ]
  },
  {
   "cell_type": "code",
   "execution_count": 29,
   "id": "bb0fcfc9",
   "metadata": {},
   "outputs": [
    {
     "name": "stdout",
     "output_type": "stream",
     "text": [
      "Equal ✔️\n",
      "SELECT Count(\"patients\".\"patient_id\") AS \"birth_count\"\n",
      "FROM \"patients\"\n",
      "WHERE \"patients\".\"birth_date\" BETWEEN 1995-01-01 AND 1995-12-31\n"
     ]
    }
   ],
   "source": [
    "ormq =  Patients.objects.filter(birth_date__year=1995).\\\n",
    "    annotate(birth_count=Func(F('id'),function='Count')).values('birth_count')\n",
    "equal(sqlq, ormq)\n",
    "print_sql(ormq) "
   ]
  },
  {
   "cell_type": "code",
   "execution_count": 30,
   "id": "31bdeeaf",
   "metadata": {},
   "outputs": [
    {
     "name": "stdout",
     "output_type": "stream",
     "text": [
      "{'birth_count': 5}\n",
      "Equal ✔️\n"
     ]
    }
   ],
   "source": [
    "ormq =  Patients.objects.filter(birth_date__year=1995).aggregate(birth_count=Count('birth_date'))\n",
    "print(ormq)\n",
    "equal(sqlq, ormq)"
   ]
  },
  {
   "cell_type": "code",
   "execution_count": 31,
   "id": "eddcc34d",
   "metadata": {},
   "outputs": [
    {
     "name": "stdout",
     "output_type": "stream",
     "text": [
      "Equal ✔️\n"
     ]
    }
   ],
   "source": [
    "ormq1 = Patients.objects.filter(birth_date__year=1995).count()\n",
    "ormq1 = [{'birth_count':ormq1}]\n",
    "equal(sqlq, ormq1)"
   ]
  },
  {
   "cell_type": "code",
   "execution_count": 32,
   "id": "b4cbc398",
   "metadata": {},
   "outputs": [
    {
     "data": {
      "text/html": [
       "<div>\n",
       "<style scoped>\n",
       "    .dataframe tbody tr th:only-of-type {\n",
       "        vertical-align: middle;\n",
       "    }\n",
       "\n",
       "    .dataframe tbody tr th {\n",
       "        vertical-align: top;\n",
       "    }\n",
       "\n",
       "    .dataframe thead th {\n",
       "        text-align: right;\n",
       "    }\n",
       "</style>\n",
       "<table border=\"1\" class=\"dataframe\">\n",
       "  <thead>\n",
       "    <tr style=\"text-align: right;\">\n",
       "      <th></th>\n",
       "      <th>birth_count</th>\n",
       "    </tr>\n",
       "  </thead>\n",
       "  <tbody>\n",
       "    <tr>\n",
       "      <th>0</th>\n",
       "      <td>5</td>\n",
       "    </tr>\n",
       "  </tbody>\n",
       "</table>\n",
       "</div>"
      ],
      "text/plain": [
       "   birth_count\n",
       "0            5"
      ]
     },
     "execution_count": 32,
     "metadata": {},
     "output_type": "execute_result"
    }
   ],
   "source": [
    "orm_to_df(ormq)"
   ]
  },
  {
   "cell_type": "markdown",
   "id": "9441be88",
   "metadata": {},
   "source": [
    "## Easy 8\n",
    "Show how many patients have a birth_date with 2010 as the birth year.\n",
    "We will do 1995"
   ]
  },
  {
   "cell_type": "code",
   "execution_count": 33,
   "id": "76d3e904",
   "metadata": {},
   "outputs": [],
   "source": [
    "qstr = \"\"\"\n",
    "SELECT\n",
    "  first_name,\n",
    "  last_name,\n",
    "  Max(height) max_height\n",
    "FROM patients;\n",
    "\"\"\"\n",
    "sqlq =  sql_raw(qstr)"
   ]
  },
  {
   "cell_type": "code",
   "execution_count": 34,
   "id": "c153ec1d",
   "metadata": {},
   "outputs": [
    {
     "name": "stdout",
     "output_type": "stream",
     "text": [
      "Equal ✔️\n",
      "SELECT \"patients\".\"first_name\",\n",
      "       \"patients\".\"last_name\",\n",
      "       Max(\"patients\".\"height\") AS \"max_height\"\n",
      "FROM \"patients\"\n"
     ]
    }
   ],
   "source": [
    "# Subclassing Max and setting contains_aggregate = False also works\n",
    "# class NonAggrMax(Max):\n",
    "#     contains_aggregate = False\n",
    "    \n",
    "ormq = Patients.objects.annotate(max_height=Func('height', function='Max'))\\\n",
    ".values('first_name', 'last_name', 'max_height')\n",
    "equal(sqlq, ormq)\n",
    "print_sql(ormq)"
   ]
  },
  {
   "cell_type": "code",
   "execution_count": 35,
   "id": "1f475700",
   "metadata": {},
   "outputs": [
    {
     "data": {
      "text/html": [
       "<div>\n",
       "<style scoped>\n",
       "    .dataframe tbody tr th:only-of-type {\n",
       "        vertical-align: middle;\n",
       "    }\n",
       "\n",
       "    .dataframe tbody tr th {\n",
       "        vertical-align: top;\n",
       "    }\n",
       "\n",
       "    .dataframe thead th {\n",
       "        text-align: right;\n",
       "    }\n",
       "</style>\n",
       "<table border=\"1\" class=\"dataframe\">\n",
       "  <thead>\n",
       "    <tr style=\"text-align: right;\">\n",
       "      <th></th>\n",
       "      <th>first_name</th>\n",
       "      <th>last_name</th>\n",
       "      <th>max_height</th>\n",
       "    </tr>\n",
       "  </thead>\n",
       "  <tbody>\n",
       "    <tr>\n",
       "      <th>0</th>\n",
       "      <td>Cameron</td>\n",
       "      <td>Gupta</td>\n",
       "      <td>190</td>\n",
       "    </tr>\n",
       "  </tbody>\n",
       "</table>\n",
       "</div>"
      ],
      "text/plain": [
       "  first_name last_name  max_height\n",
       "0    Cameron     Gupta         190"
      ]
     },
     "execution_count": 35,
     "metadata": {},
     "output_type": "execute_result"
    }
   ],
   "source": [
    "orm_to_df(ormq)"
   ]
  },
  {
   "cell_type": "markdown",
   "id": "42a05dae",
   "metadata": {},
   "source": [
    "## Easy 8\n",
    "Show all columns for patients who have one of the following patient_ids:\n",
    "1,45,534,879,1000\n",
    "We will use 1,45,53,87,100"
   ]
  },
  {
   "cell_type": "code",
   "execution_count": 36,
   "id": "5e30ce0c",
   "metadata": {},
   "outputs": [],
   "source": [
    "qstr = \"\"\"\n",
    "SELECT\n",
    "  *\n",
    "FROM patients\n",
    "WHERE patient_id IN (1, 45, 53, 87, 100);\n",
    "\"\"\"\n",
    "sqlq =  sql_raw(qstr)"
   ]
  },
  {
   "cell_type": "code",
   "execution_count": 37,
   "id": "0a4f132c",
   "metadata": {},
   "outputs": [
    {
     "name": "stdout",
     "output_type": "stream",
     "text": [
      "Equal ✔️\n",
      "SELECT \"patients\".\"first_name\",\n",
      "       \"patients\".\"last_name\",\n",
      "       \"patients\".\"gender\",\n",
      "       \"patients\".\"birth_date\",\n",
      "       \"patients\".\"city\",\n",
      "       \"patients\".\"province_id\",\n",
      "       \"patients\".\"allergies\",\n",
      "       \"patients\".\"height\",\n",
      "       \"patients\".\"weight\",\n",
      "       \"patients\".\"patient_id\" AS \"patient_id\"\n",
      "FROM \"patients\"\n",
      "WHERE \"patients\".\"patient_id\" IN (1,\n",
      "                                  45,\n",
      "                                  53,\n",
      "                                  87,\n",
      "                                  100)\n"
     ]
    }
   ],
   "source": [
    "ormq =  Patients.objects.filter(id__in=[1,45,53,87,100]).values(patient_id=F('id'), *common_fields)\n",
    "equal(sqlq, ormq)\n",
    "print_sql(ormq)"
   ]
  },
  {
   "cell_type": "code",
   "execution_count": 38,
   "id": "d156598e",
   "metadata": {},
   "outputs": [
    {
     "data": {
      "text/html": [
       "<div>\n",
       "<style scoped>\n",
       "    .dataframe tbody tr th:only-of-type {\n",
       "        vertical-align: middle;\n",
       "    }\n",
       "\n",
       "    .dataframe tbody tr th {\n",
       "        vertical-align: top;\n",
       "    }\n",
       "\n",
       "    .dataframe thead th {\n",
       "        text-align: right;\n",
       "    }\n",
       "</style>\n",
       "<table border=\"1\" class=\"dataframe\">\n",
       "  <thead>\n",
       "    <tr style=\"text-align: right;\">\n",
       "      <th></th>\n",
       "      <th>first_name</th>\n",
       "      <th>last_name</th>\n",
       "      <th>gender</th>\n",
       "      <th>birth_date</th>\n",
       "      <th>city</th>\n",
       "      <th>province_id</th>\n",
       "      <th>allergies</th>\n",
       "      <th>height</th>\n",
       "      <th>weight</th>\n",
       "      <th>patient_id</th>\n",
       "    </tr>\n",
       "  </thead>\n",
       "  <tbody>\n",
       "    <tr>\n",
       "      <th>0</th>\n",
       "      <td>Cheryl</td>\n",
       "      <td>Mason</td>\n",
       "      <td>F</td>\n",
       "      <td>1978-05-14</td>\n",
       "      <td>Toronto</td>\n",
       "      <td>ON</td>\n",
       "      <td>Peanuts</td>\n",
       "      <td>170</td>\n",
       "      <td>65</td>\n",
       "      <td>1</td>\n",
       "    </tr>\n",
       "    <tr>\n",
       "      <th>1</th>\n",
       "      <td>Ella</td>\n",
       "      <td>Lemieux</td>\n",
       "      <td>F</td>\n",
       "      <td>1991-05-01</td>\n",
       "      <td>Halifax</td>\n",
       "      <td>NS</td>\n",
       "      <td>Lactose</td>\n",
       "      <td>164</td>\n",
       "      <td>60</td>\n",
       "      <td>45</td>\n",
       "    </tr>\n",
       "    <tr>\n",
       "      <th>2</th>\n",
       "      <td>Avery</td>\n",
       "      <td>Roy</td>\n",
       "      <td>F</td>\n",
       "      <td>1993-05-08</td>\n",
       "      <td>Halifax</td>\n",
       "      <td>NS</td>\n",
       "      <td>None</td>\n",
       "      <td>165</td>\n",
       "      <td>61</td>\n",
       "      <td>53</td>\n",
       "    </tr>\n",
       "    <tr>\n",
       "      <th>3</th>\n",
       "      <td>Avery</td>\n",
       "      <td>Chen</td>\n",
       "      <td>F</td>\n",
       "      <td>1989-12-07</td>\n",
       "      <td>Winnipeg</td>\n",
       "      <td>MB</td>\n",
       "      <td>None</td>\n",
       "      <td>163</td>\n",
       "      <td>58</td>\n",
       "      <td>87</td>\n",
       "    </tr>\n",
       "    <tr>\n",
       "      <th>4</th>\n",
       "      <td>Nathan</td>\n",
       "      <td>Gupta</td>\n",
       "      <td>M</td>\n",
       "      <td>1986-01-14</td>\n",
       "      <td>Victoria</td>\n",
       "      <td>BC</td>\n",
       "      <td>Lactose</td>\n",
       "      <td>184</td>\n",
       "      <td>82</td>\n",
       "      <td>100</td>\n",
       "    </tr>\n",
       "  </tbody>\n",
       "</table>\n",
       "</div>"
      ],
      "text/plain": [
       "  first_name last_name gender  birth_date      city province_id allergies   \n",
       "0     Cheryl     Mason      F  1978-05-14   Toronto          ON   Peanuts  \\\n",
       "1       Ella   Lemieux      F  1991-05-01   Halifax          NS   Lactose   \n",
       "2      Avery       Roy      F  1993-05-08   Halifax          NS      None   \n",
       "3      Avery      Chen      F  1989-12-07  Winnipeg          MB      None   \n",
       "4     Nathan     Gupta      M  1986-01-14  Victoria          BC   Lactose   \n",
       "\n",
       "   height  weight  patient_id  \n",
       "0     170      65           1  \n",
       "1     164      60          45  \n",
       "2     165      61          53  \n",
       "3     163      58          87  \n",
       "4     184      82         100  "
      ]
     },
     "execution_count": 38,
     "metadata": {},
     "output_type": "execute_result"
    }
   ],
   "source": [
    "orm_to_df(ormq)"
   ]
  },
  {
   "cell_type": "markdown",
   "id": "636cf0d2",
   "metadata": {},
   "source": [
    "## Easy 9\n",
    "Show the total number of admissions"
   ]
  },
  {
   "cell_type": "code",
   "execution_count": 39,
   "id": "c2956d6f",
   "metadata": {},
   "outputs": [
    {
     "name": "stdout",
     "output_type": "stream",
     "text": [
      "Equal ✔️\n"
     ]
    }
   ],
   "source": [
    "sqlq =  sql_raw(\"SELECT COUNT(*) total FROM admissions;\")\n",
    "ormq =  Admissions.objects.aggregate(total=Count('id'))\n",
    "equal(sqlq, ormq)"
   ]
  },
  {
   "cell_type": "code",
   "execution_count": 40,
   "id": "3285cfac",
   "metadata": {},
   "outputs": [
    {
     "name": "stdout",
     "output_type": "stream",
     "text": [
      "Equal ✔️\n"
     ]
    }
   ],
   "source": [
    "ormq1 =  Admissions.objects.count()\n",
    "ormq1 = [{'total':ormq1}]\n",
    "equal(sqlq, ormq1)"
   ]
  },
  {
   "cell_type": "code",
   "execution_count": 41,
   "id": "a0b46bd1",
   "metadata": {},
   "outputs": [
    {
     "data": {
      "text/html": [
       "<div>\n",
       "<style scoped>\n",
       "    .dataframe tbody tr th:only-of-type {\n",
       "        vertical-align: middle;\n",
       "    }\n",
       "\n",
       "    .dataframe tbody tr th {\n",
       "        vertical-align: top;\n",
       "    }\n",
       "\n",
       "    .dataframe thead th {\n",
       "        text-align: right;\n",
       "    }\n",
       "</style>\n",
       "<table border=\"1\" class=\"dataframe\">\n",
       "  <thead>\n",
       "    <tr style=\"text-align: right;\">\n",
       "      <th></th>\n",
       "      <th>total</th>\n",
       "    </tr>\n",
       "  </thead>\n",
       "  <tbody>\n",
       "    <tr>\n",
       "      <th>0</th>\n",
       "      <td>170</td>\n",
       "    </tr>\n",
       "  </tbody>\n",
       "</table>\n",
       "</div>"
      ],
      "text/plain": [
       "   total\n",
       "0    170"
      ]
     },
     "execution_count": 41,
     "metadata": {},
     "output_type": "execute_result"
    }
   ],
   "source": [
    "orm_to_df(ormq)"
   ]
  },
  {
   "cell_type": "markdown",
   "id": "a79d1553",
   "metadata": {},
   "source": [
    "## Easy 10\n",
    "Show all the columns from admissions where the patient was admitted and discharged on the same day."
   ]
  },
  {
   "cell_type": "code",
   "execution_count": 46,
   "id": "9b0cfec5",
   "metadata": {},
   "outputs": [],
   "source": [
    "qstr = \"\"\"\n",
    "SELECT *\n",
    "FROM admissions\n",
    "WHERE admission_date = discharge_date;\n",
    "\"\"\"\n",
    "sqlq =  sql_raw(qstr)"
   ]
  },
  {
   "cell_type": "code",
   "execution_count": 47,
   "id": "6d5fd3f8",
   "metadata": {},
   "outputs": [
    {
     "name": "stdout",
     "output_type": "stream",
     "text": [
      "SELECT \"admissions\".\"admission_date\",\n",
      "       COUNT(\"admissions\".\"admission_date\") AS \"cnt\"\n",
      "FROM \"admissions\"\n",
      "WHERE \"admissions\".\"admission_date\" = (\"admissions\".\"discharge_date\")\n",
      "GROUP BY \"admissions\".\"admission_date\"\n",
      "HAVING COUNT(\"admissions\".\"admission_date\") >= 2\n"
     ]
    }
   ],
   "source": [
    "ormq =  Admissions.objects.filter(admission_date=F('discharge_date')).values(\"admission_date\").annotate(cnt=Count(\"admission_date\")).filter(cnt__gte=2)\n",
    "# equal(sqlq, ormq)\n",
    "print_sql(ormq)"
   ]
  },
  {
   "cell_type": "code",
   "execution_count": 48,
   "id": "a3a838b2",
   "metadata": {},
   "outputs": [
    {
     "data": {
      "text/html": [
       "<div>\n",
       "<style scoped>\n",
       "    .dataframe tbody tr th:only-of-type {\n",
       "        vertical-align: middle;\n",
       "    }\n",
       "\n",
       "    .dataframe tbody tr th {\n",
       "        vertical-align: top;\n",
       "    }\n",
       "\n",
       "    .dataframe thead th {\n",
       "        text-align: right;\n",
       "    }\n",
       "</style>\n",
       "<table border=\"1\" class=\"dataframe\">\n",
       "  <thead>\n",
       "    <tr style=\"text-align: right;\">\n",
       "      <th></th>\n",
       "    </tr>\n",
       "  </thead>\n",
       "  <tbody>\n",
       "  </tbody>\n",
       "</table>\n",
       "</div>"
      ],
      "text/plain": [
       "Empty DataFrame\n",
       "Columns: []\n",
       "Index: []"
      ]
     },
     "execution_count": 48,
     "metadata": {},
     "output_type": "execute_result"
    }
   ],
   "source": [
    "orm_to_df(ormq[:3])"
   ]
  },
  {
   "cell_type": "markdown",
   "id": "4ef764de",
   "metadata": {},
   "source": [
    "## Easy 10\n",
    "Show the patient id and the total number of admissions for patient_id 579.\n",
    "We will do 57"
   ]
  },
  {
   "cell_type": "code",
   "execution_count": 49,
   "id": "9f59da8c",
   "metadata": {},
   "outputs": [],
   "source": [
    "qstr = \"\"\"\n",
    "SELECT\n",
    "  patient_id,\n",
    "  Count(patient_id) admissions\n",
    "FROM admissions\n",
    "WHERE patient_id = 57;\n",
    "\"\"\"\n",
    "sqlq =  sql_raw(qstr)"
   ]
  },
  {
   "cell_type": "code",
   "execution_count": 50,
   "id": "b89d490f",
   "metadata": {},
   "outputs": [
    {
     "name": "stdout",
     "output_type": "stream",
     "text": [
      "Equal ✔️\n",
      "SELECT \"admissions\".\"patient_id\",\n",
      "       Count(\"admissions\".\"patient_id\") AS \"admissions\"\n",
      "FROM \"admissions\"\n",
      "WHERE \"admissions\".\"patient_id\" = 57\n"
     ]
    }
   ],
   "source": [
    "ormq =  Admissions.objects.filter(patient_id=57)\\\n",
    "        .annotate(admissions=Func(F('patient_id'), function='Count')).values('patient_id', 'admissions')\n",
    "equal(sqlq, ormq)\n",
    "print_sql(ormq)"
   ]
  },
  {
   "cell_type": "code",
   "execution_count": 51,
   "id": "982edc35",
   "metadata": {},
   "outputs": [
    {
     "data": {
      "text/html": [
       "<div>\n",
       "<style scoped>\n",
       "    .dataframe tbody tr th:only-of-type {\n",
       "        vertical-align: middle;\n",
       "    }\n",
       "\n",
       "    .dataframe tbody tr th {\n",
       "        vertical-align: top;\n",
       "    }\n",
       "\n",
       "    .dataframe thead th {\n",
       "        text-align: right;\n",
       "    }\n",
       "</style>\n",
       "<table border=\"1\" class=\"dataframe\">\n",
       "  <thead>\n",
       "    <tr style=\"text-align: right;\">\n",
       "      <th></th>\n",
       "      <th>patient_id</th>\n",
       "      <th>admissions</th>\n",
       "    </tr>\n",
       "  </thead>\n",
       "  <tbody>\n",
       "    <tr>\n",
       "      <th>0</th>\n",
       "      <td>57</td>\n",
       "      <td>2</td>\n",
       "    </tr>\n",
       "  </tbody>\n",
       "</table>\n",
       "</div>"
      ],
      "text/plain": [
       "   patient_id  admissions\n",
       "0          57           2"
      ]
     },
     "execution_count": 51,
     "metadata": {},
     "output_type": "execute_result"
    }
   ],
   "source": [
    "orm_to_df(ormq[:3])"
   ]
  },
  {
   "cell_type": "markdown",
   "id": "7325d4f2",
   "metadata": {},
   "source": [
    "## Easy 11\n",
    "Based on the cities that our patients live in, show unique cities that are in province_id 'NS'?"
   ]
  },
  {
   "cell_type": "code",
   "execution_count": 52,
   "id": "ee4614e8",
   "metadata": {},
   "outputs": [],
   "source": [
    "qstr = \"\"\"\n",
    "SELECT DISTINCT city\n",
    "FROM patients\n",
    "WHERE province_id = 'NS';\n",
    "\"\"\"\n",
    "sqlq =  sql_raw(qstr)"
   ]
  },
  {
   "cell_type": "code",
   "execution_count": 53,
   "id": "8ad106d2",
   "metadata": {},
   "outputs": [
    {
     "name": "stdout",
     "output_type": "stream",
     "text": [
      "Equal ✔️\n",
      "SELECT DISTINCT \"patients\".\"city\"\n",
      "FROM \"patients\"\n",
      "WHERE \"patients\".\"province_id\" = NS\n"
     ]
    }
   ],
   "source": [
    "ormq =  Patients.objects.filter(province__id='NS').values('city').distinct()\n",
    "equal(sqlq, ormq)\n",
    "print_sql(ormq)"
   ]
  },
  {
   "cell_type": "code",
   "execution_count": 54,
   "id": "bb09b98e",
   "metadata": {},
   "outputs": [
    {
     "data": {
      "text/html": [
       "<div>\n",
       "<style scoped>\n",
       "    .dataframe tbody tr th:only-of-type {\n",
       "        vertical-align: middle;\n",
       "    }\n",
       "\n",
       "    .dataframe tbody tr th {\n",
       "        vertical-align: top;\n",
       "    }\n",
       "\n",
       "    .dataframe thead th {\n",
       "        text-align: right;\n",
       "    }\n",
       "</style>\n",
       "<table border=\"1\" class=\"dataframe\">\n",
       "  <thead>\n",
       "    <tr style=\"text-align: right;\">\n",
       "      <th></th>\n",
       "      <th>city</th>\n",
       "    </tr>\n",
       "  </thead>\n",
       "  <tbody>\n",
       "    <tr>\n",
       "      <th>0</th>\n",
       "      <td>Halifax</td>\n",
       "    </tr>\n",
       "  </tbody>\n",
       "</table>\n",
       "</div>"
      ],
      "text/plain": [
       "      city\n",
       "0  Halifax"
      ]
     },
     "execution_count": 54,
     "metadata": {},
     "output_type": "execute_result"
    }
   ],
   "source": [
    "orm_to_df(ormq)"
   ]
  },
  {
   "cell_type": "markdown",
   "id": "29ee2fe5",
   "metadata": {},
   "source": [
    "## Easy 11\n",
    "Write a query to find the first_name, last name and birth date of patients who has height greater than 160 and weight greater than 70"
   ]
  },
  {
   "cell_type": "code",
   "execution_count": 55,
   "id": "739c0e26",
   "metadata": {},
   "outputs": [],
   "source": [
    "qstr = \"\"\"\n",
    "SELECT\n",
    "  first_name,\n",
    "  last_name,\n",
    "  birth_date\n",
    "FROM patients\n",
    "WHERE height > 160 AND weight > 70;\n",
    "\n",
    "\"\"\"\n",
    "sqlq =  sql_raw(qstr)"
   ]
  },
  {
   "cell_type": "code",
   "execution_count": 56,
   "id": "1645ac7b",
   "metadata": {},
   "outputs": [
    {
     "name": "stdout",
     "output_type": "stream",
     "text": [
      "Equal ✔️\n",
      "SELECT \"patients\".\"first_name\",\n",
      "       \"patients\".\"last_name\",\n",
      "       \"patients\".\"birth_date\"\n",
      "FROM \"patients\"\n",
      "WHERE (\"patients\".\"height\" > 160\n",
      "       AND \"patients\".\"weight\" > 70)\n"
     ]
    }
   ],
   "source": [
    "ormq =  Patients.objects.filter(height__gt=160, weight__gt=70).values('first_name', 'last_name', 'birth_date')\n",
    "equal(sqlq, ormq)\n",
    "print_sql(ormq)"
   ]
  },
  {
   "cell_type": "code",
   "execution_count": 57,
   "id": "dd4b6a38",
   "metadata": {},
   "outputs": [
    {
     "data": {
      "text/html": [
       "<div>\n",
       "<style scoped>\n",
       "    .dataframe tbody tr th:only-of-type {\n",
       "        vertical-align: middle;\n",
       "    }\n",
       "\n",
       "    .dataframe tbody tr th {\n",
       "        vertical-align: top;\n",
       "    }\n",
       "\n",
       "    .dataframe thead th {\n",
       "        text-align: right;\n",
       "    }\n",
       "</style>\n",
       "<table border=\"1\" class=\"dataframe\">\n",
       "  <thead>\n",
       "    <tr style=\"text-align: right;\">\n",
       "      <th></th>\n",
       "      <th>first_name</th>\n",
       "      <th>last_name</th>\n",
       "      <th>birth_date</th>\n",
       "    </tr>\n",
       "  </thead>\n",
       "  <tbody>\n",
       "    <tr>\n",
       "      <th>0</th>\n",
       "      <td>Jason</td>\n",
       "      <td>Fleming</td>\n",
       "      <td>1990-08-02</td>\n",
       "    </tr>\n",
       "    <tr>\n",
       "      <th>1</th>\n",
       "      <td>Alex</td>\n",
       "      <td>Carter</td>\n",
       "      <td>1976-11-18</td>\n",
       "    </tr>\n",
       "    <tr>\n",
       "      <th>2</th>\n",
       "      <td>Gavin</td>\n",
       "      <td>Bryant</td>\n",
       "      <td>1980-02-06</td>\n",
       "    </tr>\n",
       "  </tbody>\n",
       "</table>\n",
       "</div>"
      ],
      "text/plain": [
       "  first_name last_name  birth_date\n",
       "0      Jason   Fleming  1990-08-02\n",
       "1       Alex    Carter  1976-11-18\n",
       "2      Gavin    Bryant  1980-02-06"
      ]
     },
     "execution_count": 57,
     "metadata": {},
     "output_type": "execute_result"
    }
   ],
   "source": [
    "orm_to_df(ormq[:3])"
   ]
  },
  {
   "cell_type": "markdown",
   "id": "30c19bd3",
   "metadata": {},
   "source": [
    "## Easy 12\n",
    "Write a query to find list of patients first_name, last_name, and allergies from Hamilton where allergies are not null.\n",
    "We will use Toronto"
   ]
  },
  {
   "cell_type": "code",
   "execution_count": 58,
   "id": "42eb679f",
   "metadata": {},
   "outputs": [],
   "source": [
    "qstr = \"\"\"\n",
    "SELECT\n",
    "  first_name,\n",
    "  last_name,\n",
    "  allergies\n",
    "FROM patients\n",
    "WHERE\n",
    "  city = 'Toronto'\n",
    "  and allergies IS NOT NULL;\n",
    "\"\"\"\n",
    "sqlq =  sql_raw(qstr)"
   ]
  },
  {
   "cell_type": "code",
   "execution_count": 59,
   "id": "580a2c69",
   "metadata": {},
   "outputs": [
    {
     "name": "stdout",
     "output_type": "stream",
     "text": [
      "Equal ✔️\n",
      "SELECT \"patients\".\"first_name\",\n",
      "       \"patients\".\"last_name\",\n",
      "       \"patients\".\"allergies\"\n",
      "FROM \"patients\"\n",
      "WHERE (\"patients\".\"allergies\" IS NOT NULL\n",
      "       AND \"patients\".\"city\" = Toronto)\n"
     ]
    }
   ],
   "source": [
    "ormq =  Patients.objects.filter(city='Toronto', allergies__isnull=False).\\\n",
    "        values('first_name', 'last_name', 'allergies')\n",
    "equal(sqlq, ormq)\n",
    "print_sql(ormq)"
   ]
  },
  {
   "cell_type": "code",
   "execution_count": 60,
   "id": "a7e4e5c0",
   "metadata": {},
   "outputs": [
    {
     "name": "stdout",
     "output_type": "stream",
     "text": [
      "Equal ✔️\n",
      "SELECT \"patients\".\"first_name\",\n",
      "       \"patients\".\"last_name\",\n",
      "       \"patients\".\"allergies\"\n",
      "FROM \"patients\"\n",
      "WHERE (NOT (\"patients\".\"allergies\" IS NULL)\n",
      "       AND \"patients\".\"city\" = Toronto)\n"
     ]
    }
   ],
   "source": [
    "ormq1 =  Patients.objects.filter( ~Q(allergies=None), city='Toronto',).\\\n",
    "        values('first_name', 'last_name', 'allergies')\n",
    "equal(sqlq, ormq1)\n",
    "print_sql(ormq1)"
   ]
  },
  {
   "cell_type": "code",
   "execution_count": 61,
   "id": "abfa0fb4",
   "metadata": {},
   "outputs": [
    {
     "name": "stdout",
     "output_type": "stream",
     "text": [
      "Equal ✔️\n",
      "SELECT \"patients\".\"first_name\",\n",
      "       \"patients\".\"last_name\",\n",
      "       \"patients\".\"allergies\"\n",
      "FROM \"patients\"\n",
      "WHERE (\"patients\".\"city\" = Toronto\n",
      "       AND NOT (\"patients\".\"allergies\" IS NULL))\n"
     ]
    }
   ],
   "source": [
    "ormq2 =  Patients.objects.filter(city='Toronto').exclude(allergies=None).\\\n",
    "        values('first_name', 'last_name', 'allergies')\n",
    "equal(sqlq, ormq2)\n",
    "print_sql(ormq2)"
   ]
  },
  {
   "cell_type": "code",
   "execution_count": 62,
   "id": "50def2af",
   "metadata": {},
   "outputs": [
    {
     "data": {
      "text/html": [
       "<div>\n",
       "<style scoped>\n",
       "    .dataframe tbody tr th:only-of-type {\n",
       "        vertical-align: middle;\n",
       "    }\n",
       "\n",
       "    .dataframe tbody tr th {\n",
       "        vertical-align: top;\n",
       "    }\n",
       "\n",
       "    .dataframe thead th {\n",
       "        text-align: right;\n",
       "    }\n",
       "</style>\n",
       "<table border=\"1\" class=\"dataframe\">\n",
       "  <thead>\n",
       "    <tr style=\"text-align: right;\">\n",
       "      <th></th>\n",
       "      <th>first_name</th>\n",
       "      <th>last_name</th>\n",
       "      <th>allergies</th>\n",
       "    </tr>\n",
       "  </thead>\n",
       "  <tbody>\n",
       "    <tr>\n",
       "      <th>0</th>\n",
       "      <td>Cheryl</td>\n",
       "      <td>Mason</td>\n",
       "      <td>Peanuts</td>\n",
       "    </tr>\n",
       "    <tr>\n",
       "      <th>1</th>\n",
       "      <td>Kimberly</td>\n",
       "      <td>Lee</td>\n",
       "      <td>Pollen</td>\n",
       "    </tr>\n",
       "    <tr>\n",
       "      <th>2</th>\n",
       "      <td>Maria</td>\n",
       "      <td>Singh</td>\n",
       "      <td>Pollen</td>\n",
       "    </tr>\n",
       "  </tbody>\n",
       "</table>\n",
       "</div>"
      ],
      "text/plain": [
       "  first_name last_name allergies\n",
       "0     Cheryl     Mason   Peanuts\n",
       "1   Kimberly       Lee    Pollen\n",
       "2      Maria     Singh    Pollen"
      ]
     },
     "execution_count": 62,
     "metadata": {},
     "output_type": "execute_result"
    }
   ],
   "source": [
    "orm_to_df(ormq[:3])"
   ]
  },
  {
   "cell_type": "markdown",
   "id": "9489e6ca",
   "metadata": {},
   "source": [
    "## Easy 13 \n",
    "Based on cities where our patient lives in, write a query to display the list of unique city starting with a vowel (a, e, i, o, u). Show the result order in ascending by city."
   ]
  },
  {
   "cell_type": "code",
   "execution_count": 63,
   "id": "e7ce8c59",
   "metadata": {},
   "outputs": [],
   "source": [
    "# You can use city LIKE '[aeiou]%'\n",
    "qstr = \"\"\"\n",
    "SELECT DISTINCT city\n",
    "FROM patients\n",
    "WHERE\n",
    "  city like 'a%'\n",
    "  or city like 'E%'\n",
    "  or city like 'I%'\n",
    "  or city like 'O%'\n",
    "  or city like 'U%'\n",
    "ORDER BY city;\n",
    "\"\"\"\n",
    "sqlq =  sql_raw(qstr)"
   ]
  },
  {
   "cell_type": "code",
   "execution_count": 64,
   "id": "761af2ef",
   "metadata": {},
   "outputs": [
    {
     "name": "stdout",
     "output_type": "stream",
     "text": [
      "Equal ✔️\n",
      "SELECT DISTINCT \"patients\".\"city\"\n",
      "FROM \"patients\"\n",
      "WHERE (\"patients\".\"city\" LIKE A% ESCAPE '\\' OR \"patients\".\"city\" LIKE E% ESCAPE '\\' OR \"patients\".\"city\" LIKE I% ESCAPE '\\' OR \"patients\".\"city\" LIKE O% ESCAPE '\\' OR \"patients\".\"city\" LIKE U% ESCAPE '\\')\n",
      "ORDER BY \"patients\".\"city\" ASC\n"
     ]
    }
   ],
   "source": [
    "query = Q()\n",
    "for ch in ['A','E','I', 'O', 'U']:\n",
    "    query |= Q(city__istartswith=ch)\n",
    "ormq =  Patients.objects.filter(query).values('city').distinct().order_by('city')\n",
    "equal(sqlq, ormq)\n",
    "print_sql(ormq)"
   ]
  },
  {
   "cell_type": "code",
   "execution_count": 65,
   "id": "da16e46e",
   "metadata": {},
   "outputs": [
    {
     "name": "stdout",
     "output_type": "stream",
     "text": [
      "Equal ✔️\n",
      "SELECT DISTINCT \"patients\".\"city\"\n",
      "FROM \"patients\"\n",
      "WHERE \"patients\".\"city\" REGEXP ^[AEIOU].+\n",
      "ORDER BY \"patients\".\"city\" ASC\n"
     ]
    }
   ],
   "source": [
    "ormq1 =  Patients.objects.filter(city__regex=r\"^[AEIOU].+\").values('city').distinct().order_by('city')\n",
    "equal(sqlq, ormq1)\n",
    "print_sql(ormq1)"
   ]
  },
  {
   "cell_type": "code",
   "execution_count": 66,
   "id": "2309c08e",
   "metadata": {},
   "outputs": [
    {
     "data": {
      "text/html": [
       "<div>\n",
       "<style scoped>\n",
       "    .dataframe tbody tr th:only-of-type {\n",
       "        vertical-align: middle;\n",
       "    }\n",
       "\n",
       "    .dataframe tbody tr th {\n",
       "        vertical-align: top;\n",
       "    }\n",
       "\n",
       "    .dataframe thead th {\n",
       "        text-align: right;\n",
       "    }\n",
       "</style>\n",
       "<table border=\"1\" class=\"dataframe\">\n",
       "  <thead>\n",
       "    <tr style=\"text-align: right;\">\n",
       "      <th></th>\n",
       "      <th>city</th>\n",
       "    </tr>\n",
       "  </thead>\n",
       "  <tbody>\n",
       "    <tr>\n",
       "      <th>0</th>\n",
       "      <td>Ottawa</td>\n",
       "    </tr>\n",
       "  </tbody>\n",
       "</table>\n",
       "</div>"
      ],
      "text/plain": [
       "     city\n",
       "0  Ottawa"
      ]
     },
     "execution_count": 66,
     "metadata": {},
     "output_type": "execute_result"
    }
   ],
   "source": [
    "orm_to_df(ormq1)"
   ]
  },
  {
   "cell_type": "markdown",
   "id": "7e25677c",
   "metadata": {},
   "source": [
    "## Medium 1\n",
    "Based on cities where our patient lives in, write a query to display the list of unique city starting with a vowel (a, e, i, o, u). Show the result order in ascending by city."
   ]
  },
  {
   "cell_type": "code",
   "execution_count": 67,
   "id": "a26aaf08",
   "metadata": {},
   "outputs": [],
   "source": [
    "# Use YEAR(birth_date) for most databases\n",
    "qstr = \"\"\"\n",
    "SELECT\n",
    "  DISTINCT strftime('%Y', birth_date) birth_year\n",
    "FROM patients\n",
    "ORDER BY birth_year;\n",
    "\"\"\"\n",
    "sqlq =  sql_raw(qstr)"
   ]
  },
  {
   "cell_type": "code",
   "execution_count": 68,
   "id": "fa0745da",
   "metadata": {},
   "outputs": [
    {
     "name": "stdout",
     "output_type": "stream",
     "text": [
      "Equal ✔️\n",
      "SELECT DISTINCT CAST(django_date_extract(year, \"patients\".\"birth_date\") AS text) AS \"birth_year\"\n",
      "FROM \"patients\"\n",
      "ORDER BY \"birth_year\" ASC\n"
     ]
    }
   ],
   "source": [
    "ormq =  Patients.objects.annotate(birth_year=Cast(F('birth_date__year'), CharField()))\\\n",
    "        .distinct().order_by('birth_year').values('birth_year')\n",
    "equal(sqlq, ormq)\n",
    "print_sql(ormq)"
   ]
  },
  {
   "cell_type": "code",
   "execution_count": 69,
   "id": "46a59da7",
   "metadata": {},
   "outputs": [
    {
     "data": {
      "text/html": [
       "<div>\n",
       "<style scoped>\n",
       "    .dataframe tbody tr th:only-of-type {\n",
       "        vertical-align: middle;\n",
       "    }\n",
       "\n",
       "    .dataframe tbody tr th {\n",
       "        vertical-align: top;\n",
       "    }\n",
       "\n",
       "    .dataframe thead th {\n",
       "        text-align: right;\n",
       "    }\n",
       "</style>\n",
       "<table border=\"1\" class=\"dataframe\">\n",
       "  <thead>\n",
       "    <tr style=\"text-align: right;\">\n",
       "      <th></th>\n",
       "      <th>birth_year</th>\n",
       "    </tr>\n",
       "  </thead>\n",
       "  <tbody>\n",
       "    <tr>\n",
       "      <th>0</th>\n",
       "      <td>1975</td>\n",
       "    </tr>\n",
       "    <tr>\n",
       "      <th>1</th>\n",
       "      <td>1976</td>\n",
       "    </tr>\n",
       "    <tr>\n",
       "      <th>2</th>\n",
       "      <td>1977</td>\n",
       "    </tr>\n",
       "  </tbody>\n",
       "</table>\n",
       "</div>"
      ],
      "text/plain": [
       "  birth_year\n",
       "0       1975\n",
       "1       1976\n",
       "2       1977"
      ]
     },
     "execution_count": 69,
     "metadata": {},
     "output_type": "execute_result"
    }
   ],
   "source": [
    "orm_to_df(ormq[:3])"
   ]
  },
  {
   "cell_type": "markdown",
   "id": "05167feb",
   "metadata": {},
   "source": [
    "## Medium 2\n",
    "Show unique first names from the patients table which only occurs once in the list.\n",
    "\n",
    "For example, if two or more people are named 'John' in the first_name column then don't include their name in the output list. If only 1 person is named 'Leo' then include them in the output."
   ]
  },
  {
   "cell_type": "code",
   "execution_count": 70,
   "id": "f3d46825",
   "metadata": {},
   "outputs": [],
   "source": [
    "qstr = \"\"\"\n",
    "SELECT first_name\n",
    "from patients\n",
    "group by first_name\n",
    "having count(first_name) = 1\n",
    "\"\"\"\n",
    "sqlq =  sql_raw(qstr)"
   ]
  },
  {
   "cell_type": "code",
   "execution_count": 71,
   "id": "771ad168",
   "metadata": {},
   "outputs": [
    {
     "name": "stdout",
     "output_type": "stream",
     "text": [
      "Equal ✔️\n",
      "SELECT \"patients\".\"first_name\"\n",
      "FROM \"patients\"\n",
      "GROUP BY \"patients\".\"first_name\"\n",
      "HAVING COUNT(\"patients\".\"first_name\") = 1\n"
     ]
    }
   ],
   "source": [
    "ormq =  Patients.objects.values('first_name').annotate(occurance=Count('first_name'))\\\n",
    "        .filter(occurance=1).values('first_name')\n",
    "equal(sqlq, ormq)\n",
    "print_sql(ormq)"
   ]
  },
  {
   "cell_type": "markdown",
   "id": "198bcd91",
   "metadata": {},
   "source": [
    "## Medium 3\n",
    "Show patient_id and first_name from patients where their first_name start and ends with 's' and is at least 6 characters long.\n",
    "We will do start and ends with 'n' and is at least 6 characters long."
   ]
  },
  {
   "cell_type": "code",
   "execution_count": 72,
   "id": "c8b3ece0",
   "metadata": {},
   "outputs": [],
   "source": [
    "qstr = \"\"\"\n",
    "SELECT\n",
    "  patient_id,\n",
    "  first_name\n",
    "from patients\n",
    "where first_name LIKe \"n____%n\"\n",
    "\"\"\"\n",
    "sqlq =  sql_raw(qstr)"
   ]
  },
  {
   "cell_type": "code",
   "execution_count": 73,
   "id": "45d84a66",
   "metadata": {},
   "outputs": [
    {
     "name": "stdout",
     "output_type": "stream",
     "text": [
      "Equal ✔️\n",
      "SELECT \"patients\".\"first_name\",\n",
      "       \"patients\".\"patient_id\" AS \"patient_id\"\n",
      "FROM \"patients\"\n",
      "WHERE \"patients\".\"first_name\" REGEXP (?i)^n\\w{4,}n$\n"
     ]
    }
   ],
   "source": [
    "ormq =  Patients.objects.filter(first_name__regex=r\"(?i)^n\\w{4,}n$\").values('first_name', patient_id=F('id'))\n",
    "equal(sqlq, ormq)\n",
    "print_sql(ormq)"
   ]
  },
  {
   "cell_type": "markdown",
   "id": "54667979",
   "metadata": {},
   "source": [
    "## Medium 4\n",
    "Show patient_id and first_name from patients where their first_name start and ends with 's' and is at least 6 characters long.\n",
    "We will do start and ends with 'n' and is at least 6 characters long."
   ]
  },
  {
   "cell_type": "code",
   "execution_count": 74,
   "id": "ffcf38de",
   "metadata": {},
   "outputs": [],
   "source": [
    "qstr = \"\"\"\n",
    "SELECT\n",
    "  p.patient_id,\n",
    "  first_name,\n",
    "  last_name\n",
    "FROM patients p\n",
    "  INNER JOIN admissions a on p.patient_id = a.patient_id\n",
    "WHERE diagnosis = 'Diabetes'\n",
    "\"\"\"\n",
    "sqlq =  sql_raw(qstr)"
   ]
  },
  {
   "cell_type": "code",
   "execution_count": 75,
   "id": "8891900d",
   "metadata": {},
   "outputs": [
    {
     "name": "stdout",
     "output_type": "stream",
     "text": [
      "Equal ✔️\n",
      "SELECT \"admissions\".\"patient_id\",\n",
      "       \"patients\".\"first_name\" AS \"first_name\",\n",
      "       \"patients\".\"last_name\" AS \"last_name\"\n",
      "FROM \"admissions\"\n",
      "INNER JOIN \"patients\" ON (\"admissions\".\"patient_id\" = \"patients\".\"patient_id\")\n",
      "WHERE \"admissions\".\"diagnosis\" = Diabetes\n"
     ]
    }
   ],
   "source": [
    "ormq = Admissions.objects.filter(diagnosis='Diabetes')\\\n",
    "        .values('patient_id', first_name=F('patient__first_name'), last_name=F('patient__last_name'))\n",
    "equal(sqlq, ormq)\n",
    "print_sql(ormq)"
   ]
  },
  {
   "cell_type": "code",
   "execution_count": 76,
   "id": "f800076f",
   "metadata": {},
   "outputs": [
    {
     "name": "stdout",
     "output_type": "stream",
     "text": [
      "Unequal ❌\n",
      "SELECT \"patients\".\"first_name\",\n",
      "       \"patients\".\"last_name\",\n",
      "       \"patients\".\"patient_id\" AS \"patient_id\"\n",
      "FROM \"patients\"\n",
      "WHERE \"patients\".\"patient_id\" IN\n",
      "    (SELECT DISTINCT U0.\"patient_id\"\n",
      "     FROM \"admissions\" U0\n",
      "     WHERE U0.\"diagnosis\" = Diabetes)\n"
     ]
    }
   ],
   "source": [
    "diabetic_patients = Admissions.objects.filter(diagnosis='Diabetes').values_list('patient_id').distinct()\n",
    "ormq1 = Patients.objects.filter(id__in=diabetic_patients).values('first_name', 'last_name', patient_id=F('id'))\n",
    "equal(sqlq, ormq1)\n",
    "print_sql(ormq1)"
   ]
  },
  {
   "cell_type": "code",
   "execution_count": 77,
   "id": "9fcbee81",
   "metadata": {},
   "outputs": [
    {
     "data": {
      "text/html": [
       "<div>\n",
       "<style scoped>\n",
       "    .dataframe tbody tr th:only-of-type {\n",
       "        vertical-align: middle;\n",
       "    }\n",
       "\n",
       "    .dataframe tbody tr th {\n",
       "        vertical-align: top;\n",
       "    }\n",
       "\n",
       "    .dataframe thead th {\n",
       "        text-align: right;\n",
       "    }\n",
       "</style>\n",
       "<table border=\"1\" class=\"dataframe\">\n",
       "  <thead>\n",
       "    <tr style=\"text-align: right;\">\n",
       "      <th></th>\n",
       "      <th>patient_id</th>\n",
       "      <th>first_name</th>\n",
       "      <th>last_name</th>\n",
       "    </tr>\n",
       "  </thead>\n",
       "  <tbody>\n",
       "    <tr>\n",
       "      <th>0</th>\n",
       "      <td>6</td>\n",
       "      <td>Gavin</td>\n",
       "      <td>Bryant</td>\n",
       "    </tr>\n",
       "    <tr>\n",
       "      <th>1</th>\n",
       "      <td>17</td>\n",
       "      <td>Emily</td>\n",
       "      <td>Tran</td>\n",
       "    </tr>\n",
       "    <tr>\n",
       "      <th>2</th>\n",
       "      <td>27</td>\n",
       "      <td>Allison</td>\n",
       "      <td>Rogers</td>\n",
       "    </tr>\n",
       "  </tbody>\n",
       "</table>\n",
       "</div>"
      ],
      "text/plain": [
       "   patient_id first_name last_name\n",
       "0           6      Gavin    Bryant\n",
       "1          17      Emily      Tran\n",
       "2          27    Allison    Rogers"
      ]
     },
     "execution_count": 77,
     "metadata": {},
     "output_type": "execute_result"
    }
   ],
   "source": [
    "orm_to_df(ormq[:3])"
   ]
  },
  {
   "cell_type": "markdown",
   "id": "6e78bd24",
   "metadata": {},
   "source": [
    "## Medium 5\n",
    "Display every patient's first_name.\n",
    "Order the list by the length of each name and then by alphbetically"
   ]
  },
  {
   "cell_type": "code",
   "execution_count": 78,
   "id": "75fd0db8",
   "metadata": {},
   "outputs": [],
   "source": [
    "qstr = \"\"\"\n",
    "SELECT\n",
    "  first_name\n",
    "from patients p\n",
    "order by\n",
    "  LENGTH(first_name),\n",
    "  first_name;\n",
    "\"\"\"\n",
    "sqlq =  sql_raw(qstr)"
   ]
  },
  {
   "cell_type": "code",
   "execution_count": 79,
   "id": "737b0a09",
   "metadata": {},
   "outputs": [
    {
     "name": "stdout",
     "output_type": "stream",
     "text": [
      "Equal ✔️\n",
      "SELECT \"patients\".\"first_name\"\n",
      "FROM \"patients\"\n",
      "ORDER BY LENGTH(\"patients\".\"first_name\") ASC, \"patients\".\"first_name\" ASC\n"
     ]
    }
   ],
   "source": [
    "ormq = Patients.objects.order_by(Length('first_name'), 'first_name').values('first_name')\n",
    "equal(sqlq, ormq)\n",
    "print_sql(ormq)"
   ]
  },
  {
   "cell_type": "markdown",
   "id": "152fd1d2",
   "metadata": {},
   "source": [
    "## Medium 6\n",
    "Show the total amount of male patients and the total amount of female patients in the patients table.\n",
    "Display the two results in the same row."
   ]
  },
  {
   "cell_type": "code",
   "execution_count": 80,
   "id": "8ac00c72",
   "metadata": {},
   "outputs": [],
   "source": [
    "qstr = \"\"\"\n",
    "SELECT (\n",
    "    SELECT count(gender)\n",
    "    from patients\n",
    "    where gender = 'M'\n",
    "  ) male, (\n",
    "    SELECT count(gender)\n",
    "    from patients\n",
    "    where gender = 'F'\n",
    "  ) female;\n",
    "\"\"\"\n",
    "sqlq =  sql_raw(qstr)"
   ]
  },
  {
   "cell_type": "code",
   "execution_count": 81,
   "id": "3a3f3aa2",
   "metadata": {},
   "outputs": [],
   "source": [
    "class NonAggrCount(Count):\n",
    "    contains_aggregate = False"
   ]
  },
  {
   "cell_type": "code",
   "execution_count": 94,
   "id": "df843675",
   "metadata": {
    "scrolled": true
   },
   "outputs": [
    {
     "ename": "TypeError",
     "evalue": "Merging 'QuerySet' classes must involve the same values in each case.",
     "output_type": "error",
     "traceback": [
      "\u001b[1;31m---------------------------------------------------------------------------\u001b[0m",
      "\u001b[1;31mTypeError\u001b[0m                                 Traceback (most recent call last)",
      "Cell \u001b[1;32mIn[94], line 11\u001b[0m\n\u001b[0;32m      1\u001b[0m male_subquery, female_subquery \u001b[38;5;241m=\u001b[39m [\n\u001b[0;32m      2\u001b[0m     Patients\u001b[38;5;241m.\u001b[39mobjects\u001b[38;5;241m.\u001b[39mfilter(gender\u001b[38;5;241m=\u001b[39mg)\n\u001b[0;32m      3\u001b[0m     \u001b[38;5;241m.\u001b[39mannotate(\u001b[38;5;241m*\u001b[39m\u001b[38;5;241m*\u001b[39m{\u001b[38;5;124mf\u001b[39m\u001b[38;5;124m\"\u001b[39m\u001b[38;5;132;01m{\u001b[39;00mg\u001b[38;5;132;01m}\u001b[39;00m\u001b[38;5;124m_count\u001b[39m\u001b[38;5;124m\"\u001b[39m: Func(F(\u001b[38;5;124m\"\u001b[39m\u001b[38;5;124mgender\u001b[39m\u001b[38;5;124m\"\u001b[39m), function\u001b[38;5;241m=\u001b[39m\u001b[38;5;124m'\u001b[39m\u001b[38;5;124mCount\u001b[39m\u001b[38;5;124m'\u001b[39m)})\n\u001b[0;32m      4\u001b[0m     \u001b[38;5;241m.\u001b[39mvalues(\u001b[38;5;124mf\u001b[39m\u001b[38;5;124m\"\u001b[39m\u001b[38;5;132;01m{\u001b[39;00mg\u001b[38;5;132;01m}\u001b[39;00m\u001b[38;5;124m_count\u001b[39m\u001b[38;5;124m\"\u001b[39m)\n\u001b[0;32m      5\u001b[0m     \u001b[38;5;28;01mfor\u001b[39;00m g \u001b[38;5;129;01min\u001b[39;00m [\u001b[38;5;124m\"\u001b[39m\u001b[38;5;124mM\u001b[39m\u001b[38;5;124m\"\u001b[39m, \u001b[38;5;124m\"\u001b[39m\u001b[38;5;124mF\u001b[39m\u001b[38;5;124m\"\u001b[39m]\n\u001b[0;32m      6\u001b[0m ]\n\u001b[0;32m      8\u001b[0m \u001b[38;5;66;03m# ormq = Patients.objects.annotate(\u001b[39;00m\n\u001b[0;32m      9\u001b[0m \u001b[38;5;66;03m#     male=Subquery(male_subquery), female=Subquery(female_subquery)\u001b[39;00m\n\u001b[0;32m     10\u001b[0m \u001b[38;5;66;03m# ).values(\"male\", \"female\")[:1]\u001b[39;00m\n\u001b[1;32m---> 11\u001b[0m orm \u001b[38;5;241m=\u001b[39m \u001b[43mmale_subquery\u001b[49m\u001b[43m \u001b[49m\u001b[38;5;241;43m|\u001b[39;49m\u001b[43m \u001b[49m\u001b[43mfemale_subquery\u001b[49m\n\u001b[0;32m     12\u001b[0m equal(sqlq, ormq)\n\u001b[0;32m     13\u001b[0m print_sql(ormq)\n",
      "File \u001b[1;32mC:\\ProgramData\\Miniconda3\\envs\\walkalong\\lib\\site-packages\\django\\db\\models\\query.py:465\u001b[0m, in \u001b[0;36mQuerySet.__or__\u001b[1;34m(self, other)\u001b[0m\n\u001b[0;32m    463\u001b[0m \u001b[38;5;28;01mdef\u001b[39;00m \u001b[38;5;21m__or__\u001b[39m(\u001b[38;5;28mself\u001b[39m, other):\n\u001b[0;32m    464\u001b[0m     \u001b[38;5;28mself\u001b[39m\u001b[38;5;241m.\u001b[39m_check_operator_queryset(other, \u001b[38;5;124m\"\u001b[39m\u001b[38;5;124m|\u001b[39m\u001b[38;5;124m\"\u001b[39m)\n\u001b[1;32m--> 465\u001b[0m     \u001b[38;5;28;43mself\u001b[39;49m\u001b[38;5;241;43m.\u001b[39;49m\u001b[43m_merge_sanity_check\u001b[49m\u001b[43m(\u001b[49m\u001b[43mother\u001b[49m\u001b[43m)\u001b[49m\n\u001b[0;32m    466\u001b[0m     \u001b[38;5;28;01mif\u001b[39;00m \u001b[38;5;28misinstance\u001b[39m(\u001b[38;5;28mself\u001b[39m, EmptyQuerySet):\n\u001b[0;32m    467\u001b[0m         \u001b[38;5;28;01mreturn\u001b[39;00m other\n",
      "File \u001b[1;32mC:\\ProgramData\\Miniconda3\\envs\\walkalong\\lib\\site-packages\\django\\db\\models\\query.py:1891\u001b[0m, in \u001b[0;36mQuerySet._merge_sanity_check\u001b[1;34m(self, other)\u001b[0m\n\u001b[0;32m   1885\u001b[0m \u001b[38;5;250m\u001b[39m\u001b[38;5;124;03m\"\"\"Check that two QuerySet classes may be merged.\"\"\"\u001b[39;00m\n\u001b[0;32m   1886\u001b[0m \u001b[38;5;28;01mif\u001b[39;00m \u001b[38;5;28mself\u001b[39m\u001b[38;5;241m.\u001b[39m_fields \u001b[38;5;129;01mis\u001b[39;00m \u001b[38;5;129;01mnot\u001b[39;00m \u001b[38;5;28;01mNone\u001b[39;00m \u001b[38;5;129;01mand\u001b[39;00m (\n\u001b[0;32m   1887\u001b[0m     \u001b[38;5;28mset\u001b[39m(\u001b[38;5;28mself\u001b[39m\u001b[38;5;241m.\u001b[39mquery\u001b[38;5;241m.\u001b[39mvalues_select) \u001b[38;5;241m!=\u001b[39m \u001b[38;5;28mset\u001b[39m(other\u001b[38;5;241m.\u001b[39mquery\u001b[38;5;241m.\u001b[39mvalues_select)\n\u001b[0;32m   1888\u001b[0m     \u001b[38;5;129;01mor\u001b[39;00m \u001b[38;5;28mset\u001b[39m(\u001b[38;5;28mself\u001b[39m\u001b[38;5;241m.\u001b[39mquery\u001b[38;5;241m.\u001b[39mextra_select) \u001b[38;5;241m!=\u001b[39m \u001b[38;5;28mset\u001b[39m(other\u001b[38;5;241m.\u001b[39mquery\u001b[38;5;241m.\u001b[39mextra_select)\n\u001b[0;32m   1889\u001b[0m     \u001b[38;5;129;01mor\u001b[39;00m \u001b[38;5;28mset\u001b[39m(\u001b[38;5;28mself\u001b[39m\u001b[38;5;241m.\u001b[39mquery\u001b[38;5;241m.\u001b[39mannotation_select) \u001b[38;5;241m!=\u001b[39m \u001b[38;5;28mset\u001b[39m(other\u001b[38;5;241m.\u001b[39mquery\u001b[38;5;241m.\u001b[39mannotation_select)\n\u001b[0;32m   1890\u001b[0m ):\n\u001b[1;32m-> 1891\u001b[0m     \u001b[38;5;28;01mraise\u001b[39;00m \u001b[38;5;167;01mTypeError\u001b[39;00m(\n\u001b[0;32m   1892\u001b[0m         \u001b[38;5;124m\"\u001b[39m\u001b[38;5;124mMerging \u001b[39m\u001b[38;5;124m'\u001b[39m\u001b[38;5;132;01m%s\u001b[39;00m\u001b[38;5;124m'\u001b[39m\u001b[38;5;124m classes must involve the same values in each case.\u001b[39m\u001b[38;5;124m\"\u001b[39m\n\u001b[0;32m   1893\u001b[0m         \u001b[38;5;241m%\u001b[39m \u001b[38;5;28mself\u001b[39m\u001b[38;5;241m.\u001b[39m\u001b[38;5;18m__class__\u001b[39m\u001b[38;5;241m.\u001b[39m\u001b[38;5;18m__name__\u001b[39m\n\u001b[0;32m   1894\u001b[0m     )\n",
      "\u001b[1;31mTypeError\u001b[0m: Merging 'QuerySet' classes must involve the same values in each case."
     ]
    }
   ],
   "source": [
    "male_subquery, female_subquery = [\n",
    "    Patients.objects.filter(gender=g)\n",
    "    .annotate(**{f\"{g}_count\": Func(F(\"gender\"), function='Count')})\n",
    "    .values(f\"{g}_count\")\n",
    "    for g in [\"M\", \"F\"]\n",
    "]\n",
    "\n",
    "# ormq = Patients.objects.annotate(\n",
    "#     male=Subquery(male_subquery), female=Subquery(female_subquery)\n",
    "# ).values(\"male\", \"female\")[:1]\n",
    "orm = male_subquery | female_subquery\n",
    "equal(sqlq, ormq)\n",
    "print_sql(ormq)"
   ]
  },
  {
   "cell_type": "code",
   "execution_count": 82,
   "id": "b73b84b8",
   "metadata": {},
   "outputs": [
    {
     "name": "stdout",
     "output_type": "stream",
     "text": [
      "Equal ✔️\n",
      "SELECT SUM(CASE\n",
      "               WHEN \"patients\".\"gender\" = M THEN 1\n",
      "               ELSE NULL\n",
      "           END) AS \"male\",\n",
      "       SUM(CASE\n",
      "               WHEN \"patients\".\"gender\" = F THEN 1\n",
      "               ELSE NULL\n",
      "           END) AS \"female\"\n",
      "FROM \"patients\"\n"
     ]
    }
   ],
   "source": [
    "class NonAggrSum(Sum):\n",
    "    contains_aggregate = False\n",
    "\n",
    "\n",
    "ormq = Patients.objects.annotate(\n",
    "    male=NonAggrSum(Case(When(gender=\"M\", then=1))),\n",
    "    female=NonAggrSum(Case(When(gender=\"F\", then=1))),\n",
    ").values(\"male\", \"female\")\n",
    "equal(sqlq, ormq)\n",
    "print_sql(ormq)\n"
   ]
  },
  {
   "cell_type": "code",
   "execution_count": 83,
   "id": "1c7e646f",
   "metadata": {},
   "outputs": [
    {
     "data": {
      "text/html": [
       "<div>\n",
       "<style scoped>\n",
       "    .dataframe tbody tr th:only-of-type {\n",
       "        vertical-align: middle;\n",
       "    }\n",
       "\n",
       "    .dataframe tbody tr th {\n",
       "        vertical-align: top;\n",
       "    }\n",
       "\n",
       "    .dataframe thead th {\n",
       "        text-align: right;\n",
       "    }\n",
       "</style>\n",
       "<table border=\"1\" class=\"dataframe\">\n",
       "  <thead>\n",
       "    <tr style=\"text-align: right;\">\n",
       "      <th></th>\n",
       "      <th>male</th>\n",
       "      <th>female</th>\n",
       "    </tr>\n",
       "  </thead>\n",
       "  <tbody>\n",
       "    <tr>\n",
       "      <th>0</th>\n",
       "      <td>49</td>\n",
       "      <td>51</td>\n",
       "    </tr>\n",
       "  </tbody>\n",
       "</table>\n",
       "</div>"
      ],
      "text/plain": [
       "   male  female\n",
       "0    49      51"
      ]
     },
     "execution_count": 83,
     "metadata": {},
     "output_type": "execute_result"
    }
   ],
   "source": [
    "orm_to_df(ormq)"
   ]
  },
  {
   "cell_type": "markdown",
   "id": "0a262c83",
   "metadata": {},
   "source": [
    "## Medium 7\n",
    "Show first and last name, allergies from patients which have allergies to either 'Penicillin' or 'Morphine'. Show results ordered ascending by allergies then by first_name then by last_name."
   ]
  },
  {
   "cell_type": "code",
   "execution_count": 84,
   "id": "843ceb1c",
   "metadata": {},
   "outputs": [],
   "source": [
    "qstr = \"\"\"\n",
    "select\n",
    "  first_name,\n",
    "  last_name,\n",
    "  allergies\n",
    "from patients\n",
    "where\n",
    "  allergies in ('Penicillin', 'Morphine')\n",
    "order by\n",
    "  allergies,\n",
    "  first_name,\n",
    "  last_name;\n",
    "\"\"\"\n",
    "sqlq =  sql_raw(qstr)"
   ]
  },
  {
   "cell_type": "code",
   "execution_count": 85,
   "id": "b092986f",
   "metadata": {},
   "outputs": [
    {
     "name": "stdout",
     "output_type": "stream",
     "text": [
      "Equal ✔️\n",
      "SELECT \"patients\".\"first_name\",\n",
      "       \"patients\".\"last_name\",\n",
      "       \"patients\".\"allergies\"\n",
      "FROM \"patients\"\n",
      "WHERE \"patients\".\"allergies\" IN (Penicillin,\n",
      "                                 Morphine)\n",
      "ORDER BY \"patients\".\"allergies\" ASC,\n",
      "         \"patients\".\"first_name\" ASC,\n",
      "         \"patients\".\"last_name\" ASC\n"
     ]
    }
   ],
   "source": [
    "ormq = (\n",
    "    Patients.objects.filter(allergies__in=[\"Penicillin\", \"Morphine\"])\n",
    "    .values(\"first_name\", \"last_name\", \"allergies\")\n",
    "    .order_by(\"allergies\", \"first_name\", \"last_name\")\n",
    ")\n",
    "equal(sqlq, ormq)\n",
    "print_sql(ormq)\n"
   ]
  },
  {
   "cell_type": "code",
   "execution_count": 86,
   "id": "68972556",
   "metadata": {},
   "outputs": [
    {
     "data": {
      "text/html": [
       "<div>\n",
       "<style scoped>\n",
       "    .dataframe tbody tr th:only-of-type {\n",
       "        vertical-align: middle;\n",
       "    }\n",
       "\n",
       "    .dataframe tbody tr th {\n",
       "        vertical-align: top;\n",
       "    }\n",
       "\n",
       "    .dataframe thead th {\n",
       "        text-align: right;\n",
       "    }\n",
       "</style>\n",
       "<table border=\"1\" class=\"dataframe\">\n",
       "  <thead>\n",
       "    <tr style=\"text-align: right;\">\n",
       "      <th></th>\n",
       "      <th>first_name</th>\n",
       "      <th>last_name</th>\n",
       "      <th>allergies</th>\n",
       "    </tr>\n",
       "  </thead>\n",
       "  <tbody>\n",
       "    <tr>\n",
       "      <th>0</th>\n",
       "      <td>Gavin</td>\n",
       "      <td>Bryant</td>\n",
       "      <td>Penicillin</td>\n",
       "    </tr>\n",
       "    <tr>\n",
       "      <th>1</th>\n",
       "      <td>Jeremy</td>\n",
       "      <td>Kim</td>\n",
       "      <td>Penicillin</td>\n",
       "    </tr>\n",
       "    <tr>\n",
       "      <th>2</th>\n",
       "      <td>Trevor</td>\n",
       "      <td>Baker</td>\n",
       "      <td>Penicillin</td>\n",
       "    </tr>\n",
       "  </tbody>\n",
       "</table>\n",
       "</div>"
      ],
      "text/plain": [
       "  first_name last_name   allergies\n",
       "0      Gavin    Bryant  Penicillin\n",
       "1     Jeremy       Kim  Penicillin\n",
       "2     Trevor     Baker  Penicillin"
      ]
     },
     "execution_count": 86,
     "metadata": {},
     "output_type": "execute_result"
    }
   ],
   "source": [
    "orm_to_df(ormq)"
   ]
  },
  {
   "cell_type": "markdown",
   "id": "93f3d23c",
   "metadata": {},
   "source": [
    "### Medium 8\n",
    "Show patient_id, diagnosis from admissions. Find patients admitted multiple times for the same diagnosis."
   ]
  },
  {
   "cell_type": "code",
   "execution_count": 87,
   "id": "a54b2922",
   "metadata": {},
   "outputs": [],
   "source": [
    "qstr = \"\"\"\n",
    "SELECT\n",
    "  patient_id,\n",
    "  diagnosis\n",
    "FROM admissions\n",
    "GROUP BY\n",
    "  patient_id,\n",
    "  diagnosis\n",
    "HAVING COUNT(*) > 1\n",
    "\"\"\"\n",
    "sqlq =  sql_raw(qstr)"
   ]
  },
  {
   "cell_type": "code",
   "execution_count": 88,
   "id": "dca7fb3b",
   "metadata": {},
   "outputs": [
    {
     "name": "stdout",
     "output_type": "stream",
     "text": [
      "Equal ✔️\n",
      "SELECT \"admissions\".\"patient_id\",\n",
      "       \"admissions\".\"diagnosis\"\n",
      "FROM \"admissions\"\n",
      "GROUP BY \"admissions\".\"patient_id\",\n",
      "         \"admissions\".\"diagnosis\"\n",
      "HAVING COUNT(\"admissions\".\"patient_id\") > 1\n"
     ]
    }
   ],
   "source": [
    "ormq = (\n",
    "    Admissions.objects.values(\"patient_id\", \"diagnosis\")\n",
    "    .annotate(count=Count(\"patient_id\"))\n",
    "    .filter(count__gt=1)\n",
    "    .values(\"patient_id\", \"diagnosis\")\n",
    ")\n",
    "\n",
    "equal(sqlq, ormq)\n",
    "print_sql(ormq)"
   ]
  },
  {
   "cell_type": "code",
   "execution_count": 89,
   "id": "e748f9be",
   "metadata": {},
   "outputs": [
    {
     "data": {
      "text/html": [
       "<div>\n",
       "<style scoped>\n",
       "    .dataframe tbody tr th:only-of-type {\n",
       "        vertical-align: middle;\n",
       "    }\n",
       "\n",
       "    .dataframe tbody tr th {\n",
       "        vertical-align: top;\n",
       "    }\n",
       "\n",
       "    .dataframe thead th {\n",
       "        text-align: right;\n",
       "    }\n",
       "</style>\n",
       "<table border=\"1\" class=\"dataframe\">\n",
       "  <thead>\n",
       "    <tr style=\"text-align: right;\">\n",
       "      <th></th>\n",
       "    </tr>\n",
       "  </thead>\n",
       "  <tbody>\n",
       "  </tbody>\n",
       "</table>\n",
       "</div>"
      ],
      "text/plain": [
       "Empty DataFrame\n",
       "Columns: []\n",
       "Index: []"
      ]
     },
     "execution_count": 89,
     "metadata": {},
     "output_type": "execute_result"
    }
   ],
   "source": [
    "orm_to_df(ormq)"
   ]
  },
  {
   "cell_type": "markdown",
   "id": "89b0d469",
   "metadata": {},
   "source": [
    "## Medium 9\n",
    "Show the city and the total number of patients in the city.\n",
    "Order from most to least patients and then by city name ascending."
   ]
  },
  {
   "cell_type": "code",
   "execution_count": 90,
   "id": "e13fa348",
   "metadata": {},
   "outputs": [],
   "source": [
    "qstr = \"\"\"\n",
    "select\n",
    "  city,\n",
    "  count(*) population\n",
    "from patients\n",
    "group by city \n",
    "order by population desc, city\n",
    "\"\"\"\n",
    "sqlq =  sql_raw(qstr)"
   ]
  },
  {
   "cell_type": "code",
   "execution_count": 94,
   "id": "5ee71798",
   "metadata": {},
   "outputs": [
    {
     "name": "stdout",
     "output_type": "stream",
     "text": [
      "Equal ✔️\n",
      "SELECT \"patients\".\"city\",\n",
      "       COUNT(\"patients\".\"patient_id\") AS \"population\"\n",
      "FROM \"patients\"\n",
      "GROUP BY \"patients\".\"city\"\n",
      "ORDER BY \"population\" DESC,\n",
      "         \"patients\".\"city\" ASC\n"
     ]
    }
   ],
   "source": [
    "ormq = (\n",
    "    Patients.objects.values(\"city\")\n",
    "    .annotate(population=Count(\"id\"))\n",
    "    .order_by(\"-population\", \"city\")\n",
    ")\n",
    "\n",
    "equal(sqlq, ormq)\n",
    "print_sql(ormq)"
   ]
  },
  {
   "cell_type": "code",
   "execution_count": 95,
   "id": "66e7bf57",
   "metadata": {},
   "outputs": [
    {
     "data": {
      "text/html": [
       "<div>\n",
       "<style scoped>\n",
       "    .dataframe tbody tr th:only-of-type {\n",
       "        vertical-align: middle;\n",
       "    }\n",
       "\n",
       "    .dataframe tbody tr th {\n",
       "        vertical-align: top;\n",
       "    }\n",
       "\n",
       "    .dataframe thead th {\n",
       "        text-align: right;\n",
       "    }\n",
       "</style>\n",
       "<table border=\"1\" class=\"dataframe\">\n",
       "  <thead>\n",
       "    <tr style=\"text-align: right;\">\n",
       "      <th></th>\n",
       "      <th>city</th>\n",
       "      <th>population</th>\n",
       "    </tr>\n",
       "  </thead>\n",
       "  <tbody>\n",
       "    <tr>\n",
       "      <th>0</th>\n",
       "      <td>Calgary</td>\n",
       "      <td>13</td>\n",
       "    </tr>\n",
       "    <tr>\n",
       "      <th>1</th>\n",
       "      <td>Montreal</td>\n",
       "      <td>13</td>\n",
       "    </tr>\n",
       "    <tr>\n",
       "      <th>2</th>\n",
       "      <td>Toronto</td>\n",
       "      <td>13</td>\n",
       "    </tr>\n",
       "    <tr>\n",
       "      <th>3</th>\n",
       "      <td>Vancouver</td>\n",
       "      <td>13</td>\n",
       "    </tr>\n",
       "    <tr>\n",
       "      <th>4</th>\n",
       "      <td>Halifax</td>\n",
       "      <td>12</td>\n",
       "    </tr>\n",
       "    <tr>\n",
       "      <th>5</th>\n",
       "      <td>Ottawa</td>\n",
       "      <td>12</td>\n",
       "    </tr>\n",
       "    <tr>\n",
       "      <th>6</th>\n",
       "      <td>Victoria</td>\n",
       "      <td>12</td>\n",
       "    </tr>\n",
       "    <tr>\n",
       "      <th>7</th>\n",
       "      <td>Winnipeg</td>\n",
       "      <td>12</td>\n",
       "    </tr>\n",
       "  </tbody>\n",
       "</table>\n",
       "</div>"
      ],
      "text/plain": [
       "        city  population\n",
       "0    Calgary          13\n",
       "1   Montreal          13\n",
       "2    Toronto          13\n",
       "3  Vancouver          13\n",
       "4    Halifax          12\n",
       "5     Ottawa          12\n",
       "6   Victoria          12\n",
       "7   Winnipeg          12"
      ]
     },
     "execution_count": 95,
     "metadata": {},
     "output_type": "execute_result"
    }
   ],
   "source": [
    "orm_to_df(ormq)"
   ]
  },
  {
   "cell_type": "markdown",
   "id": "8f4b8597",
   "metadata": {},
   "source": [
    "## Medium 10\n",
    "Show first name, last name and role of every person that is either patient or doctor.\n",
    "The roles are either \"Patient\" or \"Doctor\""
   ]
  },
  {
   "cell_type": "code",
   "execution_count": 103,
   "id": "d58c01cb",
   "metadata": {},
   "outputs": [],
   "source": [
    "qstr = \"\"\"\n",
    "SELECT\n",
    "  first_name,\n",
    "  last_name,\n",
    "  'patient' as Role\n",
    "FROM patients\n",
    "UNION all\n",
    "SELECT\n",
    "  first_name,\n",
    "  last_name,\n",
    "  'doctor' as Role\n",
    "FROM doctors;\n",
    "\"\"\"\n",
    "sqlq =  sql_raw(qstr)"
   ]
  },
  {
   "cell_type": "code",
   "execution_count": 107,
   "id": "9f8d606f",
   "metadata": {},
   "outputs": [
    {
     "name": "stdout",
     "output_type": "stream",
     "text": [
      "Equal ✔️\n",
      "SELECT \"patients\".\"first_name\",\n",
      "       \"patients\".\"last_name\",\n",
      "       patient AS \"role\"\n",
      "FROM \"patients\"\n",
      "UNION ALL\n",
      "SELECT \"doctors\".\"first_name\",\n",
      "       \"doctors\".\"last_name\",\n",
      "       doctor AS \"role\"\n",
      "FROM \"doctors\"\n"
     ]
    }
   ],
   "source": [
    "ormq = (\n",
    "    Patients.objects.annotate(role=Value(\"patient\", output_field=CharField()))\n",
    "    .values(\"first_name\", \"last_name\", \"role\")\n",
    "    .union(\n",
    "        Doctors.objects.annotate(role=Value(\"doctor\", output_field=CharField())).values(\n",
    "            \"first_name\", \"last_name\", \"role\"\n",
    "        ),all=True\n",
    "    )\n",
    ")\n",
    "\n",
    "equal(sqlq, ormq)\n",
    "print_sql(ormq)"
   ]
  },
  {
   "cell_type": "code",
   "execution_count": 108,
   "id": "868f4e55",
   "metadata": {},
   "outputs": [
    {
     "data": {
      "text/html": [
       "<div>\n",
       "<style scoped>\n",
       "    .dataframe tbody tr th:only-of-type {\n",
       "        vertical-align: middle;\n",
       "    }\n",
       "\n",
       "    .dataframe tbody tr th {\n",
       "        vertical-align: top;\n",
       "    }\n",
       "\n",
       "    .dataframe thead th {\n",
       "        text-align: right;\n",
       "    }\n",
       "</style>\n",
       "<table border=\"1\" class=\"dataframe\">\n",
       "  <thead>\n",
       "    <tr style=\"text-align: right;\">\n",
       "      <th></th>\n",
       "      <th>first_name</th>\n",
       "      <th>last_name</th>\n",
       "      <th>role</th>\n",
       "    </tr>\n",
       "  </thead>\n",
       "  <tbody>\n",
       "    <tr>\n",
       "      <th>0</th>\n",
       "      <td>Cheryl</td>\n",
       "      <td>Mason</td>\n",
       "      <td>patient</td>\n",
       "    </tr>\n",
       "    <tr>\n",
       "      <th>1</th>\n",
       "      <td>Jason</td>\n",
       "      <td>Fleming</td>\n",
       "      <td>patient</td>\n",
       "    </tr>\n",
       "    <tr>\n",
       "      <th>2</th>\n",
       "      <td>Tiffany</td>\n",
       "      <td>McDonald</td>\n",
       "      <td>patient</td>\n",
       "    </tr>\n",
       "    <tr>\n",
       "      <th>3</th>\n",
       "      <td>Alex</td>\n",
       "      <td>Carter</td>\n",
       "      <td>patient</td>\n",
       "    </tr>\n",
       "    <tr>\n",
       "      <th>4</th>\n",
       "      <td>Cassandra</td>\n",
       "      <td>Miller</td>\n",
       "      <td>patient</td>\n",
       "    </tr>\n",
       "    <tr>\n",
       "      <th>...</th>\n",
       "      <td>...</td>\n",
       "      <td>...</td>\n",
       "      <td>...</td>\n",
       "    </tr>\n",
       "    <tr>\n",
       "      <th>115</th>\n",
       "      <td>Elizabeth</td>\n",
       "      <td>Wang</td>\n",
       "      <td>doctor</td>\n",
       "    </tr>\n",
       "    <tr>\n",
       "      <th>116</th>\n",
       "      <td>Richard</td>\n",
       "      <td>Lam</td>\n",
       "      <td>doctor</td>\n",
       "    </tr>\n",
       "    <tr>\n",
       "      <th>117</th>\n",
       "      <td>Emily</td>\n",
       "      <td>Nguyen</td>\n",
       "      <td>doctor</td>\n",
       "    </tr>\n",
       "    <tr>\n",
       "      <th>118</th>\n",
       "      <td>Kevin</td>\n",
       "      <td>Chan</td>\n",
       "      <td>doctor</td>\n",
       "    </tr>\n",
       "    <tr>\n",
       "      <th>119</th>\n",
       "      <td>Jessica</td>\n",
       "      <td>Ho</td>\n",
       "      <td>doctor</td>\n",
       "    </tr>\n",
       "  </tbody>\n",
       "</table>\n",
       "<p>120 rows × 3 columns</p>\n",
       "</div>"
      ],
      "text/plain": [
       "    first_name last_name     role\n",
       "0       Cheryl     Mason  patient\n",
       "1        Jason   Fleming  patient\n",
       "2      Tiffany  McDonald  patient\n",
       "3         Alex    Carter  patient\n",
       "4    Cassandra    Miller  patient\n",
       "..         ...       ...      ...\n",
       "115  Elizabeth      Wang   doctor\n",
       "116    Richard       Lam   doctor\n",
       "117      Emily    Nguyen   doctor\n",
       "118      Kevin      Chan   doctor\n",
       "119    Jessica        Ho   doctor\n",
       "\n",
       "[120 rows x 3 columns]"
      ]
     },
     "execution_count": 108,
     "metadata": {},
     "output_type": "execute_result"
    }
   ],
   "source": [
    "orm_to_df(ormq)"
   ]
  },
  {
   "cell_type": "markdown",
   "id": "938cf813",
   "metadata": {},
   "source": [
    "## Medium 11\n",
    "Show all allergies and their occurance ordered by occurance. Remove NULL values from query."
   ]
  },
  {
   "cell_type": "code",
   "execution_count": 109,
   "id": "121e4b3c",
   "metadata": {},
   "outputs": [],
   "source": [
    "qstr = \"\"\"\n",
    "SELECT\n",
    "  allergies,\n",
    "  count (*) AS total_occurance\n",
    "FROM patients\n",
    "WHERE allergies IS NOT null\n",
    "GROUP BY allergies\n",
    "ORDER BY total_occurance DESC\n",
    "\"\"\"\n",
    "sqlq =  sql_raw(qstr)"
   ]
  },
  {
   "cell_type": "code",
   "execution_count": 114,
   "id": "186f50c6",
   "metadata": {},
   "outputs": [
    {
     "name": "stdout",
     "output_type": "stream",
     "text": [
      "Equal ✔️\n",
      "SELECT \"patients\".\"allergies\",\n",
      "       COUNT(\"patients\".\"allergies\") AS \"total_occurance\"\n",
      "FROM \"patients\"\n",
      "WHERE \"patients\".\"allergies\" IS NOT NULL\n",
      "GROUP BY \"patients\".\"allergies\"\n",
      "ORDER BY \"total_occurance\" DESC\n"
     ]
    }
   ],
   "source": [
    "ormq = (\n",
    "    Patients.objects.values(\"allergies\")\n",
    "    .filter(allergies__isnull=False)\n",
    "    .annotate(total_occurance=Count(\"allergies\"))\n",
    "    .order_by(\"-total_occurance\")\n",
    ")\n",
    "\n",
    "equal(sqlq, ormq)\n",
    "print_sql(ormq)"
   ]
  },
  {
   "cell_type": "code",
   "execution_count": null,
   "id": "c7610449",
   "metadata": {},
   "outputs": [],
   "source": []
  }
 ],
 "metadata": {
  "kernelspec": {
   "display_name": "Django Shell-Plus",
   "language": "python",
   "name": "django_extensions"
  },
  "language_info": {
   "codemirror_mode": {
    "name": "ipython",
    "version": 3
   },
   "file_extension": ".py",
   "mimetype": "text/x-python",
   "name": "python",
   "nbconvert_exporter": "python",
   "pygments_lexer": "ipython3",
   "version": "3.9.16"
  }
 },
 "nbformat": 4,
 "nbformat_minor": 5
}
