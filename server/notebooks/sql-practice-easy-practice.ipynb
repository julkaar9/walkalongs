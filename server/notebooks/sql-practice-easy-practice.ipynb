{
 "cells": [
  {
   "cell_type": "markdown",
   "id": "6a98602d",
   "metadata": {},
   "source": [
    "# Notes\n",
    "\n",
    "You might want to check https://julkaar9.github.io/walkalongs/orms/django/w3school/ to get  \n",
    "basic an idea on how to solve these questions.  \n",
    "\n",
    "Make sure to check the column names and foreign key relationships from server/customer_db/hospital_models.py.\n",
    "\n",
    "Use `sql_to_df` to print the sql query results.  \n",
    "\n",
    "Some insights on the equal function. \n",
    "1. Proper type casts might be required to get an equal result\n",
    "2. Exact ordering of columns is not required for query results to be equal\n",
    "3. Exact ordering of rows / tuples however are required."
   ]
  },
  {
   "cell_type": "code",
   "execution_count": 1,
   "id": "079dd83c",
   "metadata": {},
   "outputs": [],
   "source": [
    "import os\n",
    "\n",
    "os.environ[\"DJANGO_ALLOW_ASYNC_UNSAFE\"] = \"true\"\n",
    "from utils import *\n",
    "from sqlparse import format"
   ]
  },
  {
   "cell_type": "code",
   "execution_count": 2,
   "id": "adb90216",
   "metadata": {},
   "outputs": [],
   "source": [
    "from django.db.models import (\n",
    "    Q,\n",
    "    F,\n",
    "    Case,\n",
    "    When,\n",
    "    Count,\n",
    "    Func,\n",
    "    Min,\n",
    "    Max,\n",
    "    Sum,\n",
    "    Avg,\n",
    "    Value,\n",
    "    OuterRef,\n",
    "    Subquery,\n",
    "    CharField,\n",
    ")\n",
    "from django.db.models.functions import Concat, Cast, Round, Length\n",
    "from django.db import connection\n",
    "from customer_db.models import Provinces, Patients, Doctors, Admissions"
   ]
  },
  {
   "cell_type": "code",
   "execution_count": 3,
   "id": "47b65247",
   "metadata": {},
   "outputs": [],
   "source": [
    "def print_sql(queryset):\n",
    "    formatted = format(str(queryset.query), reindent=True)\n",
    "    print(formatted)"
   ]
  },
  {
   "cell_type": "markdown",
   "id": "964f35c8",
   "metadata": {},
   "source": [
    "## Testing some basic queries"
   ]
  },
  {
   "cell_type": "code",
   "execution_count": 4,
   "id": "4003828f",
   "metadata": {},
   "outputs": [
    {
     "data": {
      "text/html": [
       "<div>\n",
       "<style scoped>\n",
       "    .dataframe tbody tr th:only-of-type {\n",
       "        vertical-align: middle;\n",
       "    }\n",
       "\n",
       "    .dataframe tbody tr th {\n",
       "        vertical-align: top;\n",
       "    }\n",
       "\n",
       "    .dataframe thead th {\n",
       "        text-align: right;\n",
       "    }\n",
       "</style>\n",
       "<table border=\"1\" class=\"dataframe\">\n",
       "  <thead>\n",
       "    <tr style=\"text-align: right;\">\n",
       "      <th></th>\n",
       "      <th>patient_id</th>\n",
       "      <th>first_name</th>\n",
       "      <th>last_name</th>\n",
       "      <th>gender</th>\n",
       "      <th>birth_date</th>\n",
       "      <th>city</th>\n",
       "      <th>allergies</th>\n",
       "      <th>height</th>\n",
       "      <th>weight</th>\n",
       "      <th>province_id</th>\n",
       "    </tr>\n",
       "  </thead>\n",
       "  <tbody>\n",
       "    <tr>\n",
       "      <th>0</th>\n",
       "      <td>1</td>\n",
       "      <td>Cheryl</td>\n",
       "      <td>Mason</td>\n",
       "      <td>F</td>\n",
       "      <td>1978-05-14</td>\n",
       "      <td>Toronto</td>\n",
       "      <td>Peanuts</td>\n",
       "      <td>170</td>\n",
       "      <td>65</td>\n",
       "      <td>ON</td>\n",
       "    </tr>\n",
       "    <tr>\n",
       "      <th>1</th>\n",
       "      <td>2</td>\n",
       "      <td>Jason</td>\n",
       "      <td>Fleming</td>\n",
       "      <td>M</td>\n",
       "      <td>1990-08-02</td>\n",
       "      <td>Vancouver</td>\n",
       "      <td>Sulfa drugs</td>\n",
       "      <td>185</td>\n",
       "      <td>80</td>\n",
       "      <td>BC</td>\n",
       "    </tr>\n",
       "    <tr>\n",
       "      <th>2</th>\n",
       "      <td>3</td>\n",
       "      <td>Tiffany</td>\n",
       "      <td>McDonald</td>\n",
       "      <td>F</td>\n",
       "      <td>1985-03-27</td>\n",
       "      <td>Calgary</td>\n",
       "      <td>Lactose</td>\n",
       "      <td>155</td>\n",
       "      <td>58</td>\n",
       "      <td>AB</td>\n",
       "    </tr>\n",
       "  </tbody>\n",
       "</table>\n",
       "</div>"
      ],
      "text/plain": [
       "   patient_id first_name last_name gender  birth_date       city    allergies  \\\n",
       "0           1     Cheryl     Mason      F  1978-05-14    Toronto      Peanuts   \n",
       "1           2      Jason   Fleming      M  1990-08-02  Vancouver  Sulfa drugs   \n",
       "2           3    Tiffany  McDonald      F  1985-03-27    Calgary      Lactose   \n",
       "\n",
       "   height  weight province_id  \n",
       "0     170      65          ON  \n",
       "1     185      80          BC  \n",
       "2     155      58          AB  "
      ]
     },
     "execution_count": 4,
     "metadata": {},
     "output_type": "execute_result"
    }
   ],
   "source": [
    "sqlq = sql_raw(\"SELECT * FROM Patients LIMIT 3\")\n",
    "sql_to_df(sqlq)"
   ]
  },
  {
   "cell_type": "code",
   "execution_count": 5,
   "id": "2e79d9b7",
   "metadata": {},
   "outputs": [],
   "source": [
    "common_fields = [\n",
    "    \"first_name\",\n",
    "    \"last_name\",\n",
    "    \"gender\",\n",
    "    \"birth_date\",\n",
    "    \"city\",\n",
    "    \"province_id\",\n",
    "    \"allergies\",\n",
    "    \"height\",\n",
    "    \"weight\",\n",
    "]"
   ]
  },
  {
   "cell_type": "code",
   "execution_count": 6,
   "id": "3eb54b50",
   "metadata": {},
   "outputs": [
    {
     "data": {
      "text/html": [
       "<div>\n",
       "<style scoped>\n",
       "    .dataframe tbody tr th:only-of-type {\n",
       "        vertical-align: middle;\n",
       "    }\n",
       "\n",
       "    .dataframe tbody tr th {\n",
       "        vertical-align: top;\n",
       "    }\n",
       "\n",
       "    .dataframe thead th {\n",
       "        text-align: right;\n",
       "    }\n",
       "</style>\n",
       "<table border=\"1\" class=\"dataframe\">\n",
       "  <thead>\n",
       "    <tr style=\"text-align: right;\">\n",
       "      <th></th>\n",
       "      <th>first_name</th>\n",
       "      <th>last_name</th>\n",
       "      <th>gender</th>\n",
       "      <th>birth_date</th>\n",
       "      <th>city</th>\n",
       "      <th>province_id</th>\n",
       "      <th>allergies</th>\n",
       "      <th>height</th>\n",
       "      <th>weight</th>\n",
       "      <th>patient_id</th>\n",
       "    </tr>\n",
       "  </thead>\n",
       "  <tbody>\n",
       "    <tr>\n",
       "      <th>0</th>\n",
       "      <td>Cheryl</td>\n",
       "      <td>Mason</td>\n",
       "      <td>F</td>\n",
       "      <td>1978-05-14</td>\n",
       "      <td>Toronto</td>\n",
       "      <td>ON</td>\n",
       "      <td>Peanuts</td>\n",
       "      <td>170</td>\n",
       "      <td>65</td>\n",
       "      <td>1</td>\n",
       "    </tr>\n",
       "    <tr>\n",
       "      <th>1</th>\n",
       "      <td>Jason</td>\n",
       "      <td>Fleming</td>\n",
       "      <td>M</td>\n",
       "      <td>1990-08-02</td>\n",
       "      <td>Vancouver</td>\n",
       "      <td>BC</td>\n",
       "      <td>Sulfa drugs</td>\n",
       "      <td>185</td>\n",
       "      <td>80</td>\n",
       "      <td>2</td>\n",
       "    </tr>\n",
       "    <tr>\n",
       "      <th>2</th>\n",
       "      <td>Tiffany</td>\n",
       "      <td>McDonald</td>\n",
       "      <td>F</td>\n",
       "      <td>1985-03-27</td>\n",
       "      <td>Calgary</td>\n",
       "      <td>AB</td>\n",
       "      <td>Lactose</td>\n",
       "      <td>155</td>\n",
       "      <td>58</td>\n",
       "      <td>3</td>\n",
       "    </tr>\n",
       "  </tbody>\n",
       "</table>\n",
       "</div>"
      ],
      "text/plain": [
       "  first_name last_name gender  birth_date       city province_id    allergies  \\\n",
       "0     Cheryl     Mason      F  1978-05-14    Toronto          ON      Peanuts   \n",
       "1      Jason   Fleming      M  1990-08-02  Vancouver          BC  Sulfa drugs   \n",
       "2    Tiffany  McDonald      F  1985-03-27    Calgary          AB      Lactose   \n",
       "\n",
       "   height  weight  patient_id  \n",
       "0     170      65           1  \n",
       "1     185      80           2  \n",
       "2     155      58           3  "
      ]
     },
     "execution_count": 6,
     "metadata": {},
     "output_type": "execute_result"
    }
   ],
   "source": [
    "ormq = Patients.objects.values(patient_id=F(\"id\"), *common_fields)[:3]\n",
    "orm_to_df(ormq)"
   ]
  },
  {
   "cell_type": "code",
   "execution_count": 7,
   "id": "390ca73c",
   "metadata": {},
   "outputs": [
    {
     "name": "stdout",
     "output_type": "stream",
     "text": [
      "Equal ✔️\n"
     ]
    }
   ],
   "source": [
    "equal(sqlq, ormq)"
   ]
  },
  {
   "cell_type": "markdown",
   "id": "9cc4a686",
   "metadata": {},
   "source": [
    "# Example \n",
    "Show first_name of patient and admission date from admission table. Order by first_name and admission_date"
   ]
  },
  {
   "cell_type": "code",
   "execution_count": 8,
   "id": "681b8b3a",
   "metadata": {},
   "outputs": [],
   "source": [
    "qstr = \"\"\"\n",
    "SELECT\n",
    "  p.first_name,\n",
    "  admission_date\n",
    "FROM admissions a\n",
    "JOIN patients p on p.patient_id = a.patient_id\n",
    "ORDER By p.first_name, admission_date\n",
    "\"\"\"\n",
    "sqlq = sql_raw(qstr)"
   ]
  },
  {
   "cell_type": "code",
   "execution_count": 9,
   "id": "dc129414",
   "metadata": {},
   "outputs": [
    {
     "name": "stdout",
     "output_type": "stream",
     "text": [
      "Equal ✔️\n",
      "SELECT \"admissions\".\"admission_date\",\n",
      "       \"patients\".\"first_name\" AS \"first_name\"\n",
      "FROM \"admissions\"\n",
      "INNER JOIN \"patients\" ON (\"admissions\".\"patient_id\" = \"patients\".\"patient_id\")\n",
      "ORDER BY 2 ASC,\n",
      "         \"admissions\".\"admission_date\" ASC\n"
     ]
    }
   ],
   "source": [
    "ormq = Admissions.objects.values(\n",
    "    \"admission_date\", first_name=F(\"patient__first_name\")\n",
    ").order_by(\"first_name\", \"admission_date\")\n",
    "equal(sqlq, ormq)\n",
    "print_sql(ormq)"
   ]
  },
  {
   "cell_type": "code",
   "execution_count": 10,
   "id": "6a073a1f",
   "metadata": {},
   "outputs": [
    {
     "data": {
      "text/html": [
       "<div>\n",
       "<style scoped>\n",
       "    .dataframe tbody tr th:only-of-type {\n",
       "        vertical-align: middle;\n",
       "    }\n",
       "\n",
       "    .dataframe tbody tr th {\n",
       "        vertical-align: top;\n",
       "    }\n",
       "\n",
       "    .dataframe thead th {\n",
       "        text-align: right;\n",
       "    }\n",
       "</style>\n",
       "<table border=\"1\" class=\"dataframe\">\n",
       "  <thead>\n",
       "    <tr style=\"text-align: right;\">\n",
       "      <th></th>\n",
       "      <th>admission_date</th>\n",
       "      <th>first_name</th>\n",
       "    </tr>\n",
       "  </thead>\n",
       "  <tbody>\n",
       "    <tr>\n",
       "      <th>0</th>\n",
       "      <td>2022-02-18</td>\n",
       "      <td>Abigail</td>\n",
       "    </tr>\n",
       "    <tr>\n",
       "      <th>1</th>\n",
       "      <td>2022-05-28</td>\n",
       "      <td>Abigail</td>\n",
       "    </tr>\n",
       "    <tr>\n",
       "      <th>2</th>\n",
       "      <td>2022-01-08</td>\n",
       "      <td>Adam</td>\n",
       "    </tr>\n",
       "  </tbody>\n",
       "</table>\n",
       "</div>"
      ],
      "text/plain": [
       "  admission_date first_name\n",
       "0     2022-02-18    Abigail\n",
       "1     2022-05-28    Abigail\n",
       "2     2022-01-08       Adam"
      ]
     },
     "execution_count": 10,
     "metadata": {},
     "output_type": "execute_result"
    }
   ],
   "source": [
    "orm_to_df(ormq[:3])"
   ]
  },
  {
   "cell_type": "markdown",
   "id": "a18a2cf4",
   "metadata": {},
   "source": [
    "## Easy 1\n",
    "Show first name, last name, and gender of patients who's gender is 'M'"
   ]
  },
  {
   "cell_type": "code",
   "execution_count": 11,
   "id": "e8abf1ae",
   "metadata": {},
   "outputs": [],
   "source": [
    "qstr = \"\"\"\n",
    "SELECT\n",
    "  first_name,\n",
    "  last_name,\n",
    "  gender\n",
    "FROM Patients\n",
    "WHERE gender = 'M';\n",
    "\"\"\"\n",
    "sqlq = sql_raw(qstr)"
   ]
  },
  {
   "cell_type": "code",
   "execution_count": 12,
   "id": "d696b631",
   "metadata": {},
   "outputs": [
    {
     "name": "stdout",
     "output_type": "stream",
     "text": [
      "Unequal ❌\n",
      "SELECT \"patients\".\"patient_id\"\n",
      "FROM \"patients\"\n"
     ]
    }
   ],
   "source": [
    "ormq = Patients.objects.values(\"id\")\n",
    "equal(sqlq, ormq)\n",
    "print_sql(ormq)"
   ]
  },
  {
   "cell_type": "code",
   "execution_count": 13,
   "id": "fb8aa872",
   "metadata": {},
   "outputs": [
    {
     "data": {
      "text/html": [
       "<div>\n",
       "<style scoped>\n",
       "    .dataframe tbody tr th:only-of-type {\n",
       "        vertical-align: middle;\n",
       "    }\n",
       "\n",
       "    .dataframe tbody tr th {\n",
       "        vertical-align: top;\n",
       "    }\n",
       "\n",
       "    .dataframe thead th {\n",
       "        text-align: right;\n",
       "    }\n",
       "</style>\n",
       "<table border=\"1\" class=\"dataframe\">\n",
       "  <thead>\n",
       "    <tr style=\"text-align: right;\">\n",
       "      <th></th>\n",
       "      <th>id</th>\n",
       "    </tr>\n",
       "  </thead>\n",
       "  <tbody>\n",
       "    <tr>\n",
       "      <th>0</th>\n",
       "      <td>1</td>\n",
       "    </tr>\n",
       "    <tr>\n",
       "      <th>1</th>\n",
       "      <td>2</td>\n",
       "    </tr>\n",
       "    <tr>\n",
       "      <th>2</th>\n",
       "      <td>3</td>\n",
       "    </tr>\n",
       "  </tbody>\n",
       "</table>\n",
       "</div>"
      ],
      "text/plain": [
       "   id\n",
       "0   1\n",
       "1   2\n",
       "2   3"
      ]
     },
     "execution_count": 13,
     "metadata": {},
     "output_type": "execute_result"
    }
   ],
   "source": [
    "orm_to_df(ormq[:3])"
   ]
  },
  {
   "cell_type": "markdown",
   "id": "2f4f6395",
   "metadata": {},
   "source": [
    "## Easy 2\n",
    "Show first name and last name of patients who does not have allergies. (null)"
   ]
  },
  {
   "cell_type": "code",
   "execution_count": 14,
   "id": "94a8c817",
   "metadata": {},
   "outputs": [],
   "source": [
    "qstr = \"\"\"\n",
    "SELECT\n",
    "  first_name,\n",
    "  last_name\n",
    "FROM Patients\n",
    "WHERE allergies IS NULL;\n",
    "\"\"\"\n",
    "sqlq = sql_raw(qstr)"
   ]
  },
  {
   "cell_type": "code",
   "execution_count": 15,
   "id": "27a97da6",
   "metadata": {},
   "outputs": [
    {
     "name": "stdout",
     "output_type": "stream",
     "text": [
      "Unequal ❌\n",
      "SELECT \"patients\".\"patient_id\"\n",
      "FROM \"patients\"\n"
     ]
    }
   ],
   "source": [
    "ormq = Patients.objects.values(\"id\")\n",
    "equal(sqlq, ormq)\n",
    "print_sql(ormq)"
   ]
  },
  {
   "cell_type": "code",
   "execution_count": 16,
   "id": "bd69522b",
   "metadata": {},
   "outputs": [
    {
     "data": {
      "text/html": [
       "<div>\n",
       "<style scoped>\n",
       "    .dataframe tbody tr th:only-of-type {\n",
       "        vertical-align: middle;\n",
       "    }\n",
       "\n",
       "    .dataframe tbody tr th {\n",
       "        vertical-align: top;\n",
       "    }\n",
       "\n",
       "    .dataframe thead th {\n",
       "        text-align: right;\n",
       "    }\n",
       "</style>\n",
       "<table border=\"1\" class=\"dataframe\">\n",
       "  <thead>\n",
       "    <tr style=\"text-align: right;\">\n",
       "      <th></th>\n",
       "      <th>id</th>\n",
       "    </tr>\n",
       "  </thead>\n",
       "  <tbody>\n",
       "    <tr>\n",
       "      <th>0</th>\n",
       "      <td>1</td>\n",
       "    </tr>\n",
       "    <tr>\n",
       "      <th>1</th>\n",
       "      <td>2</td>\n",
       "    </tr>\n",
       "    <tr>\n",
       "      <th>2</th>\n",
       "      <td>3</td>\n",
       "    </tr>\n",
       "  </tbody>\n",
       "</table>\n",
       "</div>"
      ],
      "text/plain": [
       "   id\n",
       "0   1\n",
       "1   2\n",
       "2   3"
      ]
     },
     "execution_count": 16,
     "metadata": {},
     "output_type": "execute_result"
    }
   ],
   "source": [
    "orm_to_df(ormq[:3])"
   ]
  },
  {
   "cell_type": "markdown",
   "id": "0870d033",
   "metadata": {},
   "source": [
    "## Easy 3\n",
    "Show first name of patients that start with the letter 'C'"
   ]
  },
  {
   "cell_type": "code",
   "execution_count": 17,
   "id": "e9af9039",
   "metadata": {},
   "outputs": [],
   "source": [
    "qstr = \"\"\"\n",
    "SELECT first_name\n",
    "FROM Patients\n",
    "WHERE first_name LIKE 'C%';\n",
    "\"\"\"\n",
    "sqlq = sql_raw(qstr)"
   ]
  },
  {
   "cell_type": "code",
   "execution_count": 18,
   "id": "3b3f0e12",
   "metadata": {},
   "outputs": [
    {
     "name": "stdout",
     "output_type": "stream",
     "text": [
      "Unequal ❌\n",
      "SELECT \"patients\".\"patient_id\"\n",
      "FROM \"patients\"\n"
     ]
    }
   ],
   "source": [
    "ormq = Patients.objects.values(\"id\")\n",
    "equal(sqlq, ormq)\n",
    "print_sql(ormq)"
   ]
  },
  {
   "cell_type": "code",
   "execution_count": 19,
   "id": "74e881c9",
   "metadata": {},
   "outputs": [
    {
     "data": {
      "text/html": [
       "<div>\n",
       "<style scoped>\n",
       "    .dataframe tbody tr th:only-of-type {\n",
       "        vertical-align: middle;\n",
       "    }\n",
       "\n",
       "    .dataframe tbody tr th {\n",
       "        vertical-align: top;\n",
       "    }\n",
       "\n",
       "    .dataframe thead th {\n",
       "        text-align: right;\n",
       "    }\n",
       "</style>\n",
       "<table border=\"1\" class=\"dataframe\">\n",
       "  <thead>\n",
       "    <tr style=\"text-align: right;\">\n",
       "      <th></th>\n",
       "      <th>id</th>\n",
       "    </tr>\n",
       "  </thead>\n",
       "  <tbody>\n",
       "    <tr>\n",
       "      <th>0</th>\n",
       "      <td>1</td>\n",
       "    </tr>\n",
       "    <tr>\n",
       "      <th>1</th>\n",
       "      <td>2</td>\n",
       "    </tr>\n",
       "    <tr>\n",
       "      <th>2</th>\n",
       "      <td>3</td>\n",
       "    </tr>\n",
       "  </tbody>\n",
       "</table>\n",
       "</div>"
      ],
      "text/plain": [
       "   id\n",
       "0   1\n",
       "1   2\n",
       "2   3"
      ]
     },
     "execution_count": 19,
     "metadata": {},
     "output_type": "execute_result"
    }
   ],
   "source": [
    "orm_to_df(ormq[:3])"
   ]
  },
  {
   "cell_type": "markdown",
   "id": "948f5ff7",
   "metadata": {},
   "source": [
    "## Easy 4\n",
    "Show first name and last name of patients that weight within the range of 100 to 120 (inclusive)\n",
    "We will do 70 - 80"
   ]
  },
  {
   "cell_type": "code",
   "execution_count": 20,
   "id": "dece97c2",
   "metadata": {},
   "outputs": [],
   "source": [
    "qstr = \"\"\"\n",
    "SELECT\n",
    "  first_name,\n",
    "  last_name\n",
    "FROM Patients\n",
    "WHERE weight BETWEEN 70 AND 80;\n",
    "\"\"\"\n",
    "sqlq = sql_raw(qstr)"
   ]
  },
  {
   "cell_type": "code",
   "execution_count": 21,
   "id": "99623c3d",
   "metadata": {},
   "outputs": [
    {
     "name": "stdout",
     "output_type": "stream",
     "text": [
      "Unequal ❌\n",
      "SELECT \"patients\".\"patient_id\"\n",
      "FROM \"patients\"\n"
     ]
    }
   ],
   "source": [
    "ormq = Patients.objects.values(\"id\")\n",
    "equal(sqlq, ormq)\n",
    "print_sql(ormq)"
   ]
  },
  {
   "cell_type": "code",
   "execution_count": 22,
   "id": "b4b22063",
   "metadata": {},
   "outputs": [
    {
     "data": {
      "text/html": [
       "<div>\n",
       "<style scoped>\n",
       "    .dataframe tbody tr th:only-of-type {\n",
       "        vertical-align: middle;\n",
       "    }\n",
       "\n",
       "    .dataframe tbody tr th {\n",
       "        vertical-align: top;\n",
       "    }\n",
       "\n",
       "    .dataframe thead th {\n",
       "        text-align: right;\n",
       "    }\n",
       "</style>\n",
       "<table border=\"1\" class=\"dataframe\">\n",
       "  <thead>\n",
       "    <tr style=\"text-align: right;\">\n",
       "      <th></th>\n",
       "      <th>id</th>\n",
       "    </tr>\n",
       "  </thead>\n",
       "  <tbody>\n",
       "    <tr>\n",
       "      <th>0</th>\n",
       "      <td>1</td>\n",
       "    </tr>\n",
       "    <tr>\n",
       "      <th>1</th>\n",
       "      <td>2</td>\n",
       "    </tr>\n",
       "    <tr>\n",
       "      <th>2</th>\n",
       "      <td>3</td>\n",
       "    </tr>\n",
       "  </tbody>\n",
       "</table>\n",
       "</div>"
      ],
      "text/plain": [
       "   id\n",
       "0   1\n",
       "1   2\n",
       "2   3"
      ]
     },
     "execution_count": 22,
     "metadata": {},
     "output_type": "execute_result"
    }
   ],
   "source": [
    "orm_to_df(ormq[:3])"
   ]
  },
  {
   "cell_type": "markdown",
   "id": "ec2e4c0e",
   "metadata": {},
   "source": [
    "## Easy 5\n",
    "Show first name and last name concatinated into one column to show their full name."
   ]
  },
  {
   "cell_type": "code",
   "execution_count": 23,
   "id": "2ec4f5c4",
   "metadata": {},
   "outputs": [],
   "source": [
    "qstr = \"\"\"\n",
    "SELECT\n",
    "  first_name || ' ' || last_name AS full_name\n",
    "FROM patients;\n",
    "\"\"\"\n",
    "sqlq = sql_raw(qstr)"
   ]
  },
  {
   "cell_type": "code",
   "execution_count": 24,
   "id": "2a727caf",
   "metadata": {},
   "outputs": [
    {
     "name": "stdout",
     "output_type": "stream",
     "text": [
      "Unequal ❌\n",
      "SELECT \"patients\".\"patient_id\"\n",
      "FROM \"patients\"\n"
     ]
    }
   ],
   "source": [
    "# sqlq =  sql_raw(\"SELECT CONCAT(first_name,' ', last_name) full_name FROM Patients;\")\n",
    "ormq = Patients.objects.values(\"id\")\n",
    "equal(sqlq, ormq)\n",
    "print_sql(ormq)"
   ]
  },
  {
   "cell_type": "code",
   "execution_count": 25,
   "id": "dbe24ff3",
   "metadata": {},
   "outputs": [
    {
     "data": {
      "text/html": [
       "<div>\n",
       "<style scoped>\n",
       "    .dataframe tbody tr th:only-of-type {\n",
       "        vertical-align: middle;\n",
       "    }\n",
       "\n",
       "    .dataframe tbody tr th {\n",
       "        vertical-align: top;\n",
       "    }\n",
       "\n",
       "    .dataframe thead th {\n",
       "        text-align: right;\n",
       "    }\n",
       "</style>\n",
       "<table border=\"1\" class=\"dataframe\">\n",
       "  <thead>\n",
       "    <tr style=\"text-align: right;\">\n",
       "      <th></th>\n",
       "      <th>id</th>\n",
       "    </tr>\n",
       "  </thead>\n",
       "  <tbody>\n",
       "    <tr>\n",
       "      <th>0</th>\n",
       "      <td>1</td>\n",
       "    </tr>\n",
       "    <tr>\n",
       "      <th>1</th>\n",
       "      <td>2</td>\n",
       "    </tr>\n",
       "    <tr>\n",
       "      <th>2</th>\n",
       "      <td>3</td>\n",
       "    </tr>\n",
       "  </tbody>\n",
       "</table>\n",
       "</div>"
      ],
      "text/plain": [
       "   id\n",
       "0   1\n",
       "1   2\n",
       "2   3"
      ]
     },
     "execution_count": 25,
     "metadata": {},
     "output_type": "execute_result"
    }
   ],
   "source": [
    "orm_to_df(ormq[:3])"
   ]
  },
  {
   "cell_type": "markdown",
   "id": "37434886",
   "metadata": {},
   "source": [
    "## Easy 6\n",
    "Show first name, last name, and the **full** province name of each patient.\n",
    "\n",
    "Example: 'Ontario' instead of 'ON'"
   ]
  },
  {
   "cell_type": "code",
   "execution_count": 26,
   "id": "34d72292",
   "metadata": {},
   "outputs": [],
   "source": [
    "qstr = \"\"\"\n",
    "SELECT\n",
    "  first_name,\n",
    "  last_name,\n",
    "  province_name\n",
    "FROM Patients p\n",
    "  INNER JOIN province_names pn ON p.province_id = pn.province_id;\n",
    "\"\"\"\n",
    "sqlq = sql_raw(qstr)"
   ]
  },
  {
   "cell_type": "code",
   "execution_count": 27,
   "id": "3dadf93c",
   "metadata": {},
   "outputs": [
    {
     "name": "stdout",
     "output_type": "stream",
     "text": [
      "Unequal ❌\n",
      "SELECT \"patients\".\"patient_id\"\n",
      "FROM \"patients\"\n"
     ]
    }
   ],
   "source": [
    "equal(sqlq, ormq)\n",
    "print_sql(ormq)"
   ]
  },
  {
   "cell_type": "code",
   "execution_count": 28,
   "id": "1301239b",
   "metadata": {},
   "outputs": [
    {
     "data": {
      "text/html": [
       "<div>\n",
       "<style scoped>\n",
       "    .dataframe tbody tr th:only-of-type {\n",
       "        vertical-align: middle;\n",
       "    }\n",
       "\n",
       "    .dataframe tbody tr th {\n",
       "        vertical-align: top;\n",
       "    }\n",
       "\n",
       "    .dataframe thead th {\n",
       "        text-align: right;\n",
       "    }\n",
       "</style>\n",
       "<table border=\"1\" class=\"dataframe\">\n",
       "  <thead>\n",
       "    <tr style=\"text-align: right;\">\n",
       "      <th></th>\n",
       "      <th>id</th>\n",
       "    </tr>\n",
       "  </thead>\n",
       "  <tbody>\n",
       "    <tr>\n",
       "      <th>0</th>\n",
       "      <td>1</td>\n",
       "    </tr>\n",
       "    <tr>\n",
       "      <th>1</th>\n",
       "      <td>2</td>\n",
       "    </tr>\n",
       "    <tr>\n",
       "      <th>2</th>\n",
       "      <td>3</td>\n",
       "    </tr>\n",
       "  </tbody>\n",
       "</table>\n",
       "</div>"
      ],
      "text/plain": [
       "   id\n",
       "0   1\n",
       "1   2\n",
       "2   3"
      ]
     },
     "execution_count": 28,
     "metadata": {},
     "output_type": "execute_result"
    }
   ],
   "source": [
    "orm_to_df(ormq[:3])"
   ]
  },
  {
   "cell_type": "markdown",
   "id": "1caad3ce",
   "metadata": {},
   "source": [
    "## Easy 7\n",
    "Show how many patients have a birth_date with 2010 as the birth year.\n",
    "We will do 1995"
   ]
  },
  {
   "cell_type": "code",
   "execution_count": 29,
   "id": "a2bae34d",
   "metadata": {},
   "outputs": [],
   "source": [
    "# sqlq =  sql_raw(\"SELECT COUNT(*) birth_year FROM Patients WHERE YEAR(birth_date) = 2010;\")\n",
    "\n",
    "# for sqlite (Notice the '1995' instead of 1995)\n",
    "qstr = \"\"\"\n",
    "SELECT COUNT(*) AS birth_count\n",
    "FROM Patients\n",
    "WHERE strftime('%Y', birth_date) = '1995';\n",
    "\"\"\"\n",
    "sqlq = sql_raw(qstr)"
   ]
  },
  {
   "cell_type": "code",
   "execution_count": 30,
   "id": "bb0fcfc9",
   "metadata": {},
   "outputs": [
    {
     "name": "stdout",
     "output_type": "stream",
     "text": [
      "Unequal ❌\n",
      "SELECT \"patients\".\"patient_id\"\n",
      "FROM \"patients\"\n"
     ]
    }
   ],
   "source": [
    "ormq = Patients.objects.values(\"id\")\n",
    "equal(sqlq, ormq)\n",
    "print_sql(ormq)"
   ]
  },
  {
   "cell_type": "code",
   "execution_count": 31,
   "id": "b4cbc398",
   "metadata": {},
   "outputs": [
    {
     "data": {
      "text/html": [
       "<div>\n",
       "<style scoped>\n",
       "    .dataframe tbody tr th:only-of-type {\n",
       "        vertical-align: middle;\n",
       "    }\n",
       "\n",
       "    .dataframe tbody tr th {\n",
       "        vertical-align: top;\n",
       "    }\n",
       "\n",
       "    .dataframe thead th {\n",
       "        text-align: right;\n",
       "    }\n",
       "</style>\n",
       "<table border=\"1\" class=\"dataframe\">\n",
       "  <thead>\n",
       "    <tr style=\"text-align: right;\">\n",
       "      <th></th>\n",
       "      <th>id</th>\n",
       "    </tr>\n",
       "  </thead>\n",
       "  <tbody>\n",
       "    <tr>\n",
       "      <th>0</th>\n",
       "      <td>1</td>\n",
       "    </tr>\n",
       "    <tr>\n",
       "      <th>1</th>\n",
       "      <td>2</td>\n",
       "    </tr>\n",
       "    <tr>\n",
       "      <th>2</th>\n",
       "      <td>3</td>\n",
       "    </tr>\n",
       "  </tbody>\n",
       "</table>\n",
       "</div>"
      ],
      "text/plain": [
       "   id\n",
       "0   1\n",
       "1   2\n",
       "2   3"
      ]
     },
     "execution_count": 31,
     "metadata": {},
     "output_type": "execute_result"
    }
   ],
   "source": [
    "orm_to_df(ormq[:3])"
   ]
  },
  {
   "cell_type": "markdown",
   "id": "9441be88",
   "metadata": {},
   "source": [
    "## Easy 8\n",
    "Show the first_name, last_name, and height of the patient with the greatest height."
   ]
  },
  {
   "cell_type": "code",
   "execution_count": 32,
   "id": "76d3e904",
   "metadata": {},
   "outputs": [],
   "source": [
    "qstr = \"\"\"\n",
    "SELECT\n",
    "  first_name,\n",
    "  last_name,\n",
    "  Max(height) AS max_height\n",
    "FROM patients;\n",
    "\"\"\"\n",
    "sqlq = sql_raw(qstr)"
   ]
  },
  {
   "cell_type": "code",
   "execution_count": 33,
   "id": "c153ec1d",
   "metadata": {},
   "outputs": [
    {
     "name": "stdout",
     "output_type": "stream",
     "text": [
      "Unequal ❌\n",
      "SELECT \"patients\".\"patient_id\"\n",
      "FROM \"patients\"\n"
     ]
    }
   ],
   "source": [
    "ormq = Patients.objects.values(\"id\")\n",
    "equal(sqlq, ormq)\n",
    "print_sql(ormq)"
   ]
  },
  {
   "cell_type": "code",
   "execution_count": 34,
   "id": "1f475700",
   "metadata": {},
   "outputs": [
    {
     "data": {
      "text/html": [
       "<div>\n",
       "<style scoped>\n",
       "    .dataframe tbody tr th:only-of-type {\n",
       "        vertical-align: middle;\n",
       "    }\n",
       "\n",
       "    .dataframe tbody tr th {\n",
       "        vertical-align: top;\n",
       "    }\n",
       "\n",
       "    .dataframe thead th {\n",
       "        text-align: right;\n",
       "    }\n",
       "</style>\n",
       "<table border=\"1\" class=\"dataframe\">\n",
       "  <thead>\n",
       "    <tr style=\"text-align: right;\">\n",
       "      <th></th>\n",
       "      <th>id</th>\n",
       "    </tr>\n",
       "  </thead>\n",
       "  <tbody>\n",
       "    <tr>\n",
       "      <th>0</th>\n",
       "      <td>1</td>\n",
       "    </tr>\n",
       "    <tr>\n",
       "      <th>1</th>\n",
       "      <td>2</td>\n",
       "    </tr>\n",
       "    <tr>\n",
       "      <th>2</th>\n",
       "      <td>3</td>\n",
       "    </tr>\n",
       "  </tbody>\n",
       "</table>\n",
       "</div>"
      ],
      "text/plain": [
       "   id\n",
       "0   1\n",
       "1   2\n",
       "2   3"
      ]
     },
     "execution_count": 34,
     "metadata": {},
     "output_type": "execute_result"
    }
   ],
   "source": [
    "orm_to_df(ormq[:3])"
   ]
  },
  {
   "cell_type": "markdown",
   "id": "42a05dae",
   "metadata": {},
   "source": [
    "## Easy 9\n",
    "Show all columns for patients who have one of the following patient_ids:\n",
    "1,45,534,879,1000\n",
    "We will use 1,45,53,87,100"
   ]
  },
  {
   "cell_type": "code",
   "execution_count": 35,
   "id": "5e30ce0c",
   "metadata": {},
   "outputs": [],
   "source": [
    "qstr = \"\"\"\n",
    "SELECT\n",
    "  *\n",
    "FROM patients\n",
    "WHERE patient_id IN (1, 45, 53, 87, 100);\n",
    "\"\"\"\n",
    "sqlq = sql_raw(qstr)"
   ]
  },
  {
   "cell_type": "code",
   "execution_count": 36,
   "id": "0a4f132c",
   "metadata": {},
   "outputs": [
    {
     "name": "stdout",
     "output_type": "stream",
     "text": [
      "Unequal ❌\n",
      "SELECT \"patients\".\"patient_id\"\n",
      "FROM \"patients\"\n"
     ]
    }
   ],
   "source": [
    "ormq = Patients.objects.values(\"id\")\n",
    "equal(sqlq, ormq)\n",
    "print_sql(ormq)"
   ]
  },
  {
   "cell_type": "code",
   "execution_count": 37,
   "id": "d156598e",
   "metadata": {},
   "outputs": [
    {
     "data": {
      "text/html": [
       "<div>\n",
       "<style scoped>\n",
       "    .dataframe tbody tr th:only-of-type {\n",
       "        vertical-align: middle;\n",
       "    }\n",
       "\n",
       "    .dataframe tbody tr th {\n",
       "        vertical-align: top;\n",
       "    }\n",
       "\n",
       "    .dataframe thead th {\n",
       "        text-align: right;\n",
       "    }\n",
       "</style>\n",
       "<table border=\"1\" class=\"dataframe\">\n",
       "  <thead>\n",
       "    <tr style=\"text-align: right;\">\n",
       "      <th></th>\n",
       "      <th>id</th>\n",
       "    </tr>\n",
       "  </thead>\n",
       "  <tbody>\n",
       "    <tr>\n",
       "      <th>0</th>\n",
       "      <td>1</td>\n",
       "    </tr>\n",
       "    <tr>\n",
       "      <th>1</th>\n",
       "      <td>2</td>\n",
       "    </tr>\n",
       "    <tr>\n",
       "      <th>2</th>\n",
       "      <td>3</td>\n",
       "    </tr>\n",
       "  </tbody>\n",
       "</table>\n",
       "</div>"
      ],
      "text/plain": [
       "   id\n",
       "0   1\n",
       "1   2\n",
       "2   3"
      ]
     },
     "execution_count": 37,
     "metadata": {},
     "output_type": "execute_result"
    }
   ],
   "source": [
    "orm_to_df(ormq[:3])"
   ]
  },
  {
   "cell_type": "markdown",
   "id": "636cf0d2",
   "metadata": {},
   "source": [
    "## Easy 10\n",
    "Show the total number of admissions"
   ]
  },
  {
   "cell_type": "code",
   "execution_count": 38,
   "id": "c2956d6f",
   "metadata": {},
   "outputs": [
    {
     "name": "stdout",
     "output_type": "stream",
     "text": [
      "Unequal ❌\n"
     ]
    }
   ],
   "source": [
    "sqlq = sql_raw(\"SELECT COUNT(*) AS total FROM admissions;\")\n",
    "ormq = Patients.objects.values(\"id\")\n",
    "equal(sqlq, ormq)"
   ]
  },
  {
   "cell_type": "code",
   "execution_count": 39,
   "id": "a0b46bd1",
   "metadata": {},
   "outputs": [
    {
     "data": {
      "text/html": [
       "<div>\n",
       "<style scoped>\n",
       "    .dataframe tbody tr th:only-of-type {\n",
       "        vertical-align: middle;\n",
       "    }\n",
       "\n",
       "    .dataframe tbody tr th {\n",
       "        vertical-align: top;\n",
       "    }\n",
       "\n",
       "    .dataframe thead th {\n",
       "        text-align: right;\n",
       "    }\n",
       "</style>\n",
       "<table border=\"1\" class=\"dataframe\">\n",
       "  <thead>\n",
       "    <tr style=\"text-align: right;\">\n",
       "      <th></th>\n",
       "      <th>id</th>\n",
       "    </tr>\n",
       "  </thead>\n",
       "  <tbody>\n",
       "    <tr>\n",
       "      <th>0</th>\n",
       "      <td>1</td>\n",
       "    </tr>\n",
       "    <tr>\n",
       "      <th>1</th>\n",
       "      <td>2</td>\n",
       "    </tr>\n",
       "    <tr>\n",
       "      <th>2</th>\n",
       "      <td>3</td>\n",
       "    </tr>\n",
       "  </tbody>\n",
       "</table>\n",
       "</div>"
      ],
      "text/plain": [
       "   id\n",
       "0   1\n",
       "1   2\n",
       "2   3"
      ]
     },
     "execution_count": 39,
     "metadata": {},
     "output_type": "execute_result"
    }
   ],
   "source": [
    "orm_to_df(ormq[:3])"
   ]
  },
  {
   "cell_type": "markdown",
   "id": "a79d1553",
   "metadata": {},
   "source": [
    "## Easy 11\n",
    "Show all the columns from admissions where the patient was admitted and discharged on the same day."
   ]
  },
  {
   "cell_type": "code",
   "execution_count": 40,
   "id": "9b0cfec5",
   "metadata": {},
   "outputs": [],
   "source": [
    "qstr = \"\"\"\n",
    "SELECT *\n",
    "FROM admissions\n",
    "WHERE admission_date = discharge_date;\n",
    "\"\"\"\n",
    "sqlq = sql_raw(qstr)"
   ]
  },
  {
   "cell_type": "code",
   "execution_count": 41,
   "id": "3f06df47",
   "metadata": {},
   "outputs": [],
   "source": [
    "admission_fields = [\n",
    "    \"id\",\n",
    "    \"patient_id\",\n",
    "    \"admission_date\",\n",
    "    \"discharge_date\",\n",
    "    \"diagnosis\",\n",
    "    \"attending_doctor_id\",\n",
    "]"
   ]
  },
  {
   "cell_type": "code",
   "execution_count": 42,
   "id": "6d5fd3f8",
   "metadata": {},
   "outputs": [
    {
     "name": "stdout",
     "output_type": "stream",
     "text": [
      "Unequal ❌\n",
      "SELECT \"patients\".\"patient_id\"\n",
      "FROM \"patients\"\n"
     ]
    }
   ],
   "source": [
    "ormq = Patients.objects.values(\"id\")\n",
    "equal(sqlq, ormq)\n",
    "print_sql(ormq)"
   ]
  },
  {
   "cell_type": "code",
   "execution_count": 43,
   "id": "a3a838b2",
   "metadata": {},
   "outputs": [
    {
     "data": {
      "text/html": [
       "<div>\n",
       "<style scoped>\n",
       "    .dataframe tbody tr th:only-of-type {\n",
       "        vertical-align: middle;\n",
       "    }\n",
       "\n",
       "    .dataframe tbody tr th {\n",
       "        vertical-align: top;\n",
       "    }\n",
       "\n",
       "    .dataframe thead th {\n",
       "        text-align: right;\n",
       "    }\n",
       "</style>\n",
       "<table border=\"1\" class=\"dataframe\">\n",
       "  <thead>\n",
       "    <tr style=\"text-align: right;\">\n",
       "      <th></th>\n",
       "      <th>id</th>\n",
       "    </tr>\n",
       "  </thead>\n",
       "  <tbody>\n",
       "    <tr>\n",
       "      <th>0</th>\n",
       "      <td>1</td>\n",
       "    </tr>\n",
       "    <tr>\n",
       "      <th>1</th>\n",
       "      <td>2</td>\n",
       "    </tr>\n",
       "    <tr>\n",
       "      <th>2</th>\n",
       "      <td>3</td>\n",
       "    </tr>\n",
       "  </tbody>\n",
       "</table>\n",
       "</div>"
      ],
      "text/plain": [
       "   id\n",
       "0   1\n",
       "1   2\n",
       "2   3"
      ]
     },
     "execution_count": 43,
     "metadata": {},
     "output_type": "execute_result"
    }
   ],
   "source": [
    "orm_to_df(ormq[:3])"
   ]
  },
  {
   "cell_type": "markdown",
   "id": "4ef764de",
   "metadata": {},
   "source": [
    "## Easy 12\n",
    "Show the patient id and the total number of admissions for patient_id 579.\n",
    "We will do 57"
   ]
  },
  {
   "cell_type": "code",
   "execution_count": 44,
   "id": "9f59da8c",
   "metadata": {},
   "outputs": [],
   "source": [
    "qstr = \"\"\"\n",
    "SELECT\n",
    "  patient_id,\n",
    "  Count(patient_id) admissions\n",
    "FROM admissions\n",
    "WHERE patient_id = 57;\n",
    "\"\"\"\n",
    "sqlq = sql_raw(qstr)"
   ]
  },
  {
   "cell_type": "code",
   "execution_count": 45,
   "id": "b89d490f",
   "metadata": {},
   "outputs": [
    {
     "name": "stdout",
     "output_type": "stream",
     "text": [
      "Unequal ❌\n",
      "SELECT \"patients\".\"patient_id\"\n",
      "FROM \"patients\"\n"
     ]
    }
   ],
   "source": [
    "ormq = Patients.objects.values(\"id\")\n",
    "equal(sqlq, ormq)\n",
    "print_sql(ormq)"
   ]
  },
  {
   "cell_type": "code",
   "execution_count": 46,
   "id": "982edc35",
   "metadata": {},
   "outputs": [
    {
     "data": {
      "text/html": [
       "<div>\n",
       "<style scoped>\n",
       "    .dataframe tbody tr th:only-of-type {\n",
       "        vertical-align: middle;\n",
       "    }\n",
       "\n",
       "    .dataframe tbody tr th {\n",
       "        vertical-align: top;\n",
       "    }\n",
       "\n",
       "    .dataframe thead th {\n",
       "        text-align: right;\n",
       "    }\n",
       "</style>\n",
       "<table border=\"1\" class=\"dataframe\">\n",
       "  <thead>\n",
       "    <tr style=\"text-align: right;\">\n",
       "      <th></th>\n",
       "      <th>id</th>\n",
       "    </tr>\n",
       "  </thead>\n",
       "  <tbody>\n",
       "    <tr>\n",
       "      <th>0</th>\n",
       "      <td>1</td>\n",
       "    </tr>\n",
       "    <tr>\n",
       "      <th>1</th>\n",
       "      <td>2</td>\n",
       "    </tr>\n",
       "    <tr>\n",
       "      <th>2</th>\n",
       "      <td>3</td>\n",
       "    </tr>\n",
       "  </tbody>\n",
       "</table>\n",
       "</div>"
      ],
      "text/plain": [
       "   id\n",
       "0   1\n",
       "1   2\n",
       "2   3"
      ]
     },
     "execution_count": 46,
     "metadata": {},
     "output_type": "execute_result"
    }
   ],
   "source": [
    "orm_to_df(ormq[:3])"
   ]
  },
  {
   "cell_type": "markdown",
   "id": "7325d4f2",
   "metadata": {},
   "source": [
    "## Easy 13\n",
    "Based on the cities that our patients live in, show unique cities that are in province_id 'NS'?"
   ]
  },
  {
   "cell_type": "code",
   "execution_count": 47,
   "id": "ee4614e8",
   "metadata": {},
   "outputs": [],
   "source": [
    "qstr = \"\"\"\n",
    "SELECT DISTINCT city\n",
    "FROM patients\n",
    "WHERE province_id = 'NS';\n",
    "\"\"\"\n",
    "sqlq = sql_raw(qstr)"
   ]
  },
  {
   "cell_type": "code",
   "execution_count": 48,
   "id": "8ad106d2",
   "metadata": {},
   "outputs": [
    {
     "name": "stdout",
     "output_type": "stream",
     "text": [
      "Unequal ❌\n",
      "SELECT \"patients\".\"patient_id\"\n",
      "FROM \"patients\"\n"
     ]
    }
   ],
   "source": [
    "ormq = Patients.objects.values(\"id\")\n",
    "equal(sqlq, ormq)\n",
    "print_sql(ormq)"
   ]
  },
  {
   "cell_type": "code",
   "execution_count": 49,
   "id": "bb09b98e",
   "metadata": {},
   "outputs": [
    {
     "data": {
      "text/html": [
       "<div>\n",
       "<style scoped>\n",
       "    .dataframe tbody tr th:only-of-type {\n",
       "        vertical-align: middle;\n",
       "    }\n",
       "\n",
       "    .dataframe tbody tr th {\n",
       "        vertical-align: top;\n",
       "    }\n",
       "\n",
       "    .dataframe thead th {\n",
       "        text-align: right;\n",
       "    }\n",
       "</style>\n",
       "<table border=\"1\" class=\"dataframe\">\n",
       "  <thead>\n",
       "    <tr style=\"text-align: right;\">\n",
       "      <th></th>\n",
       "      <th>id</th>\n",
       "    </tr>\n",
       "  </thead>\n",
       "  <tbody>\n",
       "    <tr>\n",
       "      <th>0</th>\n",
       "      <td>1</td>\n",
       "    </tr>\n",
       "    <tr>\n",
       "      <th>1</th>\n",
       "      <td>2</td>\n",
       "    </tr>\n",
       "    <tr>\n",
       "      <th>2</th>\n",
       "      <td>3</td>\n",
       "    </tr>\n",
       "  </tbody>\n",
       "</table>\n",
       "</div>"
      ],
      "text/plain": [
       "   id\n",
       "0   1\n",
       "1   2\n",
       "2   3"
      ]
     },
     "execution_count": 49,
     "metadata": {},
     "output_type": "execute_result"
    }
   ],
   "source": [
    "orm_to_df(ormq[:3])"
   ]
  },
  {
   "cell_type": "markdown",
   "id": "29ee2fe5",
   "metadata": {},
   "source": [
    "## Easy 14\n",
    "Write a query to find the first_name, last name and birth date of patients who has height greater than 160 and weight greater than 70"
   ]
  },
  {
   "cell_type": "code",
   "execution_count": 50,
   "id": "739c0e26",
   "metadata": {},
   "outputs": [],
   "source": [
    "qstr = \"\"\"\n",
    "SELECT\n",
    "  first_name,\n",
    "  last_name,\n",
    "  birth_date\n",
    "FROM patients\n",
    "WHERE height > 160 AND weight > 70;\n",
    "\"\"\"\n",
    "sqlq = sql_raw(qstr)"
   ]
  },
  {
   "cell_type": "code",
   "execution_count": 51,
   "id": "1645ac7b",
   "metadata": {},
   "outputs": [
    {
     "name": "stdout",
     "output_type": "stream",
     "text": [
      "Unequal ❌\n",
      "SELECT \"patients\".\"patient_id\"\n",
      "FROM \"patients\"\n"
     ]
    }
   ],
   "source": [
    "ormq = Patients.objects.values(\"id\")\n",
    "equal(sqlq, ormq)\n",
    "print_sql(ormq)"
   ]
  },
  {
   "cell_type": "code",
   "execution_count": 52,
   "id": "dd4b6a38",
   "metadata": {},
   "outputs": [
    {
     "data": {
      "text/html": [
       "<div>\n",
       "<style scoped>\n",
       "    .dataframe tbody tr th:only-of-type {\n",
       "        vertical-align: middle;\n",
       "    }\n",
       "\n",
       "    .dataframe tbody tr th {\n",
       "        vertical-align: top;\n",
       "    }\n",
       "\n",
       "    .dataframe thead th {\n",
       "        text-align: right;\n",
       "    }\n",
       "</style>\n",
       "<table border=\"1\" class=\"dataframe\">\n",
       "  <thead>\n",
       "    <tr style=\"text-align: right;\">\n",
       "      <th></th>\n",
       "      <th>id</th>\n",
       "    </tr>\n",
       "  </thead>\n",
       "  <tbody>\n",
       "    <tr>\n",
       "      <th>0</th>\n",
       "      <td>1</td>\n",
       "    </tr>\n",
       "    <tr>\n",
       "      <th>1</th>\n",
       "      <td>2</td>\n",
       "    </tr>\n",
       "    <tr>\n",
       "      <th>2</th>\n",
       "      <td>3</td>\n",
       "    </tr>\n",
       "  </tbody>\n",
       "</table>\n",
       "</div>"
      ],
      "text/plain": [
       "   id\n",
       "0   1\n",
       "1   2\n",
       "2   3"
      ]
     },
     "execution_count": 52,
     "metadata": {},
     "output_type": "execute_result"
    }
   ],
   "source": [
    "orm_to_df(ormq[:3])"
   ]
  },
  {
   "cell_type": "markdown",
   "id": "30c19bd3",
   "metadata": {},
   "source": [
    "## Easy 15\n",
    "Write a query to find list of patients first_name, last_name, and allergies from Hamilton where allergies are not null.\n",
    "We will use Toronto"
   ]
  },
  {
   "cell_type": "code",
   "execution_count": 53,
   "id": "42eb679f",
   "metadata": {},
   "outputs": [],
   "source": [
    "qstr = \"\"\"\n",
    "SELECT\n",
    "  first_name,\n",
    "  last_name,\n",
    "  allergies\n",
    "FROM patients\n",
    "WHERE\n",
    "  city = 'Toronto'\n",
    "  AND allergies IS NOT NULL;\n",
    "\"\"\"\n",
    "sqlq = sql_raw(qstr)"
   ]
  },
  {
   "cell_type": "code",
   "execution_count": 54,
   "id": "580a2c69",
   "metadata": {},
   "outputs": [
    {
     "name": "stdout",
     "output_type": "stream",
     "text": [
      "Unequal ❌\n",
      "SELECT \"patients\".\"patient_id\"\n",
      "FROM \"patients\"\n"
     ]
    }
   ],
   "source": [
    "ormq = Patients.objects.values(\"id\")\n",
    "equal(sqlq, ormq)\n",
    "print_sql(ormq)"
   ]
  },
  {
   "cell_type": "code",
   "execution_count": 55,
   "id": "50def2af",
   "metadata": {},
   "outputs": [
    {
     "data": {
      "text/html": [
       "<div>\n",
       "<style scoped>\n",
       "    .dataframe tbody tr th:only-of-type {\n",
       "        vertical-align: middle;\n",
       "    }\n",
       "\n",
       "    .dataframe tbody tr th {\n",
       "        vertical-align: top;\n",
       "    }\n",
       "\n",
       "    .dataframe thead th {\n",
       "        text-align: right;\n",
       "    }\n",
       "</style>\n",
       "<table border=\"1\" class=\"dataframe\">\n",
       "  <thead>\n",
       "    <tr style=\"text-align: right;\">\n",
       "      <th></th>\n",
       "      <th>id</th>\n",
       "    </tr>\n",
       "  </thead>\n",
       "  <tbody>\n",
       "    <tr>\n",
       "      <th>0</th>\n",
       "      <td>1</td>\n",
       "    </tr>\n",
       "    <tr>\n",
       "      <th>1</th>\n",
       "      <td>2</td>\n",
       "    </tr>\n",
       "    <tr>\n",
       "      <th>2</th>\n",
       "      <td>3</td>\n",
       "    </tr>\n",
       "  </tbody>\n",
       "</table>\n",
       "</div>"
      ],
      "text/plain": [
       "   id\n",
       "0   1\n",
       "1   2\n",
       "2   3"
      ]
     },
     "execution_count": 55,
     "metadata": {},
     "output_type": "execute_result"
    }
   ],
   "source": [
    "orm_to_df(ormq[:3])"
   ]
  },
  {
   "cell_type": "markdown",
   "id": "9489e6ca",
   "metadata": {},
   "source": [
    "## Easy 16\n",
    "Based on cities where our patient lives in, write a query to display the list of unique city starting with a vowel (a, e, i, o, u). Show the result order in ascending by city."
   ]
  },
  {
   "cell_type": "code",
   "execution_count": 56,
   "id": "e7ce8c59",
   "metadata": {},
   "outputs": [],
   "source": [
    "# You can use city LIKE '[aeiou]%'\n",
    "# We are doing case insensitve matching here.\n",
    "qstr = \"\"\"\n",
    "SELECT DISTINCT city\n",
    "FROM patients\n",
    "WHERE\n",
    "  city LIKE 'a%'\n",
    "  OR city LIKE 'e%'\n",
    "  OR city LIKE 'i%'\n",
    "  OR city LIKE 'o%'\n",
    "  OR city LIKE 'u%'\n",
    "ORDER BY city;\n",
    "\"\"\"\n",
    "sqlq = sql_raw(qstr)"
   ]
  },
  {
   "cell_type": "code",
   "execution_count": 57,
   "id": "761af2ef",
   "metadata": {},
   "outputs": [
    {
     "name": "stdout",
     "output_type": "stream",
     "text": [
      "Unequal ❌\n",
      "SELECT \"patients\".\"patient_id\"\n",
      "FROM \"patients\"\n"
     ]
    }
   ],
   "source": [
    "# [\"a\", \"e\", \"i\", \"o\", \"u\"]:\n",
    "ormq = Patients.objects.values(\"id\")\n",
    "equal(sqlq, ormq)\n",
    "print_sql(ormq)"
   ]
  },
  {
   "cell_type": "code",
   "execution_count": 58,
   "id": "2309c08e",
   "metadata": {},
   "outputs": [
    {
     "data": {
      "text/html": [
       "<div>\n",
       "<style scoped>\n",
       "    .dataframe tbody tr th:only-of-type {\n",
       "        vertical-align: middle;\n",
       "    }\n",
       "\n",
       "    .dataframe tbody tr th {\n",
       "        vertical-align: top;\n",
       "    }\n",
       "\n",
       "    .dataframe thead th {\n",
       "        text-align: right;\n",
       "    }\n",
       "</style>\n",
       "<table border=\"1\" class=\"dataframe\">\n",
       "  <thead>\n",
       "    <tr style=\"text-align: right;\">\n",
       "      <th></th>\n",
       "      <th>id</th>\n",
       "    </tr>\n",
       "  </thead>\n",
       "  <tbody>\n",
       "    <tr>\n",
       "      <th>0</th>\n",
       "      <td>1</td>\n",
       "    </tr>\n",
       "    <tr>\n",
       "      <th>1</th>\n",
       "      <td>2</td>\n",
       "    </tr>\n",
       "    <tr>\n",
       "      <th>2</th>\n",
       "      <td>3</td>\n",
       "    </tr>\n",
       "  </tbody>\n",
       "</table>\n",
       "</div>"
      ],
      "text/plain": [
       "   id\n",
       "0   1\n",
       "1   2\n",
       "2   3"
      ]
     },
     "execution_count": 58,
     "metadata": {},
     "output_type": "execute_result"
    }
   ],
   "source": [
    "orm_to_df(ormq[:3])"
   ]
  }
 ],
 "metadata": {
  "kernelspec": {
   "display_name": "Django Shell-Plus",
   "language": "python",
   "name": "django_extensions"
  },
  "language_info": {
   "codemirror_mode": {
    "name": "ipython",
    "version": 3
   },
   "file_extension": ".py",
   "mimetype": "text/x-python",
   "name": "python",
   "nbconvert_exporter": "python",
   "pygments_lexer": "ipython3",
   "version": "3.9.0"
  }
 },
 "nbformat": 4,
 "nbformat_minor": 5
}
