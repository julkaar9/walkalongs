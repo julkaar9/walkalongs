{
 "cells": [
  {
   "cell_type": "code",
   "execution_count": 1,
   "id": "c7683888",
   "metadata": {},
   "outputs": [],
   "source": [
    "import os\n",
    "os.environ[\"DJANGO_ALLOW_ASYNC_UNSAFE\"] = \"true\"\n",
    "from utils import *"
   ]
  },
  {
   "cell_type": "code",
   "execution_count": 2,
   "id": "92afefb6",
   "metadata": {},
   "outputs": [],
   "source": [
    "from django.db.models import Q, F, Count, Min, Max, Sum, Avg\n",
    "from django.db.models.functions import Round\n",
    "from django.db import connection\n",
    "from customer_db.models import Occupation, Person"
   ]
  },
  {
   "cell_type": "code",
   "execution_count": 3,
   "id": "6df20955",
   "metadata": {},
   "outputs": [
    {
     "name": "stdout",
     "output_type": "stream",
     "text": [
      "(2, 2) (2, 3)\n"
     ]
    }
   ],
   "source": [
    "o = orm_to_df(Occupation.objects.all().values())\n",
    "p = orm_to_df(Person.objects.all().values())\n",
    "print(o.shape, p.shape)"
   ]
  },
  {
   "cell_type": "code",
   "execution_count": 4,
   "id": "27d34cd6",
   "metadata": {},
   "outputs": [
    {
     "data": {
      "text/html": [
       "<div>\n",
       "<style scoped>\n",
       "    .dataframe tbody tr th:only-of-type {\n",
       "        vertical-align: middle;\n",
       "    }\n",
       "\n",
       "    .dataframe tbody tr th {\n",
       "        vertical-align: top;\n",
       "    }\n",
       "\n",
       "    .dataframe thead th {\n",
       "        text-align: right;\n",
       "    }\n",
       "</style>\n",
       "<table border=\"1\" class=\"dataframe\">\n",
       "  <thead>\n",
       "    <tr style=\"text-align: right;\">\n",
       "      <th></th>\n",
       "      <th>person_id</th>\n",
       "      <th>name</th>\n",
       "      <th>occupation_title</th>\n",
       "    </tr>\n",
       "  </thead>\n",
       "  <tbody>\n",
       "    <tr>\n",
       "      <th>0</th>\n",
       "      <td>1000</td>\n",
       "      <td>Person1</td>\n",
       "      <td>None</td>\n",
       "    </tr>\n",
       "    <tr>\n",
       "      <th>1</th>\n",
       "      <td>1001</td>\n",
       "      <td>Person2</td>\n",
       "      <td>Doctor</td>\n",
       "    </tr>\n",
       "  </tbody>\n",
       "</table>\n",
       "</div>"
      ],
      "text/plain": [
       "   person_id     name occupation_title\n",
       "0       1000  Person1             None\n",
       "1       1001  Person2           Doctor"
      ]
     },
     "execution_count": 4,
     "metadata": {},
     "output_type": "execute_result"
    }
   ],
   "source": [
    "sql_to_df(sql_raw(\"SELECT * from person;\"))"
   ]
  },
  {
   "cell_type": "code",
   "execution_count": 5,
   "id": "e020ec72",
   "metadata": {},
   "outputs": [
    {
     "data": {
      "text/html": [
       "<div>\n",
       "<style scoped>\n",
       "    .dataframe tbody tr th:only-of-type {\n",
       "        vertical-align: middle;\n",
       "    }\n",
       "\n",
       "    .dataframe tbody tr th {\n",
       "        vertical-align: top;\n",
       "    }\n",
       "\n",
       "    .dataframe thead th {\n",
       "        text-align: right;\n",
       "    }\n",
       "</style>\n",
       "<table border=\"1\" class=\"dataframe\">\n",
       "  <thead>\n",
       "    <tr style=\"text-align: right;\">\n",
       "      <th></th>\n",
       "      <th>title</th>\n",
       "      <th>avg_salary</th>\n",
       "    </tr>\n",
       "  </thead>\n",
       "  <tbody>\n",
       "    <tr>\n",
       "      <th>0</th>\n",
       "      <td>School Teacher</td>\n",
       "      <td>40000</td>\n",
       "    </tr>\n",
       "    <tr>\n",
       "      <th>1</th>\n",
       "      <td>Doctor</td>\n",
       "      <td>80000</td>\n",
       "    </tr>\n",
       "  </tbody>\n",
       "</table>\n",
       "</div>"
      ],
      "text/plain": [
       "            title  avg_salary\n",
       "0  School Teacher       40000\n",
       "1          Doctor       80000"
      ]
     },
     "execution_count": 5,
     "metadata": {},
     "output_type": "execute_result"
    }
   ],
   "source": [
    "sql_to_df(sql_raw(\"SELECT * from occupation;\"))"
   ]
  },
  {
   "cell_type": "markdown",
   "id": "89657997",
   "metadata": {},
   "source": [
    "# INNER JOIN \n",
    "## lhs = Person, rhs = Occupation"
   ]
  },
  {
   "cell_type": "code",
   "execution_count": 6,
   "id": "19bf4ac3",
   "metadata": {},
   "outputs": [
    {
     "name": "stdout",
     "output_type": "stream",
     "text": [
      "(1, 5)\n"
     ]
    },
    {
     "data": {
      "text/html": [
       "<div>\n",
       "<style scoped>\n",
       "    .dataframe tbody tr th:only-of-type {\n",
       "        vertical-align: middle;\n",
       "    }\n",
       "\n",
       "    .dataframe tbody tr th {\n",
       "        vertical-align: top;\n",
       "    }\n",
       "\n",
       "    .dataframe thead th {\n",
       "        text-align: right;\n",
       "    }\n",
       "</style>\n",
       "<table border=\"1\" class=\"dataframe\">\n",
       "  <thead>\n",
       "    <tr style=\"text-align: right;\">\n",
       "      <th></th>\n",
       "      <th>person_id</th>\n",
       "      <th>name</th>\n",
       "      <th>occupation_title</th>\n",
       "      <th>title</th>\n",
       "      <th>avg_salary</th>\n",
       "    </tr>\n",
       "  </thead>\n",
       "  <tbody>\n",
       "    <tr>\n",
       "      <th>0</th>\n",
       "      <td>1001</td>\n",
       "      <td>Person2</td>\n",
       "      <td>Doctor</td>\n",
       "      <td>Doctor</td>\n",
       "      <td>80000</td>\n",
       "    </tr>\n",
       "  </tbody>\n",
       "</table>\n",
       "</div>"
      ],
      "text/plain": [
       "   person_id     name occupation_title   title  avg_salary\n",
       "0       1001  Person2           Doctor  Doctor       80000"
      ]
     },
     "execution_count": 6,
     "metadata": {},
     "output_type": "execute_result"
    }
   ],
   "source": [
    "q = \"\"\"\n",
    "Select * FROM person p\n",
    "INNER JOIN occupation o\n",
    "on o.title == p.occupation_title\n",
    "\"\"\"\n",
    "sqlq =  sql_raw(q) \n",
    "ji = sql_to_df(sqlq)\n",
    "print(ji.shape)\n",
    "ji"
   ]
  },
  {
   "cell_type": "code",
   "execution_count": 7,
   "id": "2a7dc2b3",
   "metadata": {},
   "outputs": [
    {
     "name": "stdout",
     "output_type": "stream",
     "text": [
      "SELECT \"person\".\"person_id\", \"person\".\"name\", \"person\".\"occupation_title\", \"occupation\".\"title\", \"occupation\".\"avg_salary\" FROM \"person\" INNER JOIN \"occupation\" ON (\"person\".\"occupation_title\" = \"occupation\".\"title\") WHERE \"person\".\"occupation_title\" IS NOT NULL\n"
     ]
    }
   ],
   "source": [
    "ormq =  Person.objects.filter(occupation_title__isnull=False).select_related('occupation_title')\n",
    "print(ormq.query)"
   ]
  },
  {
   "cell_type": "code",
   "execution_count": 8,
   "id": "bb2b1884",
   "metadata": {},
   "outputs": [
    {
     "name": "stdout",
     "output_type": "stream",
     "text": [
      "SELECT \"person\".\"person_id\", \"person\".\"name\", \"person\".\"occupation_title\", \"occupation\".\"avg_salary\" AS \"avg_salary\" FROM \"person\" INNER JOIN \"occupation\" ON (\"person\".\"occupation_title\" = \"occupation\".\"title\") WHERE \"person\".\"occupation_title\" IS NOT NULL\n"
     ]
    }
   ],
   "source": [
    "ormq =  Person.objects.filter(occupation_title__isnull=False)\\\n",
    ".values(\"person_id\", \"name\", \"occupation_title\", avg_salary=F(\"occupation_title__avg_salary\"))\n",
    "print(ormq.query)"
   ]
  },
  {
   "cell_type": "code",
   "execution_count": 9,
   "id": "c47097ad",
   "metadata": {},
   "outputs": [
    {
     "data": {
      "text/html": [
       "<div>\n",
       "<style scoped>\n",
       "    .dataframe tbody tr th:only-of-type {\n",
       "        vertical-align: middle;\n",
       "    }\n",
       "\n",
       "    .dataframe tbody tr th {\n",
       "        vertical-align: top;\n",
       "    }\n",
       "\n",
       "    .dataframe thead th {\n",
       "        text-align: right;\n",
       "    }\n",
       "</style>\n",
       "<table border=\"1\" class=\"dataframe\">\n",
       "  <thead>\n",
       "    <tr style=\"text-align: right;\">\n",
       "      <th></th>\n",
       "      <th>person_id</th>\n",
       "      <th>name</th>\n",
       "      <th>occupation_title</th>\n",
       "      <th>avg_salary</th>\n",
       "    </tr>\n",
       "  </thead>\n",
       "  <tbody>\n",
       "    <tr>\n",
       "      <th>0</th>\n",
       "      <td>1001</td>\n",
       "      <td>Person2</td>\n",
       "      <td>Doctor</td>\n",
       "      <td>80000.00</td>\n",
       "    </tr>\n",
       "  </tbody>\n",
       "</table>\n",
       "</div>"
      ],
      "text/plain": [
       "   person_id     name occupation_title avg_salary\n",
       "0       1001  Person2           Doctor   80000.00"
      ]
     },
     "execution_count": 9,
     "metadata": {},
     "output_type": "execute_result"
    }
   ],
   "source": [
    "orm_to_df(ormq)"
   ]
  },
  {
   "cell_type": "markdown",
   "id": "2969a03c",
   "metadata": {},
   "source": [
    "# INNER JOIN (tables reversed)"
   ]
  },
  {
   "cell_type": "code",
   "execution_count": 10,
   "id": "c52bc75d",
   "metadata": {},
   "outputs": [
    {
     "name": "stdout",
     "output_type": "stream",
     "text": [
      "(1, 5)\n"
     ]
    },
    {
     "data": {
      "text/html": [
       "<div>\n",
       "<style scoped>\n",
       "    .dataframe tbody tr th:only-of-type {\n",
       "        vertical-align: middle;\n",
       "    }\n",
       "\n",
       "    .dataframe tbody tr th {\n",
       "        vertical-align: top;\n",
       "    }\n",
       "\n",
       "    .dataframe thead th {\n",
       "        text-align: right;\n",
       "    }\n",
       "</style>\n",
       "<table border=\"1\" class=\"dataframe\">\n",
       "  <thead>\n",
       "    <tr style=\"text-align: right;\">\n",
       "      <th></th>\n",
       "      <th>title</th>\n",
       "      <th>avg_salary</th>\n",
       "      <th>person_id</th>\n",
       "      <th>name</th>\n",
       "      <th>occupation_title</th>\n",
       "    </tr>\n",
       "  </thead>\n",
       "  <tbody>\n",
       "    <tr>\n",
       "      <th>0</th>\n",
       "      <td>Doctor</td>\n",
       "      <td>80000</td>\n",
       "      <td>1001</td>\n",
       "      <td>Person2</td>\n",
       "      <td>Doctor</td>\n",
       "    </tr>\n",
       "  </tbody>\n",
       "</table>\n",
       "</div>"
      ],
      "text/plain": [
       "    title  avg_salary  person_id     name occupation_title\n",
       "0  Doctor       80000       1001  Person2           Doctor"
      ]
     },
     "execution_count": 10,
     "metadata": {},
     "output_type": "execute_result"
    }
   ],
   "source": [
    "q = \"\"\"\n",
    "Select * FROM occupation o\n",
    "INNER JOIN person p \n",
    "on p.occupation_title == o.title\n",
    "\"\"\"\n",
    "sqlq =  sql_raw(q) \n",
    "ji = sql_to_df(sqlq)\n",
    "print(ji.shape)\n",
    "ji"
   ]
  },
  {
   "cell_type": "code",
   "execution_count": 11,
   "id": "13fa7acd",
   "metadata": {},
   "outputs": [
    {
     "name": "stdout",
     "output_type": "stream",
     "text": [
      "SELECT \"occupation\".\"title\", \"occupation\".\"avg_salary\", \"person\".\"person_id\" AS \"person_id\", \"person\".\"name\" AS \"name\", \"person\".\"occupation_title\" AS \"occupation_title\" FROM \"occupation\" LEFT OUTER JOIN \"person\" ON (\"occupation\".\"title\" = \"person\".\"occupation_title\") WHERE \"person\".\"person_id\" IS NOT NULL\n"
     ]
    }
   ],
   "source": [
    "ormq =  Occupation.objects\\\n",
    ".values(\"title\", \"avg_salary\", person_id=F(\"person__person_id\"),\n",
    "        name=F(\"person__name\"), occupation_title=F(\"person__occupation_title\"),).filter(person_id__isnull=False)\n",
    "print(ormq.query)"
   ]
  },
  {
   "cell_type": "code",
   "execution_count": 12,
   "id": "46c7511b",
   "metadata": {},
   "outputs": [
    {
     "data": {
      "text/html": [
       "<div>\n",
       "<style scoped>\n",
       "    .dataframe tbody tr th:only-of-type {\n",
       "        vertical-align: middle;\n",
       "    }\n",
       "\n",
       "    .dataframe tbody tr th {\n",
       "        vertical-align: top;\n",
       "    }\n",
       "\n",
       "    .dataframe thead th {\n",
       "        text-align: right;\n",
       "    }\n",
       "</style>\n",
       "<table border=\"1\" class=\"dataframe\">\n",
       "  <thead>\n",
       "    <tr style=\"text-align: right;\">\n",
       "      <th></th>\n",
       "      <th>title</th>\n",
       "      <th>avg_salary</th>\n",
       "      <th>person_id</th>\n",
       "      <th>name</th>\n",
       "      <th>occupation_title</th>\n",
       "    </tr>\n",
       "  </thead>\n",
       "  <tbody>\n",
       "    <tr>\n",
       "      <th>0</th>\n",
       "      <td>Doctor</td>\n",
       "      <td>80000.00</td>\n",
       "      <td>1001</td>\n",
       "      <td>Person2</td>\n",
       "      <td>Doctor</td>\n",
       "    </tr>\n",
       "  </tbody>\n",
       "</table>\n",
       "</div>"
      ],
      "text/plain": [
       "    title avg_salary  person_id     name occupation_title\n",
       "0  Doctor   80000.00       1001  Person2           Doctor"
      ]
     },
     "execution_count": 12,
     "metadata": {},
     "output_type": "execute_result"
    }
   ],
   "source": [
    "orm_to_df(ormq)"
   ]
  },
  {
   "cell_type": "markdown",
   "id": "1735ab3d",
   "metadata": {},
   "source": [
    "# LEFT OUTER JOIN"
   ]
  },
  {
   "cell_type": "code",
   "execution_count": 13,
   "id": "a528db81",
   "metadata": {},
   "outputs": [
    {
     "name": "stdout",
     "output_type": "stream",
     "text": [
      "(2, 5)\n"
     ]
    },
    {
     "data": {
      "text/html": [
       "<div>\n",
       "<style scoped>\n",
       "    .dataframe tbody tr th:only-of-type {\n",
       "        vertical-align: middle;\n",
       "    }\n",
       "\n",
       "    .dataframe tbody tr th {\n",
       "        vertical-align: top;\n",
       "    }\n",
       "\n",
       "    .dataframe thead th {\n",
       "        text-align: right;\n",
       "    }\n",
       "</style>\n",
       "<table border=\"1\" class=\"dataframe\">\n",
       "  <thead>\n",
       "    <tr style=\"text-align: right;\">\n",
       "      <th></th>\n",
       "      <th>person_id</th>\n",
       "      <th>name</th>\n",
       "      <th>occupation_title</th>\n",
       "      <th>title</th>\n",
       "      <th>avg_salary</th>\n",
       "    </tr>\n",
       "  </thead>\n",
       "  <tbody>\n",
       "    <tr>\n",
       "      <th>0</th>\n",
       "      <td>1000</td>\n",
       "      <td>Person1</td>\n",
       "      <td>None</td>\n",
       "      <td>None</td>\n",
       "      <td>NaN</td>\n",
       "    </tr>\n",
       "    <tr>\n",
       "      <th>1</th>\n",
       "      <td>1001</td>\n",
       "      <td>Person2</td>\n",
       "      <td>Doctor</td>\n",
       "      <td>Doctor</td>\n",
       "      <td>80000.0</td>\n",
       "    </tr>\n",
       "  </tbody>\n",
       "</table>\n",
       "</div>"
      ],
      "text/plain": [
       "   person_id     name occupation_title   title  avg_salary\n",
       "0       1000  Person1             None    None         NaN\n",
       "1       1001  Person2           Doctor  Doctor     80000.0"
      ]
     },
     "execution_count": 13,
     "metadata": {},
     "output_type": "execute_result"
    }
   ],
   "source": [
    "q = \"\"\"\n",
    "Select * FROM person p\n",
    "LEFT OUTER JOIN occupation o\n",
    "on o.title == p.occupation_title\n",
    "\"\"\"\n",
    "sqlq =  sql_raw(q) \n",
    "je = sql_to_df(sqlq)\n",
    "print(je.shape)\n",
    "je"
   ]
  },
  {
   "cell_type": "code",
   "execution_count": 14,
   "id": "ad317d0c",
   "metadata": {},
   "outputs": [
    {
     "name": "stdout",
     "output_type": "stream",
     "text": [
      "SELECT \"person\".\"person_id\", \"person\".\"name\", \"person\".\"occupation_title\", \"occupation\".\"title\", \"occupation\".\"avg_salary\" FROM \"person\" LEFT OUTER JOIN \"occupation\" ON (\"person\".\"occupation_title\" = \"occupation\".\"title\")\n"
     ]
    }
   ],
   "source": [
    "ormq =  Person.objects.select_related('occupation_title')\n",
    "print(ormq.query)"
   ]
  },
  {
   "cell_type": "code",
   "execution_count": 15,
   "id": "b0f6c767",
   "metadata": {},
   "outputs": [
    {
     "name": "stdout",
     "output_type": "stream",
     "text": [
      "SELECT \"person\".\"person_id\", \"person\".\"name\", \"person\".\"occupation_title\", \"occupation\".\"avg_salary\" AS \"avg_salary\" FROM \"person\" LEFT OUTER JOIN \"occupation\" ON (\"person\".\"occupation_title\" = \"occupation\".\"title\")\n"
     ]
    }
   ],
   "source": [
    "ormq =  Person.objects\\\n",
    ".values(\"person_id\", \"name\", \"occupation_title\", avg_salary=F(\"occupation_title__avg_salary\"))\n",
    "print(ormq.query)"
   ]
  },
  {
   "cell_type": "code",
   "execution_count": 16,
   "id": "6af9689a",
   "metadata": {},
   "outputs": [
    {
     "name": "stdout",
     "output_type": "stream",
     "text": [
      "(2, 4)\n"
     ]
    },
    {
     "data": {
      "text/html": [
       "<div>\n",
       "<style scoped>\n",
       "    .dataframe tbody tr th:only-of-type {\n",
       "        vertical-align: middle;\n",
       "    }\n",
       "\n",
       "    .dataframe tbody tr th {\n",
       "        vertical-align: top;\n",
       "    }\n",
       "\n",
       "    .dataframe thead th {\n",
       "        text-align: right;\n",
       "    }\n",
       "</style>\n",
       "<table border=\"1\" class=\"dataframe\">\n",
       "  <thead>\n",
       "    <tr style=\"text-align: right;\">\n",
       "      <th></th>\n",
       "      <th>person_id</th>\n",
       "      <th>name</th>\n",
       "      <th>occupation_title</th>\n",
       "      <th>avg_salary</th>\n",
       "    </tr>\n",
       "  </thead>\n",
       "  <tbody>\n",
       "    <tr>\n",
       "      <th>0</th>\n",
       "      <td>1000</td>\n",
       "      <td>Person1</td>\n",
       "      <td>None</td>\n",
       "      <td>None</td>\n",
       "    </tr>\n",
       "    <tr>\n",
       "      <th>1</th>\n",
       "      <td>1001</td>\n",
       "      <td>Person2</td>\n",
       "      <td>Doctor</td>\n",
       "      <td>80000.00</td>\n",
       "    </tr>\n",
       "  </tbody>\n",
       "</table>\n",
       "</div>"
      ],
      "text/plain": [
       "   person_id     name occupation_title avg_salary\n",
       "0       1000  Person1             None       None\n",
       "1       1001  Person2           Doctor   80000.00"
      ]
     },
     "execution_count": 16,
     "metadata": {},
     "output_type": "execute_result"
    }
   ],
   "source": [
    "print(orm_to_df(ormq).shape)\n",
    "orm_to_df(ormq)"
   ]
  },
  {
   "cell_type": "markdown",
   "id": "ee977c8c",
   "metadata": {},
   "source": [
    "# LEFT OUTER JOIN (models reversed)\n",
    "i.e right join"
   ]
  },
  {
   "cell_type": "code",
   "execution_count": 17,
   "id": "4aade2d5",
   "metadata": {},
   "outputs": [
    {
     "name": "stdout",
     "output_type": "stream",
     "text": [
      "(1, 5)\n"
     ]
    },
    {
     "data": {
      "text/html": [
       "<div>\n",
       "<style scoped>\n",
       "    .dataframe tbody tr th:only-of-type {\n",
       "        vertical-align: middle;\n",
       "    }\n",
       "\n",
       "    .dataframe tbody tr th {\n",
       "        vertical-align: top;\n",
       "    }\n",
       "\n",
       "    .dataframe thead th {\n",
       "        text-align: right;\n",
       "    }\n",
       "</style>\n",
       "<table border=\"1\" class=\"dataframe\">\n",
       "  <thead>\n",
       "    <tr style=\"text-align: right;\">\n",
       "      <th></th>\n",
       "      <th>title</th>\n",
       "      <th>avg_salary</th>\n",
       "      <th>person_id</th>\n",
       "      <th>name</th>\n",
       "      <th>occupation_title</th>\n",
       "    </tr>\n",
       "  </thead>\n",
       "  <tbody>\n",
       "    <tr>\n",
       "      <th>0</th>\n",
       "      <td>School Teacher</td>\n",
       "      <td>40000</td>\n",
       "      <td>NaN</td>\n",
       "      <td>None</td>\n",
       "      <td>None</td>\n",
       "    </tr>\n",
       "    <tr>\n",
       "      <th>1</th>\n",
       "      <td>Doctor</td>\n",
       "      <td>80000</td>\n",
       "      <td>1001.0</td>\n",
       "      <td>Person2</td>\n",
       "      <td>Doctor</td>\n",
       "    </tr>\n",
       "  </tbody>\n",
       "</table>\n",
       "</div>"
      ],
      "text/plain": [
       "            title  avg_salary  person_id     name occupation_title\n",
       "0  School Teacher       40000        NaN     None             None\n",
       "1          Doctor       80000     1001.0  Person2           Doctor"
      ]
     },
     "execution_count": 17,
     "metadata": {},
     "output_type": "execute_result"
    }
   ],
   "source": [
    "q = \"\"\"\n",
    "Select * FROM occupation o\n",
    "LEFT OUTER JOIN person p\n",
    "on p.occupation_title == o.title\n",
    "\"\"\"\n",
    "sqlq =  sql_raw(q) \n",
    "je = sql_to_df(sqlq)\n",
    "print(ji.shape)\n",
    "je"
   ]
  },
  {
   "cell_type": "code",
   "execution_count": 18,
   "id": "f0f226e5",
   "metadata": {},
   "outputs": [
    {
     "name": "stdout",
     "output_type": "stream",
     "text": [
      "SELECT \"occupation\".\"title\", \"occupation\".\"avg_salary\", \"person\".\"person_id\" AS \"person_id\", \"person\".\"name\" AS \"name\", \"person\".\"occupation_title\" AS \"occupation_title\" FROM \"occupation\" LEFT OUTER JOIN \"person\" ON (\"occupation\".\"title\" = \"person\".\"occupation_title\")\n"
     ]
    }
   ],
   "source": [
    "ormq =  Occupation.objects.values(\"title\", \"avg_salary\", person_id=F(\"person__person_id\"),\n",
    "        name=F(\"person__name\"), occupation_title=F(\"person__occupation_title\"),)\n",
    "print(ormq.query)"
   ]
  },
  {
   "cell_type": "code",
   "execution_count": 19,
   "id": "e22f5307",
   "metadata": {},
   "outputs": [
    {
     "name": "stdout",
     "output_type": "stream",
     "text": [
      "(2, 5)\n"
     ]
    },
    {
     "data": {
      "text/html": [
       "<div>\n",
       "<style scoped>\n",
       "    .dataframe tbody tr th:only-of-type {\n",
       "        vertical-align: middle;\n",
       "    }\n",
       "\n",
       "    .dataframe tbody tr th {\n",
       "        vertical-align: top;\n",
       "    }\n",
       "\n",
       "    .dataframe thead th {\n",
       "        text-align: right;\n",
       "    }\n",
       "</style>\n",
       "<table border=\"1\" class=\"dataframe\">\n",
       "  <thead>\n",
       "    <tr style=\"text-align: right;\">\n",
       "      <th></th>\n",
       "      <th>title</th>\n",
       "      <th>avg_salary</th>\n",
       "      <th>person_id</th>\n",
       "      <th>name</th>\n",
       "      <th>occupation_title</th>\n",
       "    </tr>\n",
       "  </thead>\n",
       "  <tbody>\n",
       "    <tr>\n",
       "      <th>0</th>\n",
       "      <td>School Teacher</td>\n",
       "      <td>40000.00</td>\n",
       "      <td>NaN</td>\n",
       "      <td>None</td>\n",
       "      <td>None</td>\n",
       "    </tr>\n",
       "    <tr>\n",
       "      <th>1</th>\n",
       "      <td>Doctor</td>\n",
       "      <td>80000.00</td>\n",
       "      <td>1001.0</td>\n",
       "      <td>Person2</td>\n",
       "      <td>Doctor</td>\n",
       "    </tr>\n",
       "  </tbody>\n",
       "</table>\n",
       "</div>"
      ],
      "text/plain": [
       "            title avg_salary  person_id     name occupation_title\n",
       "0  School Teacher   40000.00        NaN     None             None\n",
       "1          Doctor   80000.00     1001.0  Person2           Doctor"
      ]
     },
     "execution_count": 19,
     "metadata": {},
     "output_type": "execute_result"
    }
   ],
   "source": [
    "print(orm_to_df(ormq).shape)\n",
    "orm_to_df(ormq)"
   ]
  },
  {
   "cell_type": "markdown",
   "id": "fc7713ab",
   "metadata": {},
   "source": [
    "# RIGHT OUTER JOIN"
   ]
  },
  {
   "cell_type": "code",
   "execution_count": 38,
   "id": "10a785a9",
   "metadata": {},
   "outputs": [
    {
     "name": "stdout",
     "output_type": "stream",
     "text": [
      "(2, 5)\n"
     ]
    },
    {
     "data": {
      "text/html": [
       "<div>\n",
       "<style scoped>\n",
       "    .dataframe tbody tr th:only-of-type {\n",
       "        vertical-align: middle;\n",
       "    }\n",
       "\n",
       "    .dataframe tbody tr th {\n",
       "        vertical-align: top;\n",
       "    }\n",
       "\n",
       "    .dataframe thead th {\n",
       "        text-align: right;\n",
       "    }\n",
       "</style>\n",
       "<table border=\"1\" class=\"dataframe\">\n",
       "  <thead>\n",
       "    <tr style=\"text-align: right;\">\n",
       "      <th></th>\n",
       "      <th>person_id</th>\n",
       "      <th>name</th>\n",
       "      <th>occupation_title</th>\n",
       "      <th>title</th>\n",
       "      <th>avg_salary</th>\n",
       "    </tr>\n",
       "  </thead>\n",
       "  <tbody>\n",
       "    <tr>\n",
       "      <th>0</th>\n",
       "      <td>1001.0</td>\n",
       "      <td>Person2</td>\n",
       "      <td>Doctor</td>\n",
       "      <td>Doctor</td>\n",
       "      <td>80000</td>\n",
       "    </tr>\n",
       "    <tr>\n",
       "      <th>1</th>\n",
       "      <td>NaN</td>\n",
       "      <td>None</td>\n",
       "      <td>None</td>\n",
       "      <td>School Teacher</td>\n",
       "      <td>40000</td>\n",
       "    </tr>\n",
       "  </tbody>\n",
       "</table>\n",
       "</div>"
      ],
      "text/plain": [
       "   person_id     name occupation_title           title  avg_salary\n",
       "0     1001.0  Person2           Doctor          Doctor       80000\n",
       "1        NaN     None             None  School Teacher       40000"
      ]
     },
     "execution_count": 38,
     "metadata": {},
     "output_type": "execute_result"
    }
   ],
   "source": [
    "q = \"\"\"\n",
    "Select * FROM person p\n",
    "RIGHT OUTER JOIN occupation o\n",
    "on o.title == p.occupation_title\n",
    "\"\"\"\n",
    "sqlq =  sql_raw(q) \n",
    "jr = sql_to_df(sqlq)\n",
    "print(ji.shape)\n",
    "ji"
   ]
  },
  {
   "cell_type": "code",
   "execution_count": 28,
   "id": "4c0813f3",
   "metadata": {},
   "outputs": [
    {
     "name": "stdout",
     "output_type": "stream",
     "text": [
      "SELECT \"occupation\".\"title\", \"occupation\".\"avg_salary\", \"person\".\"person_id\" AS \"person_id\", \"person\".\"name\" AS \"name\", \"person\".\"occupation_title\" AS \"occupation_title\" FROM \"occupation\" LEFT OUTER JOIN \"person\" ON (\"occupation\".\"title\" = \"person\".\"occupation_title\") ORDER BY \"person\".\"person_id\" ASC NULLS LAST\n"
     ]
    }
   ],
   "source": [
    "ormq =  Occupation.objects.order_by(F('person__person_id').asc(nulls_last=True))\\\n",
    ".values(\"title\", \"avg_salary\", person_id=F(\"person__person_id\"),\n",
    "        name=F(\"person__name\"), occupation_title=F(\"person__occupation_title\"))\n",
    "print(ormq.query)"
   ]
  },
  {
   "cell_type": "code",
   "execution_count": 29,
   "id": "87f56765",
   "metadata": {
    "scrolled": true
   },
   "outputs": [
    {
     "name": "stdout",
     "output_type": "stream",
     "text": [
      "(2, 5)\n"
     ]
    },
    {
     "data": {
      "text/html": [
       "<div>\n",
       "<style scoped>\n",
       "    .dataframe tbody tr th:only-of-type {\n",
       "        vertical-align: middle;\n",
       "    }\n",
       "\n",
       "    .dataframe tbody tr th {\n",
       "        vertical-align: top;\n",
       "    }\n",
       "\n",
       "    .dataframe thead th {\n",
       "        text-align: right;\n",
       "    }\n",
       "</style>\n",
       "<table border=\"1\" class=\"dataframe\">\n",
       "  <thead>\n",
       "    <tr style=\"text-align: right;\">\n",
       "      <th></th>\n",
       "      <th>title</th>\n",
       "      <th>avg_salary</th>\n",
       "      <th>person_id</th>\n",
       "      <th>name</th>\n",
       "      <th>occupation_title</th>\n",
       "    </tr>\n",
       "  </thead>\n",
       "  <tbody>\n",
       "    <tr>\n",
       "      <th>0</th>\n",
       "      <td>Doctor</td>\n",
       "      <td>80000.00</td>\n",
       "      <td>1001.0</td>\n",
       "      <td>Person2</td>\n",
       "      <td>Doctor</td>\n",
       "    </tr>\n",
       "    <tr>\n",
       "      <th>1</th>\n",
       "      <td>School Teacher</td>\n",
       "      <td>40000.00</td>\n",
       "      <td>NaN</td>\n",
       "      <td>None</td>\n",
       "      <td>None</td>\n",
       "    </tr>\n",
       "  </tbody>\n",
       "</table>\n",
       "</div>"
      ],
      "text/plain": [
       "            title avg_salary  person_id     name occupation_title\n",
       "0          Doctor   80000.00     1001.0  Person2           Doctor\n",
       "1  School Teacher   40000.00        NaN     None             None"
      ]
     },
     "execution_count": 29,
     "metadata": {},
     "output_type": "execute_result"
    }
   ],
   "source": [
    "print(orm_to_df(ormq).shape)\n",
    "orm_to_df(ormq)"
   ]
  },
  {
   "cell_type": "markdown",
   "id": "c68613e2",
   "metadata": {},
   "source": [
    "# FULL OUTER JOIN\n",
    "Could't find any orm only solution"
   ]
  }
 ],
 "metadata": {
  "kernelspec": {
   "display_name": "Django Shell-Plus",
   "language": "python",
   "name": "django_extensions"
  },
  "language_info": {
   "codemirror_mode": {
    "name": "ipython",
    "version": 3
   },
   "file_extension": ".py",
   "mimetype": "text/x-python",
   "name": "python",
   "nbconvert_exporter": "python",
   "pygments_lexer": "ipython3",
   "version": "3.9.16"
  }
 },
 "nbformat": 4,
 "nbformat_minor": 5
}
